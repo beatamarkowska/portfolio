{
  "cells": [
    {
      "cell_type": "markdown",
      "source": [
        "The aim of the script is to polygonize tif files with areas with a slope of less than 15%. For this purpose, a treshold value below 15 percent was calculated. Then coordinates were generated which were base for polygonization of the isolated areas into the shp files."
      ],
      "metadata": {
        "id": "ZwgZJVFBzwkD"
      }
    },
    {
      "cell_type": "code",
      "source": [
        "import geopandas as gpd\n",
        "import numpy as np\n",
        "import matplotlib.pyplot as plt\n",
        "import os\n",
        "from osgeo import osr, ogr\n",
        "import shutil"
      ],
      "metadata": {
        "id": "V3d0ifjzzy-q"
      },
      "execution_count": null,
      "outputs": []
    },
    {
      "cell_type": "code",
      "source": [
        "from google.colab import drive\n",
        "drive.mount('/content/drive')"
      ],
      "metadata": {
        "id": "gPtMshSdG1vI",
        "colab": {
          "base_uri": "https://localhost:8080/"
        },
        "outputId": "fd8d52bb-19bb-4024-f925-9375d16da21c"
      },
      "execution_count": null,
      "outputs": [
        {
          "output_type": "stream",
          "name": "stdout",
          "text": [
            "Mounted at /content/drive\n"
          ]
        }
      ]
    },
    {
      "cell_type": "code",
      "execution_count": null,
      "metadata": {
        "colab": {
          "base_uri": "https://localhost:8080/"
        },
        "id": "RyzAXfAlCd-x",
        "outputId": "66d97188-ce52-489f-ba64-fb6387c227a5"
      },
      "outputs": [
        {
          "output_type": "stream",
          "name": "stdout",
          "text": [
            "Requirement already satisfied: gdal in /usr/local/lib/python3.10/dist-packages (3.6.4)\n"
          ]
        }
      ],
      "source": [
        "!pip install gdal"
      ]
    },
    {
      "cell_type": "code",
      "execution_count": null,
      "metadata": {
        "id": "xYZLIQ6uCfG1"
      },
      "outputs": [],
      "source": [
        "from osgeo import gdal"
      ]
    },
    {
      "cell_type": "code",
      "source": [
        "!pip install rasterio"
      ],
      "metadata": {
        "colab": {
          "base_uri": "https://localhost:8080/"
        },
        "id": "7zUjOwgC7dYe",
        "outputId": "10a72427-578f-4490-a3a4-b290dce31825"
      },
      "execution_count": null,
      "outputs": [
        {
          "output_type": "stream",
          "name": "stdout",
          "text": [
            "Collecting rasterio\n",
            "  Downloading rasterio-1.3.10-cp310-cp310-manylinux2014_x86_64.whl (21.5 MB)\n",
            "\u001b[2K     \u001b[90m━━━━━━━━━━━━━━━━━━━━━━━━━━━━━━━━━━━━━━━━\u001b[0m \u001b[32m21.5/21.5 MB\u001b[0m \u001b[31m54.6 MB/s\u001b[0m eta \u001b[36m0:00:00\u001b[0m\n",
            "\u001b[?25hCollecting affine (from rasterio)\n",
            "  Downloading affine-2.4.0-py3-none-any.whl (15 kB)\n",
            "Requirement already satisfied: attrs in /usr/local/lib/python3.10/dist-packages (from rasterio) (23.2.0)\n",
            "Requirement already satisfied: certifi in /usr/local/lib/python3.10/dist-packages (from rasterio) (2024.6.2)\n",
            "Requirement already satisfied: click>=4.0 in /usr/local/lib/python3.10/dist-packages (from rasterio) (8.1.7)\n",
            "Requirement already satisfied: cligj>=0.5 in /usr/local/lib/python3.10/dist-packages (from rasterio) (0.7.2)\n",
            "Requirement already satisfied: numpy in /usr/local/lib/python3.10/dist-packages (from rasterio) (1.25.2)\n",
            "Collecting snuggs>=1.4.1 (from rasterio)\n",
            "  Downloading snuggs-1.4.7-py3-none-any.whl (5.4 kB)\n",
            "Requirement already satisfied: click-plugins in /usr/local/lib/python3.10/dist-packages (from rasterio) (1.1.1)\n",
            "Requirement already satisfied: setuptools in /usr/local/lib/python3.10/dist-packages (from rasterio) (67.7.2)\n",
            "Requirement already satisfied: pyparsing>=2.1.6 in /usr/local/lib/python3.10/dist-packages (from snuggs>=1.4.1->rasterio) (3.1.2)\n",
            "Installing collected packages: snuggs, affine, rasterio\n",
            "Successfully installed affine-2.4.0 rasterio-1.3.10 snuggs-1.4.7\n"
          ]
        }
      ]
    },
    {
      "cell_type": "code",
      "source": [
        "import rasterio\n",
        "from rasterio.transform import from_origin\n",
        "from rasterio.warp import calculate_default_transform, reproject\n",
        "from rasterio.plot import show\n",
        "from rasterio.features import shapes\n",
        "from shapely.geometry import shape"
      ],
      "metadata": {
        "id": "Dm4wePjF7fCe"
      },
      "execution_count": null,
      "outputs": []
    },
    {
      "cell_type": "code",
      "source": [
        "os.chdir(\"/content/drive/MyDrive/Dane z Kaggla/Elevation/Elevation_input\")\n",
        "!ls"
      ],
      "metadata": {
        "id": "TDLvFTIdRAQV",
        "colab": {
          "base_uri": "https://localhost:8080/"
        },
        "outputId": "a8637ac4-4efb-4cff-d216-4ffe25234f02"
      },
      "execution_count": null,
      "outputs": [
        {
          "output_type": "stream",
          "name": "stdout",
          "text": [
            "amaska2.tif\t\t\t     n50_e020_1arc_v3.tif\n",
            "aspect.tif\t\t\t     polyg_maska_slopePer_n50_e016_1arc_v3shp\n",
            "hill_n50_e016_1arc_v3.tif\t     polyg_maska_slopePer_n50_e016_1arc_v3.tif\n",
            "hill_n50_e019_1arc_v3.tif\t     polyg_maska_slopePer_n50_e019_1arc_v3shp\n",
            "hill_n50_e020_1arc_v3.tif\t     polyg_maska_slopePer_n50_e019_1arc_v3.tif\n",
            "hill.tif\t\t\t     polyg_maska_slopePer_n50_e020_1arc_v3shp\n",
            "maska_slopePer_n50_e016_1arc_v3.tif  polyg_maska_slopePer_n50_e020_1arc_v3.tif\n",
            "maska_slopePer_n50_e019_1arc_v3.tif  slopePer_n50_e016_1arc_v3.tif\n",
            "maska_slopePer_n50_e020_1arc_v3.tif  slopePer_n50_e019_1arc_v3.tif\n",
            "n50_e016_1arc_v3.tif\t\t     slopePer_n50_e020_1arc_v3.tif\n",
            "n50_e019_1arc_v3.tif\t\t     slope.tif\n"
          ]
        }
      ]
    },
    {
      "cell_type": "markdown",
      "source": [
        "Input for calculating treshold (masks)"
      ],
      "metadata": {
        "id": "3R-VpNaG3MtF"
      }
    },
    {
      "cell_type": "code",
      "source": [
        "src_Path = '/content/drive/MyDrive/Dane z Kaggla/Elevation/Elevation_input'\n",
        "input_files_slope = [r for r in os.listdir(src_Path) if r.startswith('slopePer')]\n",
        "input_files_slope"
      ],
      "metadata": {
        "colab": {
          "base_uri": "https://localhost:8080/"
        },
        "id": "WQb8luOGzgOD",
        "outputId": "7624640d-b446-4fcb-abaf-7ca9bb7415a7"
      },
      "execution_count": null,
      "outputs": [
        {
          "output_type": "execute_result",
          "data": {
            "text/plain": [
              "['slopePer_n50_e016_1arc_v3.tif',\n",
              " 'slopePer_n50_e019_1arc_v3.tif',\n",
              " 'slopePer_n50_e020_1arc_v3.tif']"
            ]
          },
          "metadata": {},
          "execution_count": 8
        }
      ]
    },
    {
      "cell_type": "code",
      "source": [
        "output_masks = []\n",
        "for srcRst in input_files_slope:\n",
        "  dstRst = 'maska_' + srcRst[:-4] +srcRst[-4:]\n",
        "  output_masks.append(dstRst)\n",
        "output_masks"
      ],
      "metadata": {
        "colab": {
          "base_uri": "https://localhost:8080/"
        },
        "id": "fjSyr7etztoO",
        "outputId": "90c90d98-5d33-4add-f9f5-2ff8dffddc00"
      },
      "execution_count": null,
      "outputs": [
        {
          "output_type": "execute_result",
          "data": {
            "text/plain": [
              "['maska_slopePer_n50_e016_1arc_v3.tif',\n",
              " 'maska_slopePer_n50_e019_1arc_v3.tif',\n",
              " 'maska_slopePer_n50_e020_1arc_v3.tif']"
            ]
          },
          "metadata": {},
          "execution_count": 10
        }
      ]
    },
    {
      "cell_type": "markdown",
      "source": [
        "Output: Polygonized shp files"
      ],
      "metadata": {
        "id": "LQEkr4qXC4XI"
      }
    },
    {
      "cell_type": "code",
      "source": [
        "output_files_polygonized = []\n",
        "for srcRst in input_files_mask:\n",
        "  dstRst = 'polyg_' + srcRst[:-4] +'shp'\n",
        "  output_files_polygonized.append(dstRst)\n",
        "output_files_polygonized"
      ],
      "metadata": {
        "id": "Mw4Rf6IueF9W",
        "colab": {
          "base_uri": "https://localhost:8080/"
        },
        "outputId": "f7369458-73df-4d80-ba13-69f2c4cf5b60"
      },
      "execution_count": null,
      "outputs": [
        {
          "output_type": "execute_result",
          "data": {
            "text/plain": [
              "['polyg_maska_slopePer_n50_e016_1arc_v3shp',\n",
              " 'polyg_maska_slopePer_n50_e019_1arc_v3shp',\n",
              " 'polyg_maska_slopePer_n50_e020_1arc_v3shp']"
            ]
          },
          "metadata": {},
          "execution_count": 12
        }
      ]
    },
    {
      "cell_type": "code",
      "source": [
        "class Polygonize:\n",
        "    def __init__(self, input_files_slope, threshold=1600000):\n",
        "        self.input_files_slope = input_files_slope\n",
        "        self.threshold = threshold\n",
        "        self.masks = []\n",
        "        self.datasets = []\n",
        "\n",
        "    def mask_slope_below_threshold(self):\n",
        "        for slope in self.input_files_slope:\n",
        "            # Open the DEM dataset\n",
        "            slope_dataset = gdal.Open(slope)\n",
        "\n",
        "            # Get the DEM raster band\n",
        "            dem_band = slope_dataset.GetRasterBand(1)\n",
        "\n",
        "            # Read the DEM as an array\n",
        "            slope_array = dem_band.ReadAsArray()\n",
        "\n",
        "            # Create a mask where the slope values are below the threshold\n",
        "            mask = slope_array < self.threshold\n",
        "\n",
        "            # Append the mask and dataset to the lists\n",
        "            self.masks.append(mask)\n",
        "            self.datasets.append(slope_dataset)\n",
        "\n",
        "    def save_mask_to_file(self, output_masks):\n",
        "        for mask, dataset, output_mask in zip(self.masks, self.datasets, output_masks):\n",
        "            driver = gdal.GetDriverByName('GTiff')\n",
        "            mask_dataset = driver.Create(output_mask, dataset.RasterXSize, dataset.RasterYSize, 1, gdal.GDT_Byte)\n",
        "            mask_dataset.SetGeoTransform(dataset.GetGeoTransform())\n",
        "            mask_dataset.SetProjection(dataset.GetProjection())\n",
        "            mask_band = mask_dataset.GetRasterBand(1)\n",
        "            mask_band.WriteArray(mask.astype(np.uint8))\n",
        "            mask_band.FlushCache()\n",
        "            mask_band.SetNoDataValue(0)\n",
        "\n",
        "    def generator_geometry(self, input_file, mask):\n",
        "        with rasterio.Env():\n",
        "            with rasterio.open(input_file) as src:\n",
        "                image = src.read(1)  # first band\n",
        "                results = (\n",
        "                    {\n",
        "                        'properties': {'raster_val': v},\n",
        "                        'geometry': s\n",
        "                    }\n",
        "                    for i, (s, v) in enumerate(\n",
        "                        shapes(image, mask=mask, transform=src.transform))\n",
        "                )\n",
        "                return results\n",
        "\n",
        "    def polygonize(self, input_file, output_file, mask):\n",
        "        coordinates = self.generator_geometry(input_file, mask)\n",
        "        geometry = list(coordinates)\n",
        "        polygonized_raster = gpd.GeoDataFrame.from_features(geometry)\n",
        "        polygonized_raster.to_file(output_file, driver='ESRI Shapefile', crs=\"EPSG:4326\")\n",
        "\n",
        "    def process_files(self, input_files_mask, output_files_polygonized):\n",
        "        for input_file, output_file, mask in zip(input_files_mask, output_files_polygonized, self.masks):\n",
        "            self.polygonize(input_file, output_file, mask)\n",
        "            print(f\"Polygonized raster {input_file} saved to {output_file}\")"
      ],
      "metadata": {
        "id": "8qIokdraW9NA"
      },
      "execution_count": null,
      "outputs": []
    },
    {
      "cell_type": "code",
      "source": [
        "input_files_slope = input_files_slope\n",
        "input_files_mask = output_masks\n",
        "output_files_polygonized = output_files_polygonized\n",
        "\n"
      ],
      "metadata": {
        "id": "_daphj3wLwx8"
      },
      "execution_count": null,
      "outputs": []
    },
    {
      "cell_type": "code",
      "source": [
        "polygonizer = Polygonize(input_files_slope)\n",
        "polygonizer.mask_slope_below_threshold()\n",
        "polygonizer.save_mask_to_file(input_files_mask)\n",
        "polygonizer.process_files(input_files_mask, output_files_polygonized)"
      ],
      "metadata": {
        "colab": {
          "base_uri": "https://localhost:8080/"
        },
        "id": "lAQZj1wbXHef",
        "outputId": "a9ba9e94-c6ce-4ba6-ca89-341dc0d127c2"
      },
      "execution_count": null,
      "outputs": [
        {
          "output_type": "stream",
          "name": "stdout",
          "text": [
            "Polygonized raster maska_slopePer_n50_e016_1arc_v3.tif saved to polyg_maska_slopePer_n50_e016_1arc_v3shp\n",
            "Polygonized raster maska_slopePer_n50_e019_1arc_v3.tif saved to polyg_maska_slopePer_n50_e019_1arc_v3shp\n",
            "Polygonized raster maska_slopePer_n50_e020_1arc_v3.tif saved to polyg_maska_slopePer_n50_e020_1arc_v3shp\n"
          ]
        }
      ]
    }
  ],
  "metadata": {
    "colab": {
      "provenance": []
    },
    "kernelspec": {
      "display_name": "Python 3",
      "name": "python3"
    },
    "language_info": {
      "name": "python"
    }
  },
  "nbformat": 4,
  "nbformat_minor": 0
}