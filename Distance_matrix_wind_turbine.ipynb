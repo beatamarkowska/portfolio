{
  "cells": [
    {
      "cell_type": "code",
      "execution_count": null,
      "metadata": {
        "id": "lnci9D5ipvin"
      },
      "outputs": [],
      "source": [
        "import geopandas as gpd\n",
        "import numpy as np\n",
        "import matplotlib.pyplot as plt\n",
        "from scipy.spatial import distance_matrix\n",
        "from shapely.geometry import Point\n",
        "import os"
      ]
    },
    {
      "cell_type": "code",
      "source": [
        "from google.colab import drive\n",
        "drive.mount('/content/drive')"
      ],
      "metadata": {
        "id": "gPtMshSdG1vI",
        "colab": {
          "base_uri": "https://localhost:8080/"
        },
        "outputId": "41508836-3223-41ae-8626-e442fa0280d8"
      },
      "execution_count": null,
      "outputs": [
        {
          "output_type": "stream",
          "name": "stdout",
          "text": [
            "Mounted at /content/drive\n"
          ]
        }
      ]
    },
    {
      "cell_type": "code",
      "source": [
        "os.chdir(\"/content/drive/MyDrive/Dane z Kaggla/GDAL/SHP/Wind_Turbine\")\n",
        "!ls"
      ],
      "metadata": {
        "id": "TDLvFTIdRAQV",
        "colab": {
          "base_uri": "https://localhost:8080/"
        },
        "outputId": "4f7ef9f5-9d17-4c9c-a1e4-4a505988403c"
      },
      "execution_count": null,
      "outputs": [
        {
          "output_type": "stream",
          "name": "stdout",
          "text": [
            "distances_above_700m.csv  Wind_Turbine_cleaned.prj  Wind_Turbine.cpg  Wind_Turbine.shp\n",
            "Wind_Turbine_cleaned.cpg  Wind_Turbine_cleaned.shp  Wind_Turbine.dbf  Wind_Turbine.shx\n",
            "Wind_Turbine_cleaned.dbf  Wind_Turbine_cleaned.shx  Wind_Turbine.prj\n"
          ]
        }
      ]
    },
    {
      "cell_type": "code",
      "source": [
        "src_Path = '/content/drive/MyDrive/Dane z Kaggla/GDAL/SHP/Wind_Turbine'"
      ],
      "metadata": {
        "id": "H9Ebk4Hoh6lb"
      },
      "execution_count": null,
      "outputs": []
    },
    {
      "cell_type": "code",
      "source": [
        "input_shp_files = [r for r in os.listdir(src_Path) if r.endswith('_cleaned.shp')]\n",
        "input_shp_files"
      ],
      "metadata": {
        "colab": {
          "base_uri": "https://localhost:8080/"
        },
        "id": "tFGWA8IfiCgZ",
        "outputId": "96e6507c-7d3b-4dce-816d-ebd230d1877b"
      },
      "execution_count": null,
      "outputs": [
        {
          "output_type": "execute_result",
          "data": {
            "text/plain": [
              "['Wind_Turbine_cleaned.shp']"
            ]
          },
          "metadata": {},
          "execution_count": 20
        }
      ]
    },
    {
      "cell_type": "code",
      "source": [
        "output_shp_file = []\n",
        "for srcRst in input_shp_files:\n",
        "  dstRst = 'distance_' + srcRst[:-4] +srcRst[-4:]\n",
        "  output_shp_file.append(dstRst)\n",
        "output_shp_file"
      ],
      "metadata": {
        "colab": {
          "base_uri": "https://localhost:8080/"
        },
        "id": "rGX8QxkDisNR",
        "outputId": "9cd9a866-97ff-4661-ccaf-e6c888da34dd"
      },
      "execution_count": null,
      "outputs": [
        {
          "output_type": "execute_result",
          "data": {
            "text/plain": [
              "['distance_Wind_Turbine_cleaned.shp']"
            ]
          },
          "metadata": {},
          "execution_count": 11
        }
      ]
    },
    {
      "cell_type": "code",
      "source": [
        "import os\n",
        "import numpy as np\n",
        "import geopandas as gpd\n",
        "from scipy.spatial import distance_matrix\n",
        "\n",
        "def filter_and_check_shapefiles(shapefile_names, distance_threshold=700):\n",
        "    \"\"\"\n",
        "    Load multiple shapefiles, calculate distances between points, add a distance column,\n",
        "    filter points by distance, and save the filtered shapefiles. Additionally, save points\n",
        "    that have any other point within a distance shorter than the threshold to a separate shapefile.\n",
        "\n",
        "    Parameters:\n",
        "    shapefile_names (list of str): List of shapefile names.\n",
        "    distance_threshold (float): Distance threshold in meters.\n",
        "    \"\"\"\n",
        "    for shapefile_name in shapefile_names:\n",
        "        # Load the shapefile\n",
        "        gdf = gpd.read_file(shapefile_name)\n",
        "\n",
        "        # Calculate the distance matrix\n",
        "        coords = np.array(list(gdf.geometry.apply(lambda geom: (geom.x, geom.y))))\n",
        "        dist_matrix = distance_matrix(coords, coords)\n",
        "\n",
        "        # Add a column with the minimum distance to the closest point\n",
        "        np.fill_diagonal(dist_matrix, np.inf)  # Ignore self-distance by setting diagonal to infinity\n",
        "        min_distances = dist_matrix.min(axis=1)\n",
        "        gdf['min_distance'] = min_distances\n",
        "\n",
        "        # Identify points with any other point within the distance threshold\n",
        "        close_points_indices = np.any(dist_matrix < distance_threshold, axis=1)\n",
        "\n",
        "        # Create a GeoDataFrame for points to check\n",
        "        points_to_check = gdf[close_points_indices]\n",
        "\n",
        "        # Remove points that are closer than the threshold, keeping the first occurrence\n",
        "        gdf_filtered = gdf[~close_points_indices]\n",
        "\n",
        "        # Construct output file names\n",
        "        base_name = os.path.splitext(shapefile_name)[0]\n",
        "        output_filtered_shapefile = f\"{base_name}_filtered.shp\"\n",
        "        output_points_to_check_shapefile = f\"{base_name}_points_to_check.shp\"\n",
        "\n",
        "        # Save the filtered shapefile\n",
        "        gdf_filtered.to_file(output_filtered_shapefile, driver='ESRI Shapefile')\n",
        "        print(f\"Filtered shapefile saved to {output_filtered_shapefile}\")\n",
        "\n",
        "        # Save the points to check shapefile\n",
        "        points_to_check.to_file(output_points_to_check_shapefile, driver='ESRI Shapefile')\n",
        "        print(f\"Points to check shapefile saved to {output_points_to_check_shapefile}\")\n",
        "\n",
        "\n",
        "filter_and_check_shapefiles(input_shp_files)\n"
      ],
      "metadata": {
        "id": "mGKkaWUx-X3a"
      },
      "execution_count": null,
      "outputs": []
    }
  ],
  "metadata": {
    "colab": {
      "provenance": []
    },
    "kernelspec": {
      "display_name": "Python 3",
      "name": "python3"
    },
    "language_info": {
      "name": "python"
    }
  },
  "nbformat": 4,
  "nbformat_minor": 0
}