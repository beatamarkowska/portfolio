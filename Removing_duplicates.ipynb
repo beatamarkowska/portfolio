{
  "cells": [
    {
      "cell_type": "code",
      "execution_count": null,
      "metadata": {
        "id": "lnci9D5ipvin"
      },
      "outputs": [],
      "source": [
        "import geopandas as gpd\n",
        "import numpy as np\n",
        "import matplotlib.pyplot as plt\n",
        "from scipy.spatial import distance_matrix"
      ]
    },
    {
      "cell_type": "code",
      "source": [
        "from google.colab import drive\n",
        "drive.mount('/content/drive')"
      ],
      "metadata": {
        "id": "gPtMshSdG1vI",
        "colab": {
          "base_uri": "https://localhost:8080/"
        },
        "outputId": "c099d225-6b8c-41cc-cad3-2292ca76c2b5"
      },
      "execution_count": null,
      "outputs": [
        {
          "output_type": "stream",
          "name": "stdout",
          "text": [
            "Mounted at /content/drive\n"
          ]
        }
      ]
    },
    {
      "cell_type": "code",
      "source": [
        "import glob\n",
        "import os\n",
        "import shutil\n",
        "from osgeo import osr"
      ],
      "metadata": {
        "id": "ruc2kEY0PjV1"
      },
      "execution_count": null,
      "outputs": []
    },
    {
      "cell_type": "code",
      "source": [
        "os.mkdir('/content/drive/MyDrive/Dane z Kaggla/GDAL/SHP/Wind_Turbine')"
      ],
      "metadata": {
        "id": "yuvlRE3RtqOW"
      },
      "execution_count": null,
      "outputs": []
    },
    {
      "cell_type": "code",
      "source": [
        "os.chdir(\"/content/drive/MyDrive/Dane z Kaggla/GDAL/SHP/Wind_Turbine\")\n",
        "!ls"
      ],
      "metadata": {
        "id": "TDLvFTIdRAQV",
        "colab": {
          "base_uri": "https://localhost:8080/"
        },
        "outputId": "cf42b924-56a4-4fb2-de1b-13bd05fb2d72"
      },
      "execution_count": null,
      "outputs": [
        {
          "output_type": "stream",
          "name": "stdout",
          "text": [
            "Wind_Turbine.cpg  Wind_Turbine.dbf  Wind_Turbine.prj  Wind_Turbine.shp\tWind_Turbine.shx\n"
          ]
        }
      ]
    },
    {
      "cell_type": "code",
      "source": [
        "src_Path = '/content/drive/MyDrive/Dane z Kaggla/GDAL/SHP/Wind_Turbine'"
      ],
      "metadata": {
        "id": "moALbrS1Ptn6"
      },
      "execution_count": null,
      "outputs": []
    },
    {
      "cell_type": "code",
      "source": [
        "input_shp_file = [r for r in os.listdir(src_Path) if r.endswith('shp')]\n",
        "input_shp_file"
      ],
      "metadata": {
        "colab": {
          "base_uri": "https://localhost:8080/"
        },
        "id": "e2NREywUP-PT",
        "outputId": "ed9cd1b1-ce36-42b9-dc83-8a4642af75cc"
      },
      "execution_count": null,
      "outputs": [
        {
          "output_type": "execute_result",
          "data": {
            "text/plain": [
              "['Wind_Turbine.shp']"
            ]
          },
          "metadata": {},
          "execution_count": 16
        }
      ]
    },
    {
      "cell_type": "code",
      "source": [
        "output_shp_file = []\n",
        "for srcRst in input_shp_file:\n",
        "  dstRst = 'removed_' + srcRst[:-4] +srcRst[-4:]\n",
        "  output_shp_file.append(dstRst)\n",
        "output_shp_file"
      ],
      "metadata": {
        "colab": {
          "base_uri": "https://localhost:8080/"
        },
        "id": "vEkpvy2bQY45",
        "outputId": "946772c7-08ae-4084-c68e-42862c103359"
      },
      "execution_count": null,
      "outputs": [
        {
          "output_type": "execute_result",
          "data": {
            "text/plain": [
              "['removed_Wind_Turbine.shp']"
            ]
          },
          "metadata": {},
          "execution_count": 17
        }
      ]
    },
    {
      "cell_type": "code",
      "source": [
        "def clean_shapefile(input_shapefile, output_shapefile):\n",
        "\n",
        "    # Load the shapefile\n",
        "    gdf = gpd.read_file(input_shapefile)\n",
        "\n",
        "    # Check for duplicates by coordinates\n",
        "    gdf['coords'] = gdf['geometry'].apply(lambda geom: (geom.x, geom.y))\n",
        "    duplicates = gdf.duplicated(subset='coords', keep=False)\n",
        "\n",
        "    # Print out the duplicates\n",
        "    print(\"Duplicate points found:\")\n",
        "    print(gdf[duplicates])\n",
        "\n",
        "    # Remove duplicates, keeping the first occurrence\n",
        "    gdf_cleaned = gdf.drop_duplicates(subset='coords', keep='first')\n",
        "\n",
        "    # Drop the temporary 'coords' column\n",
        "    gdf_cleaned = gdf_cleaned.drop(columns=['coords'])\n",
        "\n",
        "    # Save the cleaned shapefile\n",
        "    gdf_cleaned.to_file(output_shapefile, driver='ESRI Shapefile')\n",
        "\n",
        "    print(f\"Cleaned shapefile saved to {output_shapefile}\")\n",
        "\n"
      ],
      "metadata": {
        "id": "mRWshMtTRAyL"
      },
      "execution_count": null,
      "outputs": []
    },
    {
      "cell_type": "code",
      "source": [
        "# Example usage\n",
        "input_shapefile = '/content/drive/MyDrive/Dane z Kaggla/GDAL/SHP/Wind_Turbine/Wind_Turbine.shp'\n",
        "output_shapefile = '/content/drive/MyDrive/Dane z Kaggla/GDAL/SHP/Wind_Turbine/Wind_Turbine_cleaned.shp'\n",
        "\n",
        "clean_shapefile(input_shapefile, output_shapefile)\n"
      ],
      "metadata": {
        "colab": {
          "base_uri": "https://localhost:8080/"
        },
        "id": "3KzohvocRmpT",
        "outputId": "fc541603-afd4-4e42-f38d-8697d5eb75cf"
      },
      "execution_count": null,
      "outputs": [
        {
          "output_type": "stream",
          "name": "stdout",
          "text": [
            "Duplicate points found:\n",
            "      id                       geometry  \\\n",
            "0      1  POINT (368850.019 497327.416)   \n",
            "2      3  POINT (370063.637 497205.606)   \n",
            "5      6  POINT (373679.558 494893.112)   \n",
            "6      7  POINT (374671.312 494658.697)   \n",
            "8      9  POINT (375630.007 496672.257)   \n",
            "..   ...                            ...   \n",
            "253  254  POINT (387798.521 499298.901)   \n",
            "254  255  POINT (387404.825 498860.126)   \n",
            "255  256  POINT (387798.521 499298.901)   \n",
            "256  257  POINT (383711.295 497615.926)   \n",
            "257  258  POINT (384204.166 497297.363)   \n",
            "\n",
            "                                       coords  \n",
            "0     (368850.0193957121, 497327.41565272975)  \n",
            "2      (370063.6367589313, 497205.6059812956)  \n",
            "5     (373679.55825442646, 494893.1116853629)  \n",
            "6     (374671.31172261294, 494658.6972292461)  \n",
            "8    (375630.00674185995, 496672.25730101863)  \n",
            "..                                        ...  \n",
            "253    (387798.5212651543, 499298.9013349425)  \n",
            "254  (387404.82519141963, 498860.12555810856)  \n",
            "255    (387798.5212651543, 499298.9013349425)  \n",
            "256   (383711.29485080985, 497615.9257525654)  \n",
            "257  (384204.16627136315, 497297.36251732975)  \n",
            "\n",
            "[200 rows x 3 columns]\n",
            "Cleaned shapefile saved to /content/drive/MyDrive/Dane z Kaggla/GDAL/SHP/Wind_Turbine/Wind_Turbine_cleaned.shp\n"
          ]
        }
      ]
    },
    {
      "cell_type": "markdown",
      "source": [
        "Removing duplicates in many shp files."
      ],
      "metadata": {
        "id": "HpICLLgraXH8"
      }
    },
    {
      "cell_type": "code",
      "source": [
        "import geopandas as gpd\n",
        "import os\n",
        "\n",
        "def clean_shapefiles(input_shapefiles):\n",
        "    \"\"\"\n",
        "    Load multiple shapefiles, identify and remove duplicate points in each, and save the cleaned shapefiles.\n",
        "\n",
        "    Parameters:\n",
        "    input_shapefiles (list of str): List of paths to the input shapefiles.\n",
        "    \"\"\"\n",
        "    for input_shapefile in input_shapefiles:\n",
        "        # Load the shapefile\n",
        "        gdf = gpd.read_file(input_shapefile)\n",
        "\n",
        "        # Check for duplicates by coordinates\n",
        "        gdf['coords'] = gdf['geometry'].apply(lambda geom: (geom.x, geom.y))\n",
        "        duplicates = gdf.duplicated(subset='coords', keep=False)\n",
        "\n",
        "        # Print out the duplicates\n",
        "        print(f\"Duplicate points found in {input_shapefile}:\")\n",
        "        print(gdf[duplicates])\n",
        "\n",
        "        # Remove duplicates, keeping the first occurrence\n",
        "        gdf_cleaned = gdf.drop_duplicates(subset='coords', keep='first')\n",
        "\n",
        "        # Drop the temporary 'coords' column\n",
        "        gdf_cleaned = gdf_cleaned.drop(columns=['coords'])\n",
        "\n",
        "        # Construct output file name\n",
        "        base_name = os.path.splitext(input_shapefile)[0]\n",
        "        output_shapefile = f\"{base_name}_cleaned.shp\"\n",
        "\n",
        "        # Save the cleaned shapefile\n",
        "        gdf_cleaned.to_file(output_shapefile, driver='ESRI Shapefile')\n",
        "\n",
        "        print(f\"Cleaned shapefile saved to {output_shapefile}\")\n",
        "\n",
        "# Example usage\n",
        "input_shapefiles = [\n",
        "    'path_to_your_first_shapefile.shp',\n",
        "    'path_to_your_second_shapefile.shp',\n",
        "    # Add more shapefile paths as needed\n",
        "]\n",
        "\n",
        "clean_shapefiles(input_shapefiles)\n"
      ],
      "metadata": {
        "id": "0iW7txdFaevp"
      },
      "execution_count": null,
      "outputs": []
    }
  ],
  "metadata": {
    "colab": {
      "provenance": []
    },
    "kernelspec": {
      "display_name": "Python 3",
      "name": "python3"
    },
    "language_info": {
      "name": "python"
    }
  },
  "nbformat": 4,
  "nbformat_minor": 0
}