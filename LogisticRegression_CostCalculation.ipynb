{
  "cells": [
    {
      "cell_type": "code",
      "execution_count": 1,
      "metadata": {
        "id": "lnci9D5ipvin"
      },
      "outputs": [],
      "source": [
        "import pandas as pd\n",
        "import numpy as np\n",
        "import matplotlib.pyplot as plt\n",
        "import glob\n",
        "import os\n",
        "import warnings\n",
        "warnings.filterwarnings('ignore')\n"
      ]
    },
    {
      "cell_type": "markdown",
      "source": [
        "https://www.kaggle.com/code/kanncaa1/deep-learning-tutorial-for-beginners/notebook"
      ],
      "metadata": {
        "id": "Gcd_B7DI_4ol"
      }
    },
    {
      "cell_type": "code",
      "source": [
        "from google.colab import drive\n",
        "drive.mount('/content/drive')"
      ],
      "metadata": {
        "id": "gPtMshSdG1vI",
        "colab": {
          "base_uri": "https://localhost:8080/"
        },
        "outputId": "317e40d3-ffc6-44f9-98e9-03465093582a"
      },
      "execution_count": 2,
      "outputs": [
        {
          "output_type": "stream",
          "name": "stdout",
          "text": [
            "Mounted at /content/drive\n"
          ]
        }
      ]
    },
    {
      "cell_type": "code",
      "source": [
        "from subprocess import check_output\n",
        "print(check_output([\"ls\", \"./\"]).decode(\"utf8\")) # Changed the directory to the current directory\n",
        "# Any results you write to the current directory are saved as output."
      ],
      "metadata": {
        "colab": {
          "base_uri": "https://localhost:8080/"
        },
        "id": "hgSNRLdKUnxV",
        "outputId": "29843b98-bc24-46af-af89-48864ca18ed0"
      },
      "execution_count": 3,
      "outputs": [
        {
          "output_type": "stream",
          "name": "stdout",
          "text": [
            "drive\n",
            "sample_data\n",
            "\n"
          ]
        }
      ]
    },
    {
      "cell_type": "code",
      "source": [
        "os.chdir(\"/content/drive/MyDrive/Learning/Deep Learning\")\n",
        "!ls"
      ],
      "metadata": {
        "id": "TDLvFTIdRAQV",
        "colab": {
          "base_uri": "https://localhost:8080/"
        },
        "outputId": "fe9dde17-7429-47ba-96ac-bc0c06ac88e8"
      },
      "execution_count": 4,
      "outputs": [
        {
          "output_type": "stream",
          "name": "stdout",
          "text": [
            "X.npy  Y.npy\n"
          ]
        }
      ]
    },
    {
      "cell_type": "code",
      "source": [
        "from subprocess import check_output\n",
        "print(check_output([\"ls\", \"./\"]).decode(\"utf8\")) # Changed the directory to the current directory\n",
        "# Any results will be written to the current directory are saved as output."
      ],
      "metadata": {
        "colab": {
          "base_uri": "https://localhost:8080/"
        },
        "id": "BVZpTNgVUs6F",
        "outputId": "51d91070-c003-4533-aa09-00fe59c36ccb"
      },
      "execution_count": 5,
      "outputs": [
        {
          "output_type": "stream",
          "name": "stdout",
          "text": [
            "X.npy\n",
            "Y.npy\n",
            "\n"
          ]
        }
      ]
    },
    {
      "cell_type": "code",
      "source": [
        "x_l = np.load('/content/drive/MyDrive/Learning/Deep Learning/X.npy/X.npy')"
      ],
      "metadata": {
        "id": "snmR0r6RVivS"
      },
      "execution_count": 6,
      "outputs": []
    },
    {
      "cell_type": "code",
      "source": [
        "Y_l = np.load('/content/drive/MyDrive/Learning/Deep Learning/Y.npy')"
      ],
      "metadata": {
        "id": "M_VcvypVV6N3"
      },
      "execution_count": 7,
      "outputs": []
    },
    {
      "cell_type": "code",
      "source": [
        "img_size = 64\n",
        "plt.subplot(1, 2, 1)\n",
        "plt.imshow(x_l[260].reshape(img_size, img_size))\n",
        "# plt.axis('off')\n",
        "plt.subplot(1, 2, 2)\n",
        "plt.imshow(x_l[900].reshape(img_size, img_size))\n",
        "plt.axis('off')"
      ],
      "metadata": {
        "colab": {
          "base_uri": "https://localhost:8080/",
          "height": 306
        },
        "id": "dT57Sy2dWH6Z",
        "outputId": "c0211543-cade-4d6a-bb86-693b7f57b40a"
      },
      "execution_count": 8,
      "outputs": [
        {
          "output_type": "execute_result",
          "data": {
            "text/plain": [
              "(-0.5, 63.5, 63.5, -0.5)"
            ]
          },
          "metadata": {},
          "execution_count": 8
        },
        {
          "output_type": "display_data",
          "data": {
            "text/plain": [
              "<Figure size 640x480 with 2 Axes>"
            ],
            "image/png": "[encoded data removed]"
          },
          "metadata": {}
        }
      ]
    },
    {
      "cell_type": "markdown",
      "source": [
        "F\\rom 0 to 204 is zero sign and from 205 to 410 is one sign.\n",
        "In order to create image array, concatenate zero sign and one sign arrays.\n",
        "Creation label array 0 for zero sign images and 1 for one sign images."
      ],
      "metadata": {
        "id": "5A9OGhmyZKAD"
      }
    },
    {
      "cell_type": "code",
      "source": [
        "# Join a sequence of arrays along an row axis.\n",
        "X = np.concatenate((x_l[204:409], x_l[822:1027] ), axis=0) # from 0 to 204 is zero sign and from 205 to 410 is one sign"
      ],
      "metadata": {
        "id": "O3SuoQYNW2v1"
      },
      "execution_count": 9,
      "outputs": []
    },
    {
      "cell_type": "markdown",
      "source": [
        "Create array with 205  z signs for zero and with 205 signs for ones."
      ],
      "metadata": {
        "id": "vJgBP5dbnTW4"
      }
    },
    {
      "cell_type": "code",
      "source": [
        "z = np.zeros(205)"
      ],
      "metadata": {
        "id": "Xs1xXJRNmx6R"
      },
      "execution_count": 10,
      "outputs": []
    },
    {
      "cell_type": "code",
      "source": [
        "o = np.ones(205)"
      ],
      "metadata": {
        "id": "9juVH2t0nDzh"
      },
      "execution_count": 11,
      "outputs": []
    },
    {
      "cell_type": "code",
      "source": [
        "Y = np.concatenate((z, o), axis=0).reshape(X.shape[0],1)"
      ],
      "metadata": {
        "id": "Ekobbg3JpMbq"
      },
      "execution_count": 12,
      "outputs": []
    },
    {
      "cell_type": "code",
      "source": [
        "x_l.shape"
      ],
      "metadata": {
        "colab": {
          "base_uri": "https://localhost:8080/"
        },
        "id": "5xK9gmoKoc-h",
        "outputId": "c58c3524-a409-45aa-88bf-686888f7a9fd"
      },
      "execution_count": 13,
      "outputs": [
        {
          "output_type": "execute_result",
          "data": {
            "text/plain": [
              "(2062, 64, 64)"
            ]
          },
          "metadata": {},
          "execution_count": 13
        }
      ]
    },
    {
      "cell_type": "code",
      "source": [
        "X.shape"
      ],
      "metadata": {
        "colab": {
          "base_uri": "https://localhost:8080/"
        },
        "id": "pYk15iNeokX4",
        "outputId": "78bb57ed-f7b8-4dd9-c5d3-6e05b00812c9"
      },
      "execution_count": 14,
      "outputs": [
        {
          "output_type": "execute_result",
          "data": {
            "text/plain": [
              "(410, 64, 64)"
            ]
          },
          "metadata": {},
          "execution_count": 14
        }
      ]
    },
    {
      "cell_type": "code",
      "source": [
        "Y.shape"
      ],
      "metadata": {
        "colab": {
          "base_uri": "https://localhost:8080/"
        },
        "id": "9TImMuaMpONh",
        "outputId": "76959078-5ac4-4728-9116-c4e0e8e0b2c9"
      },
      "execution_count": 15,
      "outputs": [
        {
          "output_type": "execute_result",
          "data": {
            "text/plain": [
              "(410, 1)"
            ]
          },
          "metadata": {},
          "execution_count": 15
        }
      ]
    },
    {
      "cell_type": "markdown",
      "source": [
        "The shape of the X is (410, 64, 64)\n",
        "410 means that are 410 images (zero and one signs)\n",
        "64 means that image size is 64x64 (64x64 pixels)\n",
        "The shape of the Y is (410,1)\n",
        "410 means that we have 410 labels (0 and 1)\n",
        "Split X and Y into train and test sets.\n",
        "test_size = percentage of test size. test = 15% and train = 75%\n",
        "random_state = use same seed while randomizing. It means that if call train_test_split repeatedly, it always creates same train and test distribution because we have same random_state."
      ],
      "metadata": {
        "id": "beh5Al5UqVfB"
      }
    },
    {
      "cell_type": "code",
      "source": [
        "# Then lets create x_train, y_train, x_test, y_test arrays\n",
        "from sklearn.model_selection import train_test_split\n",
        "X_train, X_test, Y_train, Y_test = train_test_split(X, Y, test_size=0.15, random_state=42)\n",
        "number_of_train = X_train.shape[0]\n",
        "number_of_test = X_test.shape[0]"
      ],
      "metadata": {
        "id": "ADUPu1gUpASB"
      },
      "execution_count": 16,
      "outputs": []
    },
    {
      "cell_type": "markdown",
      "source": [
        "3 dimensional input array (X) have to be flatten to (2D) in order to use as input in deep learning model.\n",
        "Label array (Y) is already flatten(2D).\n",
        "Flattening X array(images array)."
      ],
      "metadata": {
        "id": "g06UwiQqr08p"
      }
    },
    {
      "cell_type": "code",
      "source": [
        "X_train.shape"
      ],
      "metadata": {
        "colab": {
          "base_uri": "https://localhost:8080/"
        },
        "id": "lBlFYpOErvk6",
        "outputId": "ce44dcad-a81e-4ad2-f09e-0dff6d616ab2"
      },
      "execution_count": 17,
      "outputs": [
        {
          "output_type": "execute_result",
          "data": {
            "text/plain": [
              "(348, 64, 64)"
            ]
          },
          "metadata": {},
          "execution_count": 17
        }
      ]
    },
    {
      "cell_type": "code",
      "source": [
        "X_test.shape"
      ],
      "metadata": {
        "colab": {
          "base_uri": "https://localhost:8080/"
        },
        "id": "PpuTotBZsgbp",
        "outputId": "0e075932-e27e-4cf7-f747-ff22b4a369bb"
      },
      "execution_count": 18,
      "outputs": [
        {
          "output_type": "execute_result",
          "data": {
            "text/plain": [
              "(62, 64, 64)"
            ]
          },
          "metadata": {},
          "execution_count": 18
        }
      ]
    },
    {
      "cell_type": "code",
      "source": [
        "number_of_train"
      ],
      "metadata": {
        "colab": {
          "base_uri": "https://localhost:8080/"
        },
        "id": "6Ooy7dsssVsA",
        "outputId": "18603348-4a9b-4a4a-f839-51aec3d1553f"
      },
      "execution_count": 19,
      "outputs": [
        {
          "output_type": "execute_result",
          "data": {
            "text/plain": [
              "348"
            ]
          },
          "metadata": {},
          "execution_count": 19
        }
      ]
    },
    {
      "cell_type": "code",
      "source": [
        "number_of_test"
      ],
      "metadata": {
        "colab": {
          "base_uri": "https://localhost:8080/"
        },
        "id": "m1J-K1Dnsa9x",
        "outputId": "c67a1a37-482b-43e0-d65b-d13878db77ed"
      },
      "execution_count": 20,
      "outputs": [
        {
          "output_type": "execute_result",
          "data": {
            "text/plain": [
              "62"
            ]
          },
          "metadata": {},
          "execution_count": 20
        }
      ]
    },
    {
      "cell_type": "code",
      "source": [
        "X_train_flatten = X_train.reshape(number_of_train,X_train.shape[1]*X_train.shape[2])\n",
        "X_test_flatten = X_test .reshape(number_of_test,X_test.shape[1]*X_test.shape[2])\n",
        "print(\"X train flatten\",X_train_flatten.shape)\n",
        "print(\"X test flatten\",X_test_flatten.shape)"
      ],
      "metadata": {
        "colab": {
          "base_uri": "https://localhost:8080/"
        },
        "id": "1C7TLTNjwxGy",
        "outputId": "27902834-52b7-461a-80c3-a6d1ca8eb77b"
      },
      "execution_count": 21,
      "outputs": [
        {
          "output_type": "stream",
          "name": "stdout",
          "text": [
            "X train flatten (348, 4096)\n",
            "X test flatten (62, 4096)\n"
          ]
        }
      ]
    },
    {
      "cell_type": "markdown",
      "source": [
        "As you can see, we have 348 images and each image has 4096 pixels in image train array.\n",
        "Also, we have 62 images and each image has 4096 pixels in image test array.\n",
        "Then lets take transpose."
      ],
      "metadata": {
        "id": "SyY5Ga3LyLLC"
      }
    },
    {
      "cell_type": "code",
      "source": [
        "x_train = X_train_flatten.T\n",
        "x_test = X_test_flatten.T\n",
        "y_train = Y_train.T\n",
        "y_test = Y_test.T\n",
        "print(\"x train: \",x_train.shape)\n",
        "print(\"x test: \",x_test.shape)\n",
        "print(\"y train: \",y_train.shape)\n",
        "print(\"y test: \",y_test.shape)"
      ],
      "metadata": {
        "colab": {
          "base_uri": "https://localhost:8080/"
        },
        "id": "b7EaaV8RxWtZ",
        "outputId": "868831b7-c1df-45fe-eaec-80788cb59a00"
      },
      "execution_count": 22,
      "outputs": [
        {
          "output_type": "stream",
          "name": "stdout",
          "text": [
            "x train:  (4096, 348)\n",
            "x test:  (4096, 62)\n",
            "y train:  (1, 348)\n",
            "y test:  (1, 62)\n"
          ]
        }
      ]
    },
    {
      "cell_type": "markdown",
      "source": [
        "Parameters are weight and bias.\n",
        "Weights: coefficients of each pixels\n",
        "Bias: intercept\n",
        "z = (w.t)x + b => z equals to (transpose of weights times input x) + bias\n",
        "In an other saying => z = b + px1w1 + px2w2 + ... + px4096*w4096\n",
        "y_head = sigmoid(z)\n",
        "Sigmoid function makes z between zero and one so that is probability.\n",
        "Sigmoid function is because it gives probabilistic result.\n",
        "It is derivative  gradient descent algorithm can be usesd.\n",
        "Example:z = 4 and put z into sigmoid function. The result(y_head) is almost 0.9. It means that our classification result is 1 with 90% probability.\n"
      ],
      "metadata": {
        "id": "_QSF2Pyu5ji6"
      }
    },
    {
      "cell_type": "markdown",
      "source": [
        "Initializing parameters\n",
        "Input are images that have 4096 pixels(each image in x_train).\n",
        "Each pixels have own weights.\n",
        "The first step is multiplying each pixels with their own weights.\n",
        "For this time initial weights are 0.01. From computation graph of logistic regression weight array shape is (4096,1). Initial bias is 0.\n"
      ],
      "metadata": {
        "id": "CILPIK5Y-3Zr"
      }
    },
    {
      "cell_type": "code",
      "source": [
        "# short description and example of definition (def)\n",
        "def dummy(parameter):\n",
        "    dummy_parameter = parameter + 5\n",
        "    return dummy_parameter\n",
        "result = dummy(3)     # result = 8\n",
        "\n",
        "# Initialize parameters\n",
        "# Dimension is 4096 that is number of pixels as a parameter for our initialize method(def)\n",
        "def initialize_weights_and_bias(dimension):\n",
        "    w = np.full((dimension,1),0.01)\n",
        "    b = 0.0\n",
        "    return w, b"
      ],
      "metadata": {
        "id": "mSCTIU3Z5lFE"
      },
      "execution_count": 23,
      "outputs": []
    },
    {
      "cell_type": "code",
      "source": [
        "#w,b = initialize_weights_and_bias(4096)"
      ],
      "metadata": {
        "id": "U-VYIhp0gimo"
      },
      "execution_count": null,
      "outputs": []
    },
    {
      "cell_type": "markdown",
      "source": [
        "Forward Propagation\n",
        "The all steps from pixels to cost is called forward propagation\n",
        "z = (w.T)x + b => in this equation: x - is pixel array,  w (weights) and b (bias) so the rest is calculation. (T is transpose)\n",
        "Then z is put into sigmoid function that returns y_head(probability).\n",
        "Then loss(error) function is calculated. Cost function is summation of all loss(error).\n",
        "Create sigmoid definition(method) that takes z as input parameter and returns y_head(probability)"
      ],
      "metadata": {
        "id": "WUEB3GUPhF7F"
      }
    },
    {
      "cell_type": "code",
      "source": [
        "# calculation of z\n",
        "#z = np.dot(w.T,x_train)+b\n",
        "def sigmoid(z):\n",
        "    y_head = 1/(1+np.exp(-z))\n",
        "    return y_head"
      ],
      "metadata": {
        "id": "8vOdtkJejCBH"
      },
      "execution_count": 24,
      "outputs": []
    },
    {
      "cell_type": "code",
      "source": [
        "y_head = sigmoid(0)\n",
        "y_head"
      ],
      "metadata": {
        "colab": {
          "base_uri": "https://localhost:8080/"
        },
        "id": "L5MeRMFjjEUY",
        "outputId": "d1250a0d-50c7-47ac-8e01-5d89a7f9fa88"
      },
      "execution_count": 25,
      "outputs": [
        {
          "output_type": "execute_result",
          "data": {
            "text/plain": [
              "0.5"
            ]
          },
          "metadata": {},
          "execution_count": 25
        }
      ]
    },
    {
      "cell_type": "code",
      "source": [
        "# Forward propagation steps:\n",
        "# calculation z = w.T*x+b\n",
        "# y_head = sigmoid(z)\n",
        "# loss(error) = loss(y,y_head)\n",
        "# cost = sum(loss)\n",
        "def forward_propagation(w,b,x_train,y_train):\n",
        "    z = np.dot(w.T,x_train) + b\n",
        "    y_head = sigmoid(z) # probabilistic 0-1\n",
        "    loss = -y_train*np.log(y_head)-(1-y_train)*np.log(1-y_head)\n",
        "    cost = (np.sum(loss))/x_train.shape[1]      # x_train.shape[1]  is for scaling\n",
        "    return cost"
      ],
      "metadata": {
        "id": "DCioPuZotppt"
      },
      "execution_count": 26,
      "outputs": []
    },
    {
      "cell_type": "markdown",
      "source": [
        "Optimization.\n",
        "Algorithm with Gradient Descent.\n",
        "Cost is error. Cost have to be decreased because if cost is high it means that we make wrong prediction.Every thing starts with initializing weights and bias. Therefore cost is dependent with them.\n",
        "In order to decrease cost weights and bias have to be updated. Model needs to learn the parameters weights and bias that minimize cost function. This technique is called gradient descent.\n",
        "Example:\n",
        "w = 5 and bias = 0 (so ignore bias for now). In forward propagation and our cost function is 1.5.\n"
      ],
      "metadata": {
        "id": "4hnikHdi2BIZ"
      }
    },
    {
      "cell_type": "markdown",
      "source": [
        "Graph shows that 1.5 is not at minimum point of cost function. Then go through minimum cost and update weight. ( the symbol := is updating)\n",
        "w := w - step. Step is slope1.\n",
        "slope1 = 3, updated weight. w := w - slope1 => w = 2. Now weight w is 2 and calculate cost function with forward propagation again.\n",
        "According to forward propagation with w = 2, cost function is 0.4. Cost function is decreasing. New value for cost function that is cost = 0.4. One more step.\n",
        "Slope2 = 0.7 and w = 2. Update weight w : = w - step(slope2) => w = 1.3 that is new weight. New cost calculated in one more forward propagation with w = 1.3 is cost = 0.3. Cost decreased. One more step.\n",
        "Slope3 = 0.01 and w = 1.3. Updating weight w := w - step(slope3) => w = 1.29 ~ 1.3. So weight does not change because it is minimum point of cost function.\n",
        "\n",
        "To find slope of function(cost function) at given point(at given weight)  derivative of function at given point have to be calculated. Slope(derivative) gives both step and direction of step.\n",
        "Cost function is calculated and takes weight and bias. Calculation derivative of cost function according to weight and bias. Then multiply it with α learning rate. Then update weight and bias."
      ],
      "metadata": {
        "id": "9nXF2yQ12YS5"
      }
    },
    {
      "cell_type": "markdown",
      "source": [
        "Learning rate is  hyperparameter that need to be chosen and tuned. In this example learning rate is 1."
      ],
      "metadata": {
        "id": "XxT0gef2-4tl"
      }
    },
    {
      "cell_type": "markdown",
      "source": [
        " Forward propagation(from weights and bias to cost) and backward propagation(from cost to weights and bias to update them)."
      ],
      "metadata": {
        "id": "3XiIn_cm_dgl"
      }
    },
    {
      "cell_type": "code",
      "source": [
        "# In backward propagation we will use y_head that found in forward progation\n",
        "# Therefore instead of writing backward propagation method, lets combine forward propagation and backward propagation\n",
        "def forward_backward_propagation(w,b,x_train,y_train):\n",
        "    # forward propagation\n",
        "    z = np.dot(w.T,x_train) + b\n",
        "    y_head = sigmoid(z)\n",
        "    loss = -y_train*np.log(y_head)-(1-y_train)*np.log(1-y_head)\n",
        "    cost = (np.sum(loss))/x_train.shape[1]      # x_train.shape[1]  is for scaling\n",
        "    # backward propagation\n",
        "    derivative_weight = (np.dot(x_train,((y_head-y_train).T)))/x_train.shape[1] # x_train.shape[1]  is for scaling\n",
        "    derivative_bias = np.sum(y_head-y_train)/x_train.shape[1]                 # x_train.shape[1]  is for scaling\n",
        "    gradients = {\"derivative_weight\": derivative_weight,\"derivative_bias\": derivative_bias}\n",
        "    return cost,gradients"
      ],
      "metadata": {
        "id": "Tp0FDukR35t0"
      },
      "execution_count": 27,
      "outputs": []
    },
    {
      "cell_type": "code",
      "source": [
        "# Updating(learning) parameters\n",
        "def update(w, b, x_train, y_train, learning_rate,number_of_iterarion):\n",
        "    cost_list = []\n",
        "    cost_list2 = []\n",
        "    index = []\n",
        "    # updating(learning) parameters is number_of_iterarion times\n",
        "    for i in range(number_of_iterarion):\n",
        "        # make forward and backward propagation and find cost and gradients\n",
        "        cost,gradients = forward_backward_propagation(w,b,x_train,y_train)\n",
        "        cost_list.append(cost)\n",
        "        # lets update\n",
        "        w = w - learning_rate * gradients[\"derivative_weight\"]\n",
        "        b = b - learning_rate * gradients[\"derivative_bias\"]\n",
        "        if i % 10 == 0:\n",
        "            cost_list2.append(cost)\n",
        "            index.append(i)\n",
        "            print (\"Cost after iteration %i: %f\" %(i, cost))\n",
        "    # we update(learn) parameters weights and bias\n",
        "    parameters = {\"weight\": w,\"bias\": b}\n",
        "    plt.plot(index,cost_list2)\n",
        "    plt.xticks(index,rotation='vertical')\n",
        "    plt.xlabel(\"Number of Iterarion\")\n",
        "    plt.ylabel(\"Cost\")\n",
        "    plt.show()\n",
        "    return parameters, gradients, cost_list\n",
        "#parameters, gradients, cost_list = update(w, b, x_train, y_train, learning_rate = 0.009,number_of_iterarion = 200)"
      ],
      "metadata": {
        "id": "hLjmAGtw4LvF"
      },
      "execution_count": 28,
      "outputs": []
    },
    {
      "cell_type": "code",
      "source": [
        "# prediction\n",
        "def predict(w,b,x_test):\n",
        "    # x_test is a input for forward propagation\n",
        "    z = sigmoid(np.dot(w.T,x_test)+b)\n",
        "    Y_prediction = np.zeros((1,x_test.shape[1]))\n",
        "    # if z is bigger than 0.5, our prediction is sign one (y_head=1),\n",
        "    # if z is smaller than 0.5, our prediction is sign zero (y_head=0),\n",
        "    for i in range(z.shape[1]):\n",
        "        if z[0,i]<= 0.5:\n",
        "            Y_prediction[0,i] = 0\n",
        "        else:\n",
        "            Y_prediction[0,i] = 1\n",
        "\n",
        "    return Y_prediction\n",
        "# predict(parameters[\"weight\"],parameters[\"bias\"],x_test)"
      ],
      "metadata": {
        "id": "mVaE6rr52z0c"
      },
      "execution_count": 29,
      "outputs": []
    },
    {
      "cell_type": "code",
      "source": [
        "def logistic_regression(x_train, y_train, x_test, y_test, learning_rate ,  num_iterations):\n",
        "    # initialize\n",
        "    dimension =  x_train.shape[0]  # that is 4096\n",
        "    w,b = initialize_weights_and_bias(dimension)\n",
        "    # do not change learning rate\n",
        "    parameters, gradients, cost_list = update(w, b, x_train, y_train, learning_rate,num_iterations)\n",
        "\n",
        "    y_prediction_test = predict(parameters[\"weight\"],parameters[\"bias\"],x_test)\n",
        "    y_prediction_train = predict(parameters[\"weight\"],parameters[\"bias\"],x_train)\n",
        "\n",
        "    # Print train/test Errors\n",
        "    print(\"train accuracy: {} %\".format(100 - np.mean(np.abs(y_prediction_train - y_train)) * 100))\n",
        "    print(\"test accuracy: {} %\".format(100 - np.mean(np.abs(y_prediction_test - y_test)) * 100))\n",
        "\n",
        "logistic_regression(x_train, y_train, x_test, y_test,learning_rate = 0.01, num_iterations = 150)"
      ],
      "metadata": {
        "colab": {
          "base_uri": "https://localhost:8080/",
          "height": 757
        },
        "id": "V8IdRuhb5i_t",
        "outputId": "58a9d47f-06e9-46d8-c945-d0ae2607d660"
      },
      "execution_count": 30,
      "outputs": [
        {
          "output_type": "stream",
          "name": "stdout",
          "text": [
            "Cost after iteration 0: 14.014222\n",
            "Cost after iteration 10: 2.544689\n",
            "Cost after iteration 20: 2.577950\n",
            "Cost after iteration 30: 2.397999\n",
            "Cost after iteration 40: 2.185019\n",
            "Cost after iteration 50: 1.968348\n",
            "Cost after iteration 60: 1.754195\n",
            "Cost after iteration 70: 1.535079\n",
            "Cost after iteration 80: 1.297567\n",
            "Cost after iteration 90: 1.031919\n",
            "Cost after iteration 100: 0.737019\n",
            "Cost after iteration 110: 0.441355\n",
            "Cost after iteration 120: 0.252278\n",
            "Cost after iteration 130: 0.205168\n",
            "Cost after iteration 140: 0.196168\n"
          ]
        },
        {
          "output_type": "display_data",
          "data": {
            "text/plain": [
              "<Figure size 640x480 with 1 Axes>"
            ],
            "image/png": "[encoded data removed]"
          },
          "metadata": {}
        },
        {
          "output_type": "stream",
          "name": "stdout",
          "text": [
            "train accuracy: 92.816091954023 %\n",
            "test accuracy: 93.54838709677419 %\n"
          ]
        }
      ]
    },
    {
      "cell_type": "markdown",
      "source": [
        "Logistic Regression with Sklearn\n",
        "In sklearn library, there is a logistic regression method that ease implementing logistic regression.\n",
        "http://scikit-learn.org/stable/modules/generated/sklearn.linear_model.LogisticRegression.html\n",
        "The accuracies are different from what calculated above. Because logistic regression method use a lot of different feature that we do not use like different optimization parameters or regularization.\n"
      ],
      "metadata": {
        "id": "E9Rt0wvJ9Xye"
      }
    },
    {
      "cell_type": "code",
      "source": [
        "from sklearn import linear_model\n",
        "logreg = linear_model.LogisticRegression(random_state = 42,max_iter= 150)\n",
        "print(\"test accuracy: {} \".format(logreg.fit(x_train.T, y_train.T).score(x_test.T, y_test.T)))\n",
        "print(\"train accuracy: {} \".format(logreg.fit(x_train.T, y_train.T).score(x_train.T, y_train.T)))"
      ],
      "metadata": {
        "colab": {
          "base_uri": "https://localhost:8080/"
        },
        "id": "LqvnnvGS8qFM",
        "outputId": "353a39f1-8153-4e80-9511-bb39c49c9db8"
      },
      "execution_count": 31,
      "outputs": [
        {
          "output_type": "stream",
          "name": "stdout",
          "text": [
            "test accuracy: 0.967741935483871 \n",
            "train accuracy: 1.0 \n"
          ]
        }
      ]
    }
  ],
  "metadata": {
    "colab": {
      "provenance": []
    },
    "kernelspec": {
      "display_name": "Python 3",
      "name": "python3"
    },
    "language_info": {
      "name": "python"
    }
  },
  "nbformat": 4,
  "nbformat_minor": 0
}