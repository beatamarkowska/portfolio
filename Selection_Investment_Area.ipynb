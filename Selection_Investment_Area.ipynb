{
  "cells": [
    {
      "cell_type": "markdown",
      "source": [
        "The purpose of the script is to automate the process of selecting land for investment. The area available for investment was calculated after subtracting the area of ​​third class soils and organic soils. The distance of the investment area from the main power supply point was also calculated."
      ],
      "metadata": {
        "id": "1ojicQe45Twl"
      }
    },
    {
      "cell_type": "code",
      "source": [
        "import geopandas as gpd\n",
        "import numpy as np\n",
        "import matplotlib.pyplot as plt\n",
        "from shapely.geometry import Point"
      ],
      "metadata": {
        "id": "1saF2DPe5M_1"
      },
      "execution_count": null,
      "outputs": []
    },
    {
      "cell_type": "code",
      "source": [
        "from google.colab import drive\n",
        "drive.mount('/content/drive')"
      ],
      "metadata": {
        "id": "gPtMshSdG1vI",
        "colab": {
          "base_uri": "https://localhost:8080/"
        },
        "outputId": "d98295fb-4b5e-40aa-8587-51af3dd3a54d"
      },
      "execution_count": 2,
      "outputs": [
        {
          "output_type": "stream",
          "name": "stdout",
          "text": [
            "Mounted at /content/drive\n"
          ]
        }
      ]
    },
    {
      "cell_type": "code",
      "source": [
        "import glob\n",
        "import os\n",
        "import shutil\n",
        "from osgeo import osr"
      ],
      "metadata": {
        "id": "ruc2kEY0PjV1"
      },
      "execution_count": 4,
      "outputs": []
    },
    {
      "cell_type": "code",
      "execution_count": 5,
      "metadata": {
        "colab": {
          "base_uri": "https://localhost:8080/"
        },
        "id": "RyzAXfAlCd-x",
        "outputId": "acc103ee-cb31-443a-d140-b3c52a88e6f0"
      },
      "outputs": [
        {
          "output_type": "stream",
          "name": "stdout",
          "text": [
            "Requirement already satisfied: gdal in /usr/local/lib/python3.10/dist-packages (3.6.4)\n"
          ]
        }
      ],
      "source": [
        "!pip install gdal"
      ]
    },
    {
      "cell_type": "code",
      "execution_count": null,
      "metadata": {
        "id": "xYZLIQ6uCfG1"
      },
      "outputs": [],
      "source": [
        "from osgeo import gdal"
      ]
    },
    {
      "cell_type": "code",
      "source": [
        "os.chdir(\"/content/drive/MyDrive/Dane z Kaggla/GDAL/SHP/Project\")\n",
        "!ls"
      ],
      "metadata": {
        "id": "TDLvFTIdRAQV",
        "colab": {
          "base_uri": "https://localhost:8080/"
        },
        "outputId": "fe04c0ec-bb56-4616-cd14-3d7ef42449e4"
      },
      "execution_count": 13,
      "outputs": [
        {
          "output_type": "stream",
          "name": "stdout",
          "text": [
            "Land_Parcels.cpg      Main_power_point.prj  Organic_soil.shx\t\t  Soil3_class.dbf\n",
            "Land_Parcels.dbf      Main_power_point.shp  Protected_Landscape_Area.cpg  Soil3_class.prj\n",
            "Land_Parcels.prj      Main_power_point.shx  Protected_Landscape_Area.dbf  Soil3_class.shp\n",
            "Land_Parcels.shp      Organic_soil.cpg\t    Protected_Landscape_Area.prj  Soil3_class.shx\n",
            "Land_Parcels.shx      Organic_soil.dbf\t    Protected_Landscape_Area.shp\n",
            "Main_power_point.cpg  Organic_soil.prj\t    Protected_Landscape_Area.shx\n",
            "Main_power_point.dbf  Organic_soil.shp\t    Soil3_class.cpg\n"
          ]
        }
      ]
    },
    {
      "cell_type": "code",
      "source": [
        "import geopandas as gpd\n",
        "from shapely.ops import nearest_points\n",
        "\n",
        "def process_land_parcels(land_parcels_shp, landscape_protected_area_shp, organic_soil_shp, soil3_class_shp, main_power_point_shp, buffer_distance=100):\n",
        "    # Load the shapefiles\n",
        "    land_parcels = gpd.read_file(land_parcels_shp)\n",
        "    landscape_protected_area = gpd.read_file(landscape_protected_area_shp)\n",
        "    organic_soil = gpd.read_file(organic_soil_shp)\n",
        "    soil3_class = gpd.read_file(soil3_class_shp)\n",
        "    main_power_point = gpd.read_file(main_power_point_shp)\n",
        "\n",
        "    # Calculate buffer around Landscape Protected Area\n",
        "    landscape_buffer = landscape_protected_area.buffer(buffer_distance)\n",
        "\n",
        "    # Cut area of Land Parcels using the buffer\n",
        "    land_parcels_cut = gpd.overlay(land_parcels, gpd.GeoDataFrame(geometry=landscape_buffer, crs=landscape_protected_area.crs), how='difference')\n",
        "\n",
        "    # Cut area of Land Parcels which intersect with Organic Soil and Soil III Class\n",
        "    land_parcels_cut = gpd.overlay(land_parcels_cut, organic_soil, how='difference')\n",
        "    land_parcels_cut = gpd.overlay(land_parcels_cut, soil3_class, how='difference')\n",
        "\n",
        "    # Calculate the area of the rest of Land Parcels\n",
        "    land_parcels_cut['area'] = land_parcels_cut.geometry.area\n",
        "\n",
        "    # Calculate distance from Land Parcels to the nearest Main Power Point\n",
        "    def calculate_distance_to_nearest_point(row, points):\n",
        "        nearest_point = nearest_points(row.geometry, points.unary_union)\n",
        "        return nearest_point[0].distance(nearest_point[1])  # Distance between the nearest points\n",
        "\n",
        "    main_power_points = main_power_point.geometry\n",
        "    land_parcels_cut['distance_to_main_power_point'] = land_parcels_cut.apply(calculate_distance_to_nearest_point, points=main_power_points, axis=1)\n",
        "\n",
        "    # Save the resulting GeoDataFrame to a new shapefile\n",
        "    output_shapefile = 'Land_Parcels_processed.shp'\n",
        "    land_parcels_cut.to_file(output_shapefile, driver='ESRI Shapefile')\n",
        "    print(f\"Processed shapefile saved to {output_shapefile}\")\n",
        "\n",
        "# Example usage\n",
        "land_parcels_shp = 'Land_Parcels.shp'\n",
        "landscape_protected_area_shp = 'Protected_Landscape_Area.shp'\n",
        "organic_soil_shp = 'Organic_soil.shp'\n",
        "soil3_class_shp = 'Soil3_class.shp'\n",
        "main_power_point_shp = 'Main_power_point.shp'\n",
        "\n",
        "process_land_parcels(land_parcels_shp, landscape_protected_area_shp, organic_soil_shp, soil3_class_shp, main_power_point_shp)\n"
      ],
      "metadata": {
        "colab": {
          "base_uri": "https://localhost:8080/"
        },
        "id": "NylTJs054toC",
        "outputId": "bae957ea-6755-4dd8-8cfb-bf395873045d"
      },
      "execution_count": 19,
      "outputs": [
        {
          "output_type": "stream",
          "name": "stderr",
          "text": [
            "<ipython-input-19-8938ff265fa7>:35: UserWarning: Column names longer than 10 characters will be truncated when saved to ESRI Shapefile.\n",
            "  land_parcels_cut.to_file(output_shapefile, driver='ESRI Shapefile')\n",
            "WARNING:fiona._env:Normalized/laundered field name: 'distance_to_main_power_point' to 'distance_t'\n",
            "WARNING:fiona._env:One or several characters couldn't be converted correctly from UTF-8 to ISO-8859-1.  This warning will not be emitted anymore.\n",
            "WARNING:fiona._env:One or several characters couldn't be converted correctly from UTF-8 to ISO-8859-1.  This warning will not be emitted anymore.\n",
            "WARNING:fiona._env:One or several characters couldn't be converted correctly from UTF-8 to ISO-8859-1.  This warning will not be emitted anymore.\n",
            "WARNING:fiona._env:One or several characters couldn't be converted correctly from UTF-8 to ISO-8859-1.  This warning will not be emitted anymore.\n",
            "WARNING:fiona._env:One or several characters couldn't be converted correctly from UTF-8 to ISO-8859-1.  This warning will not be emitted anymore.\n",
            "WARNING:fiona._env:One or several characters couldn't be converted correctly from UTF-8 to ISO-8859-1.  This warning will not be emitted anymore.\n",
            "WARNING:fiona._env:One or several characters couldn't be converted correctly from UTF-8 to ISO-8859-1.  This warning will not be emitted anymore.\n",
            "WARNING:fiona._env:One or several characters couldn't be converted correctly from UTF-8 to ISO-8859-1.  This warning will not be emitted anymore.\n",
            "WARNING:fiona._env:One or several characters couldn't be converted correctly from UTF-8 to ISO-8859-1.  This warning will not be emitted anymore.\n",
            "WARNING:fiona._env:One or several characters couldn't be converted correctly from UTF-8 to ISO-8859-1.  This warning will not be emitted anymore.\n",
            "WARNING:fiona._env:One or several characters couldn't be converted correctly from UTF-8 to ISO-8859-1.  This warning will not be emitted anymore.\n",
            "WARNING:fiona._env:One or several characters couldn't be converted correctly from UTF-8 to ISO-8859-1.  This warning will not be emitted anymore.\n",
            "WARNING:fiona._env:One or several characters couldn't be converted correctly from UTF-8 to ISO-8859-1.  This warning will not be emitted anymore.\n",
            "WARNING:fiona._env:One or several characters couldn't be converted correctly from UTF-8 to ISO-8859-1.  This warning will not be emitted anymore.\n",
            "WARNING:fiona._env:One or several characters couldn't be converted correctly from UTF-8 to ISO-8859-1.  This warning will not be emitted anymore.\n",
            "WARNING:fiona._env:One or several characters couldn't be converted correctly from UTF-8 to ISO-8859-1.  This warning will not be emitted anymore.\n",
            "WARNING:fiona._env:One or several characters couldn't be converted correctly from UTF-8 to ISO-8859-1.  This warning will not be emitted anymore.\n",
            "WARNING:fiona._env:One or several characters couldn't be converted correctly from UTF-8 to ISO-8859-1.  This warning will not be emitted anymore.\n",
            "WARNING:fiona._env:One or several characters couldn't be converted correctly from UTF-8 to ISO-8859-1.  This warning will not be emitted anymore.\n",
            "WARNING:fiona._env:One or several characters couldn't be converted correctly from UTF-8 to ISO-8859-1.  This warning will not be emitted anymore.\n",
            "WARNING:fiona._env:One or several characters couldn't be converted correctly from UTF-8 to ISO-8859-1.  This warning will not be emitted anymore.\n",
            "WARNING:fiona._env:One or several characters couldn't be converted correctly from UTF-8 to ISO-8859-1.  This warning will not be emitted anymore.\n",
            "WARNING:fiona._env:One or several characters couldn't be converted correctly from UTF-8 to ISO-8859-1.  This warning will not be emitted anymore.\n",
            "WARNING:fiona._env:One or several characters couldn't be converted correctly from UTF-8 to ISO-8859-1.  This warning will not be emitted anymore.\n",
            "WARNING:fiona._env:One or several characters couldn't be converted correctly from UTF-8 to ISO-8859-1.  This warning will not be emitted anymore.\n",
            "WARNING:fiona._env:One or several characters couldn't be converted correctly from UTF-8 to ISO-8859-1.  This warning will not be emitted anymore.\n",
            "WARNING:fiona._env:One or several characters couldn't be converted correctly from UTF-8 to ISO-8859-1.  This warning will not be emitted anymore.\n",
            "WARNING:fiona._env:One or several characters couldn't be converted correctly from UTF-8 to ISO-8859-1.  This warning will not be emitted anymore.\n",
            "WARNING:fiona._env:One or several characters couldn't be converted correctly from UTF-8 to ISO-8859-1.  This warning will not be emitted anymore.\n",
            "WARNING:fiona._env:One or several characters couldn't be converted correctly from UTF-8 to ISO-8859-1.  This warning will not be emitted anymore.\n",
            "WARNING:fiona._env:One or several characters couldn't be converted correctly from UTF-8 to ISO-8859-1.  This warning will not be emitted anymore.\n",
            "WARNING:fiona._env:One or several characters couldn't be converted correctly from UTF-8 to ISO-8859-1.  This warning will not be emitted anymore.\n",
            "WARNING:fiona._env:One or several characters couldn't be converted correctly from UTF-8 to ISO-8859-1.  This warning will not be emitted anymore.\n",
            "WARNING:fiona._env:One or several characters couldn't be converted correctly from UTF-8 to ISO-8859-1.  This warning will not be emitted anymore.\n",
            "WARNING:fiona._env:One or several characters couldn't be converted correctly from UTF-8 to ISO-8859-1.  This warning will not be emitted anymore.\n",
            "WARNING:fiona._env:One or several characters couldn't be converted correctly from UTF-8 to ISO-8859-1.  This warning will not be emitted anymore.\n",
            "WARNING:fiona._env:One or several characters couldn't be converted correctly from UTF-8 to ISO-8859-1.  This warning will not be emitted anymore.\n"
          ]
        },
        {
          "output_type": "stream",
          "name": "stdout",
          "text": [
            "Processed shapefile saved to Land_Parcels_processed.shp\n"
          ]
        }
      ]
    }
  ],
  "metadata": {
    "colab": {
      "provenance": []
    },
    "kernelspec": {
      "display_name": "Python 3",
      "name": "python3"
    },
    "language_info": {
      "name": "python"
    }
  },
  "nbformat": 4,
  "nbformat_minor": 0
}