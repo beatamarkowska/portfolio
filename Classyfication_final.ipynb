{
  "cells": [
    {
      "cell_type": "markdown",
      "source": [
        "The purpose of the script is to classify georeferenced tiff files and isolate the yellow color. Organic soils are marked in yellow. Then, the classified areas of organic soils were polygonized into a shp file."
      ],
      "metadata": {
        "id": "LPJA-GWsLJsy"
      }
    },
    {
      "cell_type": "code",
      "source": [
        "import pandas as pd\n",
        "import numpy as np\n",
        "import os\n",
        "from osgeo import osr, ogr\n",
        "import cv2\n",
        "!pip install gdal\n",
        "from osgeo import gdal\n"
      ],
      "metadata": {
        "id": "yL3ET3KuLMLJ"
      },
      "execution_count": null,
      "outputs": []
    },
    {
      "cell_type": "code",
      "source": [
        "!pip install opencv-python-headless gdal numpy"
      ],
      "metadata": {
        "colab": {
          "base_uri": "https://localhost:8080/"
        },
        "outputId": "b3fbb5c6-0f2c-4a13-f2ee-a8a9b82515dc",
        "id": "aDNUfG9qOuNj"
      },
      "execution_count": null,
      "outputs": [
        {
          "output_type": "stream",
          "name": "stdout",
          "text": [
            "Requirement already satisfied: opencv-python-headless in /usr/local/lib/python3.10/dist-packages (4.10.0.82)\n",
            "Requirement already satisfied: gdal in /usr/local/lib/python3.10/dist-packages (3.6.4)\n",
            "Requirement already satisfied: numpy in /usr/local/lib/python3.10/dist-packages (1.25.2)\n"
          ]
        }
      ]
    },
    {
      "cell_type": "code",
      "source": [
        "from google.colab import drive\n",
        "drive.mount('/content/drive')"
      ],
      "metadata": {
        "id": "gPtMshSdG1vI",
        "colab": {
          "base_uri": "https://localhost:8080/"
        },
        "outputId": "5017d6f9-097b-4d68-dc55-d9978c95c5f5"
      },
      "execution_count": null,
      "outputs": [
        {
          "output_type": "stream",
          "name": "stdout",
          "text": [
            "Mounted at /content/drive\n"
          ]
        }
      ]
    },
    {
      "cell_type": "code",
      "source": [
        "os.chdir(\"/content/drive/MyDrive/Dane z Kaggla/GDAL/Raster/JPG/10JPG_without_georef \")\n",
        "!ls"
      ],
      "metadata": {
        "id": "TDLvFTIdRAQV",
        "colab": {
          "base_uri": "https://localhost:8080/"
        },
        "outputId": "9069f55d-6051-4595-dd5b-ea6573b37a02"
      },
      "execution_count": null,
      "outputs": [
        {
          "output_type": "stream",
          "name": "stdout",
          "text": [
            " clip_0001.dbf\t clip_0003.prj\t clip_0005.shp\t clip_0007.shx\t\t  'Kopia wspolrzedne.txt'\n",
            " clip_0001.prj\t clip_0003.shp\t clip_0005.shx\t clip_0007.tif\t\t   temp_georef_0001.tif\n",
            " clip_0001.shp\t clip_0003.shx\t clip_0005.tif\t coordinates_WGS84.txt\t   temp_georef_0002.tif\n",
            " clip_0001.shx\t clip_0003.tif\t clip_0006.dbf\t'Kopia mgsp2A0001.jpg'\t   temp_georef_0003.tif\n",
            " clip_0001.tif\t clip_0004.dbf\t clip_0006.prj\t'Kopia mgsp2A0002.jpg'\t   temp_georef_0004.tif\n",
            " clip_0002.dbf\t clip_0004.prj\t clip_0006.shp\t'Kopia mgsp2A0003.jpg'\t   temp_georef_0005.tif\n",
            " clip_0002.prj\t clip_0004.shp\t clip_0006.shx\t'Kopia mgsp2A0004.jpg'\t   temp_georef_0006.tif\n",
            " clip_0002.shp\t clip_0004.shx\t clip_0006.tif\t'Kopia mgsp2A0005.jpg'\t   temp_georef_0007.tif\n",
            " clip_0002.shx\t clip_0004.tif\t clip_0007.dbf\t'Kopia mgsp2A0006.jpg'\n",
            " clip_0002.tif\t clip_0005.dbf\t clip_0007.prj\t'Kopia mgsp2A0007.jpg'\n",
            " clip_0003.dbf\t clip_0005.prj\t clip_0007.shp\t'Kopia wspolrzedne1.txt'\n"
          ]
        }
      ]
    },
    {
      "cell_type": "markdown",
      "source": [
        "Checking whether georeferencing has been assigned correctly. The geotransformation parameters of the file georeferenced manually in the QGIS program were compared with the parameters calculated automatically."
      ],
      "metadata": {
        "id": "Fq_n1NWsQI6D"
      }
    },
    {
      "cell_type": "code",
      "source": [
        "GeotransformQGIS = gdal.Open('/content/drive/MyDrive/Dane z Kaggla/GDAL/Raster/JPG/3pliki z geo/mgsp2A0001_modified.tif')"
      ],
      "metadata": {
        "id": "8MKJicQS8VyT"
      },
      "execution_count": null,
      "outputs": []
    },
    {
      "cell_type": "code",
      "source": [
        "GeotransformQGIS.GetGeoTransform()"
      ],
      "metadata": {
        "colab": {
          "base_uri": "https://localhost:8080/"
        },
        "id": "q9cIhYns_coE",
        "outputId": "494d8440-9730-4957-de1d-f6c5559a07f3"
      },
      "execution_count": null,
      "outputs": [
        {
          "output_type": "execute_result",
          "data": {
            "text/plain": [
              "(368798.0393705895,\n",
              " 6.336640020435696,\n",
              " 0.0,\n",
              " 781858.854831345,\n",
              " 0.0,\n",
              " -6.336640020435696)"
            ]
          },
          "metadata": {},
          "execution_count": 7
        }
      ]
    },
    {
      "cell_type": "code",
      "source": [
        "GeotransformAutomat = gdal.Open('/content/drive/MyDrive/Dane z Kaggla/GDAL/Raster/JPG/7 JPG bez ref/georef_mgsp2A0001.tif')"
      ],
      "metadata": {
        "id": "5tF0cSuC-vTL"
      },
      "execution_count": null,
      "outputs": []
    },
    {
      "cell_type": "code",
      "source": [
        "GeotransformAutomat.GetGeoTransform()"
      ],
      "metadata": {
        "colab": {
          "base_uri": "https://localhost:8080/"
        },
        "id": "AZFVwVO7_NQZ",
        "outputId": "3b4a9013-c2e1-4645-fe25-120e340f4e0a"
      },
      "execution_count": null,
      "outputs": [
        {
          "output_type": "execute_result",
          "data": {
            "text/plain": [
              "(368798.0393705895,\n",
              " 6.336640020435696,\n",
              " 0.0,\n",
              " 781858.854831345,\n",
              " 0.0,\n",
              " -6.336640020435696)"
            ]
          },
          "metadata": {},
          "execution_count": 9
        }
      ]
    },
    {
      "cell_type": "code",
      "source": [
        "GeotransformAutomat.GetProjection()"
      ],
      "metadata": {
        "colab": {
          "base_uri": "https://localhost:8080/",
          "height": 87
        },
        "id": "I7F9HiGAEu7L",
        "outputId": "2ee52913-563c-45f4-a1f7-2ab296fa6a45"
      },
      "execution_count": null,
      "outputs": [
        {
          "output_type": "execute_result",
          "data": {
            "text/plain": [
              "'PROJCS[\"ETRF2000-PL / CS92\",GEOGCS[\"ETRF2000-PL\",DATUM[\"ETRF2000_Poland\",SPHEROID[\"GRS 1980\",6378137,298.257222101,AUTHORITY[\"EPSG\",\"7019\"]],AUTHORITY[\"EPSG\",\"1305\"]],PRIMEM[\"Greenwich\",0,AUTHORITY[\"EPSG\",\"8901\"]],UNIT[\"degree\",0.0174532925199433,AUTHORITY[\"EPSG\",\"9122\"]],AUTHORITY[\"EPSG\",\"9702\"]],PROJECTION[\"Transverse_Mercator\"],PARAMETER[\"latitude_of_origin\",0],PARAMETER[\"central_meridian\",19],PARAMETER[\"scale_factor\",0.9993],PARAMETER[\"false_easting\",500000],PARAMETER[\"false_northing\",-5300000],UNIT[\"metre\",1,AUTHORITY[\"EPSG\",\"9001\"]],AXIS[\"Northing\",NORTH],AXIS[\"Easting\",EAST],AUTHORITY[\"EPSG\",\"2180\"]]'"
            ],
            "application/vnd.google.colaboratory.intrinsic+json": {
              "type": "string"
            }
          },
          "metadata": {},
          "execution_count": 10
        }
      ]
    },
    {
      "cell_type": "code",
      "source": [],
      "metadata": {
        "id": "gQ-t6SMRq-iw"
      },
      "execution_count": null,
      "outputs": []
    },
    {
      "cell_type": "markdown",
      "source": [
        "Input clipped tif files."
      ],
      "metadata": {
        "id": "zeJt9Zx5q_Bv"
      }
    },
    {
      "cell_type": "code",
      "source": [
        "src_Path = '/content/drive/MyDrive/Dane z Kaggla/GDAL/Raster/JPG/10JPG_without_georef '\n",
        "input = [r for r in os.listdir(src_Path) if r.endswith('tif') and r.startswith('clip')]\n",
        "input"
      ],
      "metadata": {
        "colab": {
          "base_uri": "https://localhost:8080/"
        },
        "id": "0Z2-S7DBrHBe",
        "outputId": "9074a1b3-fdb7-4c33-92b3-03b9b5e9672a"
      },
      "execution_count": null,
      "outputs": [
        {
          "output_type": "execute_result",
          "data": {
            "text/plain": [
              "['clip_0001.tif',\n",
              " 'clip_0002.tif',\n",
              " 'clip_0003.tif',\n",
              " 'clip_0004.tif',\n",
              " 'clip_0005.tif',\n",
              " 'clip_0006.tif',\n",
              " 'clip_0007.tif']"
            ]
          },
          "metadata": {},
          "execution_count": 7
        }
      ]
    },
    {
      "cell_type": "markdown",
      "source": [
        "Output shp classified files."
      ],
      "metadata": {
        "id": "UrbI9r8xSQvM"
      }
    },
    {
      "cell_type": "code",
      "source": [
        "output_classified = []\n",
        "for srcRst in input:\n",
        "  dstRst = 'klas_' + srcRst[:-4] + '.shp'\n",
        "  output_classified.append(dstRst)\n",
        "output_classified"
      ],
      "metadata": {
        "colab": {
          "base_uri": "https://localhost:8080/"
        },
        "id": "29CaD2RQrXvw",
        "outputId": "d9f1d0ff-3590-4e7d-acef-bf733442d663"
      },
      "execution_count": null,
      "outputs": [
        {
          "output_type": "execute_result",
          "data": {
            "text/plain": [
              "['klas_clip_0001.shp',\n",
              " 'klas_clip_0002.shp',\n",
              " 'klas_clip_0003.shp',\n",
              " 'klas_clip_0004.shp',\n",
              " 'klas_clip_0005.shp',\n",
              " 'klas_clip_0006.shp',\n",
              " 'klas_clip_0007.shp']"
            ]
          },
          "metadata": {},
          "execution_count": 8
        }
      ]
    },
    {
      "cell_type": "markdown",
      "source": [
        "Classification"
      ],
      "metadata": {
        "id": "idwhVr5Pp7IR"
      }
    },
    {
      "cell_type": "code",
      "source": [
        "import cv2\n",
        "# import numpy as np\n",
        "# from osgeo import ogr, osr, gdal\n",
        "\n",
        "class YellowColorClassifier:\n",
        "    def __init__(self, input_jpgs, output_shps, srs_epsg):\n",
        "        self.input_jpgs = input_jpgs\n",
        "        self.output_shps = output_shps\n",
        "        self.srs_epsg = srs_epsg\n",
        "\n",
        "    def classify_yellow(self, input_jpg):\n",
        "        # Load the image\n",
        "        image = cv2.imread(input_jpg)\n",
        "        if image is None:\n",
        "            raise ValueError(f\"Could not open or find the image: {input_jpg}\")\n",
        "\n",
        "        # Convert the image to HSV color space\n",
        "        hsv = cv2.cvtColor(image, cv2.COLOR_BGR2HSV)\n",
        "\n",
        "        # Define the range for yellow color\n",
        "        lower_yellow = np.array([20, 100, 100])\n",
        "        upper_yellow = np.array([30, 255, 255])\n",
        "\n",
        "        # Create a binary mask where yellow colors are white and other colors are black\n",
        "        mask = cv2.inRange(hsv, lower_yellow, upper_yellow)\n",
        "\n",
        "        # Find contours in the mask\n",
        "        contours, _ = cv2.findContours(mask, cv2.RETR_EXTERNAL, cv2.CHAIN_APPROX_SIMPLE)\n",
        "        return contours\n",
        "\n",
        "    def get_geotransform(self, input_jpg):\n",
        "        # Open the input JPEG file to get geotransformation\n",
        "        jpeg_dataset = gdal.Open(input_jpg)\n",
        "        if jpeg_dataset is None:\n",
        "            raise ValueError(f\"Could not open {input_jpg}\")\n",
        "\n",
        "        # Get geotransform\n",
        "        geotransform = jpeg_dataset.GetGeoTransform()\n",
        "        return geotransform\n",
        "\n",
        "    def save_as_shapefile(self, contours, geotransform, output_shp):\n",
        "        # Register the shapefile driver\n",
        "        driver = ogr.GetDriverByName(\"ESRI Shapefile\")\n",
        "        if driver is None:\n",
        "            raise ValueError(\"ESRI Shapefile driver not available\")\n",
        "\n",
        "        # Create the shapefile\n",
        "        data_source = driver.CreateDataSource(output_shp)\n",
        "        if data_source is None:\n",
        "            raise ValueError(f\"Could not create file {output_shp}\")\n",
        "\n",
        "        # Create the spatial reference, based on the provided EPSG code\n",
        "        srs = osr.SpatialReference()\n",
        "        srs.ImportFromEPSG(self.srs_epsg)\n",
        "\n",
        "        # Create the layer\n",
        "        layer = data_source.CreateLayer(\"yellow_areas\", srs, ogr.wkbPolygon)\n",
        "        if layer is None:\n",
        "            raise ValueError(f\"Could not create layer\")\n",
        "\n",
        "        # Add an ID field\n",
        "        field_id = ogr.FieldDefn(\"ID\", ogr.OFTInteger)\n",
        "        layer.CreateField(field_id)\n",
        "\n",
        "        # Iterate through contours and create polygons\n",
        "        for i, contour in enumerate(contours):\n",
        "            # Create a polygon feature\n",
        "            feature = ogr.Feature(layer.GetLayerDefn())\n",
        "            feature.SetField(\"ID\", i)\n",
        "\n",
        "            # Create the polygon geometry from the contour points\n",
        "            polygon = ogr.Geometry(ogr.wkbPolygon)\n",
        "            ring = ogr.Geometry(ogr.wkbLinearRing)\n",
        "            for point in contour:\n",
        "                # Convert pixel coordinates to geographic coordinates using geotransform\n",
        "                x = geotransform[0] + point[0][0] * geotransform[1] + point[0][1] * geotransform[2]\n",
        "                y = geotransform[3] + point[0][0] * geotransform[4] + point[0][1] * geotransform[5]\n",
        "                ring.AddPoint(float(x), float(y))\n",
        "            ring.CloseRings()\n",
        "            polygon.AddGeometry(ring)\n",
        "\n",
        "            feature.SetGeometry(polygon)\n",
        "            layer.CreateFeature(feature)\n",
        "\n",
        "            # Destroy the feature to free resources\n",
        "            feature.Destroy()\n",
        "\n",
        "        # Destroy the data source to free resources\n",
        "        data_source.Destroy()\n",
        "\n",
        "    def run(self):\n",
        "        for input_jpg, output_shp in zip(self.input_jpgs, self.output_shps):\n",
        "            contours = self.classify_yellow(input_jpg)\n",
        "            geotransform = self.get_geotransform(input_jpg)\n",
        "            self.save_as_shapefile(contours, geotransform, output_shp)"
      ],
      "metadata": {
        "id": "2Ra2FH3XqG6_"
      },
      "execution_count": null,
      "outputs": []
    },
    {
      "cell_type": "code",
      "source": [
        "# Example usage\n",
        "input_jpgs = input\n",
        "output_shps = output_classified\n",
        "\n",
        "srs_epsg = 4326  # EPSG code for the source georeferenced JPEG file\n",
        "\n",
        "classifier = YellowColorClassifier(input_jpgs, output_shps, srs_epsg)\n",
        "classifier.run()"
      ],
      "metadata": {
        "id": "c5VJyKPIrhxo"
      },
      "execution_count": null,
      "outputs": []
    }
  ],
  "metadata": {
    "colab": {
      "provenance": []
    },
    "kernelspec": {
      "display_name": "Python 3",
      "name": "python3"
    },
    "language_info": {
      "name": "python"
    }
  },
  "nbformat": 4,
  "nbformat_minor": 0
}