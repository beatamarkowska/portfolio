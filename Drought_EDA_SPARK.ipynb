{
 "cells": [
  {
   "cell_type": "code",
   "execution_count": 0,
   "metadata": {
    "application/vnd.databricks.v1+cell": {
     "cellMetadata": {
      "byteLimit": 2048000,
      "rowLimit": 10000
     },
     "inputWidgets": {},
     "nuid": "10223afe-8360-4f3e-85d0-c02371fdfea5",
     "showTitle": false,
     "tableResultSettingsMap": {},
     "title": ""
    }
   },
   "outputs": [
    {
     "output_type": "stream",
     "name": "stdout",
     "output_type": "stream",
     "text": [
      "Out[1]: [FileInfo(path='dbfs:/FileStore/tables/data_0-1.csv', name='data_0-1.csv', size=151, modificationTime=1739032568000),\n FileInfo(path='dbfs:/FileStore/tables/data_0.csv', name='data_0.csv', size=151, modificationTime=1739029178000),\n FileInfo(path='dbfs:/FileStore/tables/data_1.csv', name='data_1.csv', size=153, modificationTime=1739032568000),\n FileInfo(path='dbfs:/FileStore/tables/data_2.csv', name='data_2.csv', size=151, modificationTime=1739032568000),\n FileInfo(path='dbfs:/FileStore/tables/data_3.csv', name='data_3.csv', size=153, modificationTime=1739032569000),\n FileInfo(path='dbfs:/FileStore/tables/data_4.csv', name='data_4.csv', size=154, modificationTime=1739032569000),\n FileInfo(path='dbfs:/FileStore/tables/data_5.csv', name='data_5.csv', size=155, modificationTime=1739032540000),\n FileInfo(path='dbfs:/FileStore/tables/data_6.csv', name='data_6.csv', size=155, modificationTime=1739032569000),\n FileInfo(path='dbfs:/FileStore/tables/data_7.csv', name='data_7.csv', size=155, modificationTime=1739032540000),\n FileInfo(path='dbfs:/FileStore/tables/data_8.csv', name='data_8.csv', size=155, modificationTime=1739032570000),\n FileInfo(path='dbfs:/FileStore/tables/data_9.csv', name='data_9.csv', size=155, modificationTime=1739032570000),\n FileInfo(path='dbfs:/FileStore/tables/soil_data.csv', name='soil_data.csv', size=731402, modificationTime=1739733977000),\n FileInfo(path='dbfs:/FileStore/tables/validation_timeseries__1_.csv', name='validation_timeseries__1_.csv', size=258346590, modificationTime=1739374103000),\n FileInfo(path='dbfs:/FileStore/tables/weather_data-1.geojson', name='weather_data-1.geojson', size=1265, modificationTime=1739372666000),\n FileInfo(path='dbfs:/FileStore/tables/weather_data-2.geojson', name='weather_data-2.geojson', size=1265, modificationTime=1739373257000),\n FileInfo(path='dbfs:/FileStore/tables/weather_data.geojson', name='weather_data.geojson', size=1265, modificationTime=1739372469000),\n FileInfo(path='dbfs:/FileStore/tables/weekly_avg_PRECTOT.csv/', name='weekly_avg_PRECTOT.csv/', size=0, modificationTime=0),\n FileInfo(path='dbfs:/FileStore/tables/weekly_avg_PRECTOT.parquet/', name='weekly_avg_PRECTOT.parquet/', size=0, modificationTime=0)]"
     ]
    }
   ],
   "source": [
    "dbutils.fs.ls(\"/FileStore/tables/\")"
   ]
  },
  {
   "cell_type": "code",
   "execution_count": 0,
   "metadata": {
    "application/vnd.databricks.v1+cell": {
     "cellMetadata": {
      "byteLimit": 2048000,
      "rowLimit": 10000
     },
     "inputWidgets": {},
     "nuid": "2e2680b7-a962-44e3-a38b-ccf0916ac13c",
     "showTitle": false,
     "tableResultSettingsMap": {},
     "title": ""
    }
   },
   "outputs": [],
   "source": [
    "from pyspark.sql.functions import col, sum, avg, weekofyear\n",
    "from pyspark.sql.functions import to_date\n",
    "from pyspark.sql.window import Window\n",
    "from pyspark.sql import functions as F\n",
    "from pyspark.sql.functions import lpad\n",
    "from pyspark.sql.functions import round\n",
    "from pyspark.sql.functions import col, year, month, weekofyear, when"
   ]
  },
  {
   "cell_type": "markdown",
   "metadata": {
    "application/vnd.databricks.v1+cell": {
     "cellMetadata": {},
     "inputWidgets": {},
     "nuid": "c3fbab01-5cdb-4705-87d0-dd68181c5106",
     "showTitle": false,
     "tableResultSettingsMap": {},
     "title": ""
    }
   },
   "source": [
    "Celem opracowania jest analiza szeregow czasowych z wykorzystaniem Spark. Analiza obejmuje:\n",
    "- "
   ]
  },
  {
   "cell_type": "markdown",
   "metadata": {
    "application/vnd.databricks.v1+cell": {
     "cellMetadata": {},
     "inputWidgets": {},
     "nuid": "486ae0c5-49bd-4b4f-918b-7954b154fe78",
     "showTitle": false,
     "tableResultSettingsMap": {},
     "title": ""
    }
   },
   "source": [
    "\n",
    "- Calculation of weekly, monthly, seasonal and annual average PRECTOT, PS, TS using the groupBy function.\n",
    "- Calculating weekly average for PRCTOT, PS, TS using the Window function.\n",
    "- Calculation of weekly, monthly, seasonal standard deviation for PRECTOT, TS, PS and finding 3 states with the greatest and least variability.\n",
    "- Calculation of how many days there were without precipitation for each fips in a given year.\n",
    "- Calculation of how many consecutive days without precipitation there were in each fips in each year.\n",
    "- Moving average analysis for county 4027 which had the longest break in precipitation of 92 days.\n",
    "- County 48245 in Texas has the largest weekly standard deviation of PRECTOT precipitation. Calculating how precipitation has varied from day to day in this county.\n",
    "- Calculate the total precipitation (PRECTOT) for each season in a given year and determine how total precipitation varied throughout the year depending on the season.\n",
    "- Calculate the average precipitation (PRECTOT) for each season in a given year and determine how average precipitation varied between seasons.\n",
    "- Identification of days with precipitation anomalies where precipitation anomalies occur, in which precipitation is greater than 3 standard deviations above the mean\n",
    "- Detection of sudden temperature jumps (TS). Calculation of the temperature change (TS) from the previous day.\n",
    "- Removing NAN\n",
    "- Counting how many score occurrences there are in each class\n",
    "- Counting in which state class 4 and 5 appears most often\n",
    "- DataFrame weather and soil connection based on column 'fips' and 'date'"
   ]
  },
  {
   "cell_type": "markdown",
   "metadata": {
    "application/vnd.databricks.v1+cell": {
     "cellMetadata": {},
     "inputWidgets": {},
     "nuid": "4f66d17a-d774-4736-b303-85c8f7307cb8",
     "showTitle": false,
     "tableResultSettingsMap": {},
     "title": ""
    }
   },
   "source": [
    "Time series contain daily weather data and drought class for every county in the US for 2017 and 2018"
   ]
  },
  {
   "cell_type": "code",
   "execution_count": 0,
   "metadata": {
    "application/vnd.databricks.v1+cell": {
     "cellMetadata": {
      "byteLimit": 2048000,
      "rowLimit": 10000
     },
     "inputWidgets": {},
     "nuid": "68875d53-ee8b-4559-b44a-8dc1287dd045",
     "showTitle": false,
     "tableResultSettingsMap": {},
     "title": ""
    }
   },
   "outputs": [],
   "source": [
    "weather = spark.read.csv(\"dbfs:/FileStore/tables/validation_timeseries__1_.csv\", header=True, inferSchema=True)"
   ]
  },
  {
   "cell_type": "code",
   "execution_count": 0,
   "metadata": {
    "application/vnd.databricks.v1+cell": {
     "cellMetadata": {
      "byteLimit": 2048000,
      "rowLimit": 10000
     },
     "inputWidgets": {},
     "nuid": "63ab6616-4a8b-4323-af91-e5c75d8e2d22",
     "showTitle": false,
     "tableResultSettingsMap": {},
     "title": ""
    }
   },
   "outputs": [],
   "source": [
    "soil = spark.read.csv(\"dbfs:/FileStore/tables/soil_data.csv\", header=True, inferSchema=True)"
   ]
  },
  {
   "cell_type": "code",
   "execution_count": 0,
   "metadata": {
    "application/vnd.databricks.v1+cell": {
     "cellMetadata": {
      "byteLimit": 2048000,
      "rowLimit": 10000
     },
     "inputWidgets": {},
     "nuid": "da65cd2b-b262-4581-b394-5ca2245699df",
     "showTitle": false,
     "tableResultSettingsMap": {},
     "title": ""
    }
   },
   "outputs": [
    {
     "output_type": "stream",
     "name": "stdout",
     "output_type": "stream",
     "text": [
      "root\n |-- fips: integer (nullable = true)\n |-- date: date (nullable = true)\n |-- PRECTOT: double (nullable = true)\n |-- PS: double (nullable = true)\n |-- QV2M: double (nullable = true)\n |-- T2M: double (nullable = true)\n |-- T2MDEW: double (nullable = true)\n |-- T2MWET: double (nullable = true)\n |-- T2M_MAX: double (nullable = true)\n |-- T2M_MIN: double (nullable = true)\n |-- T2M_RANGE: double (nullable = true)\n |-- TS: double (nullable = true)\n |-- WS10M: double (nullable = true)\n |-- WS10M_MAX: double (nullable = true)\n |-- WS10M_MIN: double (nullable = true)\n |-- WS10M_RANGE: double (nullable = true)\n |-- WS50M: double (nullable = true)\n |-- WS50M_MAX: double (nullable = true)\n |-- WS50M_MIN: double (nullable = true)\n |-- WS50M_RANGE: double (nullable = true)\n |-- score: double (nullable = true)\n\n"
     ]
    }
   ],
   "source": [
    "weather.printSchema()"
   ]
  },
  {
   "cell_type": "code",
   "execution_count": 0,
   "metadata": {
    "application/vnd.databricks.v1+cell": {
     "cellMetadata": {
      "byteLimit": 2048000,
      "rowLimit": 10000
     },
     "inputWidgets": {},
     "nuid": "b07bcc25-9f97-4955-8946-b4e134df6c79",
     "showTitle": false,
     "tableResultSettingsMap": {},
     "title": ""
    }
   },
   "outputs": [
    {
     "output_type": "stream",
     "name": "stdout",
     "output_type": "stream",
     "text": [
      "Liczba wierszy: 2268840, Liczba kolumn: 21\n"
     ]
    }
   ],
   "source": [
    "num_rows = weather.count()\n",
    "num_cols = len(weather.columns)\n",
    "print(f\"Liczba wierszy: {num_rows}, Liczba kolumn: {num_cols}\")"
   ]
  },
  {
   "cell_type": "code",
   "execution_count": 0,
   "metadata": {
    "application/vnd.databricks.v1+cell": {
     "cellMetadata": {},
     "inputWidgets": {},
     "nuid": "1bfa34f1-4d9e-41d4-9bc8-5f2fa45d9e06",
     "showTitle": false,
     "tableResultSettingsMap": {},
     "title": ""
    }
   },
   "outputs": [],
   "source": [
    "Checking Nan"
   ]
  },
  {
   "cell_type": "code",
   "execution_count": 0,
   "metadata": {
    "application/vnd.databricks.v1+cell": {
     "cellMetadata": {
      "byteLimit": 2048000,
      "rowLimit": 10000
     },
     "inputWidgets": {},
     "nuid": "440598a7-e21d-42b0-ae63-596f598d985f",
     "showTitle": false,
     "tableResultSettingsMap": {},
     "title": ""
    }
   },
   "outputs": [
    {
     "output_type": "stream",
     "name": "stdout",
     "output_type": "stream",
     "text": [
      "+----+----+-------+---+----+---+------+------+-------+-------+---------+---+-----+---------+---------+-----------+-----+---------+---------+-----------+-------+\n|fips|date|PRECTOT| PS|QV2M|T2M|T2MDEW|T2MWET|T2M_MAX|T2M_MIN|T2M_RANGE| TS|WS10M|WS10M_MAX|WS10M_MIN|WS10M_RANGE|WS50M|WS50M_MAX|WS50M_MIN|WS50M_RANGE|  score|\n+----+----+-------+---+----+---+------+------+-------+-------+---------+---+-----+---------+---------+-----------+-----+---------+---------+-----------+-------+\n|   0|   0|      0|  0|   0|  0|     0|     0|      0|      0|        0|  0|    0|        0|        0|          0|    0|        0|        0|          0|1945608|\n+----+----+-------+---+----+---+------+------+-------+-------+---------+---+-----+---------+---------+-----------+-----+---------+---------+-----------+-------+\n\n"
     ]
    }
   ],
   "source": [
    "\n",
    "nan_counts = weather.select([sum(col(c).isNull().cast(\"int\")).alias(c) for c in weather.columns])\n",
    "\n",
    "\n",
    "nan_counts.show()"
   ]
  },
  {
   "cell_type": "markdown",
   "metadata": {
    "application/vnd.databricks.v1+cell": {
     "cellMetadata": {},
     "inputWidgets": {},
     "nuid": "2d618d10-6fb3-4dd7-af05-df5da4b20008",
     "showTitle": false,
     "tableResultSettingsMap": {},
     "title": ""
    }
   },
   "source": [
    "Removing columns that are not subject to analysis."
   ]
  },
  {
   "cell_type": "code",
   "execution_count": 0,
   "metadata": {
    "application/vnd.databricks.v1+cell": {
     "cellMetadata": {
      "byteLimit": 2048000,
      "rowLimit": 10000
     },
     "inputWidgets": {},
     "nuid": "62179a7a-96f3-4a13-aa0c-743999de39e6",
     "showTitle": false,
     "tableResultSettingsMap": {},
     "title": ""
    }
   },
   "outputs": [
    {
     "output_type": "stream",
     "name": "stdout",
     "output_type": "stream",
     "text": [
      "['fips', 'date', 'PRECTOT', 'PS', 'QV2M', 'T2M', 'T2MDEW', 'T2MWET', 'T2M_MAX', 'T2M_MIN', 'T2M_RANGE', 'TS', 'WS10M', 'WS10M_MAX', 'WS10M_MIN', 'WS10M_RANGE', 'WS50M', 'WS50M_MAX', 'WS50M_MIN', 'WS50M_RANGE', 'score']\n"
     ]
    }
   ],
   "source": [
    "column_names = weather.columns\n",
    "\n",
    "\n",
    "print(column_names)"
   ]
  },
  {
   "cell_type": "code",
   "execution_count": 0,
   "metadata": {
    "application/vnd.databricks.v1+cell": {
     "cellMetadata": {
      "byteLimit": 2048000,
      "rowLimit": 10000
     },
     "inputWidgets": {},
     "nuid": "c8501d5c-f0de-4b13-a3bf-599369d37ef8",
     "showTitle": false,
     "tableResultSettingsMap": {},
     "title": ""
    }
   },
   "outputs": [
    {
     "output_type": "stream",
     "name": "stdout",
     "output_type": "stream",
     "text": [
      "['fips', 'lat', 'lon', 'elevation', 'slope1', 'slope2', 'slope3', 'slope4', 'slope5', 'slope6', 'slope7', 'slope8', 'aspectN', 'aspectE', 'aspectS', 'aspectW', 'aspectUnknown', 'WAT_LAND', 'NVG_LAND', 'URB_LAND', 'GRS_LAND', 'FOR_LAND', 'CULTRF_LAND', 'CULTIR_LAND', 'CULT_LAND', 'SQ1', 'SQ2', 'SQ3', 'SQ4', 'SQ5', 'SQ6', 'SQ7']\n"
     ]
    }
   ],
   "source": [
    "column_names = soil.columns\n",
    "\n",
    "\n",
    "print(column_names)"
   ]
  },
  {
   "cell_type": "code",
   "execution_count": 0,
   "metadata": {
    "application/vnd.databricks.v1+cell": {
     "cellMetadata": {
      "byteLimit": 2048000,
      "rowLimit": 10000
     },
     "inputWidgets": {},
     "nuid": "b9421b20-12d6-4e82-a7d0-efeb4e8a6a3d",
     "showTitle": false,
     "tableResultSettingsMap": {},
     "title": ""
    }
   },
   "outputs": [],
   "source": [
    "del_col_weather = ['QV2M', 'T2M', 'T2MDEW', 'T2MWET', 'T2M_MAX', 'T2M_MIN', 'T2M_RANGE', 'WS10M', 'WS10M_MAX', 'WS10M_MIN', 'WS10M_RANGE', 'WS50M', 'WS50M_MAX', 'WS50M_MIN', 'WS50M_RANGE']"
   ]
  },
  {
   "cell_type": "code",
   "execution_count": 0,
   "metadata": {
    "application/vnd.databricks.v1+cell": {
     "cellMetadata": {
      "byteLimit": 2048000,
      "rowLimit": 10000
     },
     "inputWidgets": {},
     "nuid": "ac3eff29-f841-45f8-8be1-2ede0fd34cb0",
     "showTitle": false,
     "tableResultSettingsMap": {},
     "title": ""
    }
   },
   "outputs": [],
   "source": [
    "del_col_soil = [ 'elevation', 'slope1', 'slope2', 'slope3', 'slope4', 'slope5', 'slope6', 'slope7', 'slope8', 'aspectN', 'aspectE', 'aspectS', 'aspectW', 'aspectUnknown', 'SQ1', 'SQ2', 'SQ3', 'SQ4', 'SQ5', 'SQ6', 'SQ7']"
   ]
  },
  {
   "cell_type": "code",
   "execution_count": 0,
   "metadata": {
    "application/vnd.databricks.v1+cell": {
     "cellMetadata": {
      "byteLimit": 2048000,
      "rowLimit": 10000
     },
     "inputWidgets": {},
     "nuid": "2196c0e6-f59e-47b4-954a-64af3959a505",
     "showTitle": false,
     "tableResultSettingsMap": {},
     "title": ""
    }
   },
   "outputs": [
    {
     "output_type": "stream",
     "name": "stdout",
     "output_type": "stream",
     "text": [
      "+----+----------+-------+------+-----+-----+\n|fips|      date|PRECTOT|    PS|   TS|score|\n+----+----------+-------+------+-----+-----+\n|1001|2017-01-01|   32.5|100.02|14.63| null|\n|1001|2017-01-02|  63.52|100.04|17.85| null|\n|1001|2017-01-03|  18.82| 99.69|14.06|  2.0|\n|1001|2017-01-04|   0.01|100.02| 8.08| null|\n|1001|2017-01-05|   0.01| 99.89| 5.85| null|\n|1001|2017-01-06|  19.85|100.34| 0.42| null|\n|1001|2017-01-07|   0.06|101.59|-7.05| null|\n|1001|2017-01-08|    0.0|102.36|-8.36| null|\n|1001|2017-01-09|    0.0|101.98|-3.05| null|\n|1001|2017-01-10|   0.02|101.13| 5.81|  2.0|\n|1001|2017-01-11|   0.33|100.81|14.21| null|\n|1001|2017-01-12|   0.09|101.03|15.54| null|\n|1001|2017-01-13|    0.0| 101.5| 15.8| null|\n|1001|2017-01-14|    0.0|101.42|14.44| null|\n|1001|2017-01-15|    0.0|100.95|14.23| null|\n|1001|2017-01-16|    0.0|100.73|15.71| null|\n|1001|2017-01-17|   0.14| 100.6| 17.1|  2.0|\n|1001|2017-01-18|   0.28|100.49|17.18| null|\n|1001|2017-01-19|  27.01| 99.81|17.43| null|\n|1001|2017-01-20|   6.78| 99.47|18.03| null|\n+----+----------+-------+------+-----+-----+\nonly showing top 20 rows\n\n"
     ]
    }
   ],
   "source": [
    "\n",
    "weather = weather.drop(*del_col_weather)\n",
    "\n",
    "\n",
    "weather.show()"
   ]
  },
  {
   "cell_type": "code",
   "execution_count": 0,
   "metadata": {
    "application/vnd.databricks.v1+cell": {
     "cellMetadata": {
      "byteLimit": 2048000,
      "rowLimit": 10000
     },
     "inputWidgets": {},
     "nuid": "d24189ef-4199-4aba-b405-b9637445e3be",
     "showTitle": false,
     "tableResultSettingsMap": {},
     "title": ""
    }
   },
   "outputs": [
    {
     "output_type": "stream",
     "name": "stdout",
     "output_type": "stream",
     "text": [
      "+----+---------+----------+-----------------+----------------+-----------------+-----------------+----------------+-----------------+-------------------+-------------------+\n|fips|      lat|       lon|         WAT_LAND|        NVG_LAND|         URB_LAND|         GRS_LAND|        FOR_LAND|      CULTRF_LAND|        CULTIR_LAND|          CULT_LAND|\n+----+---------+----------+-----------------+----------------+-----------------+-----------------+----------------+-----------------+-------------------+-------------------+\n|1001|32.536382| -86.64449|0.997399985790253|27.9404983520508| 0.28889998793602| 2.75027370452881|10.7147026062012| 56.2934112548828|   1.01481103897095|   57.3082237243652|\n|1005| 31.87067|-85.405456|              0.0|             0.0|0.414599984884262| 2.22560167312622|22.9528388977051| 72.5788040161133|   1.82815897464752|   74.4069595336914|\n|1003|30.659218|-87.746067|              0.0|             0.0| 3.50099992752075|  4.9724555015564|28.6859912872314| 59.8436393737793|   2.99691390991211|   62.8405532836914|\n|1007|33.015893|-87.127148|              0.0|             0.0|0.228299990296364| 8.67466449737549|89.1721115112305| 1.91659343242645|0.00833049882203341|   1.92492389678955|\n|1009|33.977448|-86.567246|              0.0|             0.0| 1.00370001792908| 8.60685634613037|88.4700469970703| 1.89190936088562| 0.0274876691401005|   1.91939699649811|\n|1011|32.101759|-85.717261|              0.0|             0.0|0.345800012350082|  8.8375825881958|90.1595230102539|0.610365331172943|  0.046729288995266|  0.657094597816467|\n|1013|31.751667|-86.681969|              0.0|             0.0| 0.33610001206398| 8.23111152648926|85.9736938476563| 5.37155103683472|  0.087543860077858|    5.4590950012207|\n|1015|33.771706|-85.822513|              0.0|             0.0| 5.38899993896484| 7.89746856689453|45.2597885131836| 40.9145393371582|  0.539203584194183|    41.453742980957|\n|1017|32.917943|-85.391812|              0.0|             0.0|0.347699999809265| 8.83713912963867|90.1598129272461|0.619837284088135| 0.0355105698108673|   0.65534782409668|\n|1019|34.069515|-85.654242|              0.0|             0.0| 11.3207006454468| 13.7449541091919|24.0797576904297| 50.0900039672852|  0.764582991600037|   50.8545875549316|\n|1021| 32.85406|-86.726628|              0.0|             0.0|  0.7742999792099| 8.26869010925293|71.5093536376953| 19.1446628570557|  0.302993297576904|   19.4476566314697|\n|1023|31.991008|-88.248887|              0.0|             0.0| 0.57779997587204| 8.38449192047119|87.2026290893555| 3.83150362968445|0.00357582210563123|   3.83507943153381|\n|1025|31.685521|-87.818624|              0.0|             0.0| 0.70855313539505| 8.89110946655273|90.3910903930664|              0.0|0.00924679823219776|0.00924679823219776|\n|1027|33.267809|-85.862051|              0.0|             0.0|0.668400883674622|   8.893141746521|90.4117584228516|              0.0| 0.0266991294920444| 0.0266991294920444|\n|1029|33.671981|-85.516109|              0.0|             0.0|0.762709498405457| 8.88690376281738|90.3483963012695|              0.0| 0.0019905399531126| 0.0019905399531126|\n|1031|31.402183|-85.989201|              0.0|34.6521987915039| 1.05799996852875|0.352749317884445|4.62424659729004|  57.320198059082|   1.99260699748993|   59.3128051757813|\n|1033|34.703112|-87.801457|              0.0|             0.0| 14.5107002258301| 7.57010412216187|77.2831268310547|0.628645360469818|0.00742325792089105|  0.636068642139435|\n|1035|31.428293|-86.992029|              0.0|             0.0|0.350099980831146| 8.44569969177246|86.9672622680664| 4.02497720718384|  0.211960807442665|   4.23693799972534|\n|1037|32.931445|-86.243482|              0.0|             0.0|0.245178788900375| 8.93251991271973|90.8120803833008|              0.0|  0.010221210308373|  0.010221210308373|\n|1039|31.243987|-86.448721|              0.0|             0.0|0.368694692850113| 8.90974998474121|90.5806503295898|              0.0|  0.140905305743217|  0.140905305743217|\n+----+---------+----------+-----------------+----------------+-----------------+-----------------+----------------+-----------------+-------------------+-------------------+\nonly showing top 20 rows\n\n"
     ]
    }
   ],
   "source": [
    "\n",
    "soil = soil.drop(*del_col_soil)\n",
    "\n",
    "soil.show()"
   ]
  },
  {
   "cell_type": "code",
   "execution_count": 0,
   "metadata": {
    "application/vnd.databricks.v1+cell": {
     "cellMetadata": {
      "byteLimit": 2048000,
      "rowLimit": 10000
     },
     "inputWidgets": {},
     "nuid": "62004576-3e88-4300-9458-23f8ba3cf5df",
     "showTitle": false,
     "tableResultSettingsMap": {},
     "title": ""
    }
   },
   "outputs": [],
   "source": [
    "columns_to_round = ['NVG_LAND', 'URB_LAND', 'GRS_LAND', 'FOR_LAND', 'CULTRF_LAND', 'CULTIR_LAND', 'CULT_LAND']"
   ]
  },
  {
   "cell_type": "code",
   "execution_count": 0,
   "metadata": {
    "application/vnd.databricks.v1+cell": {
     "cellMetadata": {
      "byteLimit": 2048000,
      "rowLimit": 10000
     },
     "inputWidgets": {},
     "nuid": "2d23326d-31a9-432b-9f2d-197f690be8ef",
     "showTitle": false,
     "tableResultSettingsMap": {},
     "title": ""
    }
   },
   "outputs": [
    {
     "output_type": "stream",
     "name": "stdout",
     "output_type": "stream",
     "text": [
      "+----+---------+----------+-----------------+--------+--------+--------+--------+-----------+-----------+---------+\n|fips|      lat|       lon|         WAT_LAND|NVG_LAND|URB_LAND|GRS_LAND|FOR_LAND|CULTRF_LAND|CULTIR_LAND|CULT_LAND|\n+----+---------+----------+-----------------+--------+--------+--------+--------+-----------+-----------+---------+\n|1001|32.536382| -86.64449|0.997399985790253|    27.9|     0.3|     2.8|    10.7|       56.3|        1.0|     57.3|\n|1005| 31.87067|-85.405456|              0.0|     0.0|     0.4|     2.2|    23.0|       72.6|        1.8|     74.4|\n|1003|30.659218|-87.746067|              0.0|     0.0|     3.5|     5.0|    28.7|       59.8|        3.0|     62.8|\n|1007|33.015893|-87.127148|              0.0|     0.0|     0.2|     8.7|    89.2|        1.9|        0.0|      1.9|\n|1009|33.977448|-86.567246|              0.0|     0.0|     1.0|     8.6|    88.5|        1.9|        0.0|      1.9|\n|1011|32.101759|-85.717261|              0.0|     0.0|     0.3|     8.8|    90.2|        0.6|        0.0|      0.7|\n|1013|31.751667|-86.681969|              0.0|     0.0|     0.3|     8.2|    86.0|        5.4|        0.1|      5.5|\n|1015|33.771706|-85.822513|              0.0|     0.0|     5.4|     7.9|    45.3|       40.9|        0.5|     41.5|\n|1017|32.917943|-85.391812|              0.0|     0.0|     0.3|     8.8|    90.2|        0.6|        0.0|      0.7|\n|1019|34.069515|-85.654242|              0.0|     0.0|    11.3|    13.7|    24.1|       50.1|        0.8|     50.9|\n|1021| 32.85406|-86.726628|              0.0|     0.0|     0.8|     8.3|    71.5|       19.1|        0.3|     19.4|\n|1023|31.991008|-88.248887|              0.0|     0.0|     0.6|     8.4|    87.2|        3.8|        0.0|      3.8|\n|1025|31.685521|-87.818624|              0.0|     0.0|     0.7|     8.9|    90.4|        0.0|        0.0|      0.0|\n|1027|33.267809|-85.862051|              0.0|     0.0|     0.7|     8.9|    90.4|        0.0|        0.0|      0.0|\n|1029|33.671981|-85.516109|              0.0|     0.0|     0.8|     8.9|    90.3|        0.0|        0.0|      0.0|\n|1031|31.402183|-85.989201|              0.0|    34.7|     1.1|     0.4|     4.6|       57.3|        2.0|     59.3|\n|1033|34.703112|-87.801457|              0.0|     0.0|    14.5|     7.6|    77.3|        0.6|        0.0|      0.6|\n|1035|31.428293|-86.992029|              0.0|     0.0|     0.4|     8.4|    87.0|        4.0|        0.2|      4.2|\n|1037|32.931445|-86.243482|              0.0|     0.0|     0.2|     8.9|    90.8|        0.0|        0.0|      0.0|\n|1039|31.243987|-86.448721|              0.0|     0.0|     0.4|     8.9|    90.6|        0.0|        0.1|      0.1|\n+----+---------+----------+-----------------+--------+--------+--------+--------+-----------+-----------+---------+\nonly showing top 20 rows\n\n"
     ]
    }
   ],
   "source": [
    "\n",
    "for col in columns_to_round:\n",
    "    soil = soil.withColumn(col, round(soil[col], 1))\n",
    "\n",
    "\n",
    "soil.show()"
   ]
  },
  {
   "cell_type": "markdown",
   "metadata": {
    "application/vnd.databricks.v1+cell": {
     "cellMetadata": {},
     "inputWidgets": {},
     "nuid": "4d355198-61e4-4caa-8184-9b5a232a46bd",
     "showTitle": false,
     "tableResultSettingsMap": {},
     "title": ""
    }
   },
   "source": [
    "Change the date format and specify seasons."
   ]
  },
  {
   "cell_type": "code",
   "execution_count": 0,
   "metadata": {
    "application/vnd.databricks.v1+cell": {
     "cellMetadata": {
      "byteLimit": 2048000,
      "rowLimit": 10000
     },
     "inputWidgets": {},
     "nuid": "4e7a6615-6d84-4b5e-8af1-b0b7bc0fcde6",
     "showTitle": false,
     "tableResultSettingsMap": {},
     "title": ""
    }
   },
   "outputs": [
    {
     "output_type": "stream",
     "name": "stdout",
     "output_type": "stream",
     "text": [
      "+----+----------+-------+------+-----+-----+----+-----+----+------+\n|fips|      date|PRECTOT|    PS|   TS|score|year|month|week|season|\n+----+----------+-------+------+-----+-----+----+-----+----+------+\n|1001|2017-01-01|   32.5|100.02|14.63| null|2017|    1|  52|Winter|\n|1001|2017-01-02|  63.52|100.04|17.85| null|2017|    1|   1|Winter|\n|1001|2017-01-03|  18.82| 99.69|14.06|  2.0|2017|    1|   1|Winter|\n|1001|2017-01-04|   0.01|100.02| 8.08| null|2017|    1|   1|Winter|\n|1001|2017-01-05|   0.01| 99.89| 5.85| null|2017|    1|   1|Winter|\n|1001|2017-01-06|  19.85|100.34| 0.42| null|2017|    1|   1|Winter|\n|1001|2017-01-07|   0.06|101.59|-7.05| null|2017|    1|   1|Winter|\n|1001|2017-01-08|    0.0|102.36|-8.36| null|2017|    1|   1|Winter|\n|1001|2017-01-09|    0.0|101.98|-3.05| null|2017|    1|   2|Winter|\n|1001|2017-01-10|   0.02|101.13| 5.81|  2.0|2017|    1|   2|Winter|\n|1001|2017-01-11|   0.33|100.81|14.21| null|2017|    1|   2|Winter|\n|1001|2017-01-12|   0.09|101.03|15.54| null|2017|    1|   2|Winter|\n|1001|2017-01-13|    0.0| 101.5| 15.8| null|2017|    1|   2|Winter|\n|1001|2017-01-14|    0.0|101.42|14.44| null|2017|    1|   2|Winter|\n|1001|2017-01-15|    0.0|100.95|14.23| null|2017|    1|   2|Winter|\n|1001|2017-01-16|    0.0|100.73|15.71| null|2017|    1|   3|Winter|\n|1001|2017-01-17|   0.14| 100.6| 17.1|  2.0|2017|    1|   3|Winter|\n|1001|2017-01-18|   0.28|100.49|17.18| null|2017|    1|   3|Winter|\n|1001|2017-01-19|  27.01| 99.81|17.43| null|2017|    1|   3|Winter|\n|1001|2017-01-20|   6.78| 99.47|18.03| null|2017|    1|   3|Winter|\n+----+----------+-------+------+-----+-----+----+-----+----+------+\nonly showing top 20 rows\n\n"
     ]
    }
   ],
   "source": [
    "weather = weather.withColumn(\"year\", year(col(\"date\"))) \\\n",
    "                 .withColumn(\"month\", month(col(\"date\"))) \\\n",
    "                 .withColumn(\"week\", weekofyear(col(\"date\"))) \\\n",
    "                 .withColumn(\"season\",\n",
    "                             when(col(\"month\").isin([12, 1, 2]), \"Winter\")\n",
    "                             .when(col(\"month\").isin([3, 4, 5]), \"Spring\")\n",
    "                             .when(col(\"month\").isin([6, 7, 8]), \"Summer\")\n",
    "                             .otherwise(\"Fall\"))\n",
    "\n",
    "weather.show()"
   ]
  },
  {
   "cell_type": "markdown",
   "metadata": {
    "application/vnd.databricks.v1+cell": {
     "cellMetadata": {},
     "inputWidgets": {},
     "nuid": "98e391d1-6803-4c05-b559-49b2946f0281",
     "showTitle": false,
     "tableResultSettingsMap": {},
     "title": ""
    }
   },
   "source": [
    "Added information about states."
   ]
  },
  {
   "cell_type": "code",
   "execution_count": 0,
   "metadata": {
    "application/vnd.databricks.v1+cell": {
     "cellMetadata": {
      "byteLimit": 2048000,
      "rowLimit": 10000
     },
     "inputWidgets": {},
     "nuid": "28fc6939-373e-40be-a822-35a1d45c92f0",
     "showTitle": false,
     "tableResultSettingsMap": {},
     "title": ""
    }
   },
   "outputs": [],
   "source": [
    "\n",
    "weather = weather.withColumn(\n",
    "    \"fips_padded\", \n",
    "    F.lpad(F.col(\"fips\").cast(\"string\"), 5, \"0\")  \n",
    ")\n",
    "\n",
    "\n",
    "weather = weather.withColumn(\n",
    "    \"state_code\", \n",
    "    F.col(\"fips_padded\").substr(1, 2)  \n",
    ")"
   ]
  },
  {
   "cell_type": "code",
   "execution_count": 0,
   "metadata": {
    "application/vnd.databricks.v1+cell": {
     "cellMetadata": {
      "byteLimit": 2048000,
      "rowLimit": 10000
     },
     "inputWidgets": {},
     "nuid": "e01ec719-2b92-42d2-8c56-99dd010b69c4",
     "showTitle": false,
     "tableResultSettingsMap": {},
     "title": ""
    }
   },
   "outputs": [
    {
     "output_type": "stream",
     "name": "stdout",
     "output_type": "stream",
     "text": [
      "+----+----------+-------+------+-----+-----+----+-----+----+------+-----------+----------+\n|fips|      date|PRECTOT|    PS|   TS|score|year|month|week|season|fips_padded|state_code|\n+----+----------+-------+------+-----+-----+----+-----+----+------+-----------+----------+\n|1001|2017-01-01|   32.5|100.02|14.63| null|2017|    1|  52|Winter|      01001|        01|\n|1001|2017-01-02|  63.52|100.04|17.85| null|2017|    1|   1|Winter|      01001|        01|\n|1001|2017-01-03|  18.82| 99.69|14.06|  2.0|2017|    1|   1|Winter|      01001|        01|\n+----+----------+-------+------+-----+-----+----+-----+----+------+-----------+----------+\nonly showing top 3 rows\n\n"
     ]
    }
   ],
   "source": [
    "weather.show(3)"
   ]
  },
  {
   "cell_type": "code",
   "execution_count": 0,
   "metadata": {
    "application/vnd.databricks.v1+cell": {
     "cellMetadata": {
      "byteLimit": 2048000,
      "rowLimit": 10000
     },
     "inputWidgets": {},
     "nuid": "d41286c3-1c4d-4905-b546-4b5df84e78f4",
     "showTitle": false,
     "tableResultSettingsMap": {},
     "title": ""
    }
   },
   "outputs": [],
   "source": [
    "\n",
    "state_column = F.when(F.col(\"state_code\") == \"01\", \"Alabama\") \\\n",
    "    .when(F.col(\"state_code\") == \"02\", \"Alaska\") \\\n",
    "    .when(F.col(\"state_code\") == \"04\", \"Arizona\") \\\n",
    "    .when(F.col(\"state_code\") == \"05\", \"Arkansas\") \\\n",
    "    .when(F.col(\"state_code\") == \"06\", \"Kalifornia\") \\\n",
    "    .when(F.col(\"state_code\") == \"08\", \"Kolorado\") \\\n",
    "    .when(F.col(\"state_code\") == \"09\", \"Connecticut\") \\\n",
    "    .when(F.col(\"state_code\") == \"10\", \"Delaware\") \\\n",
    "    .when(F.col(\"state_code\") == \"11\", \"Dystrykt Kolumbii\") \\\n",
    "    .when(F.col(\"state_code\") == \"12\", \"Floryda\") \\\n",
    "    .when(F.col(\"state_code\") == \"13\", \"Georgia\") \\\n",
    "    .when(F.col(\"state_code\") == \"15\", \"Hawaje\") \\\n",
    "    .when(F.col(\"state_code\") == \"16\", \"Idaho\") \\\n",
    "    .when(F.col(\"state_code\") == \"17\", \"Illinois\") \\\n",
    "    .when(F.col(\"state_code\") == \"18\", \"Indiana\") \\\n",
    "    .when(F.col(\"state_code\") == \"19\", \"Iowa\") \\\n",
    "    .when(F.col(\"state_code\") == \"20\", \"Kansas\") \\\n",
    "    .when(F.col(\"state_code\") == \"21\", \"Kentucky\") \\\n",
    "    .when(F.col(\"state_code\") == \"22\", \"Luizjana\") \\\n",
    "    .when(F.col(\"state_code\") == \"23\", \"Maine\") \\\n",
    "    .when(F.col(\"state_code\") == \"24\", \"Maryland\") \\\n",
    "    .when(F.col(\"state_code\") == \"25\", \"Massachusetts\") \\\n",
    "    .when(F.col(\"state_code\") == \"26\", \"Michigan\") \\\n",
    "    .when(F.col(\"state_code\") == \"27\", \"Minnesota\") \\\n",
    "    .when(F.col(\"state_code\") == \"28\", \"Mississippi\") \\\n",
    "    .when(F.col(\"state_code\") == \"29\", \"Missouri\") \\\n",
    "    .when(F.col(\"state_code\") == \"30\", \"Montana\") \\\n",
    "    .when(F.col(\"state_code\") == \"31\", \"Nebraska\") \\\n",
    "    .when(F.col(\"state_code\") == \"32\", \"Nevada\") \\\n",
    "    .when(F.col(\"state_code\") == \"33\", \"New Hampshire\") \\\n",
    "    .when(F.col(\"state_code\") == \"34\", \"New Jersey\") \\\n",
    "    .when(F.col(\"state_code\") == \"35\", \"Nowy Meksyk\") \\\n",
    "    .when(F.col(\"state_code\") == \"36\", \"Nowy Jork\") \\\n",
    "    .when(F.col(\"state_code\") == \"37\", \"Karolina Północna\") \\\n",
    "    .when(F.col(\"state_code\") == \"38\", \"Dakota Północna\") \\\n",
    "    .when(F.col(\"state_code\") == \"39\", \"Ohio\") \\\n",
    "    .when(F.col(\"state_code\") == \"40\", \"Oklahoma\") \\\n",
    "    .when(F.col(\"state_code\") == \"41\", \"Oregon\") \\\n",
    "    .when(F.col(\"state_code\") == \"42\", \"Pensylwania\") \\\n",
    "    .when(F.col(\"state_code\") == \"44\", \"Rhode Island\") \\\n",
    "    .when(F.col(\"state_code\") == \"45\", \"Karolina Południowa\") \\\n",
    "    .when(F.col(\"state_code\") == \"46\", \"Dakota Południowa\") \\\n",
    "    .when(F.col(\"state_code\") == \"47\", \"Tennessee\") \\\n",
    "    .when(F.col(\"state_code\") == \"48\", \"Teksas\") \\\n",
    "    .when(F.col(\"state_code\") == \"49\", \"Utah\") \\\n",
    "    .when(F.col(\"state_code\") == \"50\", \"Vermont\") \\\n",
    "    .when(F.col(\"state_code\") == \"51\", \"Wirginia\") \\\n",
    "    .when(F.col(\"state_code\") == \"53\", \"Waszyngton\") \\\n",
    "    .when(F.col(\"state_code\") == \"54\", \"Wirginia Zachodnia\") \\\n",
    "    .when(F.col(\"state_code\") == \"55\", \"Wisconsin\") \\\n",
    "    .when(F.col(\"state_code\") == \"56\", \"Wyoming\") \\\n",
    "    .otherwise(F.lit(\"Unknown\"))"
   ]
  },
  {
   "cell_type": "code",
   "execution_count": 0,
   "metadata": {
    "application/vnd.databricks.v1+cell": {
     "cellMetadata": {
      "byteLimit": 2048000,
      "rowLimit": 10000
     },
     "inputWidgets": {},
     "nuid": "a9e363aa-431c-453c-a795-300795a87b5b",
     "showTitle": false,
     "tableResultSettingsMap": {},
     "title": ""
    }
   },
   "outputs": [],
   "source": [
    "\n",
    "weather = weather.withColumn(\"state\", state_column)"
   ]
  },
  {
   "cell_type": "code",
   "execution_count": 0,
   "metadata": {
    "application/vnd.databricks.v1+cell": {
     "cellMetadata": {
      "byteLimit": 2048000,
      "rowLimit": 10000
     },
     "inputWidgets": {},
     "nuid": "d0932391-d8dd-4a27-8907-65f91fe9d8ea",
     "showTitle": false,
     "tableResultSettingsMap": {},
     "title": ""
    }
   },
   "outputs": [
    {
     "output_type": "stream",
     "name": "stdout",
     "output_type": "stream",
     "text": [
      "+----+----------+-------+------+-----+-----+----+-----+----+------+-----------+----------+-------+\n|fips|      date|PRECTOT|    PS|   TS|score|year|month|week|season|fips_padded|state_code|  state|\n+----+----------+-------+------+-----+-----+----+-----+----+------+-----------+----------+-------+\n|1001|2017-01-01|   32.5|100.02|14.63| null|2017|    1|  52|Winter|      01001|        01|Alabama|\n|1001|2017-01-02|  63.52|100.04|17.85| null|2017|    1|   1|Winter|      01001|        01|Alabama|\n|1001|2017-01-03|  18.82| 99.69|14.06|  2.0|2017|    1|   1|Winter|      01001|        01|Alabama|\n+----+----------+-------+------+-----+-----+----+-----+----+------+-----------+----------+-------+\nonly showing top 3 rows\n\n"
     ]
    }
   ],
   "source": [
    "weather.show(3)"
   ]
  },
  {
   "cell_type": "markdown",
   "metadata": {
    "application/vnd.databricks.v1+cell": {
     "cellMetadata": {},
     "inputWidgets": {},
     "nuid": "dc5dd8d0-0a9e-4846-873e-76ff4e2b9fd7",
     "showTitle": false,
     "tableResultSettingsMap": {},
     "title": ""
    }
   },
   "source": [
    "1. Calculation of weekly, monthly, seasonal and annual average PRECTOT, PS, TS using the groupBy function."
   ]
  },
  {
   "cell_type": "code",
   "execution_count": 0,
   "metadata": {
    "application/vnd.databricks.v1+cell": {
     "cellMetadata": {
      "byteLimit": 2048000,
      "rowLimit": 10000
     },
     "inputWidgets": {},
     "nuid": "72b4c348-5404-4d09-b476-93b568b17d0a",
     "showTitle": false,
     "tableResultSettingsMap": {},
     "title": ""
    }
   },
   "outputs": [],
   "source": [
    "weather = weather.withColumn(\"state_code\", F.substring(F.col(\"fips_padded\"), 1, 2))"
   ]
  },
  {
   "cell_type": "code",
   "execution_count": 0,
   "metadata": {
    "application/vnd.databricks.v1+cell": {
     "cellMetadata": {
      "byteLimit": 2048000,
      "rowLimit": 10000
     },
     "inputWidgets": {},
     "nuid": "2304c3cb-ed87-4947-ac85-4484234ccfeb",
     "showTitle": false,
     "tableResultSettingsMap": {},
     "title": ""
    }
   },
   "outputs": [
    {
     "output_type": "stream",
     "name": "stdout",
     "output_type": "stream",
     "text": [
      "+----+-------+----+----+------------------+------------------+------------------+\n|fips|  state|year|week|weekly_avg_PRECTOT|     weekly_avg_PS|     weekly_avg_TS|\n+----+-------+----+----+------------------+------------------+------------------+\n|1001|Alabama|2017|  16|1.8314285714285714|100.17714285714284| 20.62285714285714|\n|1001|Alabama|2017|  27|2.2385714285714284|100.27000000000001|26.815714285714286|\n|1005|Alabama|2018|  14|1.2542857142857142|100.21142857142857|15.875714285714286|\n+----+-------+----+----+------------------+------------------+------------------+\nonly showing top 3 rows\n\n"
     ]
    }
   ],
   "source": [
    "\n",
    "df_weekly_avg = weather.groupBy(\"fips\", \"state\", \"year\", \"week\") \\\n",
    "    .agg(F.avg(\"PRECTOT\").alias(\"weekly_avg_PRECTOT\"),\n",
    "         F.avg(\"PS\").alias(\"weekly_avg_PS\"),\n",
    "         F.avg(\"TS\").alias(\"weekly_avg_TS\"))\n",
    "\n",
    "\n",
    "df_monthly_avg = weather.groupBy(\"fips\", \"year\", \"month\") \\\n",
    "    .agg(F.avg(\"PRECTOT\").alias(\"monthly_avg_PRECTOT\"),\n",
    "         F.avg(\"PS\").alias(\"monthly_avg_PS\"),\n",
    "         F.avg(\"TS\").alias(\"monthly_avg_TS\"))\n",
    "\n",
    "\n",
    "df_seasonal_avg = weather.groupBy(\"fips\", \"year\", \"season\") \\\n",
    "    .agg(F.avg(\"PRECTOT\").alias(\"seasonal_avg_PRECTOT\"),\n",
    "         F.avg(\"PS\").alias(\"seasonal_avg_PS\"),\n",
    "         F.avg(\"TS\").alias(\"seasonal_avg_TS\"))\n",
    "\n",
    "\n",
    "df_annual_avg = weather.groupBy(\"fips\", \"year\") \\\n",
    "    .agg(F.avg(\"PRECTOT\").alias(\"annual_avg_PRECTOT\"),\n",
    "         F.avg(\"PS\").alias(\"annual_avg_PS\"),\n",
    "         F.avg(\"TS\").alias(\"annual_avg_TS\"))\n",
    "\n",
    "\n",
    "df_weekly_avg.show(3)\n",
    "# df_monthly_avg.show()\n",
    "# df_seasonal_avg.show()\n",
    "# df_annual_avg.show()"
   ]
  },
  {
   "cell_type": "code",
   "execution_count": 0,
   "metadata": {
    "application/vnd.databricks.v1+cell": {
     "cellMetadata": {
      "byteLimit": 2048000,
      "rowLimit": 10000
     },
     "inputWidgets": {},
     "nuid": "1c358d03-1da8-4970-a4bf-9ec1ec21f0b6",
     "showTitle": false,
     "tableResultSettingsMap": {},
     "title": ""
    }
   },
   "outputs": [
    {
     "output_type": "stream",
     "name": "stdout",
     "output_type": "stream",
     "text": [
      "+----+-------+----+----+-------------------+------------------+------------------+\n|fips|  state|year|week| weekly_avg_PRECTOT|     weekly_avg_PS|     weekly_avg_TS|\n+----+-------+----+----+-------------------+------------------+------------------+\n|1001|Alabama|2017|   1| 14.610000000000001|100.56142857142858| 4.407142857142858|\n|1001|Alabama|2017|   2|0.06285714285714286|            101.26|10.997142857142858|\n|1001|Alabama|2017|   3| 14.821428571428571| 99.72714285714287| 16.98714285714286|\n+----+-------+----+----+-------------------+------------------+------------------+\nonly showing top 3 rows\n\n"
     ]
    }
   ],
   "source": [
    "df_weekly_avg = df_weekly_avg.orderBy(\"fips\",\"state\", \"year\", \"week\")\n",
    "\n",
    "df_weekly_avg.show(3)"
   ]
  },
  {
   "cell_type": "markdown",
   "metadata": {
    "application/vnd.databricks.v1+cell": {
     "cellMetadata": {},
     "inputWidgets": {},
     "nuid": "a7fd6bd2-b1df-44a9-9529-da93ac5de6dd",
     "showTitle": false,
     "tableResultSettingsMap": {},
     "title": ""
    }
   },
   "source": [
    "2. Calculating weekly average for PRCTOT, PS, TS using the Window function."
   ]
  },
  {
   "cell_type": "code",
   "execution_count": 0,
   "metadata": {
    "application/vnd.databricks.v1+cell": {
     "cellMetadata": {
      "byteLimit": 2048000,
      "rowLimit": 10000
     },
     "inputWidgets": {},
     "nuid": "1633c5f5-ae64-435e-80ab-462ef4b677e3",
     "showTitle": false,
     "tableResultSettingsMap": {},
     "title": ""
    }
   },
   "outputs": [
    {
     "output_type": "stream",
     "name": "stdout",
     "output_type": "stream",
     "text": [
      "+----+----------+-------+----+----+-------------------+------------------+-----------------+\n|fips|      date|  state|year|week| weekly_avg_PRECTOT|     weekly_avg_TS|    weekly_avg_PS|\n+----+----------+-------+----+----+-------------------+------------------+-----------------+\n|1001|2017-01-09|Alabama|2017|   2|0.06285714285714286|10.997142857142858|           101.26|\n|1001|2017-01-10|Alabama|2017|   2|0.06285714285714286|10.997142857142858|           101.26|\n|1001|2017-01-11|Alabama|2017|   2|0.06285714285714286|10.997142857142858|           101.26|\n|1001|2017-01-12|Alabama|2017|   2|0.06285714285714286|10.997142857142858|           101.26|\n|1001|2017-01-13|Alabama|2017|   2|0.06285714285714286|10.997142857142858|           101.26|\n|1001|2017-01-14|Alabama|2017|   2|0.06285714285714286|10.997142857142858|           101.26|\n|1001|2017-01-15|Alabama|2017|   2|0.06285714285714286|10.997142857142858|           101.26|\n|1001|2017-01-16|Alabama|2017|   3| 14.821428571428571| 16.98714285714286|99.72714285714287|\n|1001|2017-01-17|Alabama|2017|   3| 14.821428571428571| 16.98714285714286|99.72714285714287|\n|1001|2017-01-18|Alabama|2017|   3| 14.821428571428571| 16.98714285714286|99.72714285714287|\n+----+----------+-------+----+----+-------------------+------------------+-----------------+\nonly showing top 10 rows\n\n"
     ]
    }
   ],
   "source": [
    "\n",
    "columns_to_avg = [\"PRECTOT\", \"TS\", \"PS\"]\n",
    "\n",
    "\n",
    "windowSpec = Window.partitionBy(\"fips\", \"year\", \"week\")\n",
    "\n",
    "df_with_weekly_avg1 = weather\n",
    "for col in columns_to_avg:\n",
    "    avg_col_name = f\"weekly_avg_{col}\"  \n",
    "    df_with_weekly_avg1 = df_with_weekly_avg1.withColumn(\n",
    "        avg_col_name, F.avg(col).over(windowSpec)\n",
    "    )\n",
    "\n",
    "df_with_weekly_avg1.select(\"fips\", \"date\", \"state\",\"year\", \"week\", *[f\"weekly_avg_{col}\" for col in columns_to_avg]).show(10)"
   ]
  },
  {
   "cell_type": "markdown",
   "metadata": {
    "application/vnd.databricks.v1+cell": {
     "cellMetadata": {},
     "inputWidgets": {},
     "nuid": "46fc4300-edae-4300-ab56-4eb0760422e5",
     "showTitle": false,
     "tableResultSettingsMap": {},
     "title": ""
    }
   },
   "source": [
    "3. Calculation of weekly, monthly, seasonal standard deviation for PRECTOT, TS, PS and finding 3 states with the greatest and least variability."
   ]
  },
  {
   "cell_type": "code",
   "execution_count": 0,
   "metadata": {
    "application/vnd.databricks.v1+cell": {
     "cellMetadata": {
      "byteLimit": 2048000,
      "rowLimit": 10000
     },
     "inputWidgets": {},
     "nuid": "7619b717-69aa-43d8-834e-04e3517944ae",
     "showTitle": false,
     "tableResultSettingsMap": {},
     "title": ""
    }
   },
   "outputs": [
    {
     "output_type": "stream",
     "name": "stdout",
     "output_type": "stream",
     "text": [
      "+----+----------+----+------------------+-------------------+-----------------+\n|fips|     state|year|std_annual_PRECTOT|      std_annual_PS|    std_annual_TS|\n+----+----------+----+------------------+-------------------+-----------------+\n|1015|   Alabama|2018| 8.224137113581193|0.49951519021914487|9.208108992748695|\n|1109|   Alabama|2018| 8.184131563522428|0.49910804379392115|8.295879514830379|\n|5025|  Arkansas|2017| 8.101501910812505| 0.5857453337122497| 8.16541626212067|\n|6089|Kalifornia|2017| 9.638705614137292|0.49852991773816185| 9.60182985055455|\n+----+----------+----+------------------+-------------------+-----------------+\nonly showing top 4 rows\n\n"
     ]
    }
   ],
   "source": [
    "\n",
    "df_std_weekly = weather.groupBy(\"fips\", \"state\" ,\"year\", \"week\").agg(\n",
    "    F.stddev(\"PRECTOT\").alias(\"std_weekly_PRECTOT\"),\n",
    "    F.stddev(\"PS\").alias(\"std_weekly_PS\"),\n",
    "    F.stddev(\"TS\").alias(\"std_weekly_TS\")\n",
    ")\n",
    "\n",
    "df_std_monthly = weather.groupBy(\"fips\", \"state\", \"year\", \"month\").agg(\n",
    "    F.stddev(\"PRECTOT\").alias(\"std_monthly_PRECTOT\"),\n",
    "    F.stddev(\"PS\").alias(\"std_monthly_PS\"),\n",
    "    F.stddev(\"TS\").alias(\"std_monthly_TS\")\n",
    ")\n",
    "\n",
    "df_std_seasonal = weather.groupBy(\"fips\",\"state\" ,\"year\", \"season\").agg(\n",
    "    F.stddev(\"PRECTOT\").alias(\"std_seasonal_PRECTOT\"),\n",
    "    F.stddev(\"PS\").alias(\"std_seasonal_PS\"),\n",
    "    F.stddev(\"TS\").alias(\"std_seasonal_TS\")\n",
    ")\n",
    "\n",
    "df_std_annual = weather.groupBy(\"fips\",\"state\", \"year\").agg(\n",
    "    F.stddev(\"PRECTOT\").alias(\"std_annual_PRECTOT\"),\n",
    "    F.stddev(\"PS\").alias(\"std_annual_PS\"),\n",
    "    F.stddev(\"TS\").alias(\"std_annual_TS\")\n",
    ")\n",
    "\n",
    "\n",
    "df_std_annual.show(4)"
   ]
  },
  {
   "cell_type": "code",
   "execution_count": 0,
   "metadata": {
    "application/vnd.databricks.v1+cell": {
     "cellMetadata": {
      "byteLimit": 2048000,
      "rowLimit": 10000
     },
     "inputWidgets": {},
     "nuid": "c90b455d-0885-4abb-9de9-46af1a89062a",
     "showTitle": false,
     "tableResultSettingsMap": {},
     "title": ""
    }
   },
   "outputs": [
    {
     "output_type": "stream",
     "name": "stdout",
     "output_type": "stream",
     "text": [
      "+----+-------+----+----+------------------+-------------------+------------------+\n|fips|  state|year|week|std_weekly_PRECTOT|      std_weekly_PS|     std_weekly_TS|\n+----+-------+----+----+------------------+-------------------+------------------+\n|1001|Alabama|2017|  16|3.9885729635690863| 0.4431972580283043| 2.389321481688295|\n|1001|Alabama|2017|  27|2.8769279250120756|0.10488088481701782|0.5670642862691196|\n|1005|Alabama|2018|  14|2.1148038296956146|0.36439120788096874| 2.814899981306957|\n+----+-------+----+----+------------------+-------------------+------------------+\nonly showing top 3 rows\n\n"
     ]
    }
   ],
   "source": [
    "df_std_weekly.show(3)"
   ]
  },
  {
   "cell_type": "code",
   "execution_count": 0,
   "metadata": {
    "application/vnd.databricks.v1+cell": {
     "cellMetadata": {
      "byteLimit": 2048000,
      "rowLimit": 10000
     },
     "inputWidgets": {},
     "nuid": "094127e8-ea92-4a3e-91c2-1c4fc8ac3f8d",
     "showTitle": false,
     "tableResultSettingsMap": {},
     "title": ""
    }
   },
   "outputs": [
    {
     "output_type": "stream",
     "name": "stdout",
     "output_type": "stream",
     "text": [
      "+-----+------+----+----+------------------+-------------------+------------------+\n| fips| state|year|week|std_weekly_PRECTOT|      std_weekly_PS|     std_weekly_TS|\n+-----+------+----+----+------------------+-------------------+------------------+\n|48245|Teksas|2017|  35|101.14482697503381| 0.5869371670760253|0.9320484352834278|\n|48071|Teksas|2017|  35| 93.70091184696327| 0.5791208443675223| 1.127466608100191|\n|48201|Teksas|2017|  34|  90.3838987978764|  0.374915863577288|1.8105326761559906|\n|48473|Teksas|2017|  34| 90.07927461012169|0.35456210417117046| 2.653355467722945|\n|48339|Teksas|2017|  34| 90.07927461012169|0.35456210417117046| 2.653355467722945|\n+-----+------+----+----+------------------+-------------------+------------------+\nonly showing top 5 rows\n\n"
     ]
    }
   ],
   "source": [
    "df_std_weekly_sorted = df_std_weekly.orderBy(F.col(\"std_weekly_PRECTOT\").desc())\n",
    "\n",
    "df_std_weekly_sorted.show(5)"
   ]
  },
  {
   "cell_type": "code",
   "execution_count": 0,
   "metadata": {
    "application/vnd.databricks.v1+cell": {
     "cellMetadata": {
      "byteLimit": 2048000,
      "rowLimit": 10000
     },
     "inputWidgets": {},
     "nuid": "96aa1591-63ef-4dfc-b532-9658c38db1e0",
     "showTitle": false,
     "tableResultSettingsMap": {},
     "title": ""
    }
   },
   "outputs": [
    {
     "output_type": "stream",
     "name": "stdout",
     "output_type": "stream",
     "text": [
      "🔹 3 Stany z największym odchyleniem standardowym PRECTOT:\n\n📌 Weekly:\n+-------------------+----------------------+\n|              state|max_std_weekly_PRECTOT|\n+-------------------+----------------------+\n|             Teksas|    101.14482697503381|\n|  Karolina Północna|     79.49759175747461|\n|Karolina Południowa|     72.98090203542816|\n+-------------------+----------------------+\n\n\n📌 Monthly:\n+-------------------+-----------------------+\n|              state|max_std_monthly_PRECTOT|\n+-------------------+-----------------------+\n|             Teksas|      64.12399338747541|\n|  Karolina Północna|      44.45479455155191|\n|Karolina Południowa|      40.29320877149707|\n+-------------------+-----------------------+\n\n\n📌 Seasonal:\n+-------------------+------------------------+\n|              state|max_std_seasonal_PRECTOT|\n+-------------------+------------------------+\n|             Teksas|       39.73083472506349|\n|  Karolina Północna|      26.458433980368696|\n|Karolina Południowa|      24.023486002896828|\n+-------------------+------------------------+\n\n\n📌 Annuas:\n+-----------------+----------------------+\n|            state|max_std_annual_PRECTOT|\n+-----------------+----------------------+\n|           Teksas|     22.34090923529933|\n|         Luizjana|    15.046886422199082|\n|Karolina Północna|    14.671400303665282|\n+-----------------+----------------------+\n\n"
     ]
    }
   ],
   "source": [
    "\n",
    "top_states_weekly = df_std_weekly.groupby(\"state\").agg(F.max(\"std_weekly_PRECTOT\").alias(\"max_std_weekly_PRECTOT\"))\n",
    "top_states_monthly = df_std_monthly.groupby(\"state\").agg(F.max(\"std_monthly_PRECTOT\").alias(\"max_std_monthly_PRECTOT\"))\n",
    "top_states_seasonal = df_std_seasonal.groupby(\"state\").agg(F.max(\"std_seasonal_PRECTOT\").alias(\"max_std_seasonal_PRECTOT\"))\n",
    "top_states_annual = df_std_annual.groupby(\"state\").agg(F.max(\"std_annual_PRECTOT\").alias(\"max_std_annual_PRECTOT\"))\n",
    "\n",
    "\n",
    "top3_states_weekly = top_states_weekly.orderBy(F.desc(\"max_std_weekly_PRECTOT\")).limit(3)\n",
    "top3_states_monthly = top_states_monthly.orderBy(F.desc(\"max_std_monthly_PRECTOT\")).limit(3)\n",
    "top3_states_seasonal = top_states_seasonal.orderBy(F.desc(\"max_std_seasonal_PRECTOT\")).limit(3)\n",
    "top3_states_annual = top_states_annual.orderBy(F.desc(\"max_std_annual_PRECTOT\")).limit(3)\n",
    "\n",
    "\n",
    "print(\"🔹 3 Stany z największym odchyleniem standardowym PRECTOT:\")\n",
    "print(\"\\n📌 Weekly:\"); top3_states_weekly.show()\n",
    "print(\"\\n📌 Monthly:\"); top3_states_monthly.show()\n",
    "print(\"\\n📌 Seasonal:\"); top3_states_seasonal.show()\n",
    "print(\"\\n📌 Annual:\"); top3_states_annual.show()"
   ]
  },
  {
   "cell_type": "code",
   "execution_count": 0,
   "metadata": {
    "application/vnd.databricks.v1+cell": {
     "cellMetadata": {
      "byteLimit": 2048000,
      "rowLimit": 10000
     },
     "inputWidgets": {},
     "nuid": "d8fec0fb-9f15-4ae2-9abf-6483b35558fd",
     "showTitle": false,
     "tableResultSettingsMap": {},
     "title": ""
    }
   },
   "outputs": [
    {
     "output_type": "stream",
     "name": "stdout",
     "output_type": "stream",
     "text": [
      "🔹 3 Stany z najmniejszym odchyleniem standardowym PRECTOT:\n\n📌 Weekly:\n+---------+----------------------+\n|    state|min_std_weekly_PRECTOT|\n+---------+----------------------+\n|     Utah|                   0.0|\n| Wirginia|                   0.0|\n|Minnesota|                   0.0|\n+---------+----------------------+\n\n\n📌 Monthly:\n+----------+-----------------------+\n|     state|min_std_monthly_PRECTOT|\n+----------+-----------------------+\n|Waszyngton|                    0.0|\n|    Nevada|                    0.0|\n|      Utah|                    0.0|\n+----------+-----------------------+\n\n\n📌 Seasonal:\n+-----------+------------------------+\n|      state|min_std_seasonal_PRECTOT|\n+-----------+------------------------+\n| Kalifornia|    0.007098885197433816|\n|    Arizona|     0.02224258171776765|\n|Nowy Meksyk|     0.07858458822168816|\n+-----------+------------------------+\n\n\n📌 Annual:\n+----------+----------------------+\n|     state|min_std_annual_PRECTOT|\n+----------+----------------------+\n|    Nevada|    1.0582927885862334|\n|Kalifornia|    1.0881546588115594|\n|   Arizona|    1.1301211803528424|\n+----------+----------------------+\n\n"
     ]
    }
   ],
   "source": [
    "\n",
    "bottom_states_weekly = df_std_weekly.groupby(\"state\").agg(F.min(\"std_weekly_PRECTOT\").alias(\"min_std_weekly_PRECTOT\"))\n",
    "bottom_states_monthly = df_std_monthly.groupby(\"state\").agg(F.min(\"std_monthly_PRECTOT\").alias(\"min_std_monthly_PRECTOT\"))\n",
    "bottom_states_seasonal = df_std_seasonal.groupby(\"state\").agg(F.min(\"std_seasonal_PRECTOT\").alias(\"min_std_seasonal_PRECTOT\"))\n",
    "bottom_states_annual = df_std_annual.groupby(\"state\").agg(F.min(\"std_annual_PRECTOT\").alias(\"min_std_annual_PRECTOT\"))\n",
    "\n",
    "\n",
    "bottom3_states_weekly = bottom_states_weekly.orderBy(F.asc(\"min_std_weekly_PRECTOT\")).limit(3)\n",
    "bottom3_states_monthly = bottom_states_monthly.orderBy(F.asc(\"min_std_monthly_PRECTOT\")).limit(3)\n",
    "bottom3_states_seasonal = bottom_states_seasonal.orderBy(F.asc(\"min_std_seasonal_PRECTOT\")).limit(3)\n",
    "bottom3_states_annual = bottom_states_annual.orderBy(F.asc(\"min_std_annual_PRECTOT\")).limit(3)\n",
    "\n",
    "\n",
    "print(\"🔹 3 Stany z najmniejszym odchyleniem standardowym PRECTOT:\")\n",
    "print(\"\\n📌 Weekly:\"); bottom3_states_weekly.show()\n",
    "print(\"\\n📌 Monthly:\"); bottom3_states_monthly.show()\n",
    "print(\"\\n📌 Seasonal:\"); bottom3_states_seasonal.show()\n",
    "print(\"\\n📌 Annual:\"); bottom3_states_annual.show()"
   ]
  },
  {
   "cell_type": "markdown",
   "metadata": {
    "application/vnd.databricks.v1+cell": {
     "cellMetadata": {},
     "inputWidgets": {},
     "nuid": "728421d1-0ddf-40b9-b605-10a1144f2278",
     "showTitle": false,
     "tableResultSettingsMap": {},
     "title": ""
    }
   },
   "source": [
    "4. Calculation of how many days there were without precipitation for each fips in a given year."
   ]
  },
  {
   "cell_type": "code",
   "execution_count": 0,
   "metadata": {
    "application/vnd.databricks.v1+cell": {
     "cellMetadata": {
      "byteLimit": 2048000,
      "rowLimit": 10000
     },
     "inputWidgets": {},
     "nuid": "7fbb3b05-9531-438a-ac01-2a4284276c0b",
     "showTitle": false,
     "tableResultSettingsMap": {},
     "title": ""
    }
   },
   "outputs": [
    {
     "output_type": "stream",
     "name": "stdout",
     "output_type": "stream",
     "text": [
      "+----+----------+-------+------+-----+------+----+-----+----+------+-----------+----------+-------+---------+---------------+\n|fips|      date|PRECTOT|    PS|   TS| score|year|month|week|season|fips_padded|state_code|  state|dry_spell|dry_spell_group|\n+----+----------+-------+------+-----+------+----+-----+----+------+-----------+----------+-------+---------+---------------+\n|1005|2017-01-01|  66.35|100.42|16.08|  null|2017|    1|  52|Winter|      01005|        01|Alabama|        0|              1|\n|1005|2017-01-02|  47.72|100.47|18.35|  null|2017|    1|   1|Winter|      01005|        01|Alabama|        0|              2|\n|1005|2017-01-03|   7.52| 99.91|16.52|0.6069|2017|    1|   1|Winter|      01005|        01|Alabama|        0|              3|\n+----+----------+-------+------+-----+------+----+-----+----+------+-----------+----------+-------+---------+---------------+\nonly showing top 3 rows\n\n"
     ]
    }
   ],
   "source": [
    "weather.show(3)"
   ]
  },
  {
   "cell_type": "code",
   "execution_count": 0,
   "metadata": {
    "application/vnd.databricks.v1+cell": {
     "cellMetadata": {
      "byteLimit": 2048000,
      "rowLimit": 10000
     },
     "inputWidgets": {},
     "nuid": "508a22ad-038c-4bc1-bd00-03781a11cc09",
     "showTitle": false,
     "tableResultSettingsMap": {},
     "title": ""
    }
   },
   "outputs": [
    {
     "output_type": "stream",
     "name": "stdout",
     "output_type": "stream",
     "text": [
      "+-----+----------+----+--------------+\n| fips|     state|year|dry_days_count|\n+-----+----------+----+--------------+\n| 6025|Kalifornia|2017|           297|\n| 4027|   Arizona|2017|           296|\n| 4027|   Arizona|2018|           293|\n| 6025|Kalifornia|2018|           289|\n| 4012|   Arizona|2018|           280|\n| 6071|Kalifornia|2018|           280|\n| 4012|   Arizona|2017|           277|\n| 6071|Kalifornia|2017|           271|\n| 6065|Kalifornia|2017|           269|\n| 6029|Kalifornia|2018|           264|\n| 6065|Kalifornia|2018|           263|\n|32003|    Nevada|2017|           260|\n| 4019|   Arizona|2017|           252|\n| 6029|Kalifornia|2017|           250|\n| 4013|   Arizona|2017|           249|\n| 6077|Kalifornia|2018|           248|\n| 6099|Kalifornia|2018|           248|\n|32003|    Nevada|2018|           248|\n|32023|    Nevada|2018|           248|\n| 6047|Kalifornia|2018|           244|\n+-----+----------+----+--------------+\nonly showing top 20 rows\n\n"
     ]
    }
   ],
   "source": [
    "\n",
    "df_zero_prec = weather.filter(F.col(\"PRECTOT\") == 0)\n",
    "\n",
    "df_dry_days = df_zero_prec.groupBy(\"fips\", \"state\", \"year\").agg(\n",
    "    F.count(\"*\").alias(\"dry_days_count\")  \n",
    ")\n",
    "\n",
    "df_dry_days_sorted = df_dry_days.orderBy(F.col(\"dry_days_count\").desc())\n",
    "\n",
    "df_dry_days_sorted.show()"
   ]
  },
  {
   "cell_type": "markdown",
   "metadata": {
    "application/vnd.databricks.v1+cell": {
     "cellMetadata": {},
     "inputWidgets": {},
     "nuid": "3387b798-837a-4b18-9ac7-706d803ccc6d",
     "showTitle": false,
     "tableResultSettingsMap": {},
     "title": ""
    }
   },
   "source": [
    "The states with the most days without precipitation are California, Arizona and Nevada."
   ]
  },
  {
   "cell_type": "markdown",
   "metadata": {
    "application/vnd.databricks.v1+cell": {
     "cellMetadata": {},
     "inputWidgets": {},
     "nuid": "42eec96f-8d97-44d8-abf4-160359ccc8b4",
     "showTitle": false,
     "tableResultSettingsMap": {},
     "title": ""
    }
   },
   "source": [
    "5. Calculation of how many consecutive days without precipitation there were in each fips in each year."
   ]
  },
  {
   "cell_type": "code",
   "execution_count": 0,
   "metadata": {
    "application/vnd.databricks.v1+cell": {
     "cellMetadata": {
      "byteLimit": 2048000,
      "rowLimit": 10000
     },
     "inputWidgets": {},
     "nuid": "f4f22bc5-b3de-4ecb-83ed-67db7c32581d",
     "showTitle": false,
     "tableResultSettingsMap": {},
     "title": ""
    }
   },
   "outputs": [
    {
     "output_type": "stream",
     "name": "stdout",
     "output_type": "stream",
     "text": [
      "+----+----------+----+---------------+----------------+\n|fips|     state|year|dry_spell_group|dry_spell_length|\n+----+----------+----+---------------+----------------+\n|4027|   Arizona|2018|             78|              92|\n|6021|Kalifornia|2018|            256|              74|\n|4027|   Arizona|2017|             26|              58|\n|4012|   Arizona|2017|             37|              58|\n|6025|Kalifornia|2017|             65|              57|\n+----+----------+----+---------------+----------------+\nonly showing top 5 rows\n\n"
     ]
    }
   ],
   "source": [
    "\n",
    "windowSpec = Window.partitionBy(\"fips\").orderBy(\"date\")\n",
    "\n",
    "\n",
    "weather = weather.withColumn(\"dry_spell\", F.when(F.col(\"PRECTOT\") == 0, 1).otherwise(0))\n",
    "weather = weather.withColumn(\"dry_spell_group\", \n",
    "                             F.sum(F.when(F.col(\"dry_spell\") == 0, 1).otherwise(0)).over(windowSpec))\n",
    "\n",
    "\n",
    "df_dry_spells = weather.filter(F.col(\"dry_spell\") == 1) \\\n",
    "    .groupby(\"fips\", \"state\", \"year\", \"dry_spell_group\") \\\n",
    "    .agg(F.count(\"*\").alias(\"dry_spell_length\"))\n",
    "\n",
    "\n",
    "df_long_dry_spells = df_dry_spells.filter(F.col(\"dry_spell_length\") > 30)\n",
    "\n",
    "\n",
    "df_long_dry_spells = df_long_dry_spells.orderBy(F.desc(\"dry_spell_length\"))\n",
    "\n",
    "\n",
    "df_long_dry_spells.show(5)"
   ]
  },
  {
   "cell_type": "code",
   "execution_count": 0,
   "metadata": {
    "application/vnd.databricks.v1+cell": {
     "cellMetadata": {},
     "inputWidgets": {},
     "nuid": "106100aa-a0a4-4834-8c8a-a97d003d05f0",
     "showTitle": false,
     "tableResultSettingsMap": {},
     "title": ""
    }
   },
   "outputs": [],
   "source": [
    "Arizona, California, and Nevada have the most consecutive days without rain, with county 4027 having 92 days."
   ]
  },
  {
   "cell_type": "markdown",
   "metadata": {
    "application/vnd.databricks.v1+cell": {
     "cellMetadata": {},
     "inputWidgets": {},
     "nuid": "dca5ad5a-3113-480f-ad56-70c0a605687e",
     "showTitle": false,
     "tableResultSettingsMap": {},
     "title": ""
    }
   },
   "source": [
    "6. Moving average analysis for county 4027 which had the longest break in precipitation of 92 days."
   ]
  },
  {
   "cell_type": "code",
   "execution_count": 0,
   "metadata": {
    "application/vnd.databricks.v1+cell": {
     "cellMetadata": {
      "byteLimit": 2048000,
      "rowLimit": 10000
     },
     "inputWidgets": {},
     "nuid": "82c66e2b-34ab-4e0c-b1a1-1f3a3dac8734",
     "showTitle": false,
     "tableResultSettingsMap": {},
     "title": ""
    }
   },
   "outputs": [
    {
     "output_type": "stream",
     "name": "stdout",
     "output_type": "stream",
     "text": [
      "+----+----------+-------+-----+-----+------+----+-----+----+------+-----------+----------+-------+---------+---------------+\n|fips|      date|PRECTOT|   PS|   TS| score|year|month|week|season|fips_padded|state_code|  state|dry_spell|dry_spell_group|\n+----+----------+-------+-----+-----+------+----+-----+----+------+-----------+----------+-------+---------+---------------+\n|4027|2017-01-01|  10.05|98.19|11.42|  null|2017|    1|  52|Winter|      04027|        04|Arizona|        0|              1|\n|4027|2017-01-02|    0.0|98.85|10.03|  null|2017|    1|   1|Winter|      04027|        04|Arizona|        1|              1|\n|4027|2017-01-03|    0.0|99.06|11.44|2.6773|2017|    1|   1|Winter|      04027|        04|Arizona|        1|              1|\n|4027|2017-01-04|    0.0|98.82|11.89|  null|2017|    1|   1|Winter|      04027|        04|Arizona|        1|              1|\n|4027|2017-01-05|    0.0|98.42|14.23|  null|2017|    1|   1|Winter|      04027|        04|Arizona|        1|              1|\n+----+----------+-------+-----+-----+------+----+-----+----+------+-----------+----------+-------+---------+---------------+\nonly showing top 5 rows\n\n"
     ]
    }
   ],
   "source": [
    "df_fips_4027 = weather.filter(weather.fips == 4027)\n",
    "\n",
    "df_fips_4027.show(5)"
   ]
  },
  {
   "cell_type": "code",
   "execution_count": 0,
   "metadata": {
    "application/vnd.databricks.v1+cell": {
     "cellMetadata": {
      "byteLimit": 2048000,
      "rowLimit": 10000
     },
     "inputWidgets": {},
     "nuid": "d4326cb1-a69a-4596-ac88-570dc878c506",
     "showTitle": false,
     "tableResultSettingsMap": {},
     "title": ""
    }
   },
   "outputs": [
    {
     "output_type": "stream",
     "name": "stdout",
     "output_type": "stream",
     "text": [
      "+----+----------+-------+-----+-----+------+----+-----+----+------+-----------+----------+-------+---------+---------------+------------------+\n|fips|      date|PRECTOT|   PS|   TS| score|year|month|week|season|fips_padded|state_code|  state|dry_spell|dry_spell_group| moving_avg_precip|\n+----+----------+-------+-----+-----+------+----+-----+----+------+-----------+----------+-------+---------+---------------+------------------+\n|4027|2017-01-01|  10.05|98.19|11.42|  null|2017|    1|  52|Winter|      04027|        04|Arizona|        0|              1|             10.05|\n|4027|2017-01-02|    0.0|98.85|10.03|  null|2017|    1|   1|Winter|      04027|        04|Arizona|        1|              1|             5.025|\n|4027|2017-01-03|    0.0|99.06|11.44|2.6773|2017|    1|   1|Winter|      04027|        04|Arizona|        1|              1|              3.35|\n|4027|2017-01-04|    0.0|98.82|11.89|  null|2017|    1|   1|Winter|      04027|        04|Arizona|        1|              1|            2.5125|\n|4027|2017-01-05|    0.0|98.42|14.23|  null|2017|    1|   1|Winter|      04027|        04|Arizona|        1|              1|2.0100000000000002|\n+----+----------+-------+-----+-----+------+----+-----+----+------+-----------+----------+-------+---------+---------------+------------------+\nonly showing top 5 rows\n\n"
     ]
    }
   ],
   "source": [
    "\n",
    "windowSpec = Window.partitionBy(\"fips\").orderBy(\"date\").rowsBetween(-7, 0)  # 7 dni wstecz\n",
    "\n",
    "\n",
    "df_fips_4027 = df_fips_4027.withColumn(\"moving_avg_precip\", F.avg(\"PRECTOT\").over(windowSpec))\n",
    "\n",
    "\n",
    "df_fips_4027.show(5)"
   ]
  },
  {
   "cell_type": "code",
   "execution_count": 0,
   "metadata": {
    "application/vnd.databricks.v1+cell": {
     "cellMetadata": {
      "byteLimit": 2048000,
      "rowLimit": 10000
     },
     "inputWidgets": {},
     "nuid": "ddc5b9c2-8194-4cdf-a209-3847c7a554d9",
     "showTitle": false,
     "tableResultSettingsMap": {},
     "title": ""
    }
   },
   "outputs": [],
   "source": [
    "\n",
    "df_pandas = df_fips_4027.select(\"date\", \"PRECTOT\", \"moving_avg_precip\").toPandas()"
   ]
  },
  {
   "cell_type": "code",
   "execution_count": 0,
   "metadata": {
    "application/vnd.databricks.v1+cell": {
     "cellMetadata": {
      "byteLimit": 2048000,
      "rowLimit": 10000
     },
     "inputWidgets": {},
     "nuid": "90df420c-8f6a-47d9-9506-9af16bfcffde",
     "showTitle": false,
     "tableResultSettingsMap": {},
     "title": ""
    }
   },
   "outputs": [
    {
     "output_type": "display_data",
     "data": {
      "image/png": "[encoded data removed]"
     },
     "metadata": {
      "application/vnd.databricks.v1+output": {
       "addedWidgets": {},
       "arguments": {},
       "data": "data:image/png;base64,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\n",
       "datasetInfos": [],
       "metadata": {},
       "removedWidgets": [],
       "type": "image"
      }
     },
     "output_type": "display_data"
    }
   ],
   "source": [
    "import matplotlib.pyplot as plt\n",
    "\n",
    "# Tworzenie wykresu\n",
    "plt.figure(figsize=(10, 6))\n",
    "plt.plot(df_pandas['date'], df_pandas['moving_avg_precip'], label='7-days moving_avg_precip', color='blue')\n",
    "plt.plot(df_pandas['date'], df_pandas['PRECTOT'], label='daily PRECTOT', color='red', alpha=0.3)\n",
    "\n",
    "# Tytuł i etykiety\n",
    "plt.title('Moving average rainfall with daily data')\n",
    "plt.xlabel('Data')\n",
    "plt.ylabel('Precip (mm)')\n",
    "plt.xticks(rotation=45)\n",
    "plt.legend()\n",
    "plt.grid(True)\n",
    "\n",
    "# Wyświetlenie wykresu\n",
    "plt.show()"
   ]
  },
  {
   "cell_type": "markdown",
   "metadata": {
    "application/vnd.databricks.v1+cell": {
     "cellMetadata": {},
     "inputWidgets": {},
     "nuid": "f708c041-2e82-4b36-a278-96e5c82d893e",
     "showTitle": false,
     "tableResultSettingsMap": {},
     "title": ""
    }
   },
   "source": [
    "7. County 48245 in Texas has the largest weekly standard deviation of PRECTOT precipitation. Calculating how precipitation has varied from day to day in this county."
   ]
  },
  {
   "cell_type": "code",
   "execution_count": 0,
   "metadata": {
    "application/vnd.databricks.v1+cell": {
     "cellMetadata": {
      "byteLimit": 2048000,
      "rowLimit": 10000
     },
     "inputWidgets": {},
     "nuid": "1df86398-43bd-4b31-9592-4a3de61dab79",
     "showTitle": false,
     "tableResultSettingsMap": {},
     "title": ""
    }
   },
   "outputs": [
    {
     "output_type": "stream",
     "name": "stdout",
     "output_type": "stream",
     "text": [
      "+-----+----------+-------+------+-----+-----+----+-----+----+------+-----------+----------+------+---------+---------------+\n| fips|      date|PRECTOT|    PS|   TS|score|year|month|week|season|fips_padded|state_code| state|dry_spell|dry_spell_group|\n+-----+----------+-------+------+-----+-----+----+-----+----+------+-----------+----------+------+---------+---------------+\n|48245|2017-01-01|   6.52|101.07|18.22| null|2017|    1|  52|Winter|      48245|        48|Teksas|        0|              1|\n|48245|2017-01-02|  19.45|101.03|18.46| null|2017|    1|   1|Winter|      48245|        48|Teksas|        0|              2|\n|48245|2017-01-03|   0.09|101.43|15.78|  0.0|2017|    1|   1|Winter|      48245|        48|Teksas|        0|              3|\n|48245|2017-01-04|    0.0|101.73|12.43| null|2017|    1|   1|Winter|      48245|        48|Teksas|        1|              3|\n|48245|2017-01-05|   0.82|101.24|14.22| null|2017|    1|   1|Winter|      48245|        48|Teksas|        0|              4|\n+-----+----------+-------+------+-----+-----+----+-----+----+------+-----------+----------+------+---------+---------------+\nonly showing top 5 rows\n\n"
     ]
    }
   ],
   "source": [
    "df_fips_48245 = weather.filter(weather.fips == 48245)\n",
    "\n",
    "df_fips_48245.show(5)"
   ]
  },
  {
   "cell_type": "code",
   "execution_count": 0,
   "metadata": {
    "application/vnd.databricks.v1+cell": {
     "cellMetadata": {
      "byteLimit": 2048000,
      "rowLimit": 10000
     },
     "inputWidgets": {},
     "nuid": "feadc17a-ad93-4d58-9011-55bb871c95c6",
     "showTitle": false,
     "tableResultSettingsMap": {},
     "title": ""
    }
   },
   "outputs": [
    {
     "output_type": "stream",
     "name": "stdout",
     "output_type": "stream",
     "text": [
      "+-----+----------+-------+------+-----+-----+----+-----+----+------+-----------+----------+------+---------+---------------+------------------+\n| fips|      date|PRECTOT|    PS|   TS|score|year|month|week|season|fips_padded|state_code| state|dry_spell|dry_spell_group| moving_avg_precip|\n+-----+----------+-------+------+-----+-----+----+-----+----+------+-----------+----------+------+---------+---------------+------------------+\n|48245|2017-01-01|   6.52|101.07|18.22| null|2017|    1|  52|Winter|      48245|        48|Teksas|        0|              1|              6.52|\n|48245|2017-01-02|  19.45|101.03|18.46| null|2017|    1|   1|Winter|      48245|        48|Teksas|        0|              2|            12.985|\n|48245|2017-01-03|   0.09|101.43|15.78|  0.0|2017|    1|   1|Winter|      48245|        48|Teksas|        0|              3| 8.686666666666666|\n|48245|2017-01-04|    0.0|101.73|12.43| null|2017|    1|   1|Winter|      48245|        48|Teksas|        1|              3|             6.515|\n|48245|2017-01-05|   0.82|101.24|14.22| null|2017|    1|   1|Winter|      48245|        48|Teksas|        0|              4|5.3759999999999994|\n+-----+----------+-------+------+-----+-----+----+-----+----+------+-----------+----------+------+---------+---------------+------------------+\nonly showing top 5 rows\n\n"
     ]
    }
   ],
   "source": [
    "\n",
    "windowSpec = Window.partitionBy(\"fips\").orderBy(\"date\").rowsBetween(-7, 0)  # 7 dni wstecz\n",
    "\n",
    "df_fips_48245 = df_fips_48245.withColumn(\"moving_avg_precip\", F.avg(\"PRECTOT\").over(windowSpec))\n",
    "\n",
    "df_fips_48245.show(5)"
   ]
  },
  {
   "cell_type": "code",
   "execution_count": 0,
   "metadata": {
    "application/vnd.databricks.v1+cell": {
     "cellMetadata": {
      "byteLimit": 2048000,
      "rowLimit": 10000
     },
     "inputWidgets": {},
     "nuid": "1f8222cf-7e1d-44f6-bff5-3a3fee6ae040",
     "showTitle": false,
     "tableResultSettingsMap": {},
     "title": ""
    }
   },
   "outputs": [],
   "source": [
    "df_pandas2 = df_fips_48245.select(\"date\", \"PRECTOT\", \"moving_avg_precip\").toPandas()"
   ]
  },
  {
   "cell_type": "code",
   "execution_count": 0,
   "metadata": {
    "application/vnd.databricks.v1+cell": {
     "cellMetadata": {
      "byteLimit": 2048000,
      "rowLimit": 10000
     },
     "inputWidgets": {},
     "nuid": "1dffc94f-2942-40c2-806e-3b59e198c1ea",
     "showTitle": false,
     "tableResultSettingsMap": {},
     "title": ""
    }
   },
   "outputs": [
    {
     "output_type": "display_data",
     "data": {
      "image/png": "[encoded data removed]"
     },
     "metadata": {
      "application/vnd.databricks.v1+output": {
       "addedWidgets": {},
       "arguments": {},
       "data": "data:image/png;base64,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\n",
       "datasetInfos": [],
       "metadata": {},
       "removedWidgets": [],
       "type": "image"
      }
     },
     "output_type": "display_data"
    }
   ],
   "source": [
    "\n",
    "plt.figure(figsize=(10, 6))\n",
    "plt.plot(df_pandas2['date'], df_pandas2['moving_avg_precip'], label='7 days moving average', color='blue')\n",
    "plt.plot(df_pandas2['date'], df_pandas2['PRECTOT'], label='daily PRECTOT', color='red', alpha=0.3)\n",
    "\n",
    "\n",
    "plt.title('Moving average rainfall with daily data')\n",
    "plt.xlabel('Data')\n",
    "plt.ylabel('Precip (mm)')\n",
    "plt.xticks(rotation=45)\n",
    "plt.legend()\n",
    "plt.grid(True)\n",
    "\n",
    "\n",
    "plt.show()"
   ]
  },
  {
   "cell_type": "markdown",
   "metadata": {
    "application/vnd.databricks.v1+cell": {
     "cellMetadata": {},
     "inputWidgets": {},
     "nuid": "bdbe09c1-5f4f-4655-a2a0-8f1fa1f8014c",
     "showTitle": false,
     "tableResultSettingsMap": {},
     "title": ""
    }
   },
   "source": [
    "8. Calculate the total precipitation (PRECTOT) for each season in a given year and determine how total precipitation varied throughout the year depending on the season."
   ]
  },
  {
   "cell_type": "code",
   "execution_count": 0,
   "metadata": {
    "application/vnd.databricks.v1+cell": {
     "cellMetadata": {
      "byteLimit": 2048000,
      "rowLimit": 10000
     },
     "inputWidgets": {},
     "nuid": "48c40e78-ecfb-4657-8b32-1da1ef791f72",
     "showTitle": false,
     "tableResultSettingsMap": {},
     "title": ""
    }
   },
   "outputs": [
    {
     "output_type": "stream",
     "name": "stdout",
     "output_type": "stream",
     "text": [
      "+-----+------+----+------+-------------------+\n| fips| state|year|season|seasonal_precip_sum|\n+-----+------+----+------+-------------------+\n|48245|Teksas|2017|Summer|            1428.18|\n|48167|Teksas|2017|Summer|            1338.15|\n|48071|Teksas|2017|Summer| 1333.1800000000003|\n+-----+------+----+------+-------------------+\nonly showing top 3 rows\n\n"
     ]
    }
   ],
   "source": [
    "# Obliczanie sumy opadów na sezon w każdym roku i sortowanie wyników malejąco\n",
    "df_seasonal_precip = weather.groupBy(\"fips\", \"state\", \"year\", \"season\").agg(\n",
    "    F.sum(\"PRECTOT\").alias(\"seasonal_precip_sum\")\n",
    ")\n",
    "\n",
    "# Sortowanie według 'seasonal_precip_sum' w malejącej kolejności\n",
    "df_seasonal_precip_sorted = df_seasonal_precip.orderBy(F.col(\"seasonal_precip_sum\"), ascending=False)\n",
    "\n",
    "# Wyświetlanie wyników\n",
    "df_seasonal_precip_sorted.select(\"fips\", \"state\", \"year\", \"season\", \"seasonal_precip_sum\").show(3)"
   ]
  },
  {
   "cell_type": "markdown",
   "metadata": {
    "application/vnd.databricks.v1+cell": {
     "cellMetadata": {},
     "inputWidgets": {},
     "nuid": "d3088306-ec0a-426e-b2d5-ebb6cfa5559e",
     "showTitle": false,
     "tableResultSettingsMap": {},
     "title": ""
    }
   },
   "source": [
    "The greatest rainfall totals occurred in the summer in the state of Texas."
   ]
  },
  {
   "cell_type": "code",
   "execution_count": 0,
   "metadata": {
    "application/vnd.databricks.v1+cell": {
     "cellMetadata": {},
     "inputWidgets": {},
     "nuid": "030b3a0c-94b6-4dad-a13a-cb6401c1719c",
     "showTitle": false,
     "tableResultSettingsMap": {},
     "title": ""
    }
   },
   "outputs": [],
   "source": [
    "9. Calculate the average precipitation (PRECTOT) for each season in a given year and determine how average precipitation varied between seasons."
   ]
  },
  {
   "cell_type": "code",
   "execution_count": 0,
   "metadata": {
    "application/vnd.databricks.v1+cell": {
     "cellMetadata": {
      "byteLimit": 2048000,
      "rowLimit": 10000
     },
     "inputWidgets": {},
     "nuid": "0d15ea2f-a2ff-4e93-ab61-0e6f97824e74",
     "showTitle": false,
     "tableResultSettingsMap": {},
     "title": ""
    }
   },
   "outputs": [
    {
     "output_type": "stream",
     "name": "stdout",
     "output_type": "stream",
     "text": [
      "+-----+------+----+------+-------------------+\n| fips| state|year|season|seasonal_precip_avg|\n+-----+------+----+------+-------------------+\n|48245|Teksas|2017|Summer| 15.523695652173913|\n|48167|Teksas|2017|Summer| 14.545108695652175|\n|48071|Teksas|2017|Summer| 14.491086956521743|\n+-----+------+----+------+-------------------+\nonly showing top 3 rows\n\n"
     ]
    }
   ],
   "source": [
    "\n",
    "df_seasonal_avg_precip = weather.groupBy(\"fips\", \"state\", \"year\", \"season\").agg(\n",
    "    F.avg(\"PRECTOT\").alias(\"seasonal_precip_avg\")\n",
    ")\n",
    "\n",
    "df_seasonal_avg_sorted = df_seasonal_avg_precip.orderBy(F.col(\"seasonal_precip_avg\"), ascending=False)\n",
    "\n",
    "\n",
    "df_seasonal_avg_sorted.select(\"fips\", \"state\", \"year\", \"season\", \"seasonal_precip_avg\").show(3)"
   ]
  },
  {
   "cell_type": "markdown",
   "metadata": {
    "application/vnd.databricks.v1+cell": {
     "cellMetadata": {},
     "inputWidgets": {},
     "nuid": "cec98cc1-e214-4757-93f8-39293d5023bd",
     "showTitle": false,
     "tableResultSettingsMap": {},
     "title": ""
    }
   },
   "source": [
    "The highest average precipitation for a season was in county 28245 in Texas."
   ]
  },
  {
   "cell_type": "markdown",
   "metadata": {
    "application/vnd.databricks.v1+cell": {
     "cellMetadata": {},
     "inputWidgets": {},
     "nuid": "f3b6de09-3e97-44fd-8280-08f071326409",
     "showTitle": false,
     "tableResultSettingsMap": {},
     "title": ""
    }
   },
   "source": [
    "10. Identification of days with precipitation anomalies where precipitation anomalies occur, in which precipitation is greater than 3 standard deviations above the mean."
   ]
  },
  {
   "cell_type": "code",
   "execution_count": 0,
   "metadata": {
    "application/vnd.databricks.v1+cell": {
     "cellMetadata": {
      "byteLimit": 2048000,
      "rowLimit": 10000
     },
     "inputWidgets": {},
     "nuid": "1a2b20d2-a348-42c1-9cb5-b2446a1bf617",
     "showTitle": false,
     "tableResultSettingsMap": {},
     "title": ""
    }
   },
   "outputs": [
    {
     "output_type": "stream",
     "name": "stdout",
     "output_type": "stream",
     "text": [
      "+----+----------+-------+------+-----+------+----+-----+----+------+-----------+----------+-------+---------+---------------+\n|fips|      date|PRECTOT|    PS|   TS| score|year|month|week|season|fips_padded|state_code|  state|dry_spell|dry_spell_group|\n+----+----------+-------+------+-----+------+----+-----+----+------+-----------+----------+-------+---------+---------------+\n|1005|2017-01-01|  66.35|100.42|16.08|  null|2017|    1|  52|Winter|      01005|        01|Alabama|        0|              1|\n|1005|2017-01-02|  47.72|100.47|18.35|  null|2017|    1|   1|Winter|      01005|        01|Alabama|        0|              2|\n|1005|2017-01-03|   7.52| 99.91|16.52|0.6069|2017|    1|   1|Winter|      01005|        01|Alabama|        0|              3|\n+----+----------+-------+------+-----+------+----+-----+----+------+-----------+----------+-------+---------+---------------+\nonly showing top 3 rows\n\n"
     ]
    }
   ],
   "source": [
    "weather.show(3)"
   ]
  },
  {
   "cell_type": "code",
   "execution_count": 0,
   "metadata": {
    "application/vnd.databricks.v1+cell": {
     "cellMetadata": {
      "byteLimit": 2048000,
      "rowLimit": 10000
     },
     "inputWidgets": {},
     "nuid": "bd13f4de-8a04-4e77-bd1f-86fc9721e3bb",
     "showTitle": false,
     "tableResultSettingsMap": {},
     "title": ""
    }
   },
   "outputs": [
    {
     "output_type": "stream",
     "name": "stdout",
     "output_type": "stream",
     "text": [
      "+----+----------+-------+------+-----+------+----+-----+----+------+-----------+----------+-------+---------+---------------+------------------+------------------+----------+\n|fips|      date|PRECTOT|    PS|   TS| score|year|month|week|season|fips_padded|state_code|  state|dry_spell|dry_spell_group|       mean_precip|     stddev_precip|is_anomaly|\n+----+----------+-------+------+-----+------+----+-----+----+------+-----------+----------+-------+---------+---------------+------------------+------------------+----------+\n|1005|2017-01-01|  66.35|100.42|16.08|  null|2017|    1|  52|Winter|      01005|        01|Alabama|        0|              1|             66.35|              null|         0|\n|1005|2017-01-02|  47.72|100.47|18.35|  null|2017|    1|   1|Winter|      01005|        01|Alabama|        0|              2|            57.035|13.173399333505378|         0|\n|1005|2017-01-03|   7.52| 99.91|16.52|0.6069|2017|    1|   1|Winter|      01005|        01|Alabama|        0|              3|40.529999999999994|30.066830561268013|         0|\n+----+----------+-------+------+-----+------+----+-----+----+------+-----------+----------+-------+---------+---------------+------------------+------------------+----------+\nonly showing top 3 rows\n\n"
     ]
    }
   ],
   "source": [
    "\n",
    "window_spec = Window.partitionBy(\"fips\", \"year\").orderBy(\"date\")\n",
    "\n",
    "weather = weather.withColumn(\"mean_precip\", F.avg(\"PRECTOT\").over(window_spec))\n",
    "weather = weather.withColumn(\"stddev_precip\", F.stddev(\"PRECTOT\").over(window_spec))\n",
    "\n",
    "weather = weather.withColumn(\n",
    "    \"is_anomaly\", F.when(F.abs(F.col(\"PRECTOT\") - F.col(\"mean_precip\")) > 3 * F.col(\"stddev_precip\"), 1).otherwise(0)\n",
    ")\n",
    "\n",
    "weather.show(3)"
   ]
  },
  {
   "cell_type": "code",
   "execution_count": 0,
   "metadata": {
    "application/vnd.databricks.v1+cell": {
     "cellMetadata": {
      "byteLimit": 2048000,
      "rowLimit": 10000
     },
     "inputWidgets": {},
     "nuid": "602841cf-ef8d-4e1a-ba78-4013b39e0d8b",
     "showTitle": false,
     "tableResultSettingsMap": {},
     "title": ""
    }
   },
   "outputs": [
    {
     "output_type": "stream",
     "name": "stdout",
     "output_type": "stream",
     "text": [
      "+----+-------+----------+-------+------------------+------------------+----------+\n|fips|  state|      date|PRECTOT|       mean_precip|     stddev_precip|is_anomaly|\n+----+-------+----------+-------+------------------+------------------+----------+\n|1003|Alabama|2018-01-28|  28.32|3.1878571428571436|7.5952608796991194|         1|\n|1003|Alabama|2018-02-10|  36.99| 4.017073170731708| 8.708996567889564|         1|\n|1003|Alabama|2018-02-11|  44.47| 4.980238095238096|10.628242744892828|         1|\n+----+-------+----------+-------+------------------+------------------+----------+\nonly showing top 3 rows\n\n"
     ]
    }
   ],
   "source": [
    "\n",
    "df_anomalies = weather.filter(F.col(\"is_anomaly\") == 1)\n",
    "\n",
    "df_anomalies.select(\"fips\", \"state\",\"date\", \"PRECTOT\", \"mean_precip\", \"stddev_precip\", \"is_anomaly\").show(3)"
   ]
  },
  {
   "cell_type": "code",
   "execution_count": 0,
   "metadata": {
    "application/vnd.databricks.v1+cell": {
     "cellMetadata": {
      "byteLimit": 2048000,
      "rowLimit": 10000
     },
     "inputWidgets": {},
     "nuid": "d82efe5e-381b-428e-a148-225fe76aa686",
     "showTitle": false,
     "tableResultSettingsMap": {},
     "title": ""
    }
   },
   "outputs": [
    {
     "output_type": "stream",
     "name": "stdout",
     "output_type": "stream",
     "text": [
      "+-----------------+-----+\n|            state|count|\n+-----------------+-----+\n|           Teksas| 6879|\n|             Iowa| 3343|\n|           Kansas| 3258|\n|         Nebraska| 3080|\n|         Wirginia| 3035|\n|        Minnesota| 2964|\n|          Georgia| 2684|\n|         Missouri| 2623|\n|         Kentucky| 2461|\n|Karolina Północna| 2180|\n|Dakota Południowa| 2074|\n|        Wisconsin| 2012|\n|         Illinois| 1990|\n|        Tennessee| 1934|\n|         Oklahoma| 1914|\n|          Indiana| 1910|\n|         Michigan| 1762|\n|             Ohio| 1617|\n|          Floryda| 1416|\n|  Dakota Północna| 1360|\n+-----------------+-----+\nonly showing top 20 rows\n\n"
     ]
    }
   ],
   "source": [
    "\n",
    "df_anomalies = df_anomalies.filter(F.col(\"is_anomaly\") == 1)\n",
    "\n",
    "df_anomalies_count = df_anomalies.groupBy(\"state\").count()\n",
    "\n",
    "df_anomalies_count = df_anomalies_count.orderBy(F.col(\"count\").desc())\n",
    "\n",
    "df_anomalies_count.show()"
   ]
  },
  {
   "cell_type": "markdown",
   "metadata": {
    "application/vnd.databricks.v1+cell": {
     "cellMetadata": {},
     "inputWidgets": {},
     "nuid": "4d3e5f7d-d02b-4fab-a1de-cebb51134a1f",
     "showTitle": false,
     "tableResultSettingsMap": {},
     "title": ""
    }
   },
   "source": [
    "The most anomalies were in the state of Texas."
   ]
  },
  {
   "cell_type": "markdown",
   "metadata": {
    "application/vnd.databricks.v1+cell": {
     "cellMetadata": {},
     "inputWidgets": {},
     "nuid": "b889ed67-954d-4f08-a8d4-f48336078234",
     "showTitle": false,
     "tableResultSettingsMap": {},
     "title": ""
    }
   },
   "source": [
    "11. Detection of sudden temperature jumps (TS). Calculation of the temperature change (TS) from the previous day."
   ]
  },
  {
   "cell_type": "code",
   "execution_count": 0,
   "metadata": {
    "application/vnd.databricks.v1+cell": {
     "cellMetadata": {
      "byteLimit": 2048000,
      "rowLimit": 10000
     },
     "inputWidgets": {},
     "nuid": "a6fa80ba-8469-4635-9671-4dc27ac6158a",
     "showTitle": false,
     "tableResultSettingsMap": {},
     "title": ""
    }
   },
   "outputs": [
    {
     "output_type": "stream",
     "name": "stdout",
     "output_type": "stream",
     "text": [
      "+-----+----------+-------+-----+---------+------------------+\n| fips|      date|  state|   TS|prev_temp|       temp_change|\n+-----+----------+-------+-----+---------+------------------+\n|30041|2018-02-13|Montana|-7.13|   -25.64|             18.51|\n|30005|2018-02-13|Montana| -7.2|   -24.96|             17.76|\n|30051|2018-02-13|Montana|-6.56|   -23.83|             17.27|\n|56023|2017-01-08|Wyoming| -3.8|   -20.33|16.529999999999998|\n|30071|2018-02-13|Montana|-8.67|   -25.04|16.369999999999997|\n+-----+----------+-------+-----+---------+------------------+\n\n"
     ]
    }
   ],
   "source": [
    "\n",
    "window_spec = Window.partitionBy(\"fips\", \"year\", \"season\").orderBy(\"date\")\n",
    "\n",
    "\n",
    "weather = weather.withColumn(\"prev_temp\", F.lag(\"TS\").over(window_spec))\n",
    "weather = weather.withColumn(\"temp_change\", F.col(\"TS\") - F.col(\"prev_temp\"))\n",
    "\n",
    "\n",
    "top_5_temp_changes = weather.orderBy(F.col(\"temp_change\").desc()).limit(5)\n",
    "\n",
    "\n",
    "top_5_temp_changes.select(\"fips\", \"date\", \"state\", \"TS\", \"prev_temp\", \"temp_change\").show()"
   ]
  },
  {
   "cell_type": "markdown",
   "metadata": {
    "application/vnd.databricks.v1+cell": {
     "cellMetadata": {},
     "inputWidgets": {},
     "nuid": "3b1a921b-0326-4e04-ba5e-c8762c762c3d",
     "showTitle": false,
     "tableResultSettingsMap": {},
     "title": ""
    }
   },
   "source": [
    "The largest jumps in soil temperature were in Montana"
   ]
  },
  {
   "cell_type": "markdown",
   "metadata": {
    "application/vnd.databricks.v1+cell": {
     "cellMetadata": {},
     "inputWidgets": {},
     "nuid": "bc60a2cc-a1f2-422d-b3b5-779940144958",
     "showTitle": false,
     "tableResultSettingsMap": {},
     "title": ""
    }
   },
   "source": [
    "12. Removing NAN"
   ]
  },
  {
   "cell_type": "code",
   "execution_count": 0,
   "metadata": {
    "application/vnd.databricks.v1+cell": {
     "cellMetadata": {
      "byteLimit": 2048000,
      "rowLimit": 10000
     },
     "inputWidgets": {},
     "nuid": "5b58485d-7f9b-48aa-b06b-67814c907825",
     "showTitle": false,
     "tableResultSettingsMap": {},
     "title": ""
    }
   },
   "outputs": [
    {
     "output_type": "stream",
     "name": "stdout",
     "output_type": "stream",
     "text": [
      "+----+----------+-------+------+-----+------+----+-----+----+------+-----------+----------+-------+-------+---------------+---------+-------------------+\n|fips|      date|PRECTOT|    PS|   TS| score|year|month|week|season|fips_padded|state_code|  state|dry_day|dry_spell_group|dry_spell|sum_30_days_PRECTOT|\n+----+----------+-------+------+-----+------+----+-----+----+------+-----------+----------+-------+-------+---------------+---------+-------------------+\n|1005|2017-01-03|   7.52| 99.91|16.52|0.6069|2017|    1|   1|Winter|      01005|        01|Alabama|      0|              3|        0| 121.58999999999999|\n|1005|2017-01-10|   0.02|101.57| 5.73|0.5064|2017|    1|   2|Winter|      01005|        01|Alabama|      0|              7|        0|              143.5|\n|1005|2017-01-17|   0.03|100.91|15.61|0.5064|2017|    1|   3|Winter|      01005|        01|Alabama|      0|             10|        0|0.09999999999999999|\n|1005|2017-01-24|   0.02| 99.89| 9.83| 0.182|2017|    1|   4|Winter|      01005|        01|Alabama|      0|             17|        0| 102.53999999999999|\n|1005|2017-01-31|    0.0| 100.7| 11.4| 0.182|2017|    1|   5|Winter|      01005|        01|Alabama|      1|             19|        1|              33.83|\n|1005|2017-02-07|  26.82|100.02|15.94| 0.182|2017|    2|   6|Winter|      01005|        01|Alabama|      0|             24|        0| 28.490000000000002|\n|1005|2017-02-14|   0.03|100.03|13.32|0.1827|2017|    2|   7|Winter|      01005|        01|Alabama|      0|             28|        0| 31.410000000000007|\n|1005|2017-02-21|  19.66|100.18|16.47|0.1827|2017|    2|   8|Winter|      01005|        01|Alabama|      0|             32|        0|              23.93|\n|1005|2017-02-28|    4.3|100.92|18.46|   0.0|2017|    2|   9|Winter|      01005|        01|Alabama|      0|             38|        0|               46.2|\n|1005|2017-03-07|   3.46|101.15|16.53|   0.0|2017|    3|  10|Spring|      01005|        01|Alabama|      0|             41|        0| 26.820000000000004|\n|1005|2017-03-14|   0.08|100.47| 7.72|   0.0|2017|    3|  11|Spring|      01005|        01|Alabama|      0|             48|        0| 17.869999999999997|\n|1005|2017-03-21|    0.0|100.49|19.93|   0.0|2017|    3|  12|Spring|      01005|        01|Alabama|      1|             49|        1|  9.110000000000001|\n|1005|2017-03-28|   0.24|100.27|21.22|   1.0|2017|    3|  13|Spring|      01005|        01|Alabama|      0|             53|        0| 3.3599999999999994|\n|1005|2017-04-04|   3.11| 99.84| 21.7|   1.0|2017|    4|  14|Spring|      01005|        01|Alabama|      0|             59|        0|              33.69|\n|1005|2017-04-11|    0.0|101.03|19.02|   1.0|2017|    4|  15|Spring|      01005|        01|Alabama|      1|             61|        1|               67.2|\n|1005|2017-04-18|   0.04|100.72|21.68|1.1429|2017|    4|  16|Spring|      01005|        01|Alabama|      0|             64|        0|               0.07|\n|1005|2017-04-25|   0.03| 99.56|19.06|1.2921|2017|    4|  17|Spring|      01005|        01|Alabama|      0|             69|        0|              10.83|\n|1005|2017-05-02|    0.0|100.41|19.59|1.3608|2017|    5|  18|Spring|      01005|        01|Alabama|      1|             73|        1|              28.08|\n|1005|2017-05-09|    0.0|100.45|21.92|1.3608|2017|    5|  19|Spring|      01005|        01|Alabama|      1|             77|        1| 36.699999999999996|\n|1005|2017-05-16|    0.0|100.34|25.46|1.3608|2017|    5|  20|Spring|      01005|        01|Alabama|      1|             80|        1|              16.31|\n+----+----------+-------+------+-----+------+----+-----+----+------+-----------+----------+-------+-------+---------------+---------+-------------------+\nonly showing top 20 rows\n\n"
     ]
    }
   ],
   "source": [
    "\n",
    "df_cleaned = weather.dropna(subset=[\"score\"])\n",
    "\n",
    "\n",
    "df_cleaned.show()"
   ]
  },
  {
   "cell_type": "code",
   "execution_count": 0,
   "metadata": {
    "application/vnd.databricks.v1+cell": {
     "cellMetadata": {
      "byteLimit": 2048000,
      "rowLimit": 10000
     },
     "inputWidgets": {},
     "nuid": "36f0b03d-6138-4abd-8a03-d256b8d4729d",
     "showTitle": false,
     "tableResultSettingsMap": {},
     "title": ""
    }
   },
   "outputs": [
    {
     "output_type": "stream",
     "name": "stdout",
     "output_type": "stream",
     "text": [
      "+----+----------+-------+------+-----+-----+----+-----+----+------+-----------+----------+-------+-------+---------------+---------+-------------------+\n|fips|      date|PRECTOT|    PS|   TS|score|year|month|week|season|fips_padded|state_code|  state|dry_day|dry_spell_group|dry_spell|sum_30_days_PRECTOT|\n+----+----------+-------+------+-----+-----+----+-----+----+------+-----------+----------+-------+-------+---------------+---------+-------------------+\n|1005|2017-01-03|   7.52| 99.91|16.52|    0|2017|    1|   1|Winter|      01005|        01|Alabama|      0|              3|        0| 121.58999999999999|\n|1005|2017-01-10|   0.02|101.57| 5.73|    0|2017|    1|   2|Winter|      01005|        01|Alabama|      0|              7|        0|              143.5|\n|1005|2017-01-17|   0.03|100.91|15.61|    0|2017|    1|   3|Winter|      01005|        01|Alabama|      0|             10|        0|0.09999999999999999|\n|1005|2017-01-24|   0.02| 99.89| 9.83|    0|2017|    1|   4|Winter|      01005|        01|Alabama|      0|             17|        0| 102.53999999999999|\n|1005|2017-01-31|    0.0| 100.7| 11.4|    0|2017|    1|   5|Winter|      01005|        01|Alabama|      1|             19|        1|              33.83|\n|1005|2017-02-07|  26.82|100.02|15.94|    0|2017|    2|   6|Winter|      01005|        01|Alabama|      0|             24|        0| 28.490000000000002|\n|1005|2017-02-14|   0.03|100.03|13.32|    0|2017|    2|   7|Winter|      01005|        01|Alabama|      0|             28|        0| 31.410000000000007|\n|1005|2017-02-21|  19.66|100.18|16.47|    0|2017|    2|   8|Winter|      01005|        01|Alabama|      0|             32|        0|              23.93|\n|1005|2017-02-28|    4.3|100.92|18.46|    0|2017|    2|   9|Winter|      01005|        01|Alabama|      0|             38|        0|               46.2|\n|1005|2017-03-07|   3.46|101.15|16.53|    0|2017|    3|  10|Spring|      01005|        01|Alabama|      0|             41|        0| 26.820000000000004|\n|1005|2017-03-14|   0.08|100.47| 7.72|    0|2017|    3|  11|Spring|      01005|        01|Alabama|      0|             48|        0| 17.869999999999997|\n|1005|2017-03-21|    0.0|100.49|19.93|    0|2017|    3|  12|Spring|      01005|        01|Alabama|      1|             49|        1|  9.110000000000001|\n|1005|2017-03-28|   0.24|100.27|21.22|    1|2017|    3|  13|Spring|      01005|        01|Alabama|      0|             53|        0| 3.3599999999999994|\n|1005|2017-04-04|   3.11| 99.84| 21.7|    1|2017|    4|  14|Spring|      01005|        01|Alabama|      0|             59|        0|              33.69|\n|1005|2017-04-11|    0.0|101.03|19.02|    1|2017|    4|  15|Spring|      01005|        01|Alabama|      1|             61|        1|               67.2|\n|1005|2017-04-18|   0.04|100.72|21.68|    1|2017|    4|  16|Spring|      01005|        01|Alabama|      0|             64|        0|               0.07|\n|1005|2017-04-25|   0.03| 99.56|19.06|    1|2017|    4|  17|Spring|      01005|        01|Alabama|      0|             69|        0|              10.83|\n|1005|2017-05-02|    0.0|100.41|19.59|    1|2017|    5|  18|Spring|      01005|        01|Alabama|      1|             73|        1|              28.08|\n|1005|2017-05-09|    0.0|100.45|21.92|    1|2017|    5|  19|Spring|      01005|        01|Alabama|      1|             77|        1| 36.699999999999996|\n|1005|2017-05-16|    0.0|100.34|25.46|    1|2017|    5|  20|Spring|      01005|        01|Alabama|      1|             80|        1|              16.31|\n+----+----------+-------+------+-----+-----+----+-----+----+------+-----------+----------+-------+-------+---------------+---------+-------------------+\nonly showing top 20 rows\n\n"
     ]
    }
   ],
   "source": [
    "\n",
    "df_cleaned = df_cleaned.withColumn(\"score\", F.col(\"score\").cast(\"int\"))\n",
    "\n",
    "df_cleaned.show(3)"
   ]
  },
  {
   "cell_type": "markdown",
   "metadata": {
    "application/vnd.databricks.v1+cell": {
     "cellMetadata": {},
     "inputWidgets": {},
     "nuid": "3b7d76db-4edd-4928-a15a-c4b860753aca",
     "showTitle": false,
     "tableResultSettingsMap": {},
     "title": ""
    }
   },
   "source": [
    "13. Counting how many score occurrences there are in each class"
   ]
  },
  {
   "cell_type": "code",
   "execution_count": 0,
   "metadata": {
    "application/vnd.databricks.v1+cell": {
     "cellMetadata": {
      "byteLimit": 2048000,
      "rowLimit": 10000
     },
     "inputWidgets": {},
     "nuid": "cdbb53fe-0108-4a7a-a232-90397cfe3520",
     "showTitle": false,
     "tableResultSettingsMap": {},
     "title": ""
    }
   },
   "outputs": [
    {
     "output_type": "stream",
     "name": "stdout",
     "output_type": "stream",
     "text": [
      "+-----+------+\n|score| count|\n+-----+------+\n|    1| 48310|\n|    3|  8732|\n|    5|   307|\n|    4|  2713|\n|    2| 21025|\n|    0|242145|\n+-----+------+\n\n"
     ]
    }
   ],
   "source": [
    "\n",
    "df_class_count = df_cleaned.groupBy(\"score\").count()\n",
    "\n",
    "\n",
    "df_class_count.show()"
   ]
  },
  {
   "cell_type": "markdown",
   "metadata": {
    "application/vnd.databricks.v1+cell": {
     "cellMetadata": {},
     "inputWidgets": {},
     "nuid": "c4ba5f79-a1a8-4adb-aa06-15efdfee9a02",
     "showTitle": false,
     "tableResultSettingsMap": {},
     "title": ""
    }
   },
   "source": [
    "14. Counting in which state class 4 and 5 appears most often"
   ]
  },
  {
   "cell_type": "code",
   "execution_count": 0,
   "metadata": {
    "application/vnd.databricks.v1+cell": {
     "cellMetadata": {
      "byteLimit": 2048000,
      "rowLimit": 10000
     },
     "inputWidgets": {},
     "nuid": "162372b0-f413-428e-8ae5-9118785010ce",
     "showTitle": false,
     "tableResultSettingsMap": {},
     "title": ""
    }
   },
   "outputs": [
    {
     "output_type": "stream",
     "name": "stdout",
     "output_type": "stream",
     "text": [
      "+-----+-----------+----+-----+-----+\n| fips|      state|year|score|count|\n+-----+-----------+----+-----+-----+\n| 8023|   Kolorado|2018|    4|   40|\n|35028|Nowy Meksyk|2018|    4|   40|\n|35039|Nowy Meksyk|2018|    4|   40|\n|35055|Nowy Meksyk|2018|    4|   40|\n| 8021|   Kolorado|2018|    4|   36|\n| 8113|   Kolorado|2018|    4|   36|\n| 8003|   Kolorado|2018|    4|   36|\n|35031|Nowy Meksyk|2018|    4|   36|\n| 8105|   Kolorado|2018|    4|   36|\n|35007|Nowy Meksyk|2018|    4|   36|\n+-----+-----------+----+-----+-----+\n\n"
     ]
    }
   ],
   "source": [
    "\n",
    "filtered_df = df_cleaned.filter((F.col(\"score\") == 4) | (F.col(\"score\") == 5))\n",
    "\n",
    "df_score_grouped = filtered_df.groupby(\"fips\", \"year\", \"score\").count()\n",
    "\n",
    "df_with_state = df_score_grouped.join(df_cleaned.select(\"fips\", \"state\").distinct(), on=\"fips\", how=\"left\")\n",
    "\n",
    "top_10_df = df_with_state.orderBy(F.desc(\"count\")).limit(10)\n",
    "\n",
    "top_10_df.select(\"fips\", \"state\", \"year\", \"score\", \"count\").show()"
   ]
  },
  {
   "cell_type": "markdown",
   "metadata": {
    "application/vnd.databricks.v1+cell": {
     "cellMetadata": {},
     "inputWidgets": {},
     "nuid": "83489aad-60f9-4b77-b4e2-b453217f7fc9",
     "showTitle": false,
     "tableResultSettingsMap": {},
     "title": ""
    }
   },
   "source": [
    "15. DataFrame weather and soil connection based on column 'fips' and 'date'"
   ]
  },
  {
   "cell_type": "code",
   "execution_count": 0,
   "metadata": {
    "application/vnd.databricks.v1+cell": {
     "cellMetadata": {
      "byteLimit": 2048000,
      "rowLimit": 10000
     },
     "inputWidgets": {},
     "nuid": "8d060bfe-e8cd-44a5-844e-a7176397c1cb",
     "showTitle": false,
     "tableResultSettingsMap": {},
     "title": ""
    }
   },
   "outputs": [
    {
     "output_type": "stream",
     "name": "stdout",
     "output_type": "stream",
     "text": [
      "+----+----------+-------+------+-----+------+----+-----+----+------+-----------+----------+-------+---------+---------------+--------+----------+--------+--------+--------+--------+--------+-----------+-----------+---------+\n|fips|      date|PRECTOT|    PS|   TS| score|year|month|week|season|fips_padded|state_code|  state|dry_spell|dry_spell_group|     lat|       lon|WAT_LAND|NVG_LAND|URB_LAND|GRS_LAND|FOR_LAND|CULTRF_LAND|CULTIR_LAND|CULT_LAND|\n+----+----------+-------+------+-----+------+----+-----+----+------+-----------+----------+-------+---------+---------------+--------+----------+--------+--------+--------+--------+--------+-----------+-----------+---------+\n|1005|2017-01-01|  66.35|100.42|16.08|  null|2017|    1|  52|Winter|      01005|        01|Alabama|        0|              1|31.87067|-85.405456|     0.0|     0.0|     0.4|     2.2|    23.0|       72.6|        1.8|     74.4|\n|1005|2017-01-02|  47.72|100.47|18.35|  null|2017|    1|   1|Winter|      01005|        01|Alabama|        0|              2|31.87067|-85.405456|     0.0|     0.0|     0.4|     2.2|    23.0|       72.6|        1.8|     74.4|\n|1005|2017-01-03|   7.52| 99.91|16.52|0.6069|2017|    1|   1|Winter|      01005|        01|Alabama|        0|              3|31.87067|-85.405456|     0.0|     0.0|     0.4|     2.2|    23.0|       72.6|        1.8|     74.4|\n|1005|2017-01-04|   0.07|100.05|10.71|  null|2017|    1|   1|Winter|      01005|        01|Alabama|        0|              4|31.87067|-85.405456|     0.0|     0.0|     0.4|     2.2|    23.0|       72.6|        1.8|     74.4|\n|1005|2017-01-05|    0.0|100.06| 7.84|  null|2017|    1|   1|Winter|      01005|        01|Alabama|        1|              4|31.87067|-85.405456|     0.0|     0.0|     0.4|     2.2|    23.0|       72.6|        1.8|     74.4|\n|1005|2017-01-06|  17.52|100.22| 7.37|  null|2017|    1|   1|Winter|      01005|        01|Alabama|        0|              5|31.87067|-85.405456|     0.0|     0.0|     0.4|     2.2|    23.0|       72.6|        1.8|     74.4|\n|1005|2017-01-07|    4.3|101.44|-2.14|  null|2017|    1|   1|Winter|      01005|        01|Alabama|        0|              6|31.87067|-85.405456|     0.0|     0.0|     0.4|     2.2|    23.0|       72.6|        1.8|     74.4|\n|1005|2017-01-08|    0.0|102.46|-4.21|  null|2017|    1|   1|Winter|      01005|        01|Alabama|        1|              6|31.87067|-85.405456|     0.0|     0.0|     0.4|     2.2|    23.0|       72.6|        1.8|     74.4|\n|1005|2017-01-09|    0.0|102.29|-0.63|  null|2017|    1|   2|Winter|      01005|        01|Alabama|        1|              6|31.87067|-85.405456|     0.0|     0.0|     0.4|     2.2|    23.0|       72.6|        1.8|     74.4|\n|1005|2017-01-10|   0.02|101.57| 5.73|0.5064|2017|    1|   2|Winter|      01005|        01|Alabama|        0|              7|31.87067|-85.405456|     0.0|     0.0|     0.4|     2.2|    23.0|       72.6|        1.8|     74.4|\n|1005|2017-01-11|   0.04|101.23|12.61|  null|2017|    1|   2|Winter|      01005|        01|Alabama|        0|              8|31.87067|-85.405456|     0.0|     0.0|     0.4|     2.2|    23.0|       72.6|        1.8|     74.4|\n|1005|2017-01-12|   0.01|101.36| 13.7|  null|2017|    1|   2|Winter|      01005|        01|Alabama|        0|              9|31.87067|-85.405456|     0.0|     0.0|     0.4|     2.2|    23.0|       72.6|        1.8|     74.4|\n|1005|2017-01-13|    0.0|101.74|13.95|  null|2017|    1|   2|Winter|      01005|        01|Alabama|        1|              9|31.87067|-85.405456|     0.0|     0.0|     0.4|     2.2|    23.0|       72.6|        1.8|     74.4|\n|1005|2017-01-14|    0.0|101.62|13.48|  null|2017|    1|   2|Winter|      01005|        01|Alabama|        1|              9|31.87067|-85.405456|     0.0|     0.0|     0.4|     2.2|    23.0|       72.6|        1.8|     74.4|\n|1005|2017-01-15|    0.0|101.18|13.58|  null|2017|    1|   2|Winter|      01005|        01|Alabama|        1|              9|31.87067|-85.405456|     0.0|     0.0|     0.4|     2.2|    23.0|       72.6|        1.8|     74.4|\n|1005|2017-01-16|    0.0|101.03|15.27|  null|2017|    1|   3|Winter|      01005|        01|Alabama|        1|              9|31.87067|-85.405456|     0.0|     0.0|     0.4|     2.2|    23.0|       72.6|        1.8|     74.4|\n|1005|2017-01-17|   0.03|100.91|15.61|0.5064|2017|    1|   3|Winter|      01005|        01|Alabama|        0|             10|31.87067|-85.405456|     0.0|     0.0|     0.4|     2.2|    23.0|       72.6|        1.8|     74.4|\n|1005|2017-01-18|   0.04|100.71|17.46|  null|2017|    1|   3|Winter|      01005|        01|Alabama|        0|             11|31.87067|-85.405456|     0.0|     0.0|     0.4|     2.2|    23.0|       72.6|        1.8|     74.4|\n|1005|2017-01-19|   4.75|100.18|17.38|  null|2017|    1|   3|Winter|      01005|        01|Alabama|        0|             12|31.87067|-85.405456|     0.0|     0.0|     0.4|     2.2|    23.0|       72.6|        1.8|     74.4|\n|1005|2017-01-20|   8.97| 99.79|19.13|  null|2017|    1|   3|Winter|      01005|        01|Alabama|        0|             13|31.87067|-85.405456|     0.0|     0.0|     0.4|     2.2|    23.0|       72.6|        1.8|     74.4|\n+----+----------+-------+------+-----+------+----+-----+----+------+-----------+----------+-------+---------+---------------+--------+----------+--------+--------+--------+--------+--------+-----------+-----------+---------+\nonly showing top 20 rows\n\n"
     ]
    }
   ],
   "source": [
    "\n",
    "df_combined = weather.join(soil, on=[\"fips\"], how=\"inner\")\n",
    "\n",
    "\n",
    "df_combined.show()"
   ]
  }
 ],
 "metadata": {
  "application/vnd.databricks.v1+notebook": {
   "computePreferences": null,
   "dashboards": [],
   "environmentMetadata": {
    "base_environment": "",
    "client": "1"
   },
   "language": "python",
   "notebookMetadata": {
    "pythonIndentUnit": 4
   },
   "notebookName": "Drought_EDA 2025-02-16 19:46:22",
   "widgets": {}
  }
 },
 "nbformat": 4,
 "nbformat_minor": 0
}
