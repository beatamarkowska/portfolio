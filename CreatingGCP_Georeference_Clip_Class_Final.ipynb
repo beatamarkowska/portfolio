{
  "cells": [
    {
      "cell_type": "markdown",
      "source": [
        "The purpose of the script is to calculate GCPs and georeference jpg files. The source of the jpg files is the Central Geological Database: https://geolog.pgi.gov.pl/. One jpg file was georeferenced manually using the QGIS program. The remaining GCP points were automatically calculated and georeferencing was performed on their basis. The georeferenced tif files were then clipped to the area calculated from the GCPs."
      ],
      "metadata": {
        "id": "zo-LgeFS0O6u"
      }
    },
    {
      "cell_type": "code",
      "source": [
        "import pandas as pd\n",
        "import numpy as np\n",
        "import os\n",
        "from osgeo import osr, ogr\n",
        "import time\n",
        "!pip install gdal\n",
        "from osgeo import gdal"
      ],
      "metadata": {
        "id": "Qm4V-gmA0Pdm"
      },
      "execution_count": null,
      "outputs": []
    },
    {
      "cell_type": "code",
      "source": [
        "from google.colab import drive\n",
        "drive.mount('/content/drive')"
      ],
      "metadata": {
        "id": "gPtMshSdG1vI",
        "colab": {
          "base_uri": "https://localhost:8080/"
        },
        "outputId": "a1ffc4bd-6855-472c-bed0-d09b1a66dd66"
      },
      "execution_count": null,
      "outputs": [
        {
          "output_type": "stream",
          "name": "stdout",
          "text": [
            "Mounted at /content/drive\n"
          ]
        }
      ]
    },
    {
      "cell_type": "markdown",
      "source": [
        "Input:\n",
        "1. File txt with GCP according EPSG4326.\n",
        "2. Seven jpg files without georeference."
      ],
      "metadata": {
        "id": "vQzyAd7-iZXv"
      }
    },
    {
      "cell_type": "code",
      "source": [
        "# os.mkdir(\"/content/drive/MyDrive/Dane z Kaggla/GDAL/Raster/JPG/10JPG_without_georef \")\n",
        "# !ls"
      ],
      "metadata": {
        "id": "ZLE42Zflf2rH"
      },
      "execution_count": null,
      "outputs": []
    },
    {
      "cell_type": "code",
      "source": [
        "os.chdir(\"/content/drive/MyDrive/Dane z Kaggla/GDAL/Raster/JPG/10JPG_without_georef \")\n",
        "!ls"
      ],
      "metadata": {
        "colab": {
          "base_uri": "https://localhost:8080/"
        },
        "id": "V_I8nlVYKhi4",
        "outputId": "6b1fc18c-7b65-40af-fa75-be39588170b1"
      },
      "execution_count": null,
      "outputs": [
        {
          "output_type": "stream",
          "name": "stdout",
          "text": [
            " coordinates_WGS84.txt\t'Kopia mgsp2A0003.jpg'\t'Kopia mgsp2A0006.jpg'\t  'Kopia wspolrzedne.txt'\n",
            "'Kopia mgsp2A0001.jpg'\t'Kopia mgsp2A0004.jpg'\t'Kopia mgsp2A0007.jpg'\n",
            "'Kopia mgsp2A0002.jpg'\t'Kopia mgsp2A0005.jpg'\t'Kopia wspolrzedne1.txt'\n"
          ]
        }
      ]
    },
    {
      "cell_type": "code",
      "source": [
        "src_Path = '/content/drive/MyDrive/Dane z Kaggla/GDAL/Raster/JPG/10JPG_without_georef '\n",
        "input_files_without_geo = [r for r in os.listdir(src_Path) if r.endswith('jpg')]\n",
        "input_files_without_geo"
      ],
      "metadata": {
        "id": "ucQvwfb5fIE-",
        "colab": {
          "base_uri": "https://localhost:8080/"
        },
        "outputId": "61912f22-c7ff-4c92-d96c-0a722a885494"
      },
      "execution_count": null,
      "outputs": [
        {
          "output_type": "execute_result",
          "data": {
            "text/plain": [
              "['Kopia mgsp2A0007.jpg',\n",
              " 'Kopia mgsp2A0006.jpg',\n",
              " 'Kopia mgsp2A0001.jpg',\n",
              " 'Kopia mgsp2A0005.jpg',\n",
              " 'Kopia mgsp2A0003.jpg',\n",
              " 'Kopia mgsp2A0002.jpg',\n",
              " 'Kopia mgsp2A0004.jpg']"
            ]
          },
          "metadata": {},
          "execution_count": 33
        }
      ]
    },
    {
      "cell_type": "code",
      "source": [
        "# Sort files based on the numeric part at the end of each filename\n",
        "input_7files_without_geo = sorted(input_files_without_geo, key=lambda x: int(x.split('A')[1].split('.')[0]))\n",
        "input_7files_without_geo"
      ],
      "metadata": {
        "colab": {
          "base_uri": "https://localhost:8080/"
        },
        "id": "bS42rSsZE7o0",
        "outputId": "a2d14ead-2161-443b-9435-84b4b5fe063f"
      },
      "execution_count": null,
      "outputs": [
        {
          "output_type": "execute_result",
          "data": {
            "text/plain": [
              "['Kopia mgsp2A0001.jpg',\n",
              " 'Kopia mgsp2A0002.jpg',\n",
              " 'Kopia mgsp2A0003.jpg',\n",
              " 'Kopia mgsp2A0004.jpg',\n",
              " 'Kopia mgsp2A0005.jpg',\n",
              " 'Kopia mgsp2A0006.jpg',\n",
              " 'Kopia mgsp2A0007.jpg']"
            ]
          },
          "metadata": {},
          "execution_count": 37
        }
      ]
    },
    {
      "cell_type": "markdown",
      "source": [
        "Output:\n",
        "1. Seven tif files with georeference."
      ],
      "metadata": {
        "id": "SnbeAVMClH0-"
      }
    },
    {
      "cell_type": "code",
      "source": [
        "output_7files_georeferenced = []\n",
        "for srcRst in input_7files_without_geo:\n",
        "  dstRst = 'georef_' + srcRst[6:-4] + '.tif'\n",
        "  output_7files_georeferenced.append(dstRst)\n",
        "output_7files_georeferenced"
      ],
      "metadata": {
        "id": "SiNCe3-iiHWB",
        "colab": {
          "base_uri": "https://localhost:8080/"
        },
        "outputId": "d67f5421-168f-469a-812b-5f178a1821e0"
      },
      "execution_count": null,
      "outputs": [
        {
          "output_type": "execute_result",
          "data": {
            "text/plain": [
              "['georef_mgsp2A0001.tif',\n",
              " 'georef_mgsp2A0002.tif',\n",
              " 'georef_mgsp2A0003.tif',\n",
              " 'georef_mgsp2A0004.tif',\n",
              " 'georef_mgsp2A0005.tif',\n",
              " 'georef_mgsp2A0006.tif',\n",
              " 'georef_mgsp2A0007.tif']"
            ]
          },
          "metadata": {},
          "execution_count": 60
        }
      ]
    },
    {
      "cell_type": "markdown",
      "source": [
        "Input 7 tif files after georeference for clipping"
      ],
      "metadata": {
        "id": "7hs_U1fRAfVA"
      }
    },
    {
      "cell_type": "code",
      "source": [
        "output_7files_clipped = []\n",
        "for srcRst in input_7files_without_geo:\n",
        "  dstRst = 'clip_' + srcRst[6:-4] + '.tif'\n",
        "  output_7files_clipped.append(dstRst)\n",
        "output_7files_clipped"
      ],
      "metadata": {
        "id": "Le0Pl400BxQO"
      },
      "execution_count": null,
      "outputs": []
    },
    {
      "cell_type": "code",
      "source": [
        "input_7files_with_geo1 = [r for r in os.listdir(src_Path) if r.startswith('temp')]\n",
        "input_7files_with_geo1"
      ],
      "metadata": {
        "colab": {
          "base_uri": "https://localhost:8080/"
        },
        "id": "GElUgQLU5fvi",
        "outputId": "dce38f37-ce03-47c1-e994-3973a96c66c7"
      },
      "execution_count": null,
      "outputs": [
        {
          "output_type": "execute_result",
          "data": {
            "text/plain": [
              "['temp_georef_0007.tif',\n",
              " 'temp_georef_0001.tif',\n",
              " 'temp_georef_0002.tif',\n",
              " 'temp_georef_0003.tif',\n",
              " 'temp_georef_0004.tif',\n",
              " 'temp_georef_0005.tif',\n",
              " 'temp_georef_0006.tif']"
            ]
          },
          "metadata": {},
          "execution_count": 64
        }
      ]
    },
    {
      "cell_type": "code",
      "source": [
        "# Sort files based on the numeric part at the end of each filename\n",
        "input_7files_with_geo = sorted(input_7files_with_geo1, key=lambda x: int(x.split('_')[-1].split('.')[0]))\n",
        "input_7files_with_geo"
      ],
      "metadata": {
        "colab": {
          "base_uri": "https://localhost:8080/"
        },
        "id": "K3syD6a-rp0R",
        "outputId": "db15aa4d-0811-4e97-b714-3317bb48b04f"
      },
      "execution_count": null,
      "outputs": [
        {
          "output_type": "execute_result",
          "data": {
            "text/plain": [
              "['temp_georef_0001.tif',\n",
              " 'temp_georef_0002.tif',\n",
              " 'temp_georef_0003.tif',\n",
              " 'temp_georef_0004.tif',\n",
              " 'temp_georef_0005.tif',\n",
              " 'temp_georef_0006.tif',\n",
              " 'temp_georef_0007.tif']"
            ]
          },
          "metadata": {},
          "execution_count": 73
        }
      ]
    },
    {
      "cell_type": "code",
      "source": [
        "file_path = '/content/drive/MyDrive/Dane z Kaggla/GDAL/Raster/JPG/10JPG_without_georef /coordinates_WGS84.txt'"
      ],
      "metadata": {
        "id": "GYla-7h5jNbC"
      },
      "execution_count": null,
      "outputs": []
    },
    {
      "cell_type": "markdown",
      "source": [
        "Calculating GCP."
      ],
      "metadata": {
        "id": "KrMHuEI4AtTg"
      }
    },
    {
      "cell_type": "code",
      "source": [
        "class CalculatingGCPs:\n",
        "    def __init__(self, gcp_txt_path, num_repetitions=6, increment_value=0.25):\n",
        "        self.gcp_txt_path = gcp_txt_path\n",
        "        self.num_repetitions = num_repetitions\n",
        "        self.increment_value = increment_value\n",
        "\n",
        "    def creating_gcp1(self, path):\n",
        "        data = pd.read_csv(path, header=None)\n",
        "        col = data[[0, 1, 2, 3]]\n",
        "        df = col[1:]\n",
        "        df[[0, 1, 2, 3]] = df[[0, 1, 2, 3]].astype(float)\n",
        "        df[3] = df[3].abs()\n",
        "        return df\n",
        "\n",
        "    def creating_gcp2(self, df, num_repetitions, increment_value):\n",
        "        for _ in range(num_repetitions):\n",
        "            df_last4_modified = df.iloc[-4:].copy()\n",
        "            df_last4_modified[0] = df_last4_modified[0] + increment_value\n",
        "            df = pd.concat([df, df_last4_modified], ignore_index=True)\n",
        "        return df\n",
        "\n",
        "    def creating_gcp3(self, df):\n",
        "        list_of_lists_of_tuples = []\n",
        "        for start in range(0, len(df), 4):\n",
        "            chunk = df.iloc[start:start + 4]\n",
        "            list_of_tuples = [tuple(row) for row in chunk.values]\n",
        "            list_of_lists_of_tuples.append(list_of_tuples)\n",
        "        return list_of_lists_of_tuples\n",
        "\n",
        "    def process(self):\n",
        "        initial_df = self.creating_gcp1(self.gcp_txt_path)\n",
        "        extended_df = self.creating_gcp2(initial_df, self.num_repetitions, self.increment_value)\n",
        "        gcps_list = self.creating_gcp3(extended_df)\n",
        "        return gcps_list\n",
        "\n",
        "\n"
      ],
      "metadata": {
        "id": "d22d323oDmiU"
      },
      "execution_count": null,
      "outputs": []
    },
    {
      "cell_type": "code",
      "source": [
        "# Example usage\n",
        "gcp_txt_path = file_path\n",
        "calc_gcps = CalculatingGCPs(gcp_txt_path)\n",
        "gcps_list = calc_gcps.process()\n",
        "\n",
        "# for i, gcps in enumerate(gcps_list):\n",
        "#     print(f\"GCP set {i + 1}:\")\n",
        "#     for gcp in gcps:\n",
        "#         print(gcp)"
      ],
      "metadata": {
        "colab": {
          "base_uri": "https://localhost:8080/"
        },
        "id": "xiwYe2FVDx1y",
        "outputId": "463e484b-8cb8-42ee-b950-c58500d645f1"
      },
      "execution_count": null,
      "outputs": [
        {
          "output_type": "stream",
          "name": "stderr",
          "text": [
            "<ipython-input-56-0ad53f1d5d19>:11: SettingWithCopyWarning: \n",
            "A value is trying to be set on a copy of a slice from a DataFrame.\n",
            "Try using .loc[row_indexer,col_indexer] = value instead\n",
            "\n",
            "See the caveats in the documentation: https://pandas.pydata.org/pandas-docs/stable/user_guide/indexing.html#returning-a-view-versus-a-copy\n",
            "  df[[0, 1, 2, 3]] = df[[0, 1, 2, 3]].astype(float)\n",
            "<ipython-input-56-0ad53f1d5d19>:12: SettingWithCopyWarning: \n",
            "A value is trying to be set on a copy of a slice from a DataFrame.\n",
            "Try using .loc[row_indexer,col_indexer] = value instead\n",
            "\n",
            "See the caveats in the documentation: https://pandas.pydata.org/pandas-docs/stable/user_guide/indexing.html#returning-a-view-versus-a-copy\n",
            "  df[3] = df[3].abs()\n"
          ]
        }
      ]
    },
    {
      "cell_type": "code",
      "source": [
        "gcps_list"
      ],
      "metadata": {
        "colab": {
          "base_uri": "https://localhost:8080/"
        },
        "id": "OW1INGKjD5ad",
        "outputId": "092282ec-a17b-4c79-a99a-7eca0c225a6a"
      },
      "execution_count": null,
      "outputs": [
        {
          "output_type": "execute_result",
          "data": {
            "text/plain": [
              "[[(16.999505600237047,\n",
              "   54.83496447794371,\n",
              "   342.07563025210067,\n",
              "   855.6708683473391),\n",
              "  (17.248736161698034,\n",
              "   54.833158459382396,\n",
              "   2866.7927170868347,\n",
              "   855.6708683473391),\n",
              "  (17.24963917097869,\n",
              "   54.66700475174174,\n",
              "   2873.2997198879552,\n",
              "   3780.568627450981),\n",
              "  (17.000408609517702,\n",
              "   54.66700475174174,\n",
              "   342.07563025210084,\n",
              "   3774.0616246498603)],\n",
              " [(17.249505600237047,\n",
              "   54.83496447794371,\n",
              "   342.07563025210067,\n",
              "   855.6708683473391),\n",
              "  (17.498736161698034,\n",
              "   54.833158459382396,\n",
              "   2866.7927170868347,\n",
              "   855.6708683473391),\n",
              "  (17.49963917097869,\n",
              "   54.66700475174174,\n",
              "   2873.2997198879552,\n",
              "   3780.568627450981),\n",
              "  (17.250408609517702,\n",
              "   54.66700475174174,\n",
              "   342.07563025210084,\n",
              "   3774.0616246498603)],\n",
              " [(17.499505600237047,\n",
              "   54.83496447794371,\n",
              "   342.07563025210067,\n",
              "   855.6708683473391),\n",
              "  (17.748736161698034,\n",
              "   54.833158459382396,\n",
              "   2866.7927170868347,\n",
              "   855.6708683473391),\n",
              "  (17.74963917097869,\n",
              "   54.66700475174174,\n",
              "   2873.2997198879552,\n",
              "   3780.568627450981),\n",
              "  (17.500408609517702,\n",
              "   54.66700475174174,\n",
              "   342.07563025210084,\n",
              "   3774.0616246498603)],\n",
              " [(17.749505600237047,\n",
              "   54.83496447794371,\n",
              "   342.07563025210067,\n",
              "   855.6708683473391),\n",
              "  (17.998736161698034,\n",
              "   54.833158459382396,\n",
              "   2866.7927170868347,\n",
              "   855.6708683473391),\n",
              "  (17.99963917097869,\n",
              "   54.66700475174174,\n",
              "   2873.2997198879552,\n",
              "   3780.568627450981),\n",
              "  (17.750408609517702,\n",
              "   54.66700475174174,\n",
              "   342.07563025210084,\n",
              "   3774.0616246498603)],\n",
              " [(17.999505600237047,\n",
              "   54.83496447794371,\n",
              "   342.07563025210067,\n",
              "   855.6708683473391),\n",
              "  (18.248736161698034,\n",
              "   54.833158459382396,\n",
              "   2866.7927170868347,\n",
              "   855.6708683473391),\n",
              "  (18.24963917097869,\n",
              "   54.66700475174174,\n",
              "   2873.2997198879552,\n",
              "   3780.568627450981),\n",
              "  (18.000408609517702,\n",
              "   54.66700475174174,\n",
              "   342.07563025210084,\n",
              "   3774.0616246498603)],\n",
              " [(18.249505600237047,\n",
              "   54.83496447794371,\n",
              "   342.07563025210067,\n",
              "   855.6708683473391),\n",
              "  (18.498736161698034,\n",
              "   54.833158459382396,\n",
              "   2866.7927170868347,\n",
              "   855.6708683473391),\n",
              "  (18.49963917097869,\n",
              "   54.66700475174174,\n",
              "   2873.2997198879552,\n",
              "   3780.568627450981),\n",
              "  (18.250408609517702,\n",
              "   54.66700475174174,\n",
              "   342.07563025210084,\n",
              "   3774.0616246498603)],\n",
              " [(18.499505600237047,\n",
              "   54.83496447794371,\n",
              "   342.07563025210067,\n",
              "   855.6708683473391),\n",
              "  (18.748736161698034,\n",
              "   54.833158459382396,\n",
              "   2866.7927170868347,\n",
              "   855.6708683473391),\n",
              "  (18.74963917097869,\n",
              "   54.66700475174174,\n",
              "   2873.2997198879552,\n",
              "   3780.568627450981),\n",
              "  (18.500408609517702,\n",
              "   54.66700475174174,\n",
              "   342.07563025210084,\n",
              "   3774.0616246498603)]]"
            ]
          },
          "metadata": {},
          "execution_count": 58
        }
      ]
    },
    {
      "cell_type": "markdown",
      "source": [
        "Georeferencja"
      ],
      "metadata": {
        "id": "eJTlyT0NA9tJ"
      }
    },
    {
      "cell_type": "code",
      "source": [
        "class GeoReference:\n",
        "    def __init__(self, input_jpegs, output_tiffs, gcp_txt_path, srs_epsg, num_repetitions=6, increment_value=0.25):\n",
        "        self.input_jpegs = input_jpegs\n",
        "        self.output_tiffs = output_tiffs\n",
        "        self.gcp_txt_path = gcp_txt_path\n",
        "        self.srs_epsg = srs_epsg\n",
        "        self.num_repetitions = num_repetitions\n",
        "        self.increment_value = increment_value\n",
        "\n",
        "    def creating_gcp1(self, path):\n",
        "        data = pd.read_csv(path, header=None)\n",
        "        col = data[[0, 1, 2, 3]]\n",
        "        df = col[1:]\n",
        "        df[[0, 1, 2, 3]] = df[[0, 1, 2, 3]].astype(float)\n",
        "        df[3] = df[3].abs()\n",
        "        return df\n",
        "\n",
        "    def creating_gcp2(self, df, num_repetitions, increment_value):\n",
        "        for _ in range(num_repetitions):\n",
        "            df_last4_modified = df.iloc[-4:].copy()\n",
        "            df_last4_modified[0] = df_last4_modified[0] + increment_value\n",
        "            df = pd.concat([df, df_last4_modified], ignore_index=True)\n",
        "        return df\n",
        "\n",
        "    def creating_gcp3(self, df):\n",
        "        list_of_lists_of_tuples = []\n",
        "        for start in range(0, len(df), 4):\n",
        "            chunk = df.iloc[start:start + 4]\n",
        "            list_of_tuples = [tuple(row) for row in chunk.values]\n",
        "            list_of_lists_of_tuples.append(list_of_tuples)\n",
        "        return list_of_lists_of_tuples\n",
        "\n",
        "    def process_gcp(self):\n",
        "        initial_df = self.creating_gcp1(self.gcp_txt_path)\n",
        "        extended_df = self.creating_gcp2(initial_df, self.num_repetitions, self.increment_value)\n",
        "        gcps_list = self.creating_gcp3(extended_df)\n",
        "        return gcps_list\n",
        "\n",
        "    @staticmethod\n",
        "    def create_gdal_gcps(gcp_tuples_list):\n",
        "        gdal_gcps_list = []\n",
        "        for gcp_tuples in gcp_tuples_list:\n",
        "            gdal_gcps = [gdal.GCP(x, y, 0, pixel, line) for x, y, pixel, line in gcp_tuples]\n",
        "            gdal_gcps_list.append(gdal_gcps)\n",
        "        return gdal_gcps_list\n",
        "\n",
        "\n",
        "    @staticmethod\n",
        "    def calculate_geotransform(gcps):\n",
        "        \"\"\"\n",
        "        Calculate the geotransform based on the provided GCPs, ensuring zero rotation terms.\n",
        "        \"\"\"\n",
        "        # Extract GCP coordinates\n",
        "        src_points = [(gcp.GCPPixel, gcp.GCPLine) for gcp in gcps]\n",
        "        dst_points = [(gcp.GCPX, gcp.GCPY) for gcp in gcps]\n",
        "\n",
        "        # Calculate scale factors\n",
        "        pixel_size_x = (dst_points[1][0] - dst_points[0][0]) / (src_points[1][0] - src_points[0][0])\n",
        "        pixel_size_y = (dst_points[2][1] - dst_points[0][1]) / (src_points[2][1] - src_points[0][1])\n",
        "\n",
        "        # Calculate translation terms\n",
        "        top_left_x = dst_points[0][0] - src_points[0][0] * pixel_size_x\n",
        "        top_left_y = dst_points[0][1] - src_points[0][1] * pixel_size_y\n",
        "\n",
        "        # Geotransform with zero rotation terms\n",
        "        geotransform = [top_left_x, pixel_size_x, 0, top_left_y, 0, pixel_size_y]\n",
        "\n",
        "        return geotransform\n",
        "\n",
        "    def georeference_jpeg(self, input_jpeg, output_tiff, gcps):\n",
        "        # Open the input JPEG file\n",
        "        jpeg_dataset = gdal.Open(input_jpeg)\n",
        "        if jpeg_dataset is None:\n",
        "            print(f\"Could not open {input_jpeg}\")\n",
        "            return\n",
        "\n",
        "        # Get the dimensions of the image\n",
        "        cols = jpeg_dataset.RasterXSize\n",
        "        rows = jpeg_dataset.RasterYSize\n",
        "        bands = jpeg_dataset.RasterCount\n",
        "\n",
        "        # Create the output GeoTIFF file\n",
        "        driver = gdal.GetDriverByName('GTiff')\n",
        "        temp_tiff = f'temp_{output_tiff}'  # Unique temporary file for each output\n",
        "        tiff_dataset = driver.Create(temp_tiff, cols, rows, bands, gdal.GDT_Byte)\n",
        "        if tiff_dataset is None:\n",
        "            print(f\"Could not create {temp_tiff}\")\n",
        "            return\n",
        "\n",
        "        # Set the GCPs\n",
        "        gdal_gcps = [gdal.GCP(x, y, 0, pixel, line) for x, y, pixel, line in gcps]\n",
        "        tiff_dataset.SetGCPs(gdal_gcps, \"\")\n",
        "\n",
        "        # Set the projection\n",
        "        srs = osr.SpatialReference()\n",
        "        srs.ImportFromEPSG(self.srs_epsg)\n",
        "        tiff_dataset.SetProjection(srs.ExportToWkt())\n",
        "\n",
        "        # Calculate and set the geotransform\n",
        "        geotransform = self.calculate_geotransform(gdal_gcps)\n",
        "        tiff_dataset.SetGeoTransform(geotransform)\n",
        "\n",
        "        # Write the image data to the GeoTIFF file\n",
        "        for i in range(1, bands + 1):\n",
        "            jpeg_band = jpeg_dataset.GetRasterBand(i)\n",
        "            jpeg_array = jpeg_band.ReadAsArray()\n",
        "            tiff_band = tiff_dataset.GetRasterBand(i)\n",
        "            tiff_band.WriteArray(jpeg_array)\n",
        "            tiff_band.FlushCache()\n",
        "            tiff_band.SetNoDataValue(0)\n",
        "\n",
        "        # Close the datasets\n",
        "        jpeg_dataset = None\n",
        "        tiff_dataset = None\n",
        "\n",
        "        # Apply gdal.Warp to perform TPS transformation and nearest neighbor resampling\n",
        "        warp_options = gdal.WarpOptions(\n",
        "            format='GTiff',\n",
        "            resampleAlg=gdal.GRA_NearestNeighbour,\n",
        "            tps=True\n",
        "        )\n",
        "\n",
        "        gdal.Warp(destNameOrDestDS=output_tiff, srcDSOrSrcDSTab=temp_tiff, options=warp_options)\n",
        "\n",
        "        print(f\"Georeferenced file saved as {output_tiff}\")\n",
        "\n",
        "    def process_all(self):\n",
        "        gcps_list = self.process_gcp()\n",
        "        for input_jpeg, output_tiff, gcps in zip(self.input_jpegs, self.output_tiffs, gcps_list):\n",
        "            self.georeference_jpeg(input_jpeg, output_tiff, gcps)\n",
        "\n",
        "# Example usage\n",
        "input_jpegs = input_7files_without_geo\n",
        "output_tiffs = output_7files_georeferenced\n",
        "gcp_txt_path = file_path\n",
        "srs_epsg = 4326\n",
        "\n",
        "georef = GeoReference(input_jpegs, output_tiffs, gcp_txt_path, srs_epsg)\n",
        "georef.process_all()"
      ],
      "metadata": {
        "colab": {
          "base_uri": "https://localhost:8080/"
        },
        "id": "ivf5YfeR27nk",
        "outputId": "2dbb0577-7b44-4ee7-acd8-1ef2da2977da"
      },
      "execution_count": null,
      "outputs": [
        {
          "output_type": "stream",
          "name": "stderr",
          "text": [
            "<ipython-input-51-87de60d11558>:14: SettingWithCopyWarning: \n",
            "A value is trying to be set on a copy of a slice from a DataFrame.\n",
            "Try using .loc[row_indexer,col_indexer] = value instead\n",
            "\n",
            "See the caveats in the documentation: https://pandas.pydata.org/pandas-docs/stable/user_guide/indexing.html#returning-a-view-versus-a-copy\n",
            "  df[[0, 1, 2, 3]] = df[[0, 1, 2, 3]].astype(float)\n",
            "<ipython-input-51-87de60d11558>:15: SettingWithCopyWarning: \n",
            "A value is trying to be set on a copy of a slice from a DataFrame.\n",
            "Try using .loc[row_indexer,col_indexer] = value instead\n",
            "\n",
            "See the caveats in the documentation: https://pandas.pydata.org/pandas-docs/stable/user_guide/indexing.html#returning-a-view-versus-a-copy\n",
            "  df[3] = df[3].abs()\n"
          ]
        },
        {
          "output_type": "stream",
          "name": "stdout",
          "text": [
            "Georeferenced file saved as georef_0001.tif\n",
            "Georeferenced file saved as georef_0002.tif\n",
            "Georeferenced file saved as georef_0003.tif\n",
            "Georeferenced file saved as georef_0004.tif\n",
            "Georeferenced file saved as georef_0005.tif\n",
            "Georeferenced file saved as georef_0006.tif\n",
            "Georeferenced file saved as georef_0007.tif\n"
          ]
        }
      ]
    },
    {
      "cell_type": "markdown",
      "source": [
        "Clipping."
      ],
      "metadata": {
        "id": "GDgv_leSBHwg"
      }
    },
    {
      "cell_type": "code",
      "source": [
        "def gdalGCPS(gcps):\n",
        "    return [gdal.GCP(float(x), float(y), 0, float(pixel), float(line)) for x, y, pixel, line in gcps]\n",
        "\n",
        "def create_polygon_shapefile(gcps, shp_filename, srs_epsg):\n",
        "    driver = ogr.GetDriverByName(\"ESRI Shapefile\")\n",
        "    if driver is None:\n",
        "        print(\"ESRI Shapefile driver not available.\")\n",
        "        return False\n",
        "\n",
        "    datasource = driver.CreateDataSource(shp_filename)\n",
        "    if datasource is None:\n",
        "        print(f\"Could not create {shp_filename}\")\n",
        "        return False\n",
        "\n",
        "    srs = osr.SpatialReference()\n",
        "    srs.ImportFromEPSG(srs_epsg)\n",
        "\n",
        "    layer = datasource.CreateLayer(\"polygon\", srs, ogr.wkbPolygon)\n",
        "    if layer is None:\n",
        "        print(\"Layer creation failed.\")\n",
        "        return False\n",
        "\n",
        "    ring = ogr.Geometry(ogr.wkbLinearRing)\n",
        "    for gcp in gcps:\n",
        "        ring.AddPoint(float(gcp[0]), float(gcp[1]))\n",
        "\n",
        "    ring.CloseRings()\n",
        "    poly = ogr.Geometry(ogr.wkbPolygon)\n",
        "    poly.AddGeometry(ring)\n",
        "\n",
        "    feature = ogr.Feature(layer.GetLayerDefn())\n",
        "    feature.SetGeometry(poly)\n",
        "    layer.CreateFeature(feature)\n",
        "\n",
        "    feature = None\n",
        "    layer = None\n",
        "    datasource = None\n",
        "\n",
        "    print(f\"Polygon shapefile {shp_filename} created.\")\n",
        "    return True\n",
        "\n",
        "def clip_georeferenced_tiff(input_tiff, output_tiff, shp_filename):\n",
        "    input_dataset = gdal.Open(input_tiff)\n",
        "    if input_dataset is None:\n",
        "        print(f\"Could not open {input_tiff}\")\n",
        "        return False\n",
        "\n",
        "    shapefile_dataset = ogr.Open(shp_filename)\n",
        "    if shapefile_dataset is None:\n",
        "        print(f\"Could not open {shp_filename}\")\n",
        "        return False\n",
        "\n",
        "    shapefile_dataset = None  # Close shapefile dataset\n",
        "\n",
        "    warp_options = gdal.WarpOptions(\n",
        "        format='GTiff',\n",
        "        cutlineDSName=shp_filename,\n",
        "        cropToCutline=True,\n",
        "        dstNodata=0\n",
        "    )\n",
        "\n",
        "    result = gdal.Warp(destNameOrDestDS=output_tiff, srcDSOrSrcDSTab=input_tiff, options=warp_options)\n",
        "    if result is None:\n",
        "        print(f\"Failed to clip {input_tiff} using {shp_filename}\")\n",
        "        return False\n",
        "    else:\n",
        "        print(f\"Clipped file saved as {output_tiff}\")\n",
        "\n",
        "    result = None  # Close the result dataset\n",
        "    input_dataset = None  # Close the input dataset\n",
        "    return True\n",
        "\n",
        "def wait_for_file(filepath, timeout=60):\n",
        "    start_time = time.time()\n",
        "    while not os.path.exists(filepath):\n",
        "        if time.time() - start_time > timeout:\n",
        "            print(f\"Timeout: {filepath} not found after {timeout} seconds\")\n",
        "            return False\n",
        "        time.sleep(0.5)\n",
        "    return True"
      ],
      "metadata": {
        "id": "u6co3bjv_ezM"
      },
      "execution_count": null,
      "outputs": []
    },
    {
      "cell_type": "code",
      "source": [
        "# Example usage\n",
        "input_tiffs = input_7files_with_geo\n",
        "output_tiffs = output_7files_clipped\n",
        "\n",
        "gcps_list = [[(16.999505600237047,\n",
        "   54.83496447794371,\n",
        "   342.07563025210067,\n",
        "   855.6708683473391),\n",
        "  (17.248736161698034,\n",
        "   54.833158459382396,\n",
        "   2866.7927170868347,\n",
        "   855.6708683473391),\n",
        "  (17.24963917097869,\n",
        "   54.66700475174174,\n",
        "   2873.2997198879552,\n",
        "   3780.568627450981),\n",
        "  (17.000408609517702,\n",
        "   54.66700475174174,\n",
        "   342.07563025210084,\n",
        "   3774.0616246498603)],\n",
        " [(17.249505600237047,\n",
        "   54.83496447794371,\n",
        "   342.07563025210067,\n",
        "   855.6708683473391),\n",
        "  (17.498736161698034,\n",
        "   54.833158459382396,\n",
        "   2866.7927170868347,\n",
        "   855.6708683473391),\n",
        "  (17.49963917097869,\n",
        "   54.66700475174174,\n",
        "   2873.2997198879552,\n",
        "   3780.568627450981),\n",
        "  (17.250408609517702,\n",
        "   54.66700475174174,\n",
        "   342.07563025210084,\n",
        "   3774.0616246498603)],\n",
        " [(17.499505600237047,\n",
        "   54.83496447794371,\n",
        "   342.07563025210067,\n",
        "   855.6708683473391),\n",
        "  (17.748736161698034,\n",
        "   54.833158459382396,\n",
        "   2866.7927170868347,\n",
        "   855.6708683473391),\n",
        "  (17.74963917097869,\n",
        "   54.66700475174174,\n",
        "   2873.2997198879552,\n",
        "   3780.568627450981),\n",
        "  (17.500408609517702,\n",
        "   54.66700475174174,\n",
        "   342.07563025210084,\n",
        "   3774.0616246498603)],\n",
        " [(17.749505600237047,\n",
        "   54.83496447794371,\n",
        "   342.07563025210067,\n",
        "   855.6708683473391),\n",
        "  (17.998736161698034,\n",
        "   54.833158459382396,\n",
        "   2866.7927170868347,\n",
        "   855.6708683473391),\n",
        "  (17.99963917097869,\n",
        "   54.66700475174174,\n",
        "   2873.2997198879552,\n",
        "   3780.568627450981),\n",
        "  (17.750408609517702,\n",
        "   54.66700475174174,\n",
        "   342.07563025210084,\n",
        "   3774.0616246498603)],\n",
        " [(17.999505600237047,\n",
        "   54.83496447794371,\n",
        "   342.07563025210067,\n",
        "   855.6708683473391),\n",
        "  (18.248736161698034,\n",
        "   54.833158459382396,\n",
        "   2866.7927170868347,\n",
        "   855.6708683473391),\n",
        "  (18.24963917097869,\n",
        "   54.66700475174174,\n",
        "   2873.2997198879552,\n",
        "   3780.568627450981),\n",
        "  (18.000408609517702,\n",
        "   54.66700475174174,\n",
        "   342.07563025210084,\n",
        "   3774.0616246498603)],\n",
        " [(18.249505600237047,\n",
        "   54.83496447794371,\n",
        "   342.07563025210067,\n",
        "   855.6708683473391),\n",
        "  (18.498736161698034,\n",
        "   54.833158459382396,\n",
        "   2866.7927170868347,\n",
        "   855.6708683473391),\n",
        "  (18.49963917097869,\n",
        "   54.66700475174174,\n",
        "   2873.2997198879552,\n",
        "   3780.568627450981),\n",
        "  (18.250408609517702,\n",
        "   54.66700475174174,\n",
        "   342.07563025210084,\n",
        "   3774.0616246498603)],\n",
        " [(18.499505600237047,\n",
        "   54.83496447794371,\n",
        "   342.07563025210067,\n",
        "   855.6708683473391),\n",
        "  (18.748736161698034,\n",
        "   54.833158459382396,\n",
        "   2866.7927170868347,\n",
        "   855.6708683473391),\n",
        "  (18.74963917097869,\n",
        "   54.66700475174174,\n",
        "   2873.2997198879552,\n",
        "   3780.568627450981),\n",
        "  (18.500408609517702,\n",
        "   54.66700475174174,\n",
        "   342.07563025210084,\n",
        "   3774.0616246498603)]]\n",
        "\n",
        "srs_epsg = 4326\n",
        "\n",
        "for input_tiff, output_tiff, gcps in zip(input_tiffs, output_tiffs, gcps_list):\n",
        "    shp_filename = f\"{os.path.splitext(output_tiff)[0]}.shp\"\n",
        "    if create_polygon_shapefile(gcps, shp_filename, srs_epsg):\n",
        "        if wait_for_file(input_tiff):\n",
        "            clip_georeferenced_tiff(input_tiff, output_tiff, shp_filename)\n",
        "        else:\n",
        "            print(f\"Skipping clipping for {input_tiff} as the file was not available in time.\")"
      ],
      "metadata": {
        "colab": {
          "base_uri": "https://localhost:8080/"
        },
        "id": "vFy7VGyi_e6E",
        "outputId": "69e80c7e-3add-4de8-b5af-c6bfb51c39c1"
      },
      "execution_count": null,
      "outputs": [
        {
          "output_type": "stream",
          "name": "stdout",
          "text": [
            "Polygon shapefile clip_0001.shp created.\n",
            "Clipped file saved as clip_0001.tif\n",
            "Polygon shapefile clip_0002.shp created.\n",
            "Clipped file saved as clip_0002.tif\n",
            "Polygon shapefile clip_0003.shp created.\n",
            "Clipped file saved as clip_0003.tif\n",
            "Polygon shapefile clip_0004.shp created.\n",
            "Clipped file saved as clip_0004.tif\n",
            "Polygon shapefile clip_0005.shp created.\n",
            "Clipped file saved as clip_0005.tif\n",
            "Polygon shapefile clip_0006.shp created.\n",
            "Clipped file saved as clip_0006.tif\n",
            "Polygon shapefile clip_0007.shp created.\n",
            "Clipped file saved as clip_0007.tif\n"
          ]
        }
      ]
    }
  ],
  "metadata": {
    "colab": {
      "provenance": []
    },
    "kernelspec": {
      "display_name": "Python 3",
      "name": "python3"
    },
    "language_info": {
      "name": "python"
    }
  },
  "nbformat": 4,
  "nbformat_minor": 0
}