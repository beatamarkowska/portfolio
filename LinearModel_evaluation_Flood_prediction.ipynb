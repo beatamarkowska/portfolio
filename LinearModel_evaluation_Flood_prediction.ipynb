{
  "cells": [
    {
      "cell_type": "code",
      "execution_count": null,
      "metadata": {
        "id": "lnci9D5ipvin"
      },
      "outputs": [],
      "source": [
        "import pandas as pd\n",
        "import numpy as np\n",
        "import os\n",
        "import matplotlib.pyplot as plt\n",
        "import seaborn as sns\n",
        "from scipy.stats import iqr\n"
      ]
    },
    {
      "cell_type": "code",
      "source": [
        "# Models\n",
        "from sklearn.linear_model import LinearRegression, BayesianRidge, ElasticNetCV, LassoCV, RidgeCV\n",
        "from sklearn.ensemble import RandomForestRegressor, GradientBoostingRegressor, AdaBoostRegressor, BaggingRegressor, VotingRegressor\n",
        "from sklearn.tree import DecisionTreeRegressor\n",
        "from sklearn.svm import SVR\n",
        "import xgboost as xgb"
      ],
      "metadata": {
        "id": "JMOfbBq2Ni3d"
      },
      "execution_count": null,
      "outputs": []
    },
    {
      "cell_type": "code",
      "source": [
        "# Preprocessing\n",
        "from sklearn.feature_extraction import DictVectorizer\n",
        "from sklearn.model_selection import KFold, cross_val_score, train_test_split, GridSearchCV\n",
        "from sklearn.pipeline import Pipeline\n",
        "from sklearn.preprocessing import StandardScaler"
      ],
      "metadata": {
        "id": "5FCfwXTNN9m0"
      },
      "execution_count": null,
      "outputs": []
    },
    {
      "cell_type": "code",
      "source": [
        "# Evaluation\n",
        "from sklearn.metrics import mean_squared_error, r2_score"
      ],
      "metadata": {
        "id": "OrJDZP8tOEH7"
      },
      "execution_count": null,
      "outputs": []
    },
    {
      "cell_type": "code",
      "source": [
        "# Options\n",
        "pd.set_option('display.max_columns',50)\n",
        "plt.style.use('bmh')"
      ],
      "metadata": {
        "id": "lfFCkJVrOHUr"
      },
      "execution_count": null,
      "outputs": []
    },
    {
      "cell_type": "code",
      "source": [
        "from google.colab import drive\n",
        "drive.mount('/content/drive')"
      ],
      "metadata": {
        "id": "gPtMshSdG1vI",
        "colab": {
          "base_uri": "https://localhost:8080/"
        },
        "outputId": "972933bd-2f49-4068-dbe2-e321a3d05bd2"
      },
      "execution_count": null,
      "outputs": [
        {
          "output_type": "stream",
          "name": "stdout",
          "text": [
            "Mounted at /content/drive\n"
          ]
        }
      ]
    },
    {
      "cell_type": "code",
      "source": [
        "os.chdir(\"/content/drive/MyDrive/LinearRegression\")\n",
        "!ls"
      ],
      "metadata": {
        "id": "TDLvFTIdRAQV",
        "colab": {
          "base_uri": "https://localhost:8080/"
        },
        "outputId": "a4ca510f-e9a3-447b-bf32-a95c127bd384"
      },
      "execution_count": null,
      "outputs": [
        {
          "output_type": "stream",
          "name": "stdout",
          "text": [
            "epi_r.csv  nyc-east-river-bicycle-counts1.csv  weatherHistory.csv\n",
            "Flood\t   nyc-east-river-bicycle-counts.csv\n"
          ]
        }
      ]
    },
    {
      "cell_type": "code",
      "source": [
        "\n",
        "for dirname, _, filenames in os.walk('/content/drive/MyDrive/LinearRegression'):\n",
        "    for filename in filenames:\n",
        "        print(os.path.join(dirname, filename))"
      ],
      "metadata": {
        "colab": {
          "base_uri": "https://localhost:8080/"
        },
        "id": "8GeLPAnLOWF7",
        "outputId": "da76e4ce-a0d7-40fc-ac7a-b894bf3906dd"
      },
      "execution_count": null,
      "outputs": [
        {
          "output_type": "stream",
          "name": "stdout",
          "text": [
            "/content/drive/MyDrive/LinearRegression/nyc-east-river-bicycle-counts1.csv\n",
            "/content/drive/MyDrive/LinearRegression/nyc-east-river-bicycle-counts.csv\n",
            "/content/drive/MyDrive/LinearRegression/epi_r.csv\n",
            "/content/drive/MyDrive/LinearRegression/weatherHistory.csv\n",
            "/content/drive/MyDrive/LinearRegression/Flood/test.csv/test.csv\n",
            "/content/drive/MyDrive/LinearRegression/Flood/train.csv/train.csv\n",
            "/content/drive/MyDrive/LinearRegression/Flood/sample_submission.csv/sample_submission.csv\n"
          ]
        }
      ]
    },
    {
      "cell_type": "code",
      "source": [
        "train = pd.read_csv('/content/drive/MyDrive/LinearRegression/Flood/train.csv/train.csv', index_col ='id')"
      ],
      "metadata": {
        "id": "xxGY7cjdPizd"
      },
      "execution_count": null,
      "outputs": []
    },
    {
      "cell_type": "code",
      "source": [
        "test = pd.read_csv('/content/drive/MyDrive/LinearRegression/Flood/test.csv/test.csv', index_col ='id')"
      ],
      "metadata": {
        "id": "bpQZJsJXQEg0"
      },
      "execution_count": null,
      "outputs": []
    },
    {
      "cell_type": "code",
      "source": [
        "train.shape"
      ],
      "metadata": {
        "colab": {
          "base_uri": "https://localhost:8080/"
        },
        "id": "9SlpHqWjQwyO",
        "outputId": "5858ff76-e265-4ae3-ae3d-f94de5bc283d"
      },
      "execution_count": null,
      "outputs": [
        {
          "output_type": "execute_result",
          "data": {
            "text/plain": [
              "(1117957, 21)"
            ]
          },
          "metadata": {},
          "execution_count": 11
        }
      ]
    },
    {
      "cell_type": "code",
      "source": [
        "test.shape"
      ],
      "metadata": {
        "colab": {
          "base_uri": "https://localhost:8080/"
        },
        "id": "3Bn3M48mQ9Lz",
        "outputId": "9e664db5-2fb2-43b2-b6bc-3fbf336fe137"
      },
      "execution_count": null,
      "outputs": [
        {
          "output_type": "execute_result",
          "data": {
            "text/plain": [
              "(745305, 20)"
            ]
          },
          "metadata": {},
          "execution_count": 12
        }
      ]
    },
    {
      "cell_type": "code",
      "source": [
        "# train.info()"
      ],
      "metadata": {
        "id": "9MiL2RuvRfb0"
      },
      "execution_count": null,
      "outputs": []
    },
    {
      "cell_type": "code",
      "source": [
        "# test.info()"
      ],
      "metadata": {
        "id": "CIWZd1udRkor"
      },
      "execution_count": null,
      "outputs": []
    },
    {
      "cell_type": "code",
      "source": [
        "cols = train.drop('FloodProbability', axis = 1).columns.tolist()"
      ],
      "metadata": {
        "id": "fRGRziSGSSZ7"
      },
      "execution_count": null,
      "outputs": []
    },
    {
      "cell_type": "code",
      "source": [
        "cols"
      ],
      "metadata": {
        "colab": {
          "base_uri": "https://localhost:8080/"
        },
        "id": "IetQcx03SV_D",
        "outputId": "a2757a36-e4fe-4461-f628-f289ee108a5f"
      },
      "execution_count": null,
      "outputs": [
        {
          "output_type": "execute_result",
          "data": {
            "text/plain": [
              "['MonsoonIntensity',\n",
              " 'TopographyDrainage',\n",
              " 'RiverManagement',\n",
              " 'Deforestation',\n",
              " 'Urbanization',\n",
              " 'ClimateChange',\n",
              " 'DamsQuality',\n",
              " 'Siltation',\n",
              " 'AgriculturalPractices',\n",
              " 'Encroachments',\n",
              " 'IneffectiveDisasterPreparedness',\n",
              " 'DrainageSystems',\n",
              " 'CoastalVulnerability',\n",
              " 'Landslides',\n",
              " 'Watersheds',\n",
              " 'DeterioratingInfrastructure',\n",
              " 'PopulationScore',\n",
              " 'WetlandLoss',\n",
              " 'InadequatePlanning',\n",
              " 'PoliticalFactors']"
            ]
          },
          "metadata": {},
          "execution_count": 14
        }
      ]
    },
    {
      "cell_type": "code",
      "source": [
        "# for col in cols:\n",
        "#     fig, ax = plt.subplots(figsize=(6,2))\n",
        "#     max_val = round(train[col].max()) + 1\n",
        "#     train[col].hist(density=True,bins = np.arange(0,max_val,1), ax=ax)\n",
        "#     plt.xticks(np.arange(0,20,1))\n",
        "#     plt.title(col)\n",
        "#     plt.show"
      ],
      "metadata": {
        "id": "FHUR94V5UHGk"
      },
      "execution_count": null,
      "outputs": []
    },
    {
      "cell_type": "code",
      "source": [
        "round(train.agg(['min','mean','median','max','var','std','skew']),2).T"
      ],
      "metadata": {
        "colab": {
          "base_uri": "https://localhost:8080/",
          "height": 708
        },
        "id": "U2NTp3jMi8-j",
        "outputId": "b97b3c7c-4026-44f3-b6c1-781366ddbc2a"
      },
      "execution_count": null,
      "outputs": [
        {
          "output_type": "execute_result",
          "data": {
            "text/plain": [
              "                                  min  mean  median    max   var   std  skew\n",
              "MonsoonIntensity                 0.00  4.92     5.0  16.00  4.23  2.06  0.44\n",
              "TopographyDrainage               0.00  4.93     5.0  18.00  4.38  2.09  0.46\n",
              "RiverManagement                  0.00  4.96     5.0  16.00  4.29  2.07  0.43\n",
              "Deforestation                    0.00  4.94     5.0  17.00  4.21  2.05  0.43\n",
              "Urbanization                     0.00  4.94     5.0  17.00  4.34  2.08  0.44\n",
              "ClimateChange                    0.00  4.93     5.0  17.00  4.23  2.06  0.43\n",
              "DamsQuality                      0.00  4.96     5.0  16.00  4.34  2.08  0.44\n",
              "Siltation                        0.00  4.93     5.0  16.00  4.27  2.07  0.45\n",
              "AgriculturalPractices            0.00  4.94     5.0  16.00  4.28  2.07  0.42\n",
              "Encroachments                    0.00  4.95     5.0  18.00  4.34  2.08  0.46\n",
              "IneffectiveDisasterPreparedness  0.00  4.95     5.0  16.00  4.32  2.08  0.44\n",
              "DrainageSystems                  0.00  4.95     5.0  17.00  4.29  2.07  0.44\n",
              "CoastalVulnerability             0.00  4.95     5.0  17.00  4.36  2.09  0.44\n",
              "Landslides                       0.00  4.93     5.0  16.00  4.32  2.08  0.43\n",
              "Watersheds                       0.00  4.93     5.0  16.00  4.34  2.08  0.45\n",
              "DeterioratingInfrastructure      0.00  4.93     5.0  17.00  4.26  2.06  0.44\n",
              "PopulationScore                  0.00  4.93     5.0  18.00  4.30  2.07  0.45\n",
              "WetlandLoss                      0.00  4.95     5.0  19.00  4.28  2.07  0.44\n",
              "InadequatePlanning               0.00  4.94     5.0  16.00  4.33  2.08  0.46\n",
              "PoliticalFactors                 0.00  4.94     5.0  16.00  4.37  2.09  0.44\n",
              "FloodProbability                 0.28  0.50     0.5   0.72  0.00  0.05  0.05"
            ],
            "text/html": [
              "\n",
              "  <div id=\"df-7ba4b55c-e411-4a97-8acb-b44cf07ab53c\" class=\"colab-df-container\">\n",
              "    <div>\n",
              "<style scoped>\n",
              "    .dataframe tbody tr th:only-of-type {\n",
              "        vertical-align: middle;\n",
              "    }\n",
              "\n",
              "    .dataframe tbody tr th {\n",
              "        vertical-align: top;\n",
              "    }\n",
              "\n",
              "    .dataframe thead th {\n",
              "        text-align: right;\n",
              "    }\n",
              "</style>\n",
              "<table border=\"1\" class=\"dataframe\">\n",
              "  <thead>\n",
              "    <tr style=\"text-align: right;\">\n",
              "      <th></th>\n",
              "      <th>min</th>\n",
              "      <th>mean</th>\n",
              "      <th>median</th>\n",
              "      <th>max</th>\n",
              "      <th>var</th>\n",
              "      <th>std</th>\n",
              "      <th>skew</th>\n",
              "    </tr>\n",
              "  </thead>\n",
              "  <tbody>\n",
              "    <tr>\n",
              "      <th>MonsoonIntensity</th>\n",
              "      <td>0.00</td>\n",
              "      <td>4.92</td>\n",
              "      <td>5.0</td>\n",
              "      <td>16.00</td>\n",
              "      <td>4.23</td>\n",
              "      <td>2.06</td>\n",
              "      <td>0.44</td>\n",
              "    </tr>\n",
              "    <tr>\n",
              "      <th>TopographyDrainage</th>\n",
              "      <td>0.00</td>\n",
              "      <td>4.93</td>\n",
              "      <td>5.0</td>\n",
              "      <td>18.00</td>\n",
              "      <td>4.38</td>\n",
              "      <td>2.09</td>\n",
              "      <td>0.46</td>\n",
              "    </tr>\n",
              "    <tr>\n",
              "      <th>RiverManagement</th>\n",
              "      <td>0.00</td>\n",
              "      <td>4.96</td>\n",
              "      <td>5.0</td>\n",
              "      <td>16.00</td>\n",
              "      <td>4.29</td>\n",
              "      <td>2.07</td>\n",
              "      <td>0.43</td>\n",
              "    </tr>\n",
              "    <tr>\n",
              "      <th>Deforestation</th>\n",
              "      <td>0.00</td>\n",
              "      <td>4.94</td>\n",
              "      <td>5.0</td>\n",
              "      <td>17.00</td>\n",
              "      <td>4.21</td>\n",
              "      <td>2.05</td>\n",
              "      <td>0.43</td>\n",
              "    </tr>\n",
              "    <tr>\n",
              "      <th>Urbanization</th>\n",
              "      <td>0.00</td>\n",
              "      <td>4.94</td>\n",
              "      <td>5.0</td>\n",
              "      <td>17.00</td>\n",
              "      <td>4.34</td>\n",
              "      <td>2.08</td>\n",
              "      <td>0.44</td>\n",
              "    </tr>\n",
              "    <tr>\n",
              "      <th>ClimateChange</th>\n",
              "      <td>0.00</td>\n",
              "      <td>4.93</td>\n",
              "      <td>5.0</td>\n",
              "      <td>17.00</td>\n",
              "      <td>4.23</td>\n",
              "      <td>2.06</td>\n",
              "      <td>0.43</td>\n",
              "    </tr>\n",
              "    <tr>\n",
              "      <th>DamsQuality</th>\n",
              "      <td>0.00</td>\n",
              "      <td>4.96</td>\n",
              "      <td>5.0</td>\n",
              "      <td>16.00</td>\n",
              "      <td>4.34</td>\n",
              "      <td>2.08</td>\n",
              "      <td>0.44</td>\n",
              "    </tr>\n",
              "    <tr>\n",
              "      <th>Siltation</th>\n",
              "      <td>0.00</td>\n",
              "      <td>4.93</td>\n",
              "      <td>5.0</td>\n",
              "      <td>16.00</td>\n",
              "      <td>4.27</td>\n",
              "      <td>2.07</td>\n",
              "      <td>0.45</td>\n",
              "    </tr>\n",
              "    <tr>\n",
              "      <th>AgriculturalPractices</th>\n",
              "      <td>0.00</td>\n",
              "      <td>4.94</td>\n",
              "      <td>5.0</td>\n",
              "      <td>16.00</td>\n",
              "      <td>4.28</td>\n",
              "      <td>2.07</td>\n",
              "      <td>0.42</td>\n",
              "    </tr>\n",
              "    <tr>\n",
              "      <th>Encroachments</th>\n",
              "      <td>0.00</td>\n",
              "      <td>4.95</td>\n",
              "      <td>5.0</td>\n",
              "      <td>18.00</td>\n",
              "      <td>4.34</td>\n",
              "      <td>2.08</td>\n",
              "      <td>0.46</td>\n",
              "    </tr>\n",
              "    <tr>\n",
              "      <th>IneffectiveDisasterPreparedness</th>\n",
              "      <td>0.00</td>\n",
              "      <td>4.95</td>\n",
              "      <td>5.0</td>\n",
              "      <td>16.00</td>\n",
              "      <td>4.32</td>\n",
              "      <td>2.08</td>\n",
              "      <td>0.44</td>\n",
              "    </tr>\n",
              "    <tr>\n",
              "      <th>DrainageSystems</th>\n",
              "      <td>0.00</td>\n",
              "      <td>4.95</td>\n",
              "      <td>5.0</td>\n",
              "      <td>17.00</td>\n",
              "      <td>4.29</td>\n",
              "      <td>2.07</td>\n",
              "      <td>0.44</td>\n",
              "    </tr>\n",
              "    <tr>\n",
              "      <th>CoastalVulnerability</th>\n",
              "      <td>0.00</td>\n",
              "      <td>4.95</td>\n",
              "      <td>5.0</td>\n",
              "      <td>17.00</td>\n",
              "      <td>4.36</td>\n",
              "      <td>2.09</td>\n",
              "      <td>0.44</td>\n",
              "    </tr>\n",
              "    <tr>\n",
              "      <th>Landslides</th>\n",
              "      <td>0.00</td>\n",
              "      <td>4.93</td>\n",
              "      <td>5.0</td>\n",
              "      <td>16.00</td>\n",
              "      <td>4.32</td>\n",
              "      <td>2.08</td>\n",
              "      <td>0.43</td>\n",
              "    </tr>\n",
              "    <tr>\n",
              "      <th>Watersheds</th>\n",
              "      <td>0.00</td>\n",
              "      <td>4.93</td>\n",
              "      <td>5.0</td>\n",
              "      <td>16.00</td>\n",
              "      <td>4.34</td>\n",
              "      <td>2.08</td>\n",
              "      <td>0.45</td>\n",
              "    </tr>\n",
              "    <tr>\n",
              "      <th>DeterioratingInfrastructure</th>\n",
              "      <td>0.00</td>\n",
              "      <td>4.93</td>\n",
              "      <td>5.0</td>\n",
              "      <td>17.00</td>\n",
              "      <td>4.26</td>\n",
              "      <td>2.06</td>\n",
              "      <td>0.44</td>\n",
              "    </tr>\n",
              "    <tr>\n",
              "      <th>PopulationScore</th>\n",
              "      <td>0.00</td>\n",
              "      <td>4.93</td>\n",
              "      <td>5.0</td>\n",
              "      <td>18.00</td>\n",
              "      <td>4.30</td>\n",
              "      <td>2.07</td>\n",
              "      <td>0.45</td>\n",
              "    </tr>\n",
              "    <tr>\n",
              "      <th>WetlandLoss</th>\n",
              "      <td>0.00</td>\n",
              "      <td>4.95</td>\n",
              "      <td>5.0</td>\n",
              "      <td>19.00</td>\n",
              "      <td>4.28</td>\n",
              "      <td>2.07</td>\n",
              "      <td>0.44</td>\n",
              "    </tr>\n",
              "    <tr>\n",
              "      <th>InadequatePlanning</th>\n",
              "      <td>0.00</td>\n",
              "      <td>4.94</td>\n",
              "      <td>5.0</td>\n",
              "      <td>16.00</td>\n",
              "      <td>4.33</td>\n",
              "      <td>2.08</td>\n",
              "      <td>0.46</td>\n",
              "    </tr>\n",
              "    <tr>\n",
              "      <th>PoliticalFactors</th>\n",
              "      <td>0.00</td>\n",
              "      <td>4.94</td>\n",
              "      <td>5.0</td>\n",
              "      <td>16.00</td>\n",
              "      <td>4.37</td>\n",
              "      <td>2.09</td>\n",
              "      <td>0.44</td>\n",
              "    </tr>\n",
              "    <tr>\n",
              "      <th>FloodProbability</th>\n",
              "      <td>0.28</td>\n",
              "      <td>0.50</td>\n",
              "      <td>0.5</td>\n",
              "      <td>0.72</td>\n",
              "      <td>0.00</td>\n",
              "      <td>0.05</td>\n",
              "      <td>0.05</td>\n",
              "    </tr>\n",
              "  </tbody>\n",
              "</table>\n",
              "</div>\n",
              "    <div class=\"colab-df-buttons\">\n",
              "\n",
              "  <div class=\"colab-df-container\">\n",
              "    <button class=\"colab-df-convert\" onclick=\"convertToInteractive('df-7ba4b55c-e411-4a97-8acb-b44cf07ab53c')\"\n",
              "            title=\"Convert this dataframe to an interactive table.\"\n",
              "            style=\"display:none;\">\n",
              "\n",
              "  <svg xmlns=\"http://www.w3.org/2000/svg\" height=\"24px\" viewBox=\"0 -960 960 960\">\n",
              "    <path d=\"M120-120v-720h720v720H120Zm60-500h600v-160H180v160Zm220 220h160v-160H400v160Zm0 220h160v-160H400v160ZM180-400h160v-160H180v160Zm440 0h160v-160H620v160ZM180-180h160v-160H180v160Zm440 0h160v-160H620v160Z\"/>\n",
              "  </svg>\n",
              "    </button>\n",
              "\n",
              "  <style>\n",
              "    .colab-df-container {\n",
              "      display:flex;\n",
              "      gap: 12px;\n",
              "    }\n",
              "\n",
              "    .colab-df-convert {\n",
              "      background-color: #E8F0FE;\n",
              "      border: none;\n",
              "      border-radius: 50%;\n",
              "      cursor: pointer;\n",
              "      display: none;\n",
              "      fill: #1967D2;\n",
              "      height: 32px;\n",
              "      padding: 0 0 0 0;\n",
              "      width: 32px;\n",
              "    }\n",
              "\n",
              "    .colab-df-convert:hover {\n",
              "      background-color: #E2EBFA;\n",
              "      box-shadow: 0px 1px 2px rgba(60, 64, 67, 0.3), 0px 1px 3px 1px rgba(60, 64, 67, 0.15);\n",
              "      fill: #174EA6;\n",
              "    }\n",
              "\n",
              "    .colab-df-buttons div {\n",
              "      margin-bottom: 4px;\n",
              "    }\n",
              "\n",
              "    [theme=dark] .colab-df-convert {\n",
              "      background-color: #3B4455;\n",
              "      fill: #D2E3FC;\n",
              "    }\n",
              "\n",
              "    [theme=dark] .colab-df-convert:hover {\n",
              "      background-color: #434B5C;\n",
              "      box-shadow: 0px 1px 3px 1px rgba(0, 0, 0, 0.15);\n",
              "      filter: drop-shadow(0px 1px 2px rgba(0, 0, 0, 0.3));\n",
              "      fill: #FFFFFF;\n",
              "    }\n",
              "  </style>\n",
              "\n",
              "    <script>\n",
              "      const buttonEl =\n",
              "        document.querySelector('#df-7ba4b55c-e411-4a97-8acb-b44cf07ab53c button.colab-df-convert');\n",
              "      buttonEl.style.display =\n",
              "        google.colab.kernel.accessAllowed ? 'block' : 'none';\n",
              "\n",
              "      async function convertToInteractive(key) {\n",
              "        const element = document.querySelector('#df-7ba4b55c-e411-4a97-8acb-b44cf07ab53c');\n",
              "        const dataTable =\n",
              "          await google.colab.kernel.invokeFunction('convertToInteractive',\n",
              "                                                    [key], {});\n",
              "        if (!dataTable) return;\n",
              "\n",
              "        const docLinkHtml = 'Like what you see? Visit the ' +\n",
              "          '<a target=\"_blank\" href=https://colab.research.google.com/notebooks/data_table.ipynb>data table notebook</a>'\n",
              "          + ' to learn more about interactive tables.';\n",
              "        element.innerHTML = '';\n",
              "        dataTable['output_type'] = 'display_data';\n",
              "        await google.colab.output.renderOutput(dataTable, element);\n",
              "        const docLink = document.createElement('div');\n",
              "        docLink.innerHTML = docLinkHtml;\n",
              "        element.appendChild(docLink);\n",
              "      }\n",
              "    </script>\n",
              "  </div>\n",
              "\n",
              "\n",
              "<div id=\"df-fe5265ee-da39-49b0-a847-92808dfb6483\">\n",
              "  <button class=\"colab-df-quickchart\" onclick=\"quickchart('df-fe5265ee-da39-49b0-a847-92808dfb6483')\"\n",
              "            title=\"Suggest charts\"\n",
              "            style=\"display:none;\">\n",
              "\n",
              "<svg xmlns=\"http://www.w3.org/2000/svg\" height=\"24px\"viewBox=\"0 0 24 24\"\n",
              "     width=\"24px\">\n",
              "    <g>\n",
              "        <path d=\"M19 3H5c-1.1 0-2 .9-2 2v14c0 1.1.9 2 2 2h14c1.1 0 2-.9 2-2V5c0-1.1-.9-2-2-2zM9 17H7v-7h2v7zm4 0h-2V7h2v10zm4 0h-2v-4h2v4z\"/>\n",
              "    </g>\n",
              "</svg>\n",
              "  </button>\n",
              "\n",
              "<style>\n",
              "  .colab-df-quickchart {\n",
              "      --bg-color: #E8F0FE;\n",
              "      --fill-color: #1967D2;\n",
              "      --hover-bg-color: #E2EBFA;\n",
              "      --hover-fill-color: #174EA6;\n",
              "      --disabled-fill-color: #AAA;\n",
              "      --disabled-bg-color: #DDD;\n",
              "  }\n",
              "\n",
              "  [theme=dark] .colab-df-quickchart {\n",
              "      --bg-color: #3B4455;\n",
              "      --fill-color: #D2E3FC;\n",
              "      --hover-bg-color: #434B5C;\n",
              "      --hover-fill-color: #FFFFFF;\n",
              "      --disabled-bg-color: #3B4455;\n",
              "      --disabled-fill-color: #666;\n",
              "  }\n",
              "\n",
              "  .colab-df-quickchart {\n",
              "    background-color: var(--bg-color);\n",
              "    border: none;\n",
              "    border-radius: 50%;\n",
              "    cursor: pointer;\n",
              "    display: none;\n",
              "    fill: var(--fill-color);\n",
              "    height: 32px;\n",
              "    padding: 0;\n",
              "    width: 32px;\n",
              "  }\n",
              "\n",
              "  .colab-df-quickchart:hover {\n",
              "    background-color: var(--hover-bg-color);\n",
              "    box-shadow: 0 1px 2px rgba(60, 64, 67, 0.3), 0 1px 3px 1px rgba(60, 64, 67, 0.15);\n",
              "    fill: var(--button-hover-fill-color);\n",
              "  }\n",
              "\n",
              "  .colab-df-quickchart-complete:disabled,\n",
              "  .colab-df-quickchart-complete:disabled:hover {\n",
              "    background-color: var(--disabled-bg-color);\n",
              "    fill: var(--disabled-fill-color);\n",
              "    box-shadow: none;\n",
              "  }\n",
              "\n",
              "  .colab-df-spinner {\n",
              "    border: 2px solid var(--fill-color);\n",
              "    border-color: transparent;\n",
              "    border-bottom-color: var(--fill-color);\n",
              "    animation:\n",
              "      spin 1s steps(1) infinite;\n",
              "  }\n",
              "\n",
              "  @keyframes spin {\n",
              "    0% {\n",
              "      border-color: transparent;\n",
              "      border-bottom-color: var(--fill-color);\n",
              "      border-left-color: var(--fill-color);\n",
              "    }\n",
              "    20% {\n",
              "      border-color: transparent;\n",
              "      border-left-color: var(--fill-color);\n",
              "      border-top-color: var(--fill-color);\n",
              "    }\n",
              "    30% {\n",
              "      border-color: transparent;\n",
              "      border-left-color: var(--fill-color);\n",
              "      border-top-color: var(--fill-color);\n",
              "      border-right-color: var(--fill-color);\n",
              "    }\n",
              "    40% {\n",
              "      border-color: transparent;\n",
              "      border-right-color: var(--fill-color);\n",
              "      border-top-color: var(--fill-color);\n",
              "    }\n",
              "    60% {\n",
              "      border-color: transparent;\n",
              "      border-right-color: var(--fill-color);\n",
              "    }\n",
              "    80% {\n",
              "      border-color: transparent;\n",
              "      border-right-color: var(--fill-color);\n",
              "      border-bottom-color: var(--fill-color);\n",
              "    }\n",
              "    90% {\n",
              "      border-color: transparent;\n",
              "      border-bottom-color: var(--fill-color);\n",
              "    }\n",
              "  }\n",
              "</style>\n",
              "\n",
              "  <script>\n",
              "    async function quickchart(key) {\n",
              "      const quickchartButtonEl =\n",
              "        document.querySelector('#' + key + ' button');\n",
              "      quickchartButtonEl.disabled = true;  // To prevent multiple clicks.\n",
              "      quickchartButtonEl.classList.add('colab-df-spinner');\n",
              "      try {\n",
              "        const charts = await google.colab.kernel.invokeFunction(\n",
              "            'suggestCharts', [key], {});\n",
              "      } catch (error) {\n",
              "        console.error('Error during call to suggestCharts:', error);\n",
              "      }\n",
              "      quickchartButtonEl.classList.remove('colab-df-spinner');\n",
              "      quickchartButtonEl.classList.add('colab-df-quickchart-complete');\n",
              "    }\n",
              "    (() => {\n",
              "      let quickchartButtonEl =\n",
              "        document.querySelector('#df-fe5265ee-da39-49b0-a847-92808dfb6483 button');\n",
              "      quickchartButtonEl.style.display =\n",
              "        google.colab.kernel.accessAllowed ? 'block' : 'none';\n",
              "    })();\n",
              "  </script>\n",
              "</div>\n",
              "\n",
              "    </div>\n",
              "  </div>\n"
            ],
            "application/vnd.google.colaboratory.intrinsic+json": {
              "type": "dataframe",
              "summary": "{\n  \"name\": \"round(train\",\n  \"rows\": 21,\n  \"fields\": [\n    {\n      \"column\": \"min\",\n      \"properties\": {\n        \"dtype\": \"number\",\n        \"std\": 0.06110100926607788,\n        \"min\": 0.0,\n        \"max\": 0.28,\n        \"num_unique_values\": 2,\n        \"samples\": [\n          0.28,\n          0.0\n        ],\n        \"semantic_type\": \"\",\n        \"description\": \"\"\n      }\n    },\n    {\n      \"column\": \"mean\",\n      \"properties\": {\n        \"dtype\": \"number\",\n        \"std\": 0.9689493573674824,\n        \"min\": 0.5,\n        \"max\": 4.96,\n        \"num_unique_values\": 6,\n        \"samples\": [\n          4.92,\n          4.93\n        ],\n        \"semantic_type\": \"\",\n        \"description\": \"\"\n      }\n    },\n    {\n      \"column\": \"median\",\n      \"properties\": {\n        \"dtype\": \"number\",\n        \"std\": 0.9819805060619656,\n        \"min\": 0.5,\n        \"max\": 5.0,\n        \"num_unique_values\": 2,\n        \"samples\": [\n          0.5,\n          5.0\n        ],\n        \"semantic_type\": \"\",\n        \"description\": \"\"\n      }\n    },\n    {\n      \"column\": \"max\",\n      \"properties\": {\n        \"dtype\": \"number\",\n        \"std\": 3.6088409958507914,\n        \"min\": 0.72,\n        \"max\": 19.0,\n        \"num_unique_values\": 5,\n        \"samples\": [\n          18.0,\n          0.72\n        ],\n        \"semantic_type\": \"\",\n        \"description\": \"\"\n      }\n    },\n    {\n      \"column\": \"var\",\n      \"properties\": {\n        \"dtype\": \"number\",\n        \"std\": 0.9403823943582992,\n        \"min\": 0.0,\n        \"max\": 4.38,\n        \"num_unique_values\": 14,\n        \"samples\": [\n          4.26,\n          4.33\n        ],\n        \"semantic_type\": \"\",\n        \"description\": \"\"\n      }\n    },\n    {\n      \"column\": \"std\",\n      \"properties\": {\n        \"dtype\": \"number\",\n        \"std\": 0.4418020457388666,\n        \"min\": 0.05,\n        \"max\": 2.09,\n        \"num_unique_values\": 6,\n        \"samples\": [\n          2.06,\n          2.09\n        ],\n        \"semantic_type\": \"\",\n        \"description\": \"\"\n      }\n    },\n    {\n      \"column\": \"skew\",\n      \"properties\": {\n        \"dtype\": \"number\",\n        \"std\": 0.08608965426477547,\n        \"min\": 0.05,\n        \"max\": 0.46,\n        \"num_unique_values\": 6,\n        \"samples\": [\n          0.44,\n          0.46\n        ],\n        \"semantic_type\": \"\",\n        \"description\": \"\"\n      }\n    }\n  ]\n}"
            }
          },
          "metadata": {},
          "execution_count": 15
        }
      ]
    },
    {
      "cell_type": "code",
      "source": [
        "corr = train.drop('FloodProbability', axis=1).corr()\n",
        "# corr"
      ],
      "metadata": {
        "id": "ZTz1ftqPjOgB"
      },
      "execution_count": null,
      "outputs": []
    },
    {
      "cell_type": "code",
      "source": [
        "mask = np.triu(np.ones_like(corr, dtype = bool))\n"
      ],
      "metadata": {
        "id": "kTvlOU6nk2-K"
      },
      "execution_count": null,
      "outputs": []
    },
    {
      "cell_type": "code",
      "source": [
        "sns.heatmap(corr, mask = mask,linewidth=0.1)\n",
        "plt.show()"
      ],
      "metadata": {
        "colab": {
          "base_uri": "https://localhost:8080/",
          "height": 636
        },
        "id": "h-8D5SmUnLTx",
        "outputId": "c1eac0e1-8a39-4cad-8a87-900668810815"
      },
      "execution_count": null,
      "outputs": [
        {
          "output_type": "display_data",
          "data": {
            "text/plain": [
              "<Figure size 640x480 with 2 Axes>"
            ],
            "image/png": "[encoded data removed]"
          },
          "metadata": {}
        }
      ]
    },
    {
      "cell_type": "markdown",
      "source": [
        "Preprocessing.\n",
        "Outliers: All variables have outliers"
      ],
      "metadata": {
        "id": "0t7D66Njo5zi"
      }
    },
    {
      "cell_type": "code",
      "source": [
        "train.drop('FloodProbability', axis=1).plot(kind='box',vert=False)\n",
        "plt.title('Boxplot of train variables')\n",
        "plt.show()"
      ],
      "metadata": {
        "colab": {
          "base_uri": "https://localhost:8080/",
          "height": 448
        },
        "id": "lvM7AdhYpB96",
        "outputId": "38b2d881-1a90-43b2-d663-a07aa74e2b11"
      },
      "execution_count": null,
      "outputs": [
        {
          "output_type": "display_data",
          "data": {
            "text/plain": [
              "<Figure size 640x480 with 1 Axes>"
            ],
            "image/png": "[encoded data removed]"
          },
          "metadata": {}
        }
      ]
    },
    {
      "cell_type": "markdown",
      "source": [
        "Removing outliers"
      ],
      "metadata": {
        "id": "OGO9agq6pisZ"
      }
    },
    {
      "cell_type": "code",
      "source": [
        "for col in cols:\n",
        "    col_iqr = iqr(train[col])\n",
        "    Q1, Q3 = np.quantile(train[col], [0.25, 0.75])\n",
        "\n",
        "    # Convert outliers to np.nan\n",
        "    train.loc[train[col] < (Q1 - 1.5*col_iqr), col] = np.nan\n",
        "    train.loc[train[col] > (Q3 + 1.5*col_iqr), col] = np.nan"
      ],
      "metadata": {
        "id": "OAS-7QqoplLp"
      },
      "execution_count": null,
      "outputs": []
    },
    {
      "cell_type": "markdown",
      "source": [
        "Calculation percentage of outliers."
      ],
      "metadata": {
        "id": "6GQYHe63tTD4"
      }
    },
    {
      "cell_type": "code",
      "source": [
        "train.isna().sum()/train.shape[0]"
      ],
      "metadata": {
        "colab": {
          "base_uri": "https://localhost:8080/"
        },
        "id": "srCEdSZttR_Z",
        "outputId": "f87543e9-b169-4a2d-a73d-1c0749812617"
      },
      "execution_count": null,
      "outputs": [
        {
          "output_type": "execute_result",
          "data": {
            "text/plain": [
              "MonsoonIntensity                   0.008269\n",
              "TopographyDrainage                 0.008565\n",
              "RiverManagement                    0.026492\n",
              "Deforestation                      0.025256\n",
              "Urbanization                       0.008215\n",
              "ClimateChange                      0.007784\n",
              "DamsQuality                        0.027816\n",
              "Siltation                          0.008121\n",
              "AgriculturalPractices              0.008056\n",
              "Encroachments                      0.027855\n",
              "IneffectiveDisasterPreparedness    0.008001\n",
              "DrainageSystems                    0.026888\n",
              "CoastalVulnerability               0.009132\n",
              "Landslides                         0.007930\n",
              "Watersheds                         0.008270\n",
              "DeterioratingInfrastructure        0.008024\n",
              "PopulationScore                    0.008310\n",
              "WetlandLoss                        0.026387\n",
              "InadequatePlanning                 0.008318\n",
              "PoliticalFactors                   0.008683\n",
              "FloodProbability                   0.000000\n",
              "dtype: float64"
            ]
          },
          "metadata": {},
          "execution_count": 21
        }
      ]
    },
    {
      "cell_type": "code",
      "source": [
        "print('Shape before :',train.shape)\n",
        "train.dropna(how='any', inplace=True)\n",
        "print(\"Shape after :\",train.shape)"
      ],
      "metadata": {
        "colab": {
          "base_uri": "https://localhost:8080/"
        },
        "id": "fDJ7YA-YvCth",
        "outputId": "ef698fb6-7f68-4c46-a3a5-99506ebd066b"
      },
      "execution_count": null,
      "outputs": [
        {
          "output_type": "stream",
          "name": "stdout",
          "text": [
            "Shape before : (1117957, 21)\n",
            "Shape after : (849100, 21)\n"
          ]
        }
      ]
    },
    {
      "cell_type": "code",
      "source": [
        "y = train['FloodProbability']\n",
        "X = train.drop('FloodProbability', axis=1)"
      ],
      "metadata": {
        "id": "0V0t4itkvNfS"
      },
      "execution_count": null,
      "outputs": []
    },
    {
      "cell_type": "code",
      "source": [
        "scaler = StandardScaler()\n",
        "X[X.columns] = scaler.fit_transform(X)\n",
        "test[test.columns] = scaler.transform(test)\n",
        "\n",
        "X_train, X_test, y_train, y_test = train_test_split(X, y, random_state =  666)"
      ],
      "metadata": {
        "id": "LlhDG_hfvT9S"
      },
      "execution_count": null,
      "outputs": []
    },
    {
      "cell_type": "code",
      "source": [
        "# patients_train_data, patients_test_data, \\\n",
        "# patients_train_target, patients_test_target = \\\n",
        "# train_test_split(patients['data'],patients['target'], test_size=0.1)"
      ],
      "metadata": {
        "id": "NPZu9rUkeBD5"
      },
      "execution_count": null,
      "outputs": []
    },
    {
      "cell_type": "code",
      "source": [
        "# rom sklearn.metrics import mean_squared_error\n",
        "# print(\"Mean squared error of a learned model: %.2f\" %\n",
        "#       mean_squared_error(patients_test_target, linear_regression.predict(patients_test_data)))"
      ],
      "metadata": {
        "id": "e18xSYwPeJXB"
      },
      "execution_count": null,
      "outputs": []
    },
    {
      "cell_type": "code",
      "source": [
        "model_lr = LinearRegression()\n",
        "model_lr.fit(X_train, y_train)\n",
        "y_pred_lr = model_lr.predict(X_test)"
      ],
      "metadata": {
        "id": "Ph-aFQS2Mtgh"
      },
      "execution_count": null,
      "outputs": []
    },
    {
      "cell_type": "code",
      "source": [
        "print(f\"Dla regresji liniowej wartość RMSE wynosi: {mean_squared_error(y_test, y_pred_lr, squared=False)}\")"
      ],
      "metadata": {
        "colab": {
          "base_uri": "https://localhost:8080/"
        },
        "id": "A3WKo3r2O-Yz",
        "outputId": "486af0b9-0b7e-40b9-f54d-941c65dfd32d"
      },
      "execution_count": null,
      "outputs": [
        {
          "output_type": "stream",
          "name": "stdout",
          "text": [
            "Dla regresji liniowej wartość RMSE wynosi: 0.020258012299887867\n"
          ]
        }
      ]
    },
    {
      "cell_type": "code",
      "source": [
        "y_pred_lr\n"
      ],
      "metadata": {
        "colab": {
          "base_uri": "https://localhost:8080/"
        },
        "id": "fZ9tohIbRcX6",
        "outputId": "b0547a46-620c-4d9e-e977-f56f2d6d2e45"
      },
      "execution_count": null,
      "outputs": [
        {
          "output_type": "execute_result",
          "data": {
            "text/plain": [
              "array([0.4663428 , 0.40429196, 0.47767818, ..., 0.48300457, 0.5113592 ,\n",
              "       0.3812876 ])"
            ]
          },
          "metadata": {},
          "execution_count": 28
        }
      ]
    },
    {
      "cell_type": "markdown",
      "source": [
        "Using trained model"
      ],
      "metadata": {
        "id": "hGxVlCuGT_B5"
      }
    },
    {
      "cell_type": "code",
      "source": [
        "index = 1\n",
        "linear_regression_prediction = model_lr.predict(X_test.iloc[[index]].values)"
      ],
      "metadata": {
        "colab": {
          "base_uri": "https://localhost:8080/"
        },
        "id": "QPLZMiwESPWJ",
        "outputId": "84d2c17b-22d0-40c7-cdc1-d90861d0d28f"
      },
      "execution_count": null,
      "outputs": [
        {
          "output_type": "stream",
          "name": "stderr",
          "text": [
            "/usr/local/lib/python3.10/dist-packages/sklearn/base.py:439: UserWarning: X does not have valid feature names, but LinearRegression was fitted with feature names\n",
            "  warnings.warn(\n"
          ]
        }
      ]
    },
    {
      "cell_type": "code",
      "source": [
        "linear_regression_prediction"
      ],
      "metadata": {
        "colab": {
          "base_uri": "https://localhost:8080/"
        },
        "id": "slbRX0EEVWro",
        "outputId": "df2ac81b-a022-47d6-b80a-6acc149036e5"
      },
      "execution_count": null,
      "outputs": [
        {
          "output_type": "execute_result",
          "data": {
            "text/plain": [
              "array([0.40429196])"
            ]
          },
          "metadata": {},
          "execution_count": 30
        }
      ]
    },
    {
      "cell_type": "code",
      "source": [
        "print(\"Model predicted for first row in test sample with index number {0} value {1}\".format(index, linear_regression_prediction))"
      ],
      "metadata": {
        "colab": {
          "base_uri": "https://localhost:8080/"
        },
        "id": "_EIs6QShV0TA",
        "outputId": "4b04d37b-033f-42cf-f209-aaf2093928d1"
      },
      "execution_count": null,
      "outputs": [
        {
          "output_type": "stream",
          "name": "stdout",
          "text": [
            "Model predicted for first row in test sample with index number 1 value [0.40429196]\n"
          ]
        }
      ]
    },
    {
      "cell_type": "code",
      "source": [
        "print(\"Real value for first row in test sample with index number \\\"{0}\\\" is {1}\".format(index, y_test.iloc[index]))"
      ],
      "metadata": {
        "colab": {
          "base_uri": "https://localhost:8080/"
        },
        "id": "fVGPnxv8WwTo",
        "outputId": "d74c325b-dcb9-4e27-a24f-67316e10afa7"
      },
      "execution_count": null,
      "outputs": [
        {
          "output_type": "stream",
          "name": "stdout",
          "text": [
            "Real value for first row in test sample with index number \"1\" is 0.395\n"
          ]
        }
      ]
    },
    {
      "cell_type": "code",
      "source": [
        "print('Coefficients of a learned model: \\n', model_lr.coef_)"
      ],
      "metadata": {
        "colab": {
          "base_uri": "https://localhost:8080/"
        },
        "id": "hVYq6TwOamA3",
        "outputId": "f18f76a0-2f72-482b-d364-538898600938"
      },
      "execution_count": null,
      "outputs": [
        {
          "output_type": "stream",
          "name": "stdout",
          "text": [
            "Coefficients of a learned model: \n",
            " [0.0110281  0.01136362 0.01066833 0.01061734 0.01128141 0.01115108\n",
            " 0.01062173 0.01117572 0.0111373  0.01067701 0.01132578 0.01059247\n",
            " 0.01132286 0.01124247 0.0112633  0.01114609 0.01127896 0.01056691\n",
            " 0.01121871 0.01131899]\n"
          ]
        }
      ]
    },
    {
      "cell_type": "code",
      "source": [
        "X_train"
      ],
      "metadata": {
        "colab": {
          "base_uri": "https://localhost:8080/",
          "height": 475
        },
        "id": "H63QxAG0m-PE",
        "outputId": "6c5d5e33-a108-45f5-cfa3-0aee8ee57d85"
      },
      "execution_count": null,
      "outputs": [
        {
          "output_type": "execute_result",
          "data": {
            "text/plain": [
              "         MonsoonIntensity  TopographyDrainage  RiverManagement  Deforestation  \\\n",
              "id                                                                              \n",
              "117690          -1.989449           -0.948172        -0.999457      -1.004247   \n",
              "993675          -0.453515            1.050545         1.129084       1.145644   \n",
              "1094975          2.106374            1.550224         1.129084       0.070698   \n",
              "592915          -1.989449           -1.947530         0.596948      -2.079193   \n",
              "28260            0.058463            0.051187         0.064813       0.070698   \n",
              "...                   ...                 ...              ...            ...   \n",
              "399096          -0.965493           -0.948172        -0.467322      -1.004247   \n",
              "3764            -0.453515            0.051187        -1.531592       0.070698   \n",
              "854645           1.082419            0.051187        -0.999457       1.145644   \n",
              "1088487          0.570441           -1.447851         0.596948      -1.541720   \n",
              "444646           0.058463           -0.448493         0.596948       1.683116   \n",
              "\n",
              "         Urbanization  ClimateChange  DamsQuality  Siltation  \\\n",
              "id                                                             \n",
              "117690       0.543980       0.555576     1.131718  -0.455621   \n",
              "993675       0.543980       1.573458     1.131718   0.051794   \n",
              "1094975     -0.460783      -0.971248     0.067293   1.066625   \n",
              "592915      -1.967928       0.046635    -1.529343   1.066625   \n",
              "28260       -0.460783      -0.462306    -1.529343   1.574040   \n",
              "...               ...            ...          ...        ...   \n",
              "399096       0.041599       0.555576     1.131718   1.066625   \n",
              "3764        -0.963165      -1.480189    -0.464919  -0.963036   \n",
              "854645       2.553507       0.046635    -0.997131  -1.470451   \n",
              "1088487     -0.460783       0.046635    -0.464919   0.559210   \n",
              "444646       0.041599      -0.462306     0.599505   1.066625   \n",
              "\n",
              "         AgriculturalPractices  Encroachments  \\\n",
              "id                                              \n",
              "117690               -0.462834      -0.992531   \n",
              "993675                0.548481       1.666960   \n",
              "1094975               2.065454      -1.524429   \n",
              "592915               -0.968492       2.198858   \n",
              "28260                 0.548481      -0.460633   \n",
              "...                        ...            ...   \n",
              "399096                0.042823       0.071265   \n",
              "3764                  1.054139      -1.524429   \n",
              "854645               -1.474150      -0.460633   \n",
              "1088487               0.042823       0.071265   \n",
              "444646               -0.462834       1.666960   \n",
              "\n",
              "         IneffectiveDisasterPreparedness  DrainageSystems  \\\n",
              "id                                                          \n",
              "117690                          0.039690         1.140005   \n",
              "993675                         -0.462354        -0.462834   \n",
              "1094975                         0.541734        -0.462834   \n",
              "592915                         -1.466442         1.674285   \n",
              "28260                           0.039690        -0.462834   \n",
              "...                                  ...              ...   \n",
              "399096                         -1.968486         0.605726   \n",
              "3764                            2.549909         0.071446   \n",
              "854645                          1.043778        -1.531393   \n",
              "1088487                         1.043778        -0.997113   \n",
              "444646                          1.043778         1.674285   \n",
              "\n",
              "         CoastalVulnerability  Landslides  Watersheds  \\\n",
              "id                                                      \n",
              "117690               1.042781    0.047847    1.553430   \n",
              "993675               1.042781    1.555179    0.549392   \n",
              "1094975              0.540460    0.047847    2.055449   \n",
              "592915               0.540460    0.047847    1.051411   \n",
              "28260                0.540460    0.047847    1.051411   \n",
              "...                       ...         ...         ...   \n",
              "399096              -0.966505   -0.454597   -1.458683   \n",
              "3764                 0.540460    0.047847    0.549392   \n",
              "854645              -0.966505    0.550291   -0.454646   \n",
              "1088487              2.047424   -0.454597   -1.458683   \n",
              "444646              -0.464183    0.550291    0.047373   \n",
              "\n",
              "         DeterioratingInfrastructure  PopulationScore  WetlandLoss  \\\n",
              "id                                                                   \n",
              "117690                     -0.961581        -0.453982     -2.06649   \n",
              "993675                      1.067970        -0.959554      0.06915   \n",
              "1094975                     0.560582        -0.453982     -1.53258   \n",
              "592915                      1.067970         0.557162     -0.46476   \n",
              "28260                      -0.454194         0.051590      0.60306   \n",
              "...                              ...              ...          ...   \n",
              "399096                      1.067970        -0.453982      0.60306   \n",
              "3764                        0.560582        -0.959554      0.60306   \n",
              "854645                     -0.454194         0.051590      0.06915   \n",
              "1088487                     1.575357         0.051590      0.06915   \n",
              "444646                     -0.961581         2.073878     -0.46476   \n",
              "\n",
              "         InadequatePlanning  PoliticalFactors  \n",
              "id                                             \n",
              "117690             2.556645         -0.958351  \n",
              "993675            -0.459369         -0.457052  \n",
              "1094975            1.048638          0.044247  \n",
              "592915             0.043300          1.046845  \n",
              "28260              1.551307          2.049443  \n",
              "...                     ...               ...  \n",
              "399096            -0.459369          1.548144  \n",
              "3764               0.043300          2.049443  \n",
              "854645            -0.962038          0.545546  \n",
              "1088487            0.043300          0.545546  \n",
              "444646            -1.967375          0.545546  \n",
              "\n",
              "[636825 rows x 20 columns]"
            ],
            "text/html": [
              "\n",
              "  <div id=\"df-1d890102-c0e9-4625-9dc4-dfba2a24831f\" class=\"colab-df-container\">\n",
              "    <div>\n",
              "<style scoped>\n",
              "    .dataframe tbody tr th:only-of-type {\n",
              "        vertical-align: middle;\n",
              "    }\n",
              "\n",
              "    .dataframe tbody tr th {\n",
              "        vertical-align: top;\n",
              "    }\n",
              "\n",
              "    .dataframe thead th {\n",
              "        text-align: right;\n",
              "    }\n",
              "</style>\n",
              "<table border=\"1\" class=\"dataframe\">\n",
              "  <thead>\n",
              "    <tr style=\"text-align: right;\">\n",
              "      <th></th>\n",
              "      <th>MonsoonIntensity</th>\n",
              "      <th>TopographyDrainage</th>\n",
              "      <th>RiverManagement</th>\n",
              "      <th>Deforestation</th>\n",
              "      <th>Urbanization</th>\n",
              "      <th>ClimateChange</th>\n",
              "      <th>DamsQuality</th>\n",
              "      <th>Siltation</th>\n",
              "      <th>AgriculturalPractices</th>\n",
              "      <th>Encroachments</th>\n",
              "      <th>IneffectiveDisasterPreparedness</th>\n",
              "      <th>DrainageSystems</th>\n",
              "      <th>CoastalVulnerability</th>\n",
              "      <th>Landslides</th>\n",
              "      <th>Watersheds</th>\n",
              "      <th>DeterioratingInfrastructure</th>\n",
              "      <th>PopulationScore</th>\n",
              "      <th>WetlandLoss</th>\n",
              "      <th>InadequatePlanning</th>\n",
              "      <th>PoliticalFactors</th>\n",
              "    </tr>\n",
              "    <tr>\n",
              "      <th>id</th>\n",
              "      <th></th>\n",
              "      <th></th>\n",
              "      <th></th>\n",
              "      <th></th>\n",
              "      <th></th>\n",
              "      <th></th>\n",
              "      <th></th>\n",
              "      <th></th>\n",
              "      <th></th>\n",
              "      <th></th>\n",
              "      <th></th>\n",
              "      <th></th>\n",
              "      <th></th>\n",
              "      <th></th>\n",
              "      <th></th>\n",
              "      <th></th>\n",
              "      <th></th>\n",
              "      <th></th>\n",
              "      <th></th>\n",
              "      <th></th>\n",
              "    </tr>\n",
              "  </thead>\n",
              "  <tbody>\n",
              "    <tr>\n",
              "      <th>117690</th>\n",
              "      <td>-1.989449</td>\n",
              "      <td>-0.948172</td>\n",
              "      <td>-0.999457</td>\n",
              "      <td>-1.004247</td>\n",
              "      <td>0.543980</td>\n",
              "      <td>0.555576</td>\n",
              "      <td>1.131718</td>\n",
              "      <td>-0.455621</td>\n",
              "      <td>-0.462834</td>\n",
              "      <td>-0.992531</td>\n",
              "      <td>0.039690</td>\n",
              "      <td>1.140005</td>\n",
              "      <td>1.042781</td>\n",
              "      <td>0.047847</td>\n",
              "      <td>1.553430</td>\n",
              "      <td>-0.961581</td>\n",
              "      <td>-0.453982</td>\n",
              "      <td>-2.06649</td>\n",
              "      <td>2.556645</td>\n",
              "      <td>-0.958351</td>\n",
              "    </tr>\n",
              "    <tr>\n",
              "      <th>993675</th>\n",
              "      <td>-0.453515</td>\n",
              "      <td>1.050545</td>\n",
              "      <td>1.129084</td>\n",
              "      <td>1.145644</td>\n",
              "      <td>0.543980</td>\n",
              "      <td>1.573458</td>\n",
              "      <td>1.131718</td>\n",
              "      <td>0.051794</td>\n",
              "      <td>0.548481</td>\n",
              "      <td>1.666960</td>\n",
              "      <td>-0.462354</td>\n",
              "      <td>-0.462834</td>\n",
              "      <td>1.042781</td>\n",
              "      <td>1.555179</td>\n",
              "      <td>0.549392</td>\n",
              "      <td>1.067970</td>\n",
              "      <td>-0.959554</td>\n",
              "      <td>0.06915</td>\n",
              "      <td>-0.459369</td>\n",
              "      <td>-0.457052</td>\n",
              "    </tr>\n",
              "    <tr>\n",
              "      <th>1094975</th>\n",
              "      <td>2.106374</td>\n",
              "      <td>1.550224</td>\n",
              "      <td>1.129084</td>\n",
              "      <td>0.070698</td>\n",
              "      <td>-0.460783</td>\n",
              "      <td>-0.971248</td>\n",
              "      <td>0.067293</td>\n",
              "      <td>1.066625</td>\n",
              "      <td>2.065454</td>\n",
              "      <td>-1.524429</td>\n",
              "      <td>0.541734</td>\n",
              "      <td>-0.462834</td>\n",
              "      <td>0.540460</td>\n",
              "      <td>0.047847</td>\n",
              "      <td>2.055449</td>\n",
              "      <td>0.560582</td>\n",
              "      <td>-0.453982</td>\n",
              "      <td>-1.53258</td>\n",
              "      <td>1.048638</td>\n",
              "      <td>0.044247</td>\n",
              "    </tr>\n",
              "    <tr>\n",
              "      <th>592915</th>\n",
              "      <td>-1.989449</td>\n",
              "      <td>-1.947530</td>\n",
              "      <td>0.596948</td>\n",
              "      <td>-2.079193</td>\n",
              "      <td>-1.967928</td>\n",
              "      <td>0.046635</td>\n",
              "      <td>-1.529343</td>\n",
              "      <td>1.066625</td>\n",
              "      <td>-0.968492</td>\n",
              "      <td>2.198858</td>\n",
              "      <td>-1.466442</td>\n",
              "      <td>1.674285</td>\n",
              "      <td>0.540460</td>\n",
              "      <td>0.047847</td>\n",
              "      <td>1.051411</td>\n",
              "      <td>1.067970</td>\n",
              "      <td>0.557162</td>\n",
              "      <td>-0.46476</td>\n",
              "      <td>0.043300</td>\n",
              "      <td>1.046845</td>\n",
              "    </tr>\n",
              "    <tr>\n",
              "      <th>28260</th>\n",
              "      <td>0.058463</td>\n",
              "      <td>0.051187</td>\n",
              "      <td>0.064813</td>\n",
              "      <td>0.070698</td>\n",
              "      <td>-0.460783</td>\n",
              "      <td>-0.462306</td>\n",
              "      <td>-1.529343</td>\n",
              "      <td>1.574040</td>\n",
              "      <td>0.548481</td>\n",
              "      <td>-0.460633</td>\n",
              "      <td>0.039690</td>\n",
              "      <td>-0.462834</td>\n",
              "      <td>0.540460</td>\n",
              "      <td>0.047847</td>\n",
              "      <td>1.051411</td>\n",
              "      <td>-0.454194</td>\n",
              "      <td>0.051590</td>\n",
              "      <td>0.60306</td>\n",
              "      <td>1.551307</td>\n",
              "      <td>2.049443</td>\n",
              "    </tr>\n",
              "    <tr>\n",
              "      <th>...</th>\n",
              "      <td>...</td>\n",
              "      <td>...</td>\n",
              "      <td>...</td>\n",
              "      <td>...</td>\n",
              "      <td>...</td>\n",
              "      <td>...</td>\n",
              "      <td>...</td>\n",
              "      <td>...</td>\n",
              "      <td>...</td>\n",
              "      <td>...</td>\n",
              "      <td>...</td>\n",
              "      <td>...</td>\n",
              "      <td>...</td>\n",
              "      <td>...</td>\n",
              "      <td>...</td>\n",
              "      <td>...</td>\n",
              "      <td>...</td>\n",
              "      <td>...</td>\n",
              "      <td>...</td>\n",
              "      <td>...</td>\n",
              "    </tr>\n",
              "    <tr>\n",
              "      <th>399096</th>\n",
              "      <td>-0.965493</td>\n",
              "      <td>-0.948172</td>\n",
              "      <td>-0.467322</td>\n",
              "      <td>-1.004247</td>\n",
              "      <td>0.041599</td>\n",
              "      <td>0.555576</td>\n",
              "      <td>1.131718</td>\n",
              "      <td>1.066625</td>\n",
              "      <td>0.042823</td>\n",
              "      <td>0.071265</td>\n",
              "      <td>-1.968486</td>\n",
              "      <td>0.605726</td>\n",
              "      <td>-0.966505</td>\n",
              "      <td>-0.454597</td>\n",
              "      <td>-1.458683</td>\n",
              "      <td>1.067970</td>\n",
              "      <td>-0.453982</td>\n",
              "      <td>0.60306</td>\n",
              "      <td>-0.459369</td>\n",
              "      <td>1.548144</td>\n",
              "    </tr>\n",
              "    <tr>\n",
              "      <th>3764</th>\n",
              "      <td>-0.453515</td>\n",
              "      <td>0.051187</td>\n",
              "      <td>-1.531592</td>\n",
              "      <td>0.070698</td>\n",
              "      <td>-0.963165</td>\n",
              "      <td>-1.480189</td>\n",
              "      <td>-0.464919</td>\n",
              "      <td>-0.963036</td>\n",
              "      <td>1.054139</td>\n",
              "      <td>-1.524429</td>\n",
              "      <td>2.549909</td>\n",
              "      <td>0.071446</td>\n",
              "      <td>0.540460</td>\n",
              "      <td>0.047847</td>\n",
              "      <td>0.549392</td>\n",
              "      <td>0.560582</td>\n",
              "      <td>-0.959554</td>\n",
              "      <td>0.60306</td>\n",
              "      <td>0.043300</td>\n",
              "      <td>2.049443</td>\n",
              "    </tr>\n",
              "    <tr>\n",
              "      <th>854645</th>\n",
              "      <td>1.082419</td>\n",
              "      <td>0.051187</td>\n",
              "      <td>-0.999457</td>\n",
              "      <td>1.145644</td>\n",
              "      <td>2.553507</td>\n",
              "      <td>0.046635</td>\n",
              "      <td>-0.997131</td>\n",
              "      <td>-1.470451</td>\n",
              "      <td>-1.474150</td>\n",
              "      <td>-0.460633</td>\n",
              "      <td>1.043778</td>\n",
              "      <td>-1.531393</td>\n",
              "      <td>-0.966505</td>\n",
              "      <td>0.550291</td>\n",
              "      <td>-0.454646</td>\n",
              "      <td>-0.454194</td>\n",
              "      <td>0.051590</td>\n",
              "      <td>0.06915</td>\n",
              "      <td>-0.962038</td>\n",
              "      <td>0.545546</td>\n",
              "    </tr>\n",
              "    <tr>\n",
              "      <th>1088487</th>\n",
              "      <td>0.570441</td>\n",
              "      <td>-1.447851</td>\n",
              "      <td>0.596948</td>\n",
              "      <td>-1.541720</td>\n",
              "      <td>-0.460783</td>\n",
              "      <td>0.046635</td>\n",
              "      <td>-0.464919</td>\n",
              "      <td>0.559210</td>\n",
              "      <td>0.042823</td>\n",
              "      <td>0.071265</td>\n",
              "      <td>1.043778</td>\n",
              "      <td>-0.997113</td>\n",
              "      <td>2.047424</td>\n",
              "      <td>-0.454597</td>\n",
              "      <td>-1.458683</td>\n",
              "      <td>1.575357</td>\n",
              "      <td>0.051590</td>\n",
              "      <td>0.06915</td>\n",
              "      <td>0.043300</td>\n",
              "      <td>0.545546</td>\n",
              "    </tr>\n",
              "    <tr>\n",
              "      <th>444646</th>\n",
              "      <td>0.058463</td>\n",
              "      <td>-0.448493</td>\n",
              "      <td>0.596948</td>\n",
              "      <td>1.683116</td>\n",
              "      <td>0.041599</td>\n",
              "      <td>-0.462306</td>\n",
              "      <td>0.599505</td>\n",
              "      <td>1.066625</td>\n",
              "      <td>-0.462834</td>\n",
              "      <td>1.666960</td>\n",
              "      <td>1.043778</td>\n",
              "      <td>1.674285</td>\n",
              "      <td>-0.464183</td>\n",
              "      <td>0.550291</td>\n",
              "      <td>0.047373</td>\n",
              "      <td>-0.961581</td>\n",
              "      <td>2.073878</td>\n",
              "      <td>-0.46476</td>\n",
              "      <td>-1.967375</td>\n",
              "      <td>0.545546</td>\n",
              "    </tr>\n",
              "  </tbody>\n",
              "</table>\n",
              "<p>636825 rows × 20 columns</p>\n",
              "</div>\n",
              "    <div class=\"colab-df-buttons\">\n",
              "\n",
              "  <div class=\"colab-df-container\">\n",
              "    <button class=\"colab-df-convert\" onclick=\"convertToInteractive('df-1d890102-c0e9-4625-9dc4-dfba2a24831f')\"\n",
              "            title=\"Convert this dataframe to an interactive table.\"\n",
              "            style=\"display:none;\">\n",
              "\n",
              "  <svg xmlns=\"http://www.w3.org/2000/svg\" height=\"24px\" viewBox=\"0 -960 960 960\">\n",
              "    <path d=\"M120-120v-720h720v720H120Zm60-500h600v-160H180v160Zm220 220h160v-160H400v160Zm0 220h160v-160H400v160ZM180-400h160v-160H180v160Zm440 0h160v-160H620v160ZM180-180h160v-160H180v160Zm440 0h160v-160H620v160Z\"/>\n",
              "  </svg>\n",
              "    </button>\n",
              "\n",
              "  <style>\n",
              "    .colab-df-container {\n",
              "      display:flex;\n",
              "      gap: 12px;\n",
              "    }\n",
              "\n",
              "    .colab-df-convert {\n",
              "      background-color: #E8F0FE;\n",
              "      border: none;\n",
              "      border-radius: 50%;\n",
              "      cursor: pointer;\n",
              "      display: none;\n",
              "      fill: #1967D2;\n",
              "      height: 32px;\n",
              "      padding: 0 0 0 0;\n",
              "      width: 32px;\n",
              "    }\n",
              "\n",
              "    .colab-df-convert:hover {\n",
              "      background-color: #E2EBFA;\n",
              "      box-shadow: 0px 1px 2px rgba(60, 64, 67, 0.3), 0px 1px 3px 1px rgba(60, 64, 67, 0.15);\n",
              "      fill: #174EA6;\n",
              "    }\n",
              "\n",
              "    .colab-df-buttons div {\n",
              "      margin-bottom: 4px;\n",
              "    }\n",
              "\n",
              "    [theme=dark] .colab-df-convert {\n",
              "      background-color: #3B4455;\n",
              "      fill: #D2E3FC;\n",
              "    }\n",
              "\n",
              "    [theme=dark] .colab-df-convert:hover {\n",
              "      background-color: #434B5C;\n",
              "      box-shadow: 0px 1px 3px 1px rgba(0, 0, 0, 0.15);\n",
              "      filter: drop-shadow(0px 1px 2px rgba(0, 0, 0, 0.3));\n",
              "      fill: #FFFFFF;\n",
              "    }\n",
              "  </style>\n",
              "\n",
              "    <script>\n",
              "      const buttonEl =\n",
              "        document.querySelector('#df-1d890102-c0e9-4625-9dc4-dfba2a24831f button.colab-df-convert');\n",
              "      buttonEl.style.display =\n",
              "        google.colab.kernel.accessAllowed ? 'block' : 'none';\n",
              "\n",
              "      async function convertToInteractive(key) {\n",
              "        const element = document.querySelector('#df-1d890102-c0e9-4625-9dc4-dfba2a24831f');\n",
              "        const dataTable =\n",
              "          await google.colab.kernel.invokeFunction('convertToInteractive',\n",
              "                                                    [key], {});\n",
              "        if (!dataTable) return;\n",
              "\n",
              "        const docLinkHtml = 'Like what you see? Visit the ' +\n",
              "          '<a target=\"_blank\" href=https://colab.research.google.com/notebooks/data_table.ipynb>data table notebook</a>'\n",
              "          + ' to learn more about interactive tables.';\n",
              "        element.innerHTML = '';\n",
              "        dataTable['output_type'] = 'display_data';\n",
              "        await google.colab.output.renderOutput(dataTable, element);\n",
              "        const docLink = document.createElement('div');\n",
              "        docLink.innerHTML = docLinkHtml;\n",
              "        element.appendChild(docLink);\n",
              "      }\n",
              "    </script>\n",
              "  </div>\n",
              "\n",
              "\n",
              "<div id=\"df-c554edce-6231-4839-8d22-2d868e81ba7b\">\n",
              "  <button class=\"colab-df-quickchart\" onclick=\"quickchart('df-c554edce-6231-4839-8d22-2d868e81ba7b')\"\n",
              "            title=\"Suggest charts\"\n",
              "            style=\"display:none;\">\n",
              "\n",
              "<svg xmlns=\"http://www.w3.org/2000/svg\" height=\"24px\"viewBox=\"0 0 24 24\"\n",
              "     width=\"24px\">\n",
              "    <g>\n",
              "        <path d=\"M19 3H5c-1.1 0-2 .9-2 2v14c0 1.1.9 2 2 2h14c1.1 0 2-.9 2-2V5c0-1.1-.9-2-2-2zM9 17H7v-7h2v7zm4 0h-2V7h2v10zm4 0h-2v-4h2v4z\"/>\n",
              "    </g>\n",
              "</svg>\n",
              "  </button>\n",
              "\n",
              "<style>\n",
              "  .colab-df-quickchart {\n",
              "      --bg-color: #E8F0FE;\n",
              "      --fill-color: #1967D2;\n",
              "      --hover-bg-color: #E2EBFA;\n",
              "      --hover-fill-color: #174EA6;\n",
              "      --disabled-fill-color: #AAA;\n",
              "      --disabled-bg-color: #DDD;\n",
              "  }\n",
              "\n",
              "  [theme=dark] .colab-df-quickchart {\n",
              "      --bg-color: #3B4455;\n",
              "      --fill-color: #D2E3FC;\n",
              "      --hover-bg-color: #434B5C;\n",
              "      --hover-fill-color: #FFFFFF;\n",
              "      --disabled-bg-color: #3B4455;\n",
              "      --disabled-fill-color: #666;\n",
              "  }\n",
              "\n",
              "  .colab-df-quickchart {\n",
              "    background-color: var(--bg-color);\n",
              "    border: none;\n",
              "    border-radius: 50%;\n",
              "    cursor: pointer;\n",
              "    display: none;\n",
              "    fill: var(--fill-color);\n",
              "    height: 32px;\n",
              "    padding: 0;\n",
              "    width: 32px;\n",
              "  }\n",
              "\n",
              "  .colab-df-quickchart:hover {\n",
              "    background-color: var(--hover-bg-color);\n",
              "    box-shadow: 0 1px 2px rgba(60, 64, 67, 0.3), 0 1px 3px 1px rgba(60, 64, 67, 0.15);\n",
              "    fill: var(--button-hover-fill-color);\n",
              "  }\n",
              "\n",
              "  .colab-df-quickchart-complete:disabled,\n",
              "  .colab-df-quickchart-complete:disabled:hover {\n",
              "    background-color: var(--disabled-bg-color);\n",
              "    fill: var(--disabled-fill-color);\n",
              "    box-shadow: none;\n",
              "  }\n",
              "\n",
              "  .colab-df-spinner {\n",
              "    border: 2px solid var(--fill-color);\n",
              "    border-color: transparent;\n",
              "    border-bottom-color: var(--fill-color);\n",
              "    animation:\n",
              "      spin 1s steps(1) infinite;\n",
              "  }\n",
              "\n",
              "  @keyframes spin {\n",
              "    0% {\n",
              "      border-color: transparent;\n",
              "      border-bottom-color: var(--fill-color);\n",
              "      border-left-color: var(--fill-color);\n",
              "    }\n",
              "    20% {\n",
              "      border-color: transparent;\n",
              "      border-left-color: var(--fill-color);\n",
              "      border-top-color: var(--fill-color);\n",
              "    }\n",
              "    30% {\n",
              "      border-color: transparent;\n",
              "      border-left-color: var(--fill-color);\n",
              "      border-top-color: var(--fill-color);\n",
              "      border-right-color: var(--fill-color);\n",
              "    }\n",
              "    40% {\n",
              "      border-color: transparent;\n",
              "      border-right-color: var(--fill-color);\n",
              "      border-top-color: var(--fill-color);\n",
              "    }\n",
              "    60% {\n",
              "      border-color: transparent;\n",
              "      border-right-color: var(--fill-color);\n",
              "    }\n",
              "    80% {\n",
              "      border-color: transparent;\n",
              "      border-right-color: var(--fill-color);\n",
              "      border-bottom-color: var(--fill-color);\n",
              "    }\n",
              "    90% {\n",
              "      border-color: transparent;\n",
              "      border-bottom-color: var(--fill-color);\n",
              "    }\n",
              "  }\n",
              "</style>\n",
              "\n",
              "  <script>\n",
              "    async function quickchart(key) {\n",
              "      const quickchartButtonEl =\n",
              "        document.querySelector('#' + key + ' button');\n",
              "      quickchartButtonEl.disabled = true;  // To prevent multiple clicks.\n",
              "      quickchartButtonEl.classList.add('colab-df-spinner');\n",
              "      try {\n",
              "        const charts = await google.colab.kernel.invokeFunction(\n",
              "            'suggestCharts', [key], {});\n",
              "      } catch (error) {\n",
              "        console.error('Error during call to suggestCharts:', error);\n",
              "      }\n",
              "      quickchartButtonEl.classList.remove('colab-df-spinner');\n",
              "      quickchartButtonEl.classList.add('colab-df-quickchart-complete');\n",
              "    }\n",
              "    (() => {\n",
              "      let quickchartButtonEl =\n",
              "        document.querySelector('#df-c554edce-6231-4839-8d22-2d868e81ba7b button');\n",
              "      quickchartButtonEl.style.display =\n",
              "        google.colab.kernel.accessAllowed ? 'block' : 'none';\n",
              "    })();\n",
              "  </script>\n",
              "</div>\n",
              "\n",
              "  <div id=\"id_f0d23917-f787-49f6-bad8-54c99a8c3e3a\">\n",
              "    <style>\n",
              "      .colab-df-generate {\n",
              "        background-color: #E8F0FE;\n",
              "        border: none;\n",
              "        border-radius: 50%;\n",
              "        cursor: pointer;\n",
              "        display: none;\n",
              "        fill: #1967D2;\n",
              "        height: 32px;\n",
              "        padding: 0 0 0 0;\n",
              "        width: 32px;\n",
              "      }\n",
              "\n",
              "      .colab-df-generate:hover {\n",
              "        background-color: #E2EBFA;\n",
              "        box-shadow: 0px 1px 2px rgba(60, 64, 67, 0.3), 0px 1px 3px 1px rgba(60, 64, 67, 0.15);\n",
              "        fill: #174EA6;\n",
              "      }\n",
              "\n",
              "      [theme=dark] .colab-df-generate {\n",
              "        background-color: #3B4455;\n",
              "        fill: #D2E3FC;\n",
              "      }\n",
              "\n",
              "      [theme=dark] .colab-df-generate:hover {\n",
              "        background-color: #434B5C;\n",
              "        box-shadow: 0px 1px 3px 1px rgba(0, 0, 0, 0.15);\n",
              "        filter: drop-shadow(0px 1px 2px rgba(0, 0, 0, 0.3));\n",
              "        fill: #FFFFFF;\n",
              "      }\n",
              "    </style>\n",
              "    <button class=\"colab-df-generate\" onclick=\"generateWithVariable('X_train')\"\n",
              "            title=\"Generate code using this dataframe.\"\n",
              "            style=\"display:none;\">\n",
              "\n",
              "  <svg xmlns=\"http://www.w3.org/2000/svg\" height=\"24px\"viewBox=\"0 0 24 24\"\n",
              "       width=\"24px\">\n",
              "    <path d=\"M7,19H8.4L18.45,9,17,7.55,7,17.6ZM5,21V16.75L18.45,3.32a2,2,0,0,1,2.83,0l1.4,1.43a1.91,1.91,0,0,1,.58,1.4,1.91,1.91,0,0,1-.58,1.4L9.25,21ZM18.45,9,17,7.55Zm-12,3A5.31,5.31,0,0,0,4.9,8.1,5.31,5.31,0,0,0,1,6.5,5.31,5.31,0,0,0,4.9,4.9,5.31,5.31,0,0,0,6.5,1,5.31,5.31,0,0,0,8.1,4.9,5.31,5.31,0,0,0,12,6.5,5.46,5.46,0,0,0,6.5,12Z\"/>\n",
              "  </svg>\n",
              "    </button>\n",
              "    <script>\n",
              "      (() => {\n",
              "      const buttonEl =\n",
              "        document.querySelector('#id_f0d23917-f787-49f6-bad8-54c99a8c3e3a button.colab-df-generate');\n",
              "      buttonEl.style.display =\n",
              "        google.colab.kernel.accessAllowed ? 'block' : 'none';\n",
              "\n",
              "      buttonEl.onclick = () => {\n",
              "        google.colab.notebook.generateWithVariable('X_train');\n",
              "      }\n",
              "      })();\n",
              "    </script>\n",
              "  </div>\n",
              "\n",
              "    </div>\n",
              "  </div>\n"
            ],
            "application/vnd.google.colaboratory.intrinsic+json": {
              "type": "dataframe",
              "variable_name": "X_train"
            }
          },
          "metadata": {},
          "execution_count": 70
        }
      ]
    },
    {
      "cell_type": "code",
      "source": [
        "linear_regression_predictions = model_lr.predict(X_test)\n",
        "print(linear_regression_predictions)"
      ],
      "metadata": {
        "colab": {
          "base_uri": "https://localhost:8080/"
        },
        "id": "prsTmLPTbTYo",
        "outputId": "84fb6786-4192-409f-a326-a401e6a25f36"
      },
      "execution_count": null,
      "outputs": [
        {
          "output_type": "stream",
          "name": "stdout",
          "text": [
            "[0.4663428  0.40429196 0.47767818 ... 0.48300457 0.5113592  0.3812876 ]\n"
          ]
        }
      ]
    },
    {
      "cell_type": "markdown",
      "source": [
        "Model evaluation"
      ],
      "metadata": {
        "id": "bE0B7S1ucgoJ"
      }
    },
    {
      "cell_type": "code",
      "source": [
        "from sklearn.metrics import mean_squared_error\n",
        "print(\"Mean squared error of a learned model: %.2f\" %\n",
        "      mean_squared_error(y_test, y_pred_lr, squared = False))"
      ],
      "metadata": {
        "colab": {
          "base_uri": "https://localhost:8080/"
        },
        "id": "k43EvWqtciiQ",
        "outputId": "74a8767d-593a-4029-879c-f703d9922f2c"
      },
      "execution_count": null,
      "outputs": [
        {
          "output_type": "stream",
          "name": "stdout",
          "text": [
            "Mean squared error of a learned model: 0.02\n"
          ]
        }
      ]
    },
    {
      "cell_type": "markdown",
      "source": [
        "Determining Coefficient of determination with r2_score()\n",
        "\n"
      ],
      "metadata": {
        "id": "rTvrEuYrewQg"
      }
    },
    {
      "cell_type": "code",
      "source": [
        "from sklearn.metrics import r2_score\n",
        "print('Variance score: %.2f' % r2_score(y_test, y_pred_lr))"
      ],
      "metadata": {
        "colab": {
          "base_uri": "https://localhost:8080/"
        },
        "id": "p9sQLs-feyjY",
        "outputId": "73486150-cac2-4326-ab8a-cd3ba45bf001"
      },
      "execution_count": null,
      "outputs": [
        {
          "output_type": "stream",
          "name": "stdout",
          "text": [
            "Variance score: 0.83\n"
          ]
        }
      ]
    },
    {
      "cell_type": "markdown",
      "source": [
        "Model evaluation with cross-validation"
      ],
      "metadata": {
        "id": "WL94Ed4Lj1zA"
      }
    },
    {
      "cell_type": "code",
      "source": [
        "from sklearn.model_selection import cross_val_score\n",
        "scores = cross_val_score(LinearRegression(), X, y, cv=4)\n",
        "print(scores)"
      ],
      "metadata": {
        "colab": {
          "base_uri": "https://localhost:8080/"
        },
        "id": "n31bUMrIi8e4",
        "outputId": "af6f831e-2125-4713-8143-97d67c3696d7"
      },
      "execution_count": null,
      "outputs": [
        {
          "output_type": "stream",
          "name": "stdout",
          "text": [
            "[0.83370365 0.83338308 0.83407306 0.8348378 ]\n"
          ]
        }
      ]
    },
    {
      "cell_type": "code",
      "source": [
        "from sklearn.linear_model import Lasso\n",
        "lasso_regression = Lasso(alpha=0.6)\n",
        "lasso_regression.fit(X_train, y_train)\n",
        "score = lasso_regression.score(X_test, y_test) #r2 score\n",
        "print(\"Lasso regression variance score: %.2f\" % score)"
      ],
      "metadata": {
        "colab": {
          "base_uri": "https://localhost:8080/"
        },
        "id": "-RJSbzlhkSkH",
        "outputId": "a2cd46de-0e2a-420f-9aa1-4f597b1b0f05"
      },
      "execution_count": null,
      "outputs": [
        {
          "output_type": "stream",
          "name": "stdout",
          "text": [
            "Lasso regression variance score: -0.00\n"
          ]
        }
      ]
    },
    {
      "cell_type": "code",
      "source": [
        "# X = data[:, 0]\n",
        "# Y = data[:, 1]"
      ],
      "metadata": {
        "id": "g1g2ywUzlq_Y"
      },
      "execution_count": null,
      "outputs": []
    },
    {
      "cell_type": "code",
      "source": [
        "Xd = X['Deforestation'].to_numpy()"
      ],
      "metadata": {
        "id": "owbTPD94c1yW"
      },
      "execution_count": null,
      "outputs": []
    },
    {
      "cell_type": "code",
      "source": [
        "Xd"
      ],
      "metadata": {
        "colab": {
          "base_uri": "https://localhost:8080/"
        },
        "id": "yfyrCFoGghPz",
        "outputId": "a914c396-6eb2-40a6-f2f4-99b9bb9089ad"
      },
      "execution_count": null,
      "outputs": [
        {
          "output_type": "execute_result",
          "data": {
            "text/plain": [
              "array([ 1.68311641, -0.46677461,  1.14564366, ..., -0.46677461,\n",
              "        1.14564366,  2.22058917])"
            ]
          },
          "metadata": {},
          "execution_count": 45
        }
      ]
    },
    {
      "cell_type": "code",
      "source": [
        "y"
      ],
      "metadata": {
        "colab": {
          "base_uri": "https://localhost:8080/"
        },
        "id": "s_gur5TRj8kq",
        "outputId": "1bc5653b-326d-4647-e3dd-b5c84de3b617"
      },
      "execution_count": null,
      "outputs": [
        {
          "output_type": "execute_result",
          "data": {
            "text/plain": [
              "array([0.445, 0.45 , 0.53 , ..., 0.485, 0.495, 0.56 ])"
            ]
          },
          "metadata": {},
          "execution_count": 58
        }
      ]
    },
    {
      "cell_type": "code",
      "source": [
        "learning_rate = 0.1\n",
        "max_iteration = 100"
      ],
      "metadata": {
        "id": "hDK2CVz5mSQo"
      },
      "execution_count": null,
      "outputs": []
    },
    {
      "cell_type": "code",
      "source": [
        "m = 0\n",
        "b = 0"
      ],
      "metadata": {
        "id": "6bSDjcQDmTvJ"
      },
      "execution_count": null,
      "outputs": []
    },
    {
      "cell_type": "code",
      "source": [
        "def h (m, b, X) :\n",
        "  return m * X + b"
      ],
      "metadata": {
        "id": "OQzlb2PfmcO5"
      },
      "execution_count": null,
      "outputs": []
    },
    {
      "cell_type": "code",
      "source": [
        "def loss (m, b, X, Y) :\n",
        "  return np.average(np.square(Y - h(m, b, X))) / 2"
      ],
      "metadata": {
        "id": "sFKTeHEymiNX"
      },
      "execution_count": null,
      "outputs": []
    },
    {
      "cell_type": "code",
      "source": [
        "def gradient (m, b, X, Y) :\n",
        "  dm = - np.average((Y - h(m, b, X)) * X)\n",
        "  db = - np.average(Y - h(m, b, X))\n",
        "  return (dm, db)"
      ],
      "metadata": {
        "id": "VVY-NukzmspP"
      },
      "execution_count": null,
      "outputs": []
    },
    {
      "cell_type": "code",
      "source": [
        "def gradient_descent (m, b, X, Y, learning_rate, max_iteration) :\n",
        "  for i in range(max_iteration) :\n",
        "    dm, db = gradient (m, b, X, Y)\n",
        "    m -= learning_rate * dm\n",
        "    b -= learning_rate * db\n",
        "    if i % 10 == 0 :\n",
        "      print ('iteration : ', i, ' loss : ', loss(m, b, X, Y))\n",
        "  return (m, b)"
      ],
      "metadata": {
        "id": "DCX64AeNmxLX"
      },
      "execution_count": null,
      "outputs": []
    },
    {
      "cell_type": "code",
      "source": [
        "m, b = gradient_descent (m, b, Xd, y, learning_rate, max_iteration)"
      ],
      "metadata": {
        "colab": {
          "base_uri": "https://localhost:8080/"
        },
        "id": "flK_kfDtm224",
        "outputId": "0f23ad9a-57b1-457a-8f39-2b20c28ca7c9"
      },
      "execution_count": null,
      "outputs": [
        {
          "output_type": "stream",
          "name": "stdout",
          "text": [
            "iteration :  0  loss :  0.10237425261573284\n",
            "iteration :  10  loss :  0.013494980473133245\n",
            "iteration :  20  loss :  0.0026893359035912046\n",
            "iteration :  30  loss :  0.0013756217861315312\n",
            "iteration :  40  loss :  0.0012159048186423816\n",
            "iteration :  50  loss :  0.0011964869640537\n",
            "iteration :  60  loss :  0.0011941262062534822\n",
            "iteration :  70  loss :  0.0011938391932178332\n",
            "iteration :  80  loss :  0.0011938042991331346\n",
            "iteration :  90  loss :  0.0011938000568270518\n"
          ]
        }
      ]
    },
    {
      "cell_type": "code",
      "source": [
        "m, b"
      ],
      "metadata": {
        "colab": {
          "base_uri": "https://localhost:8080/"
        },
        "id": "B4Oitwx6msZ4",
        "outputId": "24fe716f-089c-465b-acd5-ee5cd8951a68"
      },
      "execution_count": null,
      "outputs": [
        {
          "output_type": "execute_result",
          "data": {
            "text/plain": [
              "(0.009118366132697587, 0.4997317914353026)"
            ]
          },
          "metadata": {},
          "execution_count": 80
        }
      ]
    }
  ],
  "metadata": {
    "colab": {
      "provenance": []
    },
    "kernelspec": {
      "display_name": "Python 3",
      "name": "python3"
    },
    "language_info": {
      "name": "python"
    }
  },
  "nbformat": 4,
  "nbformat_minor": 0
}