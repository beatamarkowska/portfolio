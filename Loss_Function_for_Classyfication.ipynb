{
  "nbformat": 4,
  "nbformat_minor": 0,
  "metadata": {
    "colab": {
      "provenance": []
    },
    "kernelspec": {
      "name": "python3",
      "display_name": "Python 3"
    },
    "language_info": {
      "name": "python"
    }
  },
  "cells": [
    {
      "cell_type": "code",
      "execution_count": null,
      "metadata": {
        "id": "mnqFUUYxfHJ2"
      },
      "outputs": [],
      "source": []
    },
    {
      "cell_type": "markdown",
      "source": [
        "https://www.kaggle.com/code/nghihuynh/understanding-loss-functions-for-classification/notebook"
      ],
      "metadata": {
        "id": "FLXGuO7U2ro-"
      }
    },
    {
      "cell_type": "markdown",
      "source": [
        "Loss functions ( or Error functions) are used to gauge the error between the prediction output and the provided target value. A loss function will determine the model's performance by comparing the distance between the prediction output and the target values. Smaller loss means the model performs better in yielding predictions closer to the target values."
      ],
      "metadata": {
        "id": "_ZX9qyDMlOGA"
      }
    },
    {
      "cell_type": "markdown",
      "source": [
        "Loss function (J) that takes the following two parameters:\n",
        "\n",
        "Predicted output (y_pred)\n",
        "Target value (y_true)"
      ],
      "metadata": {
        "id": "OSfolbgLlRj2"
      }
    },
    {
      "cell_type": "markdown",
      "source": [
        "Loss function will determine model performance by comparing predicted output with the actual target values. If the deviation between y_pred and y_true is very large, the loss value will be very high.\n",
        "\n",
        "If the deviation is small or the values are nearly identical, it’ll output a very low loss value. Therefore, a proper loss function is necessary if you want to penalize a model properly during training.\n",
        "\n",
        "Loss functions change based on the problem statement that your model is trying to solve. The goal of training your model is to minimize the error between the target and predicted value by minimizing the loss function."
      ],
      "metadata": {
        "id": "nPWxvNYJmBzv"
      }
    },
    {
      "cell_type": "markdown",
      "source": [
        "Based on the nature of research, loss functions are classified as follows:\n",
        "1. Regression Loss:\n",
        "Mean Square Error - L2 Loss\n",
        "Mean Absolute Error - L1 Loss\n",
        "Huber Loss\n",
        "\n",
        "2. Classification Loss:\n",
        "**Binary Classification:**\n",
        "Hinge Loss,\n",
        "Sigmoid Cross, Entropy Loss,\n",
        "Weighted Cross, Entropy Loss,\n",
        "\n",
        "**Multi-Class Classification:**\n",
        "Softmax Cross, Entropy Loss,\n",
        "Sparse Cross, Entropy Loss,\n",
        "Kullback-Leibler Divergence Loss"
      ],
      "metadata": {
        "id": "I_9H2mnF27dU"
      }
    },
    {
      "cell_type": "code",
      "source": [
        "!pip install itables"
      ],
      "metadata": {
        "colab": {
          "base_uri": "https://localhost:8080/"
        },
        "id": "4JAcO-cWlQon",
        "outputId": "cc8e39aa-998a-4504-ee82-408c83e5504a"
      },
      "execution_count": 1,
      "outputs": [
        {
          "output_type": "stream",
          "name": "stdout",
          "text": [
            "Collecting itables\n",
            "  Downloading itables-2.1.3-py3-none-any.whl (1.2 MB)\n",
            "\u001b[2K     \u001b[90m━━━━━━━━━━━━━━━━━━━━━━━━━━━━━━━━━━━━━━━━\u001b[0m \u001b[32m1.2/1.2 MB\u001b[0m \u001b[31m6.7 MB/s\u001b[0m eta \u001b[36m0:00:00\u001b[0m\n",
            "\u001b[?25hRequirement already satisfied: ipython in /usr/local/lib/python3.10/dist-packages (from itables) (7.34.0)\n",
            "Requirement already satisfied: numpy in /usr/local/lib/python3.10/dist-packages (from itables) (1.25.2)\n",
            "Requirement already satisfied: pandas in /usr/local/lib/python3.10/dist-packages (from itables) (2.0.3)\n",
            "Requirement already satisfied: setuptools>=18.5 in /usr/local/lib/python3.10/dist-packages (from ipython->itables) (67.7.2)\n",
            "Collecting jedi>=0.16 (from ipython->itables)\n",
            "  Downloading jedi-0.19.1-py2.py3-none-any.whl (1.6 MB)\n",
            "\u001b[2K     \u001b[90m━━━━━━━━━━━━━━━━━━━━━━━━━━━━━━━━━━━━━━━━\u001b[0m \u001b[32m1.6/1.6 MB\u001b[0m \u001b[31m13.6 MB/s\u001b[0m eta \u001b[36m0:00:00\u001b[0m\n",
            "\u001b[?25hRequirement already satisfied: decorator in /usr/local/lib/python3.10/dist-packages (from ipython->itables) (4.4.2)\n",
            "Requirement already satisfied: pickleshare in /usr/local/lib/python3.10/dist-packages (from ipython->itables) (0.7.5)\n",
            "Requirement already satisfied: traitlets>=4.2 in /usr/local/lib/python3.10/dist-packages (from ipython->itables) (5.7.1)\n",
            "Requirement already satisfied: prompt-toolkit!=3.0.0,!=3.0.1,<3.1.0,>=2.0.0 in /usr/local/lib/python3.10/dist-packages (from ipython->itables) (3.0.47)\n",
            "Requirement already satisfied: pygments in /usr/local/lib/python3.10/dist-packages (from ipython->itables) (2.16.1)\n",
            "Requirement already satisfied: backcall in /usr/local/lib/python3.10/dist-packages (from ipython->itables) (0.2.0)\n",
            "Requirement already satisfied: matplotlib-inline in /usr/local/lib/python3.10/dist-packages (from ipython->itables) (0.1.7)\n",
            "Requirement already satisfied: pexpect>4.3 in /usr/local/lib/python3.10/dist-packages (from ipython->itables) (4.9.0)\n",
            "Requirement already satisfied: python-dateutil>=2.8.2 in /usr/local/lib/python3.10/dist-packages (from pandas->itables) (2.8.2)\n",
            "Requirement already satisfied: pytz>=2020.1 in /usr/local/lib/python3.10/dist-packages (from pandas->itables) (2023.4)\n",
            "Requirement already satisfied: tzdata>=2022.1 in /usr/local/lib/python3.10/dist-packages (from pandas->itables) (2024.1)\n",
            "Requirement already satisfied: parso<0.9.0,>=0.8.3 in /usr/local/lib/python3.10/dist-packages (from jedi>=0.16->ipython->itables) (0.8.4)\n",
            "Requirement already satisfied: ptyprocess>=0.5 in /usr/local/lib/python3.10/dist-packages (from pexpect>4.3->ipython->itables) (0.7.0)\n",
            "Requirement already satisfied: wcwidth in /usr/local/lib/python3.10/dist-packages (from prompt-toolkit!=3.0.0,!=3.0.1,<3.1.0,>=2.0.0->ipython->itables) (0.2.13)\n",
            "Requirement already satisfied: six>=1.5 in /usr/local/lib/python3.10/dist-packages (from python-dateutil>=2.8.2->pandas->itables) (1.16.0)\n",
            "Installing collected packages: jedi, itables\n",
            "Successfully installed itables-2.1.3 jedi-0.19.1\n"
          ]
        }
      ]
    },
    {
      "cell_type": "code",
      "source": [
        "# activate interactive mode of pd.dataframe\n",
        "from itables import init_notebook_mode\n",
        "init_notebook_mode(all_interactive=True)\n",
        "import seaborn as sns\n",
        "import numpy as np\n",
        "import pandas as pd\n",
        "import torch\n",
        "import torch.nn as nn\n",
        "import torch.nn.functional as F\n",
        "import matplotlib.pyplot as plt\n",
        "from sklearn.metrics import hinge_loss\n",
        "import random\n",
        "import tensorflow as tf"
      ],
      "metadata": {
        "colab": {
          "base_uri": "https://localhost:8080/",
          "height": 17
        },
        "id": "b_XvvbBD6VpV",
        "outputId": "2ed9f74d-285d-41f4-ee0c-2de783ac2076"
      },
      "execution_count": 2,
      "outputs": [
        {
          "output_type": "display_data",
          "data": {
            "text/plain": [
              "<IPython.core.display.HTML object>"
            ],
            "text/html": [
              "<script>\n",
              "    if (document.body.dataset.jpThemeLight == \"false\" || // Jupyter Lab\n",
              "        document.body.dataset.vscodeThemeKind == \"vscode-dark\" || // VS Code\n",
              "        document.documentElement.dataset.theme == \"dark\" || // Jupyter Book\n",
              "        window.matchMedia('(prefers-color-scheme: dark)').matches) {\n",
              "        document.documentElement.classList.add('dark');\n",
              "    }\n",
              "    else {\n",
              "        document.documentElement.classList.remove('dark');\n",
              "    }\n",
              "</script>\n"
            ]
          },
          "metadata": {}
        }
      ]
    },
    {
      "cell_type": "markdown",
      "source": [
        " Generate random prediction to test and visualize different loss functions.\n",
        " Assumption:\n",
        "1: CE\n",
        "0: LAA"
      ],
      "metadata": {
        "id": "TSgYg3uo8lzz"
      }
    },
    {
      "cell_type": "code",
      "source": [
        "from google.colab import drive\n",
        "drive.mount('/content/drive')"
      ],
      "metadata": {
        "colab": {
          "base_uri": "https://localhost:8080/"
        },
        "id": "fEXBo9ua8eyk",
        "outputId": "ad0671dc-bb5d-4a79-9a9b-18c645d52153"
      },
      "execution_count": 4,
      "outputs": [
        {
          "output_type": "stream",
          "name": "stdout",
          "text": [
            "Mounted at /content/drive\n"
          ]
        }
      ]
    },
    {
      "cell_type": "code",
      "source": [
        "df = pd.read_csv('/content/drive/MyDrive/Learning/Loss_Function/train Mayo Clinic.csv')"
      ],
      "metadata": {
        "id": "L7tjC5Os9EtU"
      },
      "execution_count": 5,
      "outputs": []
    },
    {
      "cell_type": "code",
      "source": [
        "df.head(4)"
      ],
      "metadata": {
        "colab": {
          "base_uri": "https://localhost:8080/",
          "height": 203
        },
        "id": "H1-uiGqoxbRB",
        "outputId": "33eab6a2-39c0-4b51-85fa-22f7f2a3940c"
      },
      "execution_count": 6,
      "outputs": [
        {
          "output_type": "execute_result",
          "data": {
            "text/plain": [
              "   image_id  center_id patient_id  image_num label\n",
              "0  006388_0         11     006388          0    CE\n",
              "1  008e5c_0         11     008e5c          0    CE\n",
              "2  00c058_0         11     00c058          0   LAA\n",
              "3  01adc5_0         11     01adc5          0   LAA"
            ],
            "text/html": [
              "\n",
              "  <div id=\"df-59eeda42-e0ae-4207-8569-f10e4d40bab5\" class=\"colab-df-container\">\n",
              "    <table id=\"itables_c4445a07_07fc_451e_838d_520a438c0ef8\" class=\"display nowrap\" data-quarto-disable-processing=\"true\" style=\"table-layout:auto;width:auto;margin:auto;caption-side:bottom\">\n",
              "<thead>\n",
              "    <tr style=\"text-align: right;\">\n",
              "\n",
              "      <th>image_id</th>\n",
              "      <th>center_id</th>\n",
              "      <th>patient_id</th>\n",
              "      <th>image_num</th>\n",
              "      <th>label</th>\n",
              "    </tr>\n",
              "  </thead><tbody><tr>\n",
              "<td style=\"vertical-align:middle; text-align:left\">\n",
              "<div style=\"float:left; margin-right: 10px;\">\n",
              "<a href=https://mwouts.github.io/itables/><svg class=\"main-svg\" xmlns=\"http://www.w3.org/2000/svg\" xmlns:xlink=\"http://www.w3.org/1999/xlink\"\n",
              "width=\"64\" viewBox=\"0 0 500 400\" style=\"font-family: 'Droid Sans', sans-serif;\">\n",
              "    <g style=\"fill:#d9d7fc\">\n",
              "        <path d=\"M100,400H500V357H100Z\" />\n",
              "        <path d=\"M100,300H400V257H100Z\" />\n",
              "        <path d=\"M0,200H400V157H0Z\" />\n",
              "        <path d=\"M100,100H500V57H100Z\" />\n",
              "        <path d=\"M100,350H500V307H100Z\" />\n",
              "        <path d=\"M100,250H400V207H100Z\" />\n",
              "        <path d=\"M0,150H400V107H0Z\" />\n",
              "        <path d=\"M100,50H500V7H100Z\" />\n",
              "    </g>\n",
              "    <g style=\"fill:#1a1366;stroke:#1a1366;\">\n",
              "   <rect x=\"100\" y=\"7\" width=\"400\" height=\"43\">\n",
              "    <animate\n",
              "      attributeName=\"width\"\n",
              "      values=\"0;400;0\"\n",
              "      dur=\"5s\"\n",
              "      repeatCount=\"indefinite\" />\n",
              "      <animate\n",
              "      attributeName=\"x\"\n",
              "      values=\"100;100;500\"\n",
              "      dur=\"5s\"\n",
              "      repeatCount=\"indefinite\" />\n",
              "  </rect>\n",
              "        <rect x=\"0\" y=\"107\" width=\"400\" height=\"43\">\n",
              "    <animate\n",
              "      attributeName=\"width\"\n",
              "      values=\"0;400;0\"\n",
              "      dur=\"3.5s\"\n",
              "      repeatCount=\"indefinite\" />\n",
              "    <animate\n",
              "      attributeName=\"x\"\n",
              "      values=\"0;0;400\"\n",
              "      dur=\"3.5s\"\n",
              "      repeatCount=\"indefinite\" />\n",
              "  </rect>\n",
              "        <rect x=\"100\" y=\"207\" width=\"300\" height=\"43\">\n",
              "    <animate\n",
              "      attributeName=\"width\"\n",
              "      values=\"0;300;0\"\n",
              "      dur=\"3s\"\n",
              "      repeatCount=\"indefinite\" />\n",
              "    <animate\n",
              "      attributeName=\"x\"\n",
              "      values=\"100;100;400\"\n",
              "      dur=\"3s\"\n",
              "      repeatCount=\"indefinite\" />\n",
              "  </rect>\n",
              "        <rect x=\"100\" y=\"307\" width=\"400\" height=\"43\">\n",
              "    <animate\n",
              "      attributeName=\"width\"\n",
              "      values=\"0;400;0\"\n",
              "      dur=\"4s\"\n",
              "      repeatCount=\"indefinite\" />\n",
              "      <animate\n",
              "      attributeName=\"x\"\n",
              "      values=\"100;100;500\"\n",
              "      dur=\"4s\"\n",
              "      repeatCount=\"indefinite\" />\n",
              "  </rect>\n",
              "        <g style=\"fill:transparent;stroke-width:8; stroke-linejoin:round\" rx=\"5\">\n",
              "            <g transform=\"translate(45 50) rotate(-45)\">\n",
              "                <circle r=\"33\" cx=\"0\" cy=\"0\" />\n",
              "                <rect x=\"-8\" y=\"32\" width=\"16\" height=\"30\" />\n",
              "            </g>\n",
              "\n",
              "            <g transform=\"translate(450 152)\">\n",
              "                <polyline points=\"-15,-20 -35,-20 -35,40 25,40 25,20\" />\n",
              "                <rect x=\"-15\" y=\"-40\" width=\"60\" height=\"60\" />\n",
              "            </g>\n",
              "\n",
              "            <g transform=\"translate(50 352)\">\n",
              "                <polygon points=\"-35,-5 0,-40 35,-5\" />\n",
              "                <polygon points=\"-35,10 0,45 35,10\" />\n",
              "            </g>\n",
              "\n",
              "            <g transform=\"translate(75 250)\">\n",
              "                <polyline points=\"-30,30 -60,0 -30,-30\" />\n",
              "                <polyline points=\"0,30 -30,0 0,-30\" />\n",
              "            </g>\n",
              "\n",
              "            <g transform=\"translate(425 250) rotate(180)\">\n",
              "                <polyline points=\"-30,30 -60,0 -30,-30\" />\n",
              "                <polyline points=\"0,30 -30,0 0,-30\" />\n",
              "            </g>\n",
              "        </g>\n",
              "    </g>\n",
              "</svg>\n",
              "</a>\n",
              "</div>\n",
              "<div>\n",
              "Loading ITables v2.1.3 from the internet...\n",
              "(need <a href=https://mwouts.github.io/itables/troubleshooting.html>help</a>?)</td>\n",
              "</div>\n",
              "</tr></tbody>\n",
              "\n",
              "</table>\n",
              "<link href=\"https://www.unpkg.com/dt_for_itables@2.0.11/dt_bundle.css\" rel=\"stylesheet\">\n",
              "<script type=\"module\">\n",
              "    import {DataTable, jQuery as $} from 'https://www.unpkg.com/dt_for_itables@2.0.11/dt_bundle.js';\n",
              "\n",
              "    document.querySelectorAll(\"#itables_c4445a07_07fc_451e_838d_520a438c0ef8:not(.dataTable)\").forEach(table => {\n",
              "        // Define the table data\n",
              "        const data = [[\"006388_0\", 11, \"006388\", 0, \"CE\"], [\"008e5c_0\", 11, \"008e5c\", 0, \"CE\"], [\"00c058_0\", 11, \"00c058\", 0, \"LAA\"], [\"01adc5_0\", 11, \"01adc5\", 0, \"LAA\"]];\n",
              "\n",
              "        // Define the dt_args\n",
              "        let dt_args = {\"layout\": {\"topStart\": null, \"topEnd\": null, \"bottomStart\": null, \"bottomEnd\": null}, \"order\": []};\n",
              "        dt_args[\"data\"] = data;\n",
              "\n",
              "\n",
              "        new DataTable(table, dt_args);\n",
              "    });\n",
              "</script>\n",
              "\n",
              "    <div class=\"colab-df-buttons\">\n",
              "\n",
              "  <div class=\"colab-df-container\">\n",
              "    <button class=\"colab-df-convert\" onclick=\"convertToInteractive('df-59eeda42-e0ae-4207-8569-f10e4d40bab5')\"\n",
              "            title=\"Convert this dataframe to an interactive table.\"\n",
              "            style=\"display:none;\">\n",
              "\n",
              "  <svg xmlns=\"http://www.w3.org/2000/svg\" height=\"24px\" viewBox=\"0 -960 960 960\">\n",
              "    <path d=\"M120-120v-720h720v720H120Zm60-500h600v-160H180v160Zm220 220h160v-160H400v160Zm0 220h160v-160H400v160ZM180-400h160v-160H180v160Zm440 0h160v-160H620v160ZM180-180h160v-160H180v160Zm440 0h160v-160H620v160Z\"/>\n",
              "  </svg>\n",
              "    </button>\n",
              "\n",
              "  <style>\n",
              "    .colab-df-container {\n",
              "      display:flex;\n",
              "      gap: 12px;\n",
              "    }\n",
              "\n",
              "    .colab-df-convert {\n",
              "      background-color: #E8F0FE;\n",
              "      border: none;\n",
              "      border-radius: 50%;\n",
              "      cursor: pointer;\n",
              "      display: none;\n",
              "      fill: #1967D2;\n",
              "      height: 32px;\n",
              "      padding: 0 0 0 0;\n",
              "      width: 32px;\n",
              "    }\n",
              "\n",
              "    .colab-df-convert:hover {\n",
              "      background-color: #E2EBFA;\n",
              "      box-shadow: 0px 1px 2px rgba(60, 64, 67, 0.3), 0px 1px 3px 1px rgba(60, 64, 67, 0.15);\n",
              "      fill: #174EA6;\n",
              "    }\n",
              "\n",
              "    .colab-df-buttons div {\n",
              "      margin-bottom: 4px;\n",
              "    }\n",
              "\n",
              "    [theme=dark] .colab-df-convert {\n",
              "      background-color: #3B4455;\n",
              "      fill: #D2E3FC;\n",
              "    }\n",
              "\n",
              "    [theme=dark] .colab-df-convert:hover {\n",
              "      background-color: #434B5C;\n",
              "      box-shadow: 0px 1px 3px 1px rgba(0, 0, 0, 0.15);\n",
              "      filter: drop-shadow(0px 1px 2px rgba(0, 0, 0, 0.3));\n",
              "      fill: #FFFFFF;\n",
              "    }\n",
              "  </style>\n",
              "\n",
              "    <script>\n",
              "      const buttonEl =\n",
              "        document.querySelector('#df-59eeda42-e0ae-4207-8569-f10e4d40bab5 button.colab-df-convert');\n",
              "      buttonEl.style.display =\n",
              "        google.colab.kernel.accessAllowed ? 'block' : 'none';\n",
              "\n",
              "      async function convertToInteractive(key) {\n",
              "        const element = document.querySelector('#df-59eeda42-e0ae-4207-8569-f10e4d40bab5');\n",
              "        const dataTable =\n",
              "          await google.colab.kernel.invokeFunction('convertToInteractive',\n",
              "                                                    [key], {});\n",
              "        if (!dataTable) return;\n",
              "\n",
              "        const docLinkHtml = 'Like what you see? Visit the ' +\n",
              "          '<a target=\"_blank\" href=https://colab.research.google.com/notebooks/data_table.ipynb>data table notebook</a>'\n",
              "          + ' to learn more about interactive tables.';\n",
              "        element.innerHTML = '';\n",
              "        dataTable['output_type'] = 'display_data';\n",
              "        await google.colab.output.renderOutput(dataTable, element);\n",
              "        const docLink = document.createElement('div');\n",
              "        docLink.innerHTML = docLinkHtml;\n",
              "        element.appendChild(docLink);\n",
              "      }\n",
              "    </script>\n",
              "  </div>\n",
              "\n",
              "\n",
              "<div id=\"df-6ca4a626-ebdb-4952-86eb-65cb284a82ab\">\n",
              "  <button class=\"colab-df-quickchart\" onclick=\"quickchart('df-6ca4a626-ebdb-4952-86eb-65cb284a82ab')\"\n",
              "            title=\"Suggest charts\"\n",
              "            style=\"display:none;\">\n",
              "\n",
              "<svg xmlns=\"http://www.w3.org/2000/svg\" height=\"24px\"viewBox=\"0 0 24 24\"\n",
              "     width=\"24px\">\n",
              "    <g>\n",
              "        <path d=\"M19 3H5c-1.1 0-2 .9-2 2v14c0 1.1.9 2 2 2h14c1.1 0 2-.9 2-2V5c0-1.1-.9-2-2-2zM9 17H7v-7h2v7zm4 0h-2V7h2v10zm4 0h-2v-4h2v4z\"/>\n",
              "    </g>\n",
              "</svg>\n",
              "  </button>\n",
              "\n",
              "<style>\n",
              "  .colab-df-quickchart {\n",
              "      --bg-color: #E8F0FE;\n",
              "      --fill-color: #1967D2;\n",
              "      --hover-bg-color: #E2EBFA;\n",
              "      --hover-fill-color: #174EA6;\n",
              "      --disabled-fill-color: #AAA;\n",
              "      --disabled-bg-color: #DDD;\n",
              "  }\n",
              "\n",
              "  [theme=dark] .colab-df-quickchart {\n",
              "      --bg-color: #3B4455;\n",
              "      --fill-color: #D2E3FC;\n",
              "      --hover-bg-color: #434B5C;\n",
              "      --hover-fill-color: #FFFFFF;\n",
              "      --disabled-bg-color: #3B4455;\n",
              "      --disabled-fill-color: #666;\n",
              "  }\n",
              "\n",
              "  .colab-df-quickchart {\n",
              "    background-color: var(--bg-color);\n",
              "    border: none;\n",
              "    border-radius: 50%;\n",
              "    cursor: pointer;\n",
              "    display: none;\n",
              "    fill: var(--fill-color);\n",
              "    height: 32px;\n",
              "    padding: 0;\n",
              "    width: 32px;\n",
              "  }\n",
              "\n",
              "  .colab-df-quickchart:hover {\n",
              "    background-color: var(--hover-bg-color);\n",
              "    box-shadow: 0 1px 2px rgba(60, 64, 67, 0.3), 0 1px 3px 1px rgba(60, 64, 67, 0.15);\n",
              "    fill: var(--button-hover-fill-color);\n",
              "  }\n",
              "\n",
              "  .colab-df-quickchart-complete:disabled,\n",
              "  .colab-df-quickchart-complete:disabled:hover {\n",
              "    background-color: var(--disabled-bg-color);\n",
              "    fill: var(--disabled-fill-color);\n",
              "    box-shadow: none;\n",
              "  }\n",
              "\n",
              "  .colab-df-spinner {\n",
              "    border: 2px solid var(--fill-color);\n",
              "    border-color: transparent;\n",
              "    border-bottom-color: var(--fill-color);\n",
              "    animation:\n",
              "      spin 1s steps(1) infinite;\n",
              "  }\n",
              "\n",
              "  @keyframes spin {\n",
              "    0% {\n",
              "      border-color: transparent;\n",
              "      border-bottom-color: var(--fill-color);\n",
              "      border-left-color: var(--fill-color);\n",
              "    }\n",
              "    20% {\n",
              "      border-color: transparent;\n",
              "      border-left-color: var(--fill-color);\n",
              "      border-top-color: var(--fill-color);\n",
              "    }\n",
              "    30% {\n",
              "      border-color: transparent;\n",
              "      border-left-color: var(--fill-color);\n",
              "      border-top-color: var(--fill-color);\n",
              "      border-right-color: var(--fill-color);\n",
              "    }\n",
              "    40% {\n",
              "      border-color: transparent;\n",
              "      border-right-color: var(--fill-color);\n",
              "      border-top-color: var(--fill-color);\n",
              "    }\n",
              "    60% {\n",
              "      border-color: transparent;\n",
              "      border-right-color: var(--fill-color);\n",
              "    }\n",
              "    80% {\n",
              "      border-color: transparent;\n",
              "      border-right-color: var(--fill-color);\n",
              "      border-bottom-color: var(--fill-color);\n",
              "    }\n",
              "    90% {\n",
              "      border-color: transparent;\n",
              "      border-bottom-color: var(--fill-color);\n",
              "    }\n",
              "  }\n",
              "</style>\n",
              "\n",
              "  <script>\n",
              "    async function quickchart(key) {\n",
              "      const quickchartButtonEl =\n",
              "        document.querySelector('#' + key + ' button');\n",
              "      quickchartButtonEl.disabled = true;  // To prevent multiple clicks.\n",
              "      quickchartButtonEl.classList.add('colab-df-spinner');\n",
              "      try {\n",
              "        const charts = await google.colab.kernel.invokeFunction(\n",
              "            'suggestCharts', [key], {});\n",
              "      } catch (error) {\n",
              "        console.error('Error during call to suggestCharts:', error);\n",
              "      }\n",
              "      quickchartButtonEl.classList.remove('colab-df-spinner');\n",
              "      quickchartButtonEl.classList.add('colab-df-quickchart-complete');\n",
              "    }\n",
              "    (() => {\n",
              "      let quickchartButtonEl =\n",
              "        document.querySelector('#df-6ca4a626-ebdb-4952-86eb-65cb284a82ab button');\n",
              "      quickchartButtonEl.style.display =\n",
              "        google.colab.kernel.accessAllowed ? 'block' : 'none';\n",
              "    })();\n",
              "  </script>\n",
              "</div>\n",
              "\n",
              "    </div>\n",
              "  </div>\n"
            ],
            "application/vnd.google.colaboratory.intrinsic+json": {
              "type": "dataframe",
              "variable_name": "df",
              "summary": "{\n  \"name\": \"df\",\n  \"rows\": 754,\n  \"fields\": [\n    {\n      \"column\": \"image_id\",\n      \"properties\": {\n        \"dtype\": \"string\",\n        \"num_unique_values\": 754,\n        \"samples\": [\n          \"cb4f8e_1\",\n          \"5415fe_0\",\n          \"e251ff_0\"\n        ],\n        \"semantic_type\": \"\",\n        \"description\": \"\"\n      }\n    },\n    {\n      \"column\": \"center_id\",\n      \"properties\": {\n        \"dtype\": \"number\",\n        \"std\": 3,\n        \"min\": 1,\n        \"max\": 11,\n        \"num_unique_values\": 11,\n        \"samples\": [\n          6,\n          11,\n          8\n        ],\n        \"semantic_type\": \"\",\n        \"description\": \"\"\n      }\n    },\n    {\n      \"column\": \"patient_id\",\n      \"properties\": {\n        \"dtype\": \"string\",\n        \"num_unique_values\": 632,\n        \"samples\": [\n          \"83198b\",\n          \"5f3f01\",\n          \"e8dceb\"\n        ],\n        \"semantic_type\": \"\",\n        \"description\": \"\"\n      }\n    },\n    {\n      \"column\": \"image_num\",\n      \"properties\": {\n        \"dtype\": \"number\",\n        \"std\": 0,\n        \"min\": 0,\n        \"max\": 4,\n        \"num_unique_values\": 5,\n        \"samples\": [\n          1,\n          4,\n          2\n        ],\n        \"semantic_type\": \"\",\n        \"description\": \"\"\n      }\n    },\n    {\n      \"column\": \"label\",\n      \"properties\": {\n        \"dtype\": \"category\",\n        \"num_unique_values\": 2,\n        \"samples\": [\n          \"LAA\",\n          \"CE\"\n        ],\n        \"semantic_type\": \"\",\n        \"description\": \"\"\n      }\n    }\n  ]\n}"
            }
          },
          "metadata": {},
          "execution_count": 6
        }
      ]
    },
    {
      "cell_type": "code",
      "source": [
        "CE = df.loc[df['label']=='CE'][:200]['patient_id'].reset_index()"
      ],
      "metadata": {
        "id": "p-yRcwtlywcK"
      },
      "execution_count": 7,
      "outputs": []
    },
    {
      "cell_type": "code",
      "source": [
        "CE.head(4)"
      ],
      "metadata": {
        "colab": {
          "base_uri": "https://localhost:8080/",
          "height": 203
        },
        "id": "fjWPMdm11vtZ",
        "outputId": "1e66470b-d530-426a-e0e6-fe1fbab89f67"
      },
      "execution_count": 8,
      "outputs": [
        {
          "output_type": "execute_result",
          "data": {
            "text/plain": [
              "   index patient_id\n",
              "0      0     006388\n",
              "1      1     008e5c\n",
              "2      4     026c97\n",
              "3      6     029c68"
            ],
            "text/html": [
              "\n",
              "  <div id=\"df-4e46ee64-edeb-4c81-9661-2739ea2dbe73\" class=\"colab-df-container\">\n",
              "    <table id=\"itables_830aa5e1_76fe_434f_a1b1_23b93657c3e8\" class=\"display nowrap\" data-quarto-disable-processing=\"true\" style=\"table-layout:auto;width:auto;margin:auto;caption-side:bottom\">\n",
              "<thead>\n",
              "    <tr style=\"text-align: right;\">\n",
              "\n",
              "      <th>index</th>\n",
              "      <th>patient_id</th>\n",
              "    </tr>\n",
              "  </thead><tbody><tr>\n",
              "<td style=\"vertical-align:middle; text-align:left\">\n",
              "<div style=\"float:left; margin-right: 10px;\">\n",
              "<a href=https://mwouts.github.io/itables/><svg class=\"main-svg\" xmlns=\"http://www.w3.org/2000/svg\" xmlns:xlink=\"http://www.w3.org/1999/xlink\"\n",
              "width=\"64\" viewBox=\"0 0 500 400\" style=\"font-family: 'Droid Sans', sans-serif;\">\n",
              "    <g style=\"fill:#d9d7fc\">\n",
              "        <path d=\"M100,400H500V357H100Z\" />\n",
              "        <path d=\"M100,300H400V257H100Z\" />\n",
              "        <path d=\"M0,200H400V157H0Z\" />\n",
              "        <path d=\"M100,100H500V57H100Z\" />\n",
              "        <path d=\"M100,350H500V307H100Z\" />\n",
              "        <path d=\"M100,250H400V207H100Z\" />\n",
              "        <path d=\"M0,150H400V107H0Z\" />\n",
              "        <path d=\"M100,50H500V7H100Z\" />\n",
              "    </g>\n",
              "    <g style=\"fill:#1a1366;stroke:#1a1366;\">\n",
              "   <rect x=\"100\" y=\"7\" width=\"400\" height=\"43\">\n",
              "    <animate\n",
              "      attributeName=\"width\"\n",
              "      values=\"0;400;0\"\n",
              "      dur=\"5s\"\n",
              "      repeatCount=\"indefinite\" />\n",
              "      <animate\n",
              "      attributeName=\"x\"\n",
              "      values=\"100;100;500\"\n",
              "      dur=\"5s\"\n",
              "      repeatCount=\"indefinite\" />\n",
              "  </rect>\n",
              "        <rect x=\"0\" y=\"107\" width=\"400\" height=\"43\">\n",
              "    <animate\n",
              "      attributeName=\"width\"\n",
              "      values=\"0;400;0\"\n",
              "      dur=\"3.5s\"\n",
              "      repeatCount=\"indefinite\" />\n",
              "    <animate\n",
              "      attributeName=\"x\"\n",
              "      values=\"0;0;400\"\n",
              "      dur=\"3.5s\"\n",
              "      repeatCount=\"indefinite\" />\n",
              "  </rect>\n",
              "        <rect x=\"100\" y=\"207\" width=\"300\" height=\"43\">\n",
              "    <animate\n",
              "      attributeName=\"width\"\n",
              "      values=\"0;300;0\"\n",
              "      dur=\"3s\"\n",
              "      repeatCount=\"indefinite\" />\n",
              "    <animate\n",
              "      attributeName=\"x\"\n",
              "      values=\"100;100;400\"\n",
              "      dur=\"3s\"\n",
              "      repeatCount=\"indefinite\" />\n",
              "  </rect>\n",
              "        <rect x=\"100\" y=\"307\" width=\"400\" height=\"43\">\n",
              "    <animate\n",
              "      attributeName=\"width\"\n",
              "      values=\"0;400;0\"\n",
              "      dur=\"4s\"\n",
              "      repeatCount=\"indefinite\" />\n",
              "      <animate\n",
              "      attributeName=\"x\"\n",
              "      values=\"100;100;500\"\n",
              "      dur=\"4s\"\n",
              "      repeatCount=\"indefinite\" />\n",
              "  </rect>\n",
              "        <g style=\"fill:transparent;stroke-width:8; stroke-linejoin:round\" rx=\"5\">\n",
              "            <g transform=\"translate(45 50) rotate(-45)\">\n",
              "                <circle r=\"33\" cx=\"0\" cy=\"0\" />\n",
              "                <rect x=\"-8\" y=\"32\" width=\"16\" height=\"30\" />\n",
              "            </g>\n",
              "\n",
              "            <g transform=\"translate(450 152)\">\n",
              "                <polyline points=\"-15,-20 -35,-20 -35,40 25,40 25,20\" />\n",
              "                <rect x=\"-15\" y=\"-40\" width=\"60\" height=\"60\" />\n",
              "            </g>\n",
              "\n",
              "            <g transform=\"translate(50 352)\">\n",
              "                <polygon points=\"-35,-5 0,-40 35,-5\" />\n",
              "                <polygon points=\"-35,10 0,45 35,10\" />\n",
              "            </g>\n",
              "\n",
              "            <g transform=\"translate(75 250)\">\n",
              "                <polyline points=\"-30,30 -60,0 -30,-30\" />\n",
              "                <polyline points=\"0,30 -30,0 0,-30\" />\n",
              "            </g>\n",
              "\n",
              "            <g transform=\"translate(425 250) rotate(180)\">\n",
              "                <polyline points=\"-30,30 -60,0 -30,-30\" />\n",
              "                <polyline points=\"0,30 -30,0 0,-30\" />\n",
              "            </g>\n",
              "        </g>\n",
              "    </g>\n",
              "</svg>\n",
              "</a>\n",
              "</div>\n",
              "<div>\n",
              "Loading ITables v2.1.3 from the internet...\n",
              "(need <a href=https://mwouts.github.io/itables/troubleshooting.html>help</a>?)</td>\n",
              "</div>\n",
              "</tr></tbody>\n",
              "\n",
              "</table>\n",
              "<link href=\"https://www.unpkg.com/dt_for_itables@2.0.11/dt_bundle.css\" rel=\"stylesheet\">\n",
              "<script type=\"module\">\n",
              "    import {DataTable, jQuery as $} from 'https://www.unpkg.com/dt_for_itables@2.0.11/dt_bundle.js';\n",
              "\n",
              "    document.querySelectorAll(\"#itables_830aa5e1_76fe_434f_a1b1_23b93657c3e8:not(.dataTable)\").forEach(table => {\n",
              "        // Define the table data\n",
              "        const data = [[0, \"006388\"], [1, \"008e5c\"], [4, \"026c97\"], [6, \"029c68\"]];\n",
              "\n",
              "        // Define the dt_args\n",
              "        let dt_args = {\"layout\": {\"topStart\": null, \"topEnd\": null, \"bottomStart\": null, \"bottomEnd\": null}, \"order\": []};\n",
              "        dt_args[\"data\"] = data;\n",
              "\n",
              "\n",
              "        new DataTable(table, dt_args);\n",
              "    });\n",
              "</script>\n",
              "\n",
              "    <div class=\"colab-df-buttons\">\n",
              "\n",
              "  <div class=\"colab-df-container\">\n",
              "    <button class=\"colab-df-convert\" onclick=\"convertToInteractive('df-4e46ee64-edeb-4c81-9661-2739ea2dbe73')\"\n",
              "            title=\"Convert this dataframe to an interactive table.\"\n",
              "            style=\"display:none;\">\n",
              "\n",
              "  <svg xmlns=\"http://www.w3.org/2000/svg\" height=\"24px\" viewBox=\"0 -960 960 960\">\n",
              "    <path d=\"M120-120v-720h720v720H120Zm60-500h600v-160H180v160Zm220 220h160v-160H400v160Zm0 220h160v-160H400v160ZM180-400h160v-160H180v160Zm440 0h160v-160H620v160ZM180-180h160v-160H180v160Zm440 0h160v-160H620v160Z\"/>\n",
              "  </svg>\n",
              "    </button>\n",
              "\n",
              "  <style>\n",
              "    .colab-df-container {\n",
              "      display:flex;\n",
              "      gap: 12px;\n",
              "    }\n",
              "\n",
              "    .colab-df-convert {\n",
              "      background-color: #E8F0FE;\n",
              "      border: none;\n",
              "      border-radius: 50%;\n",
              "      cursor: pointer;\n",
              "      display: none;\n",
              "      fill: #1967D2;\n",
              "      height: 32px;\n",
              "      padding: 0 0 0 0;\n",
              "      width: 32px;\n",
              "    }\n",
              "\n",
              "    .colab-df-convert:hover {\n",
              "      background-color: #E2EBFA;\n",
              "      box-shadow: 0px 1px 2px rgba(60, 64, 67, 0.3), 0px 1px 3px 1px rgba(60, 64, 67, 0.15);\n",
              "      fill: #174EA6;\n",
              "    }\n",
              "\n",
              "    .colab-df-buttons div {\n",
              "      margin-bottom: 4px;\n",
              "    }\n",
              "\n",
              "    [theme=dark] .colab-df-convert {\n",
              "      background-color: #3B4455;\n",
              "      fill: #D2E3FC;\n",
              "    }\n",
              "\n",
              "    [theme=dark] .colab-df-convert:hover {\n",
              "      background-color: #434B5C;\n",
              "      box-shadow: 0px 1px 3px 1px rgba(0, 0, 0, 0.15);\n",
              "      filter: drop-shadow(0px 1px 2px rgba(0, 0, 0, 0.3));\n",
              "      fill: #FFFFFF;\n",
              "    }\n",
              "  </style>\n",
              "\n",
              "    <script>\n",
              "      const buttonEl =\n",
              "        document.querySelector('#df-4e46ee64-edeb-4c81-9661-2739ea2dbe73 button.colab-df-convert');\n",
              "      buttonEl.style.display =\n",
              "        google.colab.kernel.accessAllowed ? 'block' : 'none';\n",
              "\n",
              "      async function convertToInteractive(key) {\n",
              "        const element = document.querySelector('#df-4e46ee64-edeb-4c81-9661-2739ea2dbe73');\n",
              "        const dataTable =\n",
              "          await google.colab.kernel.invokeFunction('convertToInteractive',\n",
              "                                                    [key], {});\n",
              "        if (!dataTable) return;\n",
              "\n",
              "        const docLinkHtml = 'Like what you see? Visit the ' +\n",
              "          '<a target=\"_blank\" href=https://colab.research.google.com/notebooks/data_table.ipynb>data table notebook</a>'\n",
              "          + ' to learn more about interactive tables.';\n",
              "        element.innerHTML = '';\n",
              "        dataTable['output_type'] = 'display_data';\n",
              "        await google.colab.output.renderOutput(dataTable, element);\n",
              "        const docLink = document.createElement('div');\n",
              "        docLink.innerHTML = docLinkHtml;\n",
              "        element.appendChild(docLink);\n",
              "      }\n",
              "    </script>\n",
              "  </div>\n",
              "\n",
              "\n",
              "<div id=\"df-8aedf154-fea0-4d00-9ff8-c87ccf9253d9\">\n",
              "  <button class=\"colab-df-quickchart\" onclick=\"quickchart('df-8aedf154-fea0-4d00-9ff8-c87ccf9253d9')\"\n",
              "            title=\"Suggest charts\"\n",
              "            style=\"display:none;\">\n",
              "\n",
              "<svg xmlns=\"http://www.w3.org/2000/svg\" height=\"24px\"viewBox=\"0 0 24 24\"\n",
              "     width=\"24px\">\n",
              "    <g>\n",
              "        <path d=\"M19 3H5c-1.1 0-2 .9-2 2v14c0 1.1.9 2 2 2h14c1.1 0 2-.9 2-2V5c0-1.1-.9-2-2-2zM9 17H7v-7h2v7zm4 0h-2V7h2v10zm4 0h-2v-4h2v4z\"/>\n",
              "    </g>\n",
              "</svg>\n",
              "  </button>\n",
              "\n",
              "<style>\n",
              "  .colab-df-quickchart {\n",
              "      --bg-color: #E8F0FE;\n",
              "      --fill-color: #1967D2;\n",
              "      --hover-bg-color: #E2EBFA;\n",
              "      --hover-fill-color: #174EA6;\n",
              "      --disabled-fill-color: #AAA;\n",
              "      --disabled-bg-color: #DDD;\n",
              "  }\n",
              "\n",
              "  [theme=dark] .colab-df-quickchart {\n",
              "      --bg-color: #3B4455;\n",
              "      --fill-color: #D2E3FC;\n",
              "      --hover-bg-color: #434B5C;\n",
              "      --hover-fill-color: #FFFFFF;\n",
              "      --disabled-bg-color: #3B4455;\n",
              "      --disabled-fill-color: #666;\n",
              "  }\n",
              "\n",
              "  .colab-df-quickchart {\n",
              "    background-color: var(--bg-color);\n",
              "    border: none;\n",
              "    border-radius: 50%;\n",
              "    cursor: pointer;\n",
              "    display: none;\n",
              "    fill: var(--fill-color);\n",
              "    height: 32px;\n",
              "    padding: 0;\n",
              "    width: 32px;\n",
              "  }\n",
              "\n",
              "  .colab-df-quickchart:hover {\n",
              "    background-color: var(--hover-bg-color);\n",
              "    box-shadow: 0 1px 2px rgba(60, 64, 67, 0.3), 0 1px 3px 1px rgba(60, 64, 67, 0.15);\n",
              "    fill: var(--button-hover-fill-color);\n",
              "  }\n",
              "\n",
              "  .colab-df-quickchart-complete:disabled,\n",
              "  .colab-df-quickchart-complete:disabled:hover {\n",
              "    background-color: var(--disabled-bg-color);\n",
              "    fill: var(--disabled-fill-color);\n",
              "    box-shadow: none;\n",
              "  }\n",
              "\n",
              "  .colab-df-spinner {\n",
              "    border: 2px solid var(--fill-color);\n",
              "    border-color: transparent;\n",
              "    border-bottom-color: var(--fill-color);\n",
              "    animation:\n",
              "      spin 1s steps(1) infinite;\n",
              "  }\n",
              "\n",
              "  @keyframes spin {\n",
              "    0% {\n",
              "      border-color: transparent;\n",
              "      border-bottom-color: var(--fill-color);\n",
              "      border-left-color: var(--fill-color);\n",
              "    }\n",
              "    20% {\n",
              "      border-color: transparent;\n",
              "      border-left-color: var(--fill-color);\n",
              "      border-top-color: var(--fill-color);\n",
              "    }\n",
              "    30% {\n",
              "      border-color: transparent;\n",
              "      border-left-color: var(--fill-color);\n",
              "      border-top-color: var(--fill-color);\n",
              "      border-right-color: var(--fill-color);\n",
              "    }\n",
              "    40% {\n",
              "      border-color: transparent;\n",
              "      border-right-color: var(--fill-color);\n",
              "      border-top-color: var(--fill-color);\n",
              "    }\n",
              "    60% {\n",
              "      border-color: transparent;\n",
              "      border-right-color: var(--fill-color);\n",
              "    }\n",
              "    80% {\n",
              "      border-color: transparent;\n",
              "      border-right-color: var(--fill-color);\n",
              "      border-bottom-color: var(--fill-color);\n",
              "    }\n",
              "    90% {\n",
              "      border-color: transparent;\n",
              "      border-bottom-color: var(--fill-color);\n",
              "    }\n",
              "  }\n",
              "</style>\n",
              "\n",
              "  <script>\n",
              "    async function quickchart(key) {\n",
              "      const quickchartButtonEl =\n",
              "        document.querySelector('#' + key + ' button');\n",
              "      quickchartButtonEl.disabled = true;  // To prevent multiple clicks.\n",
              "      quickchartButtonEl.classList.add('colab-df-spinner');\n",
              "      try {\n",
              "        const charts = await google.colab.kernel.invokeFunction(\n",
              "            'suggestCharts', [key], {});\n",
              "      } catch (error) {\n",
              "        console.error('Error during call to suggestCharts:', error);\n",
              "      }\n",
              "      quickchartButtonEl.classList.remove('colab-df-spinner');\n",
              "      quickchartButtonEl.classList.add('colab-df-quickchart-complete');\n",
              "    }\n",
              "    (() => {\n",
              "      let quickchartButtonEl =\n",
              "        document.querySelector('#df-8aedf154-fea0-4d00-9ff8-c87ccf9253d9 button');\n",
              "      quickchartButtonEl.style.display =\n",
              "        google.colab.kernel.accessAllowed ? 'block' : 'none';\n",
              "    })();\n",
              "  </script>\n",
              "</div>\n",
              "\n",
              "    </div>\n",
              "  </div>\n"
            ],
            "application/vnd.google.colaboratory.intrinsic+json": {
              "type": "dataframe",
              "variable_name": "CE",
              "summary": "{\n  \"name\": \"CE\",\n  \"rows\": 200,\n  \"fields\": [\n    {\n      \"column\": \"index\",\n      \"properties\": {\n        \"dtype\": \"number\",\n        \"std\": 77,\n        \"min\": 0,\n        \"max\": 264,\n        \"num_unique_values\": 200,\n        \"samples\": [\n          122,\n          19,\n          41\n        ],\n        \"semantic_type\": \"\",\n        \"description\": \"\"\n      }\n    },\n    {\n      \"column\": \"patient_id\",\n      \"properties\": {\n        \"dtype\": \"string\",\n        \"num_unique_values\": 170,\n        \"samples\": [\n          \"48af1a\",\n          \"0df5f8\",\n          \"3d10be\"\n        ],\n        \"semantic_type\": \"\",\n        \"description\": \"\"\n      }\n    }\n  ]\n}"
            }
          },
          "metadata": {},
          "execution_count": 8
        }
      ]
    },
    {
      "cell_type": "code",
      "source": [
        "LAA = df.loc[df['label']=='LAA'][:100]['patient_id'].reset_index()"
      ],
      "metadata": {
        "id": "tgg54CUQ9E5T"
      },
      "execution_count": 9,
      "outputs": []
    },
    {
      "cell_type": "code",
      "source": [
        "target_CE, target_LAA = torch.ones(200), torch.zeros(100)"
      ],
      "metadata": {
        "id": "RePcR3SR2Kk4"
      },
      "execution_count": 10,
      "outputs": []
    },
    {
      "cell_type": "code",
      "source": [
        "CE['target'], LAA['target'] = target_CE, target_LAA"
      ],
      "metadata": {
        "id": "Hk78riva2Yg4"
      },
      "execution_count": 11,
      "outputs": []
    },
    {
      "cell_type": "code",
      "source": [
        "CE.head(4)"
      ],
      "metadata": {
        "colab": {
          "base_uri": "https://localhost:8080/",
          "height": 203
        },
        "id": "LMPgeLLQ2rDB",
        "outputId": "0f0dccaf-ddf2-474f-f8cb-215591e70330"
      },
      "execution_count": 12,
      "outputs": [
        {
          "output_type": "execute_result",
          "data": {
            "text/plain": [
              "   index patient_id  target\n",
              "0      0     006388     1.0\n",
              "1      1     008e5c     1.0\n",
              "2      4     026c97     1.0\n",
              "3      6     029c68     1.0"
            ],
            "text/html": [
              "\n",
              "  <div id=\"df-e4e32304-c8b8-4ab7-9765-d0841f3f6154\" class=\"colab-df-container\">\n",
              "    <table id=\"itables_23d98d90_e939_4d89_8cd7_4a037c1eafce\" class=\"display nowrap\" data-quarto-disable-processing=\"true\" style=\"table-layout:auto;width:auto;margin:auto;caption-side:bottom\">\n",
              "<thead>\n",
              "    <tr style=\"text-align: right;\">\n",
              "\n",
              "      <th>index</th>\n",
              "      <th>patient_id</th>\n",
              "      <th>target</th>\n",
              "    </tr>\n",
              "  </thead><tbody><tr>\n",
              "<td style=\"vertical-align:middle; text-align:left\">\n",
              "<div style=\"float:left; margin-right: 10px;\">\n",
              "<a href=https://mwouts.github.io/itables/><svg class=\"main-svg\" xmlns=\"http://www.w3.org/2000/svg\" xmlns:xlink=\"http://www.w3.org/1999/xlink\"\n",
              "width=\"64\" viewBox=\"0 0 500 400\" style=\"font-family: 'Droid Sans', sans-serif;\">\n",
              "    <g style=\"fill:#d9d7fc\">\n",
              "        <path d=\"M100,400H500V357H100Z\" />\n",
              "        <path d=\"M100,300H400V257H100Z\" />\n",
              "        <path d=\"M0,200H400V157H0Z\" />\n",
              "        <path d=\"M100,100H500V57H100Z\" />\n",
              "        <path d=\"M100,350H500V307H100Z\" />\n",
              "        <path d=\"M100,250H400V207H100Z\" />\n",
              "        <path d=\"M0,150H400V107H0Z\" />\n",
              "        <path d=\"M100,50H500V7H100Z\" />\n",
              "    </g>\n",
              "    <g style=\"fill:#1a1366;stroke:#1a1366;\">\n",
              "   <rect x=\"100\" y=\"7\" width=\"400\" height=\"43\">\n",
              "    <animate\n",
              "      attributeName=\"width\"\n",
              "      values=\"0;400;0\"\n",
              "      dur=\"5s\"\n",
              "      repeatCount=\"indefinite\" />\n",
              "      <animate\n",
              "      attributeName=\"x\"\n",
              "      values=\"100;100;500\"\n",
              "      dur=\"5s\"\n",
              "      repeatCount=\"indefinite\" />\n",
              "  </rect>\n",
              "        <rect x=\"0\" y=\"107\" width=\"400\" height=\"43\">\n",
              "    <animate\n",
              "      attributeName=\"width\"\n",
              "      values=\"0;400;0\"\n",
              "      dur=\"3.5s\"\n",
              "      repeatCount=\"indefinite\" />\n",
              "    <animate\n",
              "      attributeName=\"x\"\n",
              "      values=\"0;0;400\"\n",
              "      dur=\"3.5s\"\n",
              "      repeatCount=\"indefinite\" />\n",
              "  </rect>\n",
              "        <rect x=\"100\" y=\"207\" width=\"300\" height=\"43\">\n",
              "    <animate\n",
              "      attributeName=\"width\"\n",
              "      values=\"0;300;0\"\n",
              "      dur=\"3s\"\n",
              "      repeatCount=\"indefinite\" />\n",
              "    <animate\n",
              "      attributeName=\"x\"\n",
              "      values=\"100;100;400\"\n",
              "      dur=\"3s\"\n",
              "      repeatCount=\"indefinite\" />\n",
              "  </rect>\n",
              "        <rect x=\"100\" y=\"307\" width=\"400\" height=\"43\">\n",
              "    <animate\n",
              "      attributeName=\"width\"\n",
              "      values=\"0;400;0\"\n",
              "      dur=\"4s\"\n",
              "      repeatCount=\"indefinite\" />\n",
              "      <animate\n",
              "      attributeName=\"x\"\n",
              "      values=\"100;100;500\"\n",
              "      dur=\"4s\"\n",
              "      repeatCount=\"indefinite\" />\n",
              "  </rect>\n",
              "        <g style=\"fill:transparent;stroke-width:8; stroke-linejoin:round\" rx=\"5\">\n",
              "            <g transform=\"translate(45 50) rotate(-45)\">\n",
              "                <circle r=\"33\" cx=\"0\" cy=\"0\" />\n",
              "                <rect x=\"-8\" y=\"32\" width=\"16\" height=\"30\" />\n",
              "            </g>\n",
              "\n",
              "            <g transform=\"translate(450 152)\">\n",
              "                <polyline points=\"-15,-20 -35,-20 -35,40 25,40 25,20\" />\n",
              "                <rect x=\"-15\" y=\"-40\" width=\"60\" height=\"60\" />\n",
              "            </g>\n",
              "\n",
              "            <g transform=\"translate(50 352)\">\n",
              "                <polygon points=\"-35,-5 0,-40 35,-5\" />\n",
              "                <polygon points=\"-35,10 0,45 35,10\" />\n",
              "            </g>\n",
              "\n",
              "            <g transform=\"translate(75 250)\">\n",
              "                <polyline points=\"-30,30 -60,0 -30,-30\" />\n",
              "                <polyline points=\"0,30 -30,0 0,-30\" />\n",
              "            </g>\n",
              "\n",
              "            <g transform=\"translate(425 250) rotate(180)\">\n",
              "                <polyline points=\"-30,30 -60,0 -30,-30\" />\n",
              "                <polyline points=\"0,30 -30,0 0,-30\" />\n",
              "            </g>\n",
              "        </g>\n",
              "    </g>\n",
              "</svg>\n",
              "</a>\n",
              "</div>\n",
              "<div>\n",
              "Loading ITables v2.1.3 from the internet...\n",
              "(need <a href=https://mwouts.github.io/itables/troubleshooting.html>help</a>?)</td>\n",
              "</div>\n",
              "</tr></tbody>\n",
              "\n",
              "</table>\n",
              "<link href=\"https://www.unpkg.com/dt_for_itables@2.0.11/dt_bundle.css\" rel=\"stylesheet\">\n",
              "<script type=\"module\">\n",
              "    import {DataTable, jQuery as $} from 'https://www.unpkg.com/dt_for_itables@2.0.11/dt_bundle.js';\n",
              "\n",
              "    document.querySelectorAll(\"#itables_23d98d90_e939_4d89_8cd7_4a037c1eafce:not(.dataTable)\").forEach(table => {\n",
              "        // Define the table data\n",
              "        const data = [[0, \"006388\", 1.0], [1, \"008e5c\", 1.0], [4, \"026c97\", 1.0], [6, \"029c68\", 1.0]];\n",
              "\n",
              "        // Define the dt_args\n",
              "        let dt_args = {\"layout\": {\"topStart\": null, \"topEnd\": null, \"bottomStart\": null, \"bottomEnd\": null}, \"order\": []};\n",
              "        dt_args[\"data\"] = data;\n",
              "\n",
              "\n",
              "        new DataTable(table, dt_args);\n",
              "    });\n",
              "</script>\n",
              "\n",
              "    <div class=\"colab-df-buttons\">\n",
              "\n",
              "  <div class=\"colab-df-container\">\n",
              "    <button class=\"colab-df-convert\" onclick=\"convertToInteractive('df-e4e32304-c8b8-4ab7-9765-d0841f3f6154')\"\n",
              "            title=\"Convert this dataframe to an interactive table.\"\n",
              "            style=\"display:none;\">\n",
              "\n",
              "  <svg xmlns=\"http://www.w3.org/2000/svg\" height=\"24px\" viewBox=\"0 -960 960 960\">\n",
              "    <path d=\"M120-120v-720h720v720H120Zm60-500h600v-160H180v160Zm220 220h160v-160H400v160Zm0 220h160v-160H400v160ZM180-400h160v-160H180v160Zm440 0h160v-160H620v160ZM180-180h160v-160H180v160Zm440 0h160v-160H620v160Z\"/>\n",
              "  </svg>\n",
              "    </button>\n",
              "\n",
              "  <style>\n",
              "    .colab-df-container {\n",
              "      display:flex;\n",
              "      gap: 12px;\n",
              "    }\n",
              "\n",
              "    .colab-df-convert {\n",
              "      background-color: #E8F0FE;\n",
              "      border: none;\n",
              "      border-radius: 50%;\n",
              "      cursor: pointer;\n",
              "      display: none;\n",
              "      fill: #1967D2;\n",
              "      height: 32px;\n",
              "      padding: 0 0 0 0;\n",
              "      width: 32px;\n",
              "    }\n",
              "\n",
              "    .colab-df-convert:hover {\n",
              "      background-color: #E2EBFA;\n",
              "      box-shadow: 0px 1px 2px rgba(60, 64, 67, 0.3), 0px 1px 3px 1px rgba(60, 64, 67, 0.15);\n",
              "      fill: #174EA6;\n",
              "    }\n",
              "\n",
              "    .colab-df-buttons div {\n",
              "      margin-bottom: 4px;\n",
              "    }\n",
              "\n",
              "    [theme=dark] .colab-df-convert {\n",
              "      background-color: #3B4455;\n",
              "      fill: #D2E3FC;\n",
              "    }\n",
              "\n",
              "    [theme=dark] .colab-df-convert:hover {\n",
              "      background-color: #434B5C;\n",
              "      box-shadow: 0px 1px 3px 1px rgba(0, 0, 0, 0.15);\n",
              "      filter: drop-shadow(0px 1px 2px rgba(0, 0, 0, 0.3));\n",
              "      fill: #FFFFFF;\n",
              "    }\n",
              "  </style>\n",
              "\n",
              "    <script>\n",
              "      const buttonEl =\n",
              "        document.querySelector('#df-e4e32304-c8b8-4ab7-9765-d0841f3f6154 button.colab-df-convert');\n",
              "      buttonEl.style.display =\n",
              "        google.colab.kernel.accessAllowed ? 'block' : 'none';\n",
              "\n",
              "      async function convertToInteractive(key) {\n",
              "        const element = document.querySelector('#df-e4e32304-c8b8-4ab7-9765-d0841f3f6154');\n",
              "        const dataTable =\n",
              "          await google.colab.kernel.invokeFunction('convertToInteractive',\n",
              "                                                    [key], {});\n",
              "        if (!dataTable) return;\n",
              "\n",
              "        const docLinkHtml = 'Like what you see? Visit the ' +\n",
              "          '<a target=\"_blank\" href=https://colab.research.google.com/notebooks/data_table.ipynb>data table notebook</a>'\n",
              "          + ' to learn more about interactive tables.';\n",
              "        element.innerHTML = '';\n",
              "        dataTable['output_type'] = 'display_data';\n",
              "        await google.colab.output.renderOutput(dataTable, element);\n",
              "        const docLink = document.createElement('div');\n",
              "        docLink.innerHTML = docLinkHtml;\n",
              "        element.appendChild(docLink);\n",
              "      }\n",
              "    </script>\n",
              "  </div>\n",
              "\n",
              "\n",
              "<div id=\"df-30b73e66-5567-44c1-8f2d-56096e6f5009\">\n",
              "  <button class=\"colab-df-quickchart\" onclick=\"quickchart('df-30b73e66-5567-44c1-8f2d-56096e6f5009')\"\n",
              "            title=\"Suggest charts\"\n",
              "            style=\"display:none;\">\n",
              "\n",
              "<svg xmlns=\"http://www.w3.org/2000/svg\" height=\"24px\"viewBox=\"0 0 24 24\"\n",
              "     width=\"24px\">\n",
              "    <g>\n",
              "        <path d=\"M19 3H5c-1.1 0-2 .9-2 2v14c0 1.1.9 2 2 2h14c1.1 0 2-.9 2-2V5c0-1.1-.9-2-2-2zM9 17H7v-7h2v7zm4 0h-2V7h2v10zm4 0h-2v-4h2v4z\"/>\n",
              "    </g>\n",
              "</svg>\n",
              "  </button>\n",
              "\n",
              "<style>\n",
              "  .colab-df-quickchart {\n",
              "      --bg-color: #E8F0FE;\n",
              "      --fill-color: #1967D2;\n",
              "      --hover-bg-color: #E2EBFA;\n",
              "      --hover-fill-color: #174EA6;\n",
              "      --disabled-fill-color: #AAA;\n",
              "      --disabled-bg-color: #DDD;\n",
              "  }\n",
              "\n",
              "  [theme=dark] .colab-df-quickchart {\n",
              "      --bg-color: #3B4455;\n",
              "      --fill-color: #D2E3FC;\n",
              "      --hover-bg-color: #434B5C;\n",
              "      --hover-fill-color: #FFFFFF;\n",
              "      --disabled-bg-color: #3B4455;\n",
              "      --disabled-fill-color: #666;\n",
              "  }\n",
              "\n",
              "  .colab-df-quickchart {\n",
              "    background-color: var(--bg-color);\n",
              "    border: none;\n",
              "    border-radius: 50%;\n",
              "    cursor: pointer;\n",
              "    display: none;\n",
              "    fill: var(--fill-color);\n",
              "    height: 32px;\n",
              "    padding: 0;\n",
              "    width: 32px;\n",
              "  }\n",
              "\n",
              "  .colab-df-quickchart:hover {\n",
              "    background-color: var(--hover-bg-color);\n",
              "    box-shadow: 0 1px 2px rgba(60, 64, 67, 0.3), 0 1px 3px 1px rgba(60, 64, 67, 0.15);\n",
              "    fill: var(--button-hover-fill-color);\n",
              "  }\n",
              "\n",
              "  .colab-df-quickchart-complete:disabled,\n",
              "  .colab-df-quickchart-complete:disabled:hover {\n",
              "    background-color: var(--disabled-bg-color);\n",
              "    fill: var(--disabled-fill-color);\n",
              "    box-shadow: none;\n",
              "  }\n",
              "\n",
              "  .colab-df-spinner {\n",
              "    border: 2px solid var(--fill-color);\n",
              "    border-color: transparent;\n",
              "    border-bottom-color: var(--fill-color);\n",
              "    animation:\n",
              "      spin 1s steps(1) infinite;\n",
              "  }\n",
              "\n",
              "  @keyframes spin {\n",
              "    0% {\n",
              "      border-color: transparent;\n",
              "      border-bottom-color: var(--fill-color);\n",
              "      border-left-color: var(--fill-color);\n",
              "    }\n",
              "    20% {\n",
              "      border-color: transparent;\n",
              "      border-left-color: var(--fill-color);\n",
              "      border-top-color: var(--fill-color);\n",
              "    }\n",
              "    30% {\n",
              "      border-color: transparent;\n",
              "      border-left-color: var(--fill-color);\n",
              "      border-top-color: var(--fill-color);\n",
              "      border-right-color: var(--fill-color);\n",
              "    }\n",
              "    40% {\n",
              "      border-color: transparent;\n",
              "      border-right-color: var(--fill-color);\n",
              "      border-top-color: var(--fill-color);\n",
              "    }\n",
              "    60% {\n",
              "      border-color: transparent;\n",
              "      border-right-color: var(--fill-color);\n",
              "    }\n",
              "    80% {\n",
              "      border-color: transparent;\n",
              "      border-right-color: var(--fill-color);\n",
              "      border-bottom-color: var(--fill-color);\n",
              "    }\n",
              "    90% {\n",
              "      border-color: transparent;\n",
              "      border-bottom-color: var(--fill-color);\n",
              "    }\n",
              "  }\n",
              "</style>\n",
              "\n",
              "  <script>\n",
              "    async function quickchart(key) {\n",
              "      const quickchartButtonEl =\n",
              "        document.querySelector('#' + key + ' button');\n",
              "      quickchartButtonEl.disabled = true;  // To prevent multiple clicks.\n",
              "      quickchartButtonEl.classList.add('colab-df-spinner');\n",
              "      try {\n",
              "        const charts = await google.colab.kernel.invokeFunction(\n",
              "            'suggestCharts', [key], {});\n",
              "      } catch (error) {\n",
              "        console.error('Error during call to suggestCharts:', error);\n",
              "      }\n",
              "      quickchartButtonEl.classList.remove('colab-df-spinner');\n",
              "      quickchartButtonEl.classList.add('colab-df-quickchart-complete');\n",
              "    }\n",
              "    (() => {\n",
              "      let quickchartButtonEl =\n",
              "        document.querySelector('#df-30b73e66-5567-44c1-8f2d-56096e6f5009 button');\n",
              "      quickchartButtonEl.style.display =\n",
              "        google.colab.kernel.accessAllowed ? 'block' : 'none';\n",
              "    })();\n",
              "  </script>\n",
              "</div>\n",
              "\n",
              "    </div>\n",
              "  </div>\n"
            ],
            "application/vnd.google.colaboratory.intrinsic+json": {
              "type": "dataframe",
              "variable_name": "CE",
              "summary": "{\n  \"name\": \"CE\",\n  \"rows\": 200,\n  \"fields\": [\n    {\n      \"column\": \"index\",\n      \"properties\": {\n        \"dtype\": \"number\",\n        \"std\": 77,\n        \"min\": 0,\n        \"max\": 264,\n        \"num_unique_values\": 200,\n        \"samples\": [\n          122,\n          19,\n          41\n        ],\n        \"semantic_type\": \"\",\n        \"description\": \"\"\n      }\n    },\n    {\n      \"column\": \"patient_id\",\n      \"properties\": {\n        \"dtype\": \"string\",\n        \"num_unique_values\": 170,\n        \"samples\": [\n          \"48af1a\",\n          \"0df5f8\",\n          \"3d10be\"\n        ],\n        \"semantic_type\": \"\",\n        \"description\": \"\"\n      }\n    },\n    {\n      \"column\": \"target\",\n      \"properties\": {\n        \"dtype\": \"float32\",\n        \"num_unique_values\": 1,\n        \"samples\": [\n          1.0\n        ],\n        \"semantic_type\": \"\",\n        \"description\": \"\"\n      }\n    }\n  ]\n}"
            }
          },
          "metadata": {},
          "execution_count": 12
        }
      ]
    },
    {
      "cell_type": "code",
      "source": [
        "final_df = pd.concat([CE,LAA], ignore_index=True)"
      ],
      "metadata": {
        "id": "ZXqUuEWc2EjS"
      },
      "execution_count": 13,
      "outputs": []
    },
    {
      "cell_type": "code",
      "source": [
        "final_df.head(4)"
      ],
      "metadata": {
        "colab": {
          "base_uri": "https://localhost:8080/",
          "height": 203
        },
        "id": "OvAgPeRN3G6J",
        "outputId": "889354fa-4e0a-4866-e1b8-e6310340ef60"
      },
      "execution_count": 14,
      "outputs": [
        {
          "output_type": "execute_result",
          "data": {
            "text/plain": [
              "   index patient_id  target\n",
              "0      0     006388     1.0\n",
              "1      1     008e5c     1.0\n",
              "2      4     026c97     1.0\n",
              "3      6     029c68     1.0"
            ],
            "text/html": [
              "\n",
              "  <div id=\"df-27fa259a-01b8-4fb5-8d01-b837659466ea\" class=\"colab-df-container\">\n",
              "    <table id=\"itables_68fe8d80_ad1c_473e_96e7_922b05feaeb5\" class=\"display nowrap\" data-quarto-disable-processing=\"true\" style=\"table-layout:auto;width:auto;margin:auto;caption-side:bottom\">\n",
              "<thead>\n",
              "    <tr style=\"text-align: right;\">\n",
              "\n",
              "      <th>index</th>\n",
              "      <th>patient_id</th>\n",
              "      <th>target</th>\n",
              "    </tr>\n",
              "  </thead><tbody><tr>\n",
              "<td style=\"vertical-align:middle; text-align:left\">\n",
              "<div style=\"float:left; margin-right: 10px;\">\n",
              "<a href=https://mwouts.github.io/itables/><svg class=\"main-svg\" xmlns=\"http://www.w3.org/2000/svg\" xmlns:xlink=\"http://www.w3.org/1999/xlink\"\n",
              "width=\"64\" viewBox=\"0 0 500 400\" style=\"font-family: 'Droid Sans', sans-serif;\">\n",
              "    <g style=\"fill:#d9d7fc\">\n",
              "        <path d=\"M100,400H500V357H100Z\" />\n",
              "        <path d=\"M100,300H400V257H100Z\" />\n",
              "        <path d=\"M0,200H400V157H0Z\" />\n",
              "        <path d=\"M100,100H500V57H100Z\" />\n",
              "        <path d=\"M100,350H500V307H100Z\" />\n",
              "        <path d=\"M100,250H400V207H100Z\" />\n",
              "        <path d=\"M0,150H400V107H0Z\" />\n",
              "        <path d=\"M100,50H500V7H100Z\" />\n",
              "    </g>\n",
              "    <g style=\"fill:#1a1366;stroke:#1a1366;\">\n",
              "   <rect x=\"100\" y=\"7\" width=\"400\" height=\"43\">\n",
              "    <animate\n",
              "      attributeName=\"width\"\n",
              "      values=\"0;400;0\"\n",
              "      dur=\"5s\"\n",
              "      repeatCount=\"indefinite\" />\n",
              "      <animate\n",
              "      attributeName=\"x\"\n",
              "      values=\"100;100;500\"\n",
              "      dur=\"5s\"\n",
              "      repeatCount=\"indefinite\" />\n",
              "  </rect>\n",
              "        <rect x=\"0\" y=\"107\" width=\"400\" height=\"43\">\n",
              "    <animate\n",
              "      attributeName=\"width\"\n",
              "      values=\"0;400;0\"\n",
              "      dur=\"3.5s\"\n",
              "      repeatCount=\"indefinite\" />\n",
              "    <animate\n",
              "      attributeName=\"x\"\n",
              "      values=\"0;0;400\"\n",
              "      dur=\"3.5s\"\n",
              "      repeatCount=\"indefinite\" />\n",
              "  </rect>\n",
              "        <rect x=\"100\" y=\"207\" width=\"300\" height=\"43\">\n",
              "    <animate\n",
              "      attributeName=\"width\"\n",
              "      values=\"0;300;0\"\n",
              "      dur=\"3s\"\n",
              "      repeatCount=\"indefinite\" />\n",
              "    <animate\n",
              "      attributeName=\"x\"\n",
              "      values=\"100;100;400\"\n",
              "      dur=\"3s\"\n",
              "      repeatCount=\"indefinite\" />\n",
              "  </rect>\n",
              "        <rect x=\"100\" y=\"307\" width=\"400\" height=\"43\">\n",
              "    <animate\n",
              "      attributeName=\"width\"\n",
              "      values=\"0;400;0\"\n",
              "      dur=\"4s\"\n",
              "      repeatCount=\"indefinite\" />\n",
              "      <animate\n",
              "      attributeName=\"x\"\n",
              "      values=\"100;100;500\"\n",
              "      dur=\"4s\"\n",
              "      repeatCount=\"indefinite\" />\n",
              "  </rect>\n",
              "        <g style=\"fill:transparent;stroke-width:8; stroke-linejoin:round\" rx=\"5\">\n",
              "            <g transform=\"translate(45 50) rotate(-45)\">\n",
              "                <circle r=\"33\" cx=\"0\" cy=\"0\" />\n",
              "                <rect x=\"-8\" y=\"32\" width=\"16\" height=\"30\" />\n",
              "            </g>\n",
              "\n",
              "            <g transform=\"translate(450 152)\">\n",
              "                <polyline points=\"-15,-20 -35,-20 -35,40 25,40 25,20\" />\n",
              "                <rect x=\"-15\" y=\"-40\" width=\"60\" height=\"60\" />\n",
              "            </g>\n",
              "\n",
              "            <g transform=\"translate(50 352)\">\n",
              "                <polygon points=\"-35,-5 0,-40 35,-5\" />\n",
              "                <polygon points=\"-35,10 0,45 35,10\" />\n",
              "            </g>\n",
              "\n",
              "            <g transform=\"translate(75 250)\">\n",
              "                <polyline points=\"-30,30 -60,0 -30,-30\" />\n",
              "                <polyline points=\"0,30 -30,0 0,-30\" />\n",
              "            </g>\n",
              "\n",
              "            <g transform=\"translate(425 250) rotate(180)\">\n",
              "                <polyline points=\"-30,30 -60,0 -30,-30\" />\n",
              "                <polyline points=\"0,30 -30,0 0,-30\" />\n",
              "            </g>\n",
              "        </g>\n",
              "    </g>\n",
              "</svg>\n",
              "</a>\n",
              "</div>\n",
              "<div>\n",
              "Loading ITables v2.1.3 from the internet...\n",
              "(need <a href=https://mwouts.github.io/itables/troubleshooting.html>help</a>?)</td>\n",
              "</div>\n",
              "</tr></tbody>\n",
              "\n",
              "</table>\n",
              "<link href=\"https://www.unpkg.com/dt_for_itables@2.0.11/dt_bundle.css\" rel=\"stylesheet\">\n",
              "<script type=\"module\">\n",
              "    import {DataTable, jQuery as $} from 'https://www.unpkg.com/dt_for_itables@2.0.11/dt_bundle.js';\n",
              "\n",
              "    document.querySelectorAll(\"#itables_68fe8d80_ad1c_473e_96e7_922b05feaeb5:not(.dataTable)\").forEach(table => {\n",
              "        // Define the table data\n",
              "        const data = [[0, \"006388\", 1.0], [1, \"008e5c\", 1.0], [4, \"026c97\", 1.0], [6, \"029c68\", 1.0]];\n",
              "\n",
              "        // Define the dt_args\n",
              "        let dt_args = {\"layout\": {\"topStart\": null, \"topEnd\": null, \"bottomStart\": null, \"bottomEnd\": null}, \"order\": []};\n",
              "        dt_args[\"data\"] = data;\n",
              "\n",
              "\n",
              "        new DataTable(table, dt_args);\n",
              "    });\n",
              "</script>\n",
              "\n",
              "    <div class=\"colab-df-buttons\">\n",
              "\n",
              "  <div class=\"colab-df-container\">\n",
              "    <button class=\"colab-df-convert\" onclick=\"convertToInteractive('df-27fa259a-01b8-4fb5-8d01-b837659466ea')\"\n",
              "            title=\"Convert this dataframe to an interactive table.\"\n",
              "            style=\"display:none;\">\n",
              "\n",
              "  <svg xmlns=\"http://www.w3.org/2000/svg\" height=\"24px\" viewBox=\"0 -960 960 960\">\n",
              "    <path d=\"M120-120v-720h720v720H120Zm60-500h600v-160H180v160Zm220 220h160v-160H400v160Zm0 220h160v-160H400v160ZM180-400h160v-160H180v160Zm440 0h160v-160H620v160ZM180-180h160v-160H180v160Zm440 0h160v-160H620v160Z\"/>\n",
              "  </svg>\n",
              "    </button>\n",
              "\n",
              "  <style>\n",
              "    .colab-df-container {\n",
              "      display:flex;\n",
              "      gap: 12px;\n",
              "    }\n",
              "\n",
              "    .colab-df-convert {\n",
              "      background-color: #E8F0FE;\n",
              "      border: none;\n",
              "      border-radius: 50%;\n",
              "      cursor: pointer;\n",
              "      display: none;\n",
              "      fill: #1967D2;\n",
              "      height: 32px;\n",
              "      padding: 0 0 0 0;\n",
              "      width: 32px;\n",
              "    }\n",
              "\n",
              "    .colab-df-convert:hover {\n",
              "      background-color: #E2EBFA;\n",
              "      box-shadow: 0px 1px 2px rgba(60, 64, 67, 0.3), 0px 1px 3px 1px rgba(60, 64, 67, 0.15);\n",
              "      fill: #174EA6;\n",
              "    }\n",
              "\n",
              "    .colab-df-buttons div {\n",
              "      margin-bottom: 4px;\n",
              "    }\n",
              "\n",
              "    [theme=dark] .colab-df-convert {\n",
              "      background-color: #3B4455;\n",
              "      fill: #D2E3FC;\n",
              "    }\n",
              "\n",
              "    [theme=dark] .colab-df-convert:hover {\n",
              "      background-color: #434B5C;\n",
              "      box-shadow: 0px 1px 3px 1px rgba(0, 0, 0, 0.15);\n",
              "      filter: drop-shadow(0px 1px 2px rgba(0, 0, 0, 0.3));\n",
              "      fill: #FFFFFF;\n",
              "    }\n",
              "  </style>\n",
              "\n",
              "    <script>\n",
              "      const buttonEl =\n",
              "        document.querySelector('#df-27fa259a-01b8-4fb5-8d01-b837659466ea button.colab-df-convert');\n",
              "      buttonEl.style.display =\n",
              "        google.colab.kernel.accessAllowed ? 'block' : 'none';\n",
              "\n",
              "      async function convertToInteractive(key) {\n",
              "        const element = document.querySelector('#df-27fa259a-01b8-4fb5-8d01-b837659466ea');\n",
              "        const dataTable =\n",
              "          await google.colab.kernel.invokeFunction('convertToInteractive',\n",
              "                                                    [key], {});\n",
              "        if (!dataTable) return;\n",
              "\n",
              "        const docLinkHtml = 'Like what you see? Visit the ' +\n",
              "          '<a target=\"_blank\" href=https://colab.research.google.com/notebooks/data_table.ipynb>data table notebook</a>'\n",
              "          + ' to learn more about interactive tables.';\n",
              "        element.innerHTML = '';\n",
              "        dataTable['output_type'] = 'display_data';\n",
              "        await google.colab.output.renderOutput(dataTable, element);\n",
              "        const docLink = document.createElement('div');\n",
              "        docLink.innerHTML = docLinkHtml;\n",
              "        element.appendChild(docLink);\n",
              "      }\n",
              "    </script>\n",
              "  </div>\n",
              "\n",
              "\n",
              "<div id=\"df-649972be-bfb5-4fdb-bc3f-494c020bb381\">\n",
              "  <button class=\"colab-df-quickchart\" onclick=\"quickchart('df-649972be-bfb5-4fdb-bc3f-494c020bb381')\"\n",
              "            title=\"Suggest charts\"\n",
              "            style=\"display:none;\">\n",
              "\n",
              "<svg xmlns=\"http://www.w3.org/2000/svg\" height=\"24px\"viewBox=\"0 0 24 24\"\n",
              "     width=\"24px\">\n",
              "    <g>\n",
              "        <path d=\"M19 3H5c-1.1 0-2 .9-2 2v14c0 1.1.9 2 2 2h14c1.1 0 2-.9 2-2V5c0-1.1-.9-2-2-2zM9 17H7v-7h2v7zm4 0h-2V7h2v10zm4 0h-2v-4h2v4z\"/>\n",
              "    </g>\n",
              "</svg>\n",
              "  </button>\n",
              "\n",
              "<style>\n",
              "  .colab-df-quickchart {\n",
              "      --bg-color: #E8F0FE;\n",
              "      --fill-color: #1967D2;\n",
              "      --hover-bg-color: #E2EBFA;\n",
              "      --hover-fill-color: #174EA6;\n",
              "      --disabled-fill-color: #AAA;\n",
              "      --disabled-bg-color: #DDD;\n",
              "  }\n",
              "\n",
              "  [theme=dark] .colab-df-quickchart {\n",
              "      --bg-color: #3B4455;\n",
              "      --fill-color: #D2E3FC;\n",
              "      --hover-bg-color: #434B5C;\n",
              "      --hover-fill-color: #FFFFFF;\n",
              "      --disabled-bg-color: #3B4455;\n",
              "      --disabled-fill-color: #666;\n",
              "  }\n",
              "\n",
              "  .colab-df-quickchart {\n",
              "    background-color: var(--bg-color);\n",
              "    border: none;\n",
              "    border-radius: 50%;\n",
              "    cursor: pointer;\n",
              "    display: none;\n",
              "    fill: var(--fill-color);\n",
              "    height: 32px;\n",
              "    padding: 0;\n",
              "    width: 32px;\n",
              "  }\n",
              "\n",
              "  .colab-df-quickchart:hover {\n",
              "    background-color: var(--hover-bg-color);\n",
              "    box-shadow: 0 1px 2px rgba(60, 64, 67, 0.3), 0 1px 3px 1px rgba(60, 64, 67, 0.15);\n",
              "    fill: var(--button-hover-fill-color);\n",
              "  }\n",
              "\n",
              "  .colab-df-quickchart-complete:disabled,\n",
              "  .colab-df-quickchart-complete:disabled:hover {\n",
              "    background-color: var(--disabled-bg-color);\n",
              "    fill: var(--disabled-fill-color);\n",
              "    box-shadow: none;\n",
              "  }\n",
              "\n",
              "  .colab-df-spinner {\n",
              "    border: 2px solid var(--fill-color);\n",
              "    border-color: transparent;\n",
              "    border-bottom-color: var(--fill-color);\n",
              "    animation:\n",
              "      spin 1s steps(1) infinite;\n",
              "  }\n",
              "\n",
              "  @keyframes spin {\n",
              "    0% {\n",
              "      border-color: transparent;\n",
              "      border-bottom-color: var(--fill-color);\n",
              "      border-left-color: var(--fill-color);\n",
              "    }\n",
              "    20% {\n",
              "      border-color: transparent;\n",
              "      border-left-color: var(--fill-color);\n",
              "      border-top-color: var(--fill-color);\n",
              "    }\n",
              "    30% {\n",
              "      border-color: transparent;\n",
              "      border-left-color: var(--fill-color);\n",
              "      border-top-color: var(--fill-color);\n",
              "      border-right-color: var(--fill-color);\n",
              "    }\n",
              "    40% {\n",
              "      border-color: transparent;\n",
              "      border-right-color: var(--fill-color);\n",
              "      border-top-color: var(--fill-color);\n",
              "    }\n",
              "    60% {\n",
              "      border-color: transparent;\n",
              "      border-right-color: var(--fill-color);\n",
              "    }\n",
              "    80% {\n",
              "      border-color: transparent;\n",
              "      border-right-color: var(--fill-color);\n",
              "      border-bottom-color: var(--fill-color);\n",
              "    }\n",
              "    90% {\n",
              "      border-color: transparent;\n",
              "      border-bottom-color: var(--fill-color);\n",
              "    }\n",
              "  }\n",
              "</style>\n",
              "\n",
              "  <script>\n",
              "    async function quickchart(key) {\n",
              "      const quickchartButtonEl =\n",
              "        document.querySelector('#' + key + ' button');\n",
              "      quickchartButtonEl.disabled = true;  // To prevent multiple clicks.\n",
              "      quickchartButtonEl.classList.add('colab-df-spinner');\n",
              "      try {\n",
              "        const charts = await google.colab.kernel.invokeFunction(\n",
              "            'suggestCharts', [key], {});\n",
              "      } catch (error) {\n",
              "        console.error('Error during call to suggestCharts:', error);\n",
              "      }\n",
              "      quickchartButtonEl.classList.remove('colab-df-spinner');\n",
              "      quickchartButtonEl.classList.add('colab-df-quickchart-complete');\n",
              "    }\n",
              "    (() => {\n",
              "      let quickchartButtonEl =\n",
              "        document.querySelector('#df-649972be-bfb5-4fdb-bc3f-494c020bb381 button');\n",
              "      quickchartButtonEl.style.display =\n",
              "        google.colab.kernel.accessAllowed ? 'block' : 'none';\n",
              "    })();\n",
              "  </script>\n",
              "</div>\n",
              "\n",
              "    </div>\n",
              "  </div>\n"
            ],
            "application/vnd.google.colaboratory.intrinsic+json": {
              "type": "dataframe",
              "variable_name": "final_df",
              "summary": "{\n  \"name\": \"final_df\",\n  \"rows\": 300,\n  \"fields\": [\n    {\n      \"column\": \"index\",\n      \"properties\": {\n        \"dtype\": \"number\",\n        \"std\": 97,\n        \"min\": 0,\n        \"max\": 402,\n        \"num_unique_values\": 300,\n        \"samples\": [\n          10,\n          281,\n          206\n        ],\n        \"semantic_type\": \"\",\n        \"description\": \"\"\n      }\n    },\n    {\n      \"column\": \"patient_id\",\n      \"properties\": {\n        \"dtype\": \"string\",\n        \"num_unique_values\": 257,\n        \"samples\": [\n          \"5415fe\",\n          \"162cad\",\n          \"2b49d6\"\n        ],\n        \"semantic_type\": \"\",\n        \"description\": \"\"\n      }\n    },\n    {\n      \"column\": \"target\",\n      \"properties\": {\n        \"dtype\": \"float32\",\n        \"num_unique_values\": 2,\n        \"samples\": [\n          0.0,\n          1.0\n        ],\n        \"semantic_type\": \"\",\n        \"description\": \"\"\n      }\n    }\n  ]\n}"
            }
          },
          "metadata": {},
          "execution_count": 14
        }
      ]
    },
    {
      "cell_type": "code",
      "source": [
        "final_df['index'] = range(0,300)"
      ],
      "metadata": {
        "id": "WGOVrth9239h"
      },
      "execution_count": 15,
      "outputs": []
    },
    {
      "cell_type": "code",
      "source": [
        "final_df.shape"
      ],
      "metadata": {
        "colab": {
          "base_uri": "https://localhost:8080/"
        },
        "id": "R-JbSm_m3koI",
        "outputId": "86aec64b-578b-4a8a-be96-6ca4606ab50d"
      },
      "execution_count": 16,
      "outputs": [
        {
          "output_type": "execute_result",
          "data": {
            "text/plain": [
              "(300, 3)"
            ]
          },
          "metadata": {},
          "execution_count": 16
        }
      ]
    },
    {
      "cell_type": "code",
      "source": [
        "final_df['pred'] = torch.tensor(np.linspace(0,4,300))"
      ],
      "metadata": {
        "id": "okGziEx23bHq"
      },
      "execution_count": 17,
      "outputs": []
    },
    {
      "cell_type": "code",
      "source": [
        "final_df.head(10)"
      ],
      "metadata": {
        "colab": {
          "base_uri": "https://localhost:8080/",
          "height": 409
        },
        "id": "J966Xogf3_Qh",
        "outputId": "28c68502-3f3c-4182-fef5-cb1da335b487"
      },
      "execution_count": 18,
      "outputs": [
        {
          "output_type": "execute_result",
          "data": {
            "text/plain": [
              "   index patient_id  target      pred\n",
              "0      0     006388     1.0  0.000000\n",
              "1      1     008e5c     1.0  0.013378\n",
              "2      2     026c97     1.0  0.026756\n",
              "3      3     029c68     1.0  0.040134\n",
              "4      4     032f10     1.0  0.053512\n",
              "5      5     0372b0     1.0  0.066890\n",
              "6      6     037300     1.0  0.080268\n",
              "7      7     03e6b7     1.0  0.093645\n",
              "8      8     0415c3     1.0  0.107023\n",
              "9      9     04439c     1.0  0.120401"
            ],
            "text/html": [
              "\n",
              "  <div id=\"df-35fd0759-7db5-4823-8474-bf2ae68f892a\" class=\"colab-df-container\">\n",
              "    <table id=\"itables_10caf87d_6898_43f8_aee0_d5187439a8ed\" class=\"display nowrap\" data-quarto-disable-processing=\"true\" style=\"table-layout:auto;width:auto;margin:auto;caption-side:bottom\">\n",
              "<thead>\n",
              "    <tr style=\"text-align: right;\">\n",
              "\n",
              "      <th>index</th>\n",
              "      <th>patient_id</th>\n",
              "      <th>target</th>\n",
              "      <th>pred</th>\n",
              "    </tr>\n",
              "  </thead><tbody><tr>\n",
              "<td style=\"vertical-align:middle; text-align:left\">\n",
              "<div style=\"float:left; margin-right: 10px;\">\n",
              "<a href=https://mwouts.github.io/itables/><svg class=\"main-svg\" xmlns=\"http://www.w3.org/2000/svg\" xmlns:xlink=\"http://www.w3.org/1999/xlink\"\n",
              "width=\"64\" viewBox=\"0 0 500 400\" style=\"font-family: 'Droid Sans', sans-serif;\">\n",
              "    <g style=\"fill:#d9d7fc\">\n",
              "        <path d=\"M100,400H500V357H100Z\" />\n",
              "        <path d=\"M100,300H400V257H100Z\" />\n",
              "        <path d=\"M0,200H400V157H0Z\" />\n",
              "        <path d=\"M100,100H500V57H100Z\" />\n",
              "        <path d=\"M100,350H500V307H100Z\" />\n",
              "        <path d=\"M100,250H400V207H100Z\" />\n",
              "        <path d=\"M0,150H400V107H0Z\" />\n",
              "        <path d=\"M100,50H500V7H100Z\" />\n",
              "    </g>\n",
              "    <g style=\"fill:#1a1366;stroke:#1a1366;\">\n",
              "   <rect x=\"100\" y=\"7\" width=\"400\" height=\"43\">\n",
              "    <animate\n",
              "      attributeName=\"width\"\n",
              "      values=\"0;400;0\"\n",
              "      dur=\"5s\"\n",
              "      repeatCount=\"indefinite\" />\n",
              "      <animate\n",
              "      attributeName=\"x\"\n",
              "      values=\"100;100;500\"\n",
              "      dur=\"5s\"\n",
              "      repeatCount=\"indefinite\" />\n",
              "  </rect>\n",
              "        <rect x=\"0\" y=\"107\" width=\"400\" height=\"43\">\n",
              "    <animate\n",
              "      attributeName=\"width\"\n",
              "      values=\"0;400;0\"\n",
              "      dur=\"3.5s\"\n",
              "      repeatCount=\"indefinite\" />\n",
              "    <animate\n",
              "      attributeName=\"x\"\n",
              "      values=\"0;0;400\"\n",
              "      dur=\"3.5s\"\n",
              "      repeatCount=\"indefinite\" />\n",
              "  </rect>\n",
              "        <rect x=\"100\" y=\"207\" width=\"300\" height=\"43\">\n",
              "    <animate\n",
              "      attributeName=\"width\"\n",
              "      values=\"0;300;0\"\n",
              "      dur=\"3s\"\n",
              "      repeatCount=\"indefinite\" />\n",
              "    <animate\n",
              "      attributeName=\"x\"\n",
              "      values=\"100;100;400\"\n",
              "      dur=\"3s\"\n",
              "      repeatCount=\"indefinite\" />\n",
              "  </rect>\n",
              "        <rect x=\"100\" y=\"307\" width=\"400\" height=\"43\">\n",
              "    <animate\n",
              "      attributeName=\"width\"\n",
              "      values=\"0;400;0\"\n",
              "      dur=\"4s\"\n",
              "      repeatCount=\"indefinite\" />\n",
              "      <animate\n",
              "      attributeName=\"x\"\n",
              "      values=\"100;100;500\"\n",
              "      dur=\"4s\"\n",
              "      repeatCount=\"indefinite\" />\n",
              "  </rect>\n",
              "        <g style=\"fill:transparent;stroke-width:8; stroke-linejoin:round\" rx=\"5\">\n",
              "            <g transform=\"translate(45 50) rotate(-45)\">\n",
              "                <circle r=\"33\" cx=\"0\" cy=\"0\" />\n",
              "                <rect x=\"-8\" y=\"32\" width=\"16\" height=\"30\" />\n",
              "            </g>\n",
              "\n",
              "            <g transform=\"translate(450 152)\">\n",
              "                <polyline points=\"-15,-20 -35,-20 -35,40 25,40 25,20\" />\n",
              "                <rect x=\"-15\" y=\"-40\" width=\"60\" height=\"60\" />\n",
              "            </g>\n",
              "\n",
              "            <g transform=\"translate(50 352)\">\n",
              "                <polygon points=\"-35,-5 0,-40 35,-5\" />\n",
              "                <polygon points=\"-35,10 0,45 35,10\" />\n",
              "            </g>\n",
              "\n",
              "            <g transform=\"translate(75 250)\">\n",
              "                <polyline points=\"-30,30 -60,0 -30,-30\" />\n",
              "                <polyline points=\"0,30 -30,0 0,-30\" />\n",
              "            </g>\n",
              "\n",
              "            <g transform=\"translate(425 250) rotate(180)\">\n",
              "                <polyline points=\"-30,30 -60,0 -30,-30\" />\n",
              "                <polyline points=\"0,30 -30,0 0,-30\" />\n",
              "            </g>\n",
              "        </g>\n",
              "    </g>\n",
              "</svg>\n",
              "</a>\n",
              "</div>\n",
              "<div>\n",
              "Loading ITables v2.1.3 from the internet...\n",
              "(need <a href=https://mwouts.github.io/itables/troubleshooting.html>help</a>?)</td>\n",
              "</div>\n",
              "</tr></tbody>\n",
              "\n",
              "</table>\n",
              "<link href=\"https://www.unpkg.com/dt_for_itables@2.0.11/dt_bundle.css\" rel=\"stylesheet\">\n",
              "<script type=\"module\">\n",
              "    import {DataTable, jQuery as $} from 'https://www.unpkg.com/dt_for_itables@2.0.11/dt_bundle.js';\n",
              "\n",
              "    document.querySelectorAll(\"#itables_10caf87d_6898_43f8_aee0_d5187439a8ed:not(.dataTable)\").forEach(table => {\n",
              "        // Define the table data\n",
              "        const data = [[0, \"006388\", 1.0, 0.0], [1, \"008e5c\", 1.0, 0.013378], [2, \"026c97\", 1.0, 0.026756], [3, \"029c68\", 1.0, 0.040134], [4, \"032f10\", 1.0, 0.053512], [5, \"0372b0\", 1.0, 0.06689], [6, \"037300\", 1.0, 0.080268], [7, \"03e6b7\", 1.0, 0.093645], [8, \"0415c3\", 1.0, 0.107023], [9, \"04439c\", 1.0, 0.120401]];\n",
              "\n",
              "        // Define the dt_args\n",
              "        let dt_args = {\"layout\": {\"topStart\": null, \"topEnd\": null, \"bottomStart\": null, \"bottomEnd\": null}, \"order\": []};\n",
              "        dt_args[\"data\"] = data;\n",
              "\n",
              "\n",
              "        new DataTable(table, dt_args);\n",
              "    });\n",
              "</script>\n",
              "\n",
              "    <div class=\"colab-df-buttons\">\n",
              "\n",
              "  <div class=\"colab-df-container\">\n",
              "    <button class=\"colab-df-convert\" onclick=\"convertToInteractive('df-35fd0759-7db5-4823-8474-bf2ae68f892a')\"\n",
              "            title=\"Convert this dataframe to an interactive table.\"\n",
              "            style=\"display:none;\">\n",
              "\n",
              "  <svg xmlns=\"http://www.w3.org/2000/svg\" height=\"24px\" viewBox=\"0 -960 960 960\">\n",
              "    <path d=\"M120-120v-720h720v720H120Zm60-500h600v-160H180v160Zm220 220h160v-160H400v160Zm0 220h160v-160H400v160ZM180-400h160v-160H180v160Zm440 0h160v-160H620v160ZM180-180h160v-160H180v160Zm440 0h160v-160H620v160Z\"/>\n",
              "  </svg>\n",
              "    </button>\n",
              "\n",
              "  <style>\n",
              "    .colab-df-container {\n",
              "      display:flex;\n",
              "      gap: 12px;\n",
              "    }\n",
              "\n",
              "    .colab-df-convert {\n",
              "      background-color: #E8F0FE;\n",
              "      border: none;\n",
              "      border-radius: 50%;\n",
              "      cursor: pointer;\n",
              "      display: none;\n",
              "      fill: #1967D2;\n",
              "      height: 32px;\n",
              "      padding: 0 0 0 0;\n",
              "      width: 32px;\n",
              "    }\n",
              "\n",
              "    .colab-df-convert:hover {\n",
              "      background-color: #E2EBFA;\n",
              "      box-shadow: 0px 1px 2px rgba(60, 64, 67, 0.3), 0px 1px 3px 1px rgba(60, 64, 67, 0.15);\n",
              "      fill: #174EA6;\n",
              "    }\n",
              "\n",
              "    .colab-df-buttons div {\n",
              "      margin-bottom: 4px;\n",
              "    }\n",
              "\n",
              "    [theme=dark] .colab-df-convert {\n",
              "      background-color: #3B4455;\n",
              "      fill: #D2E3FC;\n",
              "    }\n",
              "\n",
              "    [theme=dark] .colab-df-convert:hover {\n",
              "      background-color: #434B5C;\n",
              "      box-shadow: 0px 1px 3px 1px rgba(0, 0, 0, 0.15);\n",
              "      filter: drop-shadow(0px 1px 2px rgba(0, 0, 0, 0.3));\n",
              "      fill: #FFFFFF;\n",
              "    }\n",
              "  </style>\n",
              "\n",
              "    <script>\n",
              "      const buttonEl =\n",
              "        document.querySelector('#df-35fd0759-7db5-4823-8474-bf2ae68f892a button.colab-df-convert');\n",
              "      buttonEl.style.display =\n",
              "        google.colab.kernel.accessAllowed ? 'block' : 'none';\n",
              "\n",
              "      async function convertToInteractive(key) {\n",
              "        const element = document.querySelector('#df-35fd0759-7db5-4823-8474-bf2ae68f892a');\n",
              "        const dataTable =\n",
              "          await google.colab.kernel.invokeFunction('convertToInteractive',\n",
              "                                                    [key], {});\n",
              "        if (!dataTable) return;\n",
              "\n",
              "        const docLinkHtml = 'Like what you see? Visit the ' +\n",
              "          '<a target=\"_blank\" href=https://colab.research.google.com/notebooks/data_table.ipynb>data table notebook</a>'\n",
              "          + ' to learn more about interactive tables.';\n",
              "        element.innerHTML = '';\n",
              "        dataTable['output_type'] = 'display_data';\n",
              "        await google.colab.output.renderOutput(dataTable, element);\n",
              "        const docLink = document.createElement('div');\n",
              "        docLink.innerHTML = docLinkHtml;\n",
              "        element.appendChild(docLink);\n",
              "      }\n",
              "    </script>\n",
              "  </div>\n",
              "\n",
              "\n",
              "<div id=\"df-1811405b-0fa6-4eff-a53e-70faae781483\">\n",
              "  <button class=\"colab-df-quickchart\" onclick=\"quickchart('df-1811405b-0fa6-4eff-a53e-70faae781483')\"\n",
              "            title=\"Suggest charts\"\n",
              "            style=\"display:none;\">\n",
              "\n",
              "<svg xmlns=\"http://www.w3.org/2000/svg\" height=\"24px\"viewBox=\"0 0 24 24\"\n",
              "     width=\"24px\">\n",
              "    <g>\n",
              "        <path d=\"M19 3H5c-1.1 0-2 .9-2 2v14c0 1.1.9 2 2 2h14c1.1 0 2-.9 2-2V5c0-1.1-.9-2-2-2zM9 17H7v-7h2v7zm4 0h-2V7h2v10zm4 0h-2v-4h2v4z\"/>\n",
              "    </g>\n",
              "</svg>\n",
              "  </button>\n",
              "\n",
              "<style>\n",
              "  .colab-df-quickchart {\n",
              "      --bg-color: #E8F0FE;\n",
              "      --fill-color: #1967D2;\n",
              "      --hover-bg-color: #E2EBFA;\n",
              "      --hover-fill-color: #174EA6;\n",
              "      --disabled-fill-color: #AAA;\n",
              "      --disabled-bg-color: #DDD;\n",
              "  }\n",
              "\n",
              "  [theme=dark] .colab-df-quickchart {\n",
              "      --bg-color: #3B4455;\n",
              "      --fill-color: #D2E3FC;\n",
              "      --hover-bg-color: #434B5C;\n",
              "      --hover-fill-color: #FFFFFF;\n",
              "      --disabled-bg-color: #3B4455;\n",
              "      --disabled-fill-color: #666;\n",
              "  }\n",
              "\n",
              "  .colab-df-quickchart {\n",
              "    background-color: var(--bg-color);\n",
              "    border: none;\n",
              "    border-radius: 50%;\n",
              "    cursor: pointer;\n",
              "    display: none;\n",
              "    fill: var(--fill-color);\n",
              "    height: 32px;\n",
              "    padding: 0;\n",
              "    width: 32px;\n",
              "  }\n",
              "\n",
              "  .colab-df-quickchart:hover {\n",
              "    background-color: var(--hover-bg-color);\n",
              "    box-shadow: 0 1px 2px rgba(60, 64, 67, 0.3), 0 1px 3px 1px rgba(60, 64, 67, 0.15);\n",
              "    fill: var(--button-hover-fill-color);\n",
              "  }\n",
              "\n",
              "  .colab-df-quickchart-complete:disabled,\n",
              "  .colab-df-quickchart-complete:disabled:hover {\n",
              "    background-color: var(--disabled-bg-color);\n",
              "    fill: var(--disabled-fill-color);\n",
              "    box-shadow: none;\n",
              "  }\n",
              "\n",
              "  .colab-df-spinner {\n",
              "    border: 2px solid var(--fill-color);\n",
              "    border-color: transparent;\n",
              "    border-bottom-color: var(--fill-color);\n",
              "    animation:\n",
              "      spin 1s steps(1) infinite;\n",
              "  }\n",
              "\n",
              "  @keyframes spin {\n",
              "    0% {\n",
              "      border-color: transparent;\n",
              "      border-bottom-color: var(--fill-color);\n",
              "      border-left-color: var(--fill-color);\n",
              "    }\n",
              "    20% {\n",
              "      border-color: transparent;\n",
              "      border-left-color: var(--fill-color);\n",
              "      border-top-color: var(--fill-color);\n",
              "    }\n",
              "    30% {\n",
              "      border-color: transparent;\n",
              "      border-left-color: var(--fill-color);\n",
              "      border-top-color: var(--fill-color);\n",
              "      border-right-color: var(--fill-color);\n",
              "    }\n",
              "    40% {\n",
              "      border-color: transparent;\n",
              "      border-right-color: var(--fill-color);\n",
              "      border-top-color: var(--fill-color);\n",
              "    }\n",
              "    60% {\n",
              "      border-color: transparent;\n",
              "      border-right-color: var(--fill-color);\n",
              "    }\n",
              "    80% {\n",
              "      border-color: transparent;\n",
              "      border-right-color: var(--fill-color);\n",
              "      border-bottom-color: var(--fill-color);\n",
              "    }\n",
              "    90% {\n",
              "      border-color: transparent;\n",
              "      border-bottom-color: var(--fill-color);\n",
              "    }\n",
              "  }\n",
              "</style>\n",
              "\n",
              "  <script>\n",
              "    async function quickchart(key) {\n",
              "      const quickchartButtonEl =\n",
              "        document.querySelector('#' + key + ' button');\n",
              "      quickchartButtonEl.disabled = true;  // To prevent multiple clicks.\n",
              "      quickchartButtonEl.classList.add('colab-df-spinner');\n",
              "      try {\n",
              "        const charts = await google.colab.kernel.invokeFunction(\n",
              "            'suggestCharts', [key], {});\n",
              "      } catch (error) {\n",
              "        console.error('Error during call to suggestCharts:', error);\n",
              "      }\n",
              "      quickchartButtonEl.classList.remove('colab-df-spinner');\n",
              "      quickchartButtonEl.classList.add('colab-df-quickchart-complete');\n",
              "    }\n",
              "    (() => {\n",
              "      let quickchartButtonEl =\n",
              "        document.querySelector('#df-1811405b-0fa6-4eff-a53e-70faae781483 button');\n",
              "      quickchartButtonEl.style.display =\n",
              "        google.colab.kernel.accessAllowed ? 'block' : 'none';\n",
              "    })();\n",
              "  </script>\n",
              "</div>\n",
              "\n",
              "    </div>\n",
              "  </div>\n"
            ],
            "application/vnd.google.colaboratory.intrinsic+json": {
              "type": "dataframe",
              "variable_name": "final_df",
              "summary": "{\n  \"name\": \"final_df\",\n  \"rows\": 300,\n  \"fields\": [\n    {\n      \"column\": \"index\",\n      \"properties\": {\n        \"dtype\": \"number\",\n        \"std\": 86,\n        \"min\": 0,\n        \"max\": 299,\n        \"num_unique_values\": 300,\n        \"samples\": [\n          203,\n          266,\n          152\n        ],\n        \"semantic_type\": \"\",\n        \"description\": \"\"\n      }\n    },\n    {\n      \"column\": \"patient_id\",\n      \"properties\": {\n        \"dtype\": \"string\",\n        \"num_unique_values\": 257,\n        \"samples\": [\n          \"5415fe\",\n          \"162cad\",\n          \"2b49d6\"\n        ],\n        \"semantic_type\": \"\",\n        \"description\": \"\"\n      }\n    },\n    {\n      \"column\": \"target\",\n      \"properties\": {\n        \"dtype\": \"float32\",\n        \"num_unique_values\": 2,\n        \"samples\": [\n          0.0,\n          1.0\n        ],\n        \"semantic_type\": \"\",\n        \"description\": \"\"\n      }\n    },\n    {\n      \"column\": \"pred\",\n      \"properties\": {\n        \"dtype\": \"number\",\n        \"std\": 1.1604917440065199,\n        \"min\": 0.0,\n        \"max\": 4.0,\n        \"num_unique_values\": 300,\n        \"samples\": [\n          2.7157190635451505,\n          3.5585284280936453\n        ],\n        \"semantic_type\": \"\",\n        \"description\": \"\"\n      }\n    }\n  ]\n}"
            }
          },
          "metadata": {},
          "execution_count": 18
        }
      ]
    },
    {
      "cell_type": "code",
      "source": [
        "final_df = final_df[['index', 'patient_id', 'pred', 'target']]"
      ],
      "metadata": {
        "id": "ueQuGY103tHB"
      },
      "execution_count": 19,
      "outputs": []
    },
    {
      "cell_type": "code",
      "source": [
        "final_df"
      ],
      "metadata": {
        "colab": {
          "base_uri": "https://localhost:8080/",
          "height": 486
        },
        "id": "N8zJMG8B9WrT",
        "outputId": "66cd9449-7a65-43bc-8385-be4df1cb1498"
      },
      "execution_count": 20,
      "outputs": [
        {
          "output_type": "execute_result",
          "data": {
            "text/plain": [
              "     index patient_id      pred  target\n",
              "0        0     006388  0.000000     1.0\n",
              "1        1     008e5c  0.013378     1.0\n",
              "2        2     026c97  0.026756     1.0\n",
              "3        3     029c68  0.040134     1.0\n",
              "4        4     032f10  0.053512     1.0\n",
              "..     ...        ...       ...     ...\n",
              "295    295     7dd82f  3.946488     0.0\n",
              "296    296     7dd82f  3.959866     0.0\n",
              "297    297     821964  3.973244     0.0\n",
              "298    298     845d82  3.986622     0.0\n",
              "299    299     862501  4.000000     0.0\n",
              "\n",
              "[300 rows x 4 columns]"
            ],
            "text/html": [
              "\n",
              "  <div id=\"df-58a1218d-6d58-412a-8aa4-d6aed317e7f3\" class=\"colab-df-container\">\n",
              "    <table id=\"itables_3f421df5_fe8c_4428_897c_a40c517d2dc8\" class=\"display nowrap\" data-quarto-disable-processing=\"true\" style=\"table-layout:auto;width:auto;margin:auto;caption-side:bottom\">\n",
              "<thead>\n",
              "    <tr style=\"text-align: right;\">\n",
              "\n",
              "      <th>index</th>\n",
              "      <th>patient_id</th>\n",
              "      <th>pred</th>\n",
              "      <th>target</th>\n",
              "    </tr>\n",
              "  </thead><tbody><tr>\n",
              "<td style=\"vertical-align:middle; text-align:left\">\n",
              "<div style=\"float:left; margin-right: 10px;\">\n",
              "<a href=https://mwouts.github.io/itables/><svg class=\"main-svg\" xmlns=\"http://www.w3.org/2000/svg\" xmlns:xlink=\"http://www.w3.org/1999/xlink\"\n",
              "width=\"64\" viewBox=\"0 0 500 400\" style=\"font-family: 'Droid Sans', sans-serif;\">\n",
              "    <g style=\"fill:#d9d7fc\">\n",
              "        <path d=\"M100,400H500V357H100Z\" />\n",
              "        <path d=\"M100,300H400V257H100Z\" />\n",
              "        <path d=\"M0,200H400V157H0Z\" />\n",
              "        <path d=\"M100,100H500V57H100Z\" />\n",
              "        <path d=\"M100,350H500V307H100Z\" />\n",
              "        <path d=\"M100,250H400V207H100Z\" />\n",
              "        <path d=\"M0,150H400V107H0Z\" />\n",
              "        <path d=\"M100,50H500V7H100Z\" />\n",
              "    </g>\n",
              "    <g style=\"fill:#1a1366;stroke:#1a1366;\">\n",
              "   <rect x=\"100\" y=\"7\" width=\"400\" height=\"43\">\n",
              "    <animate\n",
              "      attributeName=\"width\"\n",
              "      values=\"0;400;0\"\n",
              "      dur=\"5s\"\n",
              "      repeatCount=\"indefinite\" />\n",
              "      <animate\n",
              "      attributeName=\"x\"\n",
              "      values=\"100;100;500\"\n",
              "      dur=\"5s\"\n",
              "      repeatCount=\"indefinite\" />\n",
              "  </rect>\n",
              "        <rect x=\"0\" y=\"107\" width=\"400\" height=\"43\">\n",
              "    <animate\n",
              "      attributeName=\"width\"\n",
              "      values=\"0;400;0\"\n",
              "      dur=\"3.5s\"\n",
              "      repeatCount=\"indefinite\" />\n",
              "    <animate\n",
              "      attributeName=\"x\"\n",
              "      values=\"0;0;400\"\n",
              "      dur=\"3.5s\"\n",
              "      repeatCount=\"indefinite\" />\n",
              "  </rect>\n",
              "        <rect x=\"100\" y=\"207\" width=\"300\" height=\"43\">\n",
              "    <animate\n",
              "      attributeName=\"width\"\n",
              "      values=\"0;300;0\"\n",
              "      dur=\"3s\"\n",
              "      repeatCount=\"indefinite\" />\n",
              "    <animate\n",
              "      attributeName=\"x\"\n",
              "      values=\"100;100;400\"\n",
              "      dur=\"3s\"\n",
              "      repeatCount=\"indefinite\" />\n",
              "  </rect>\n",
              "        <rect x=\"100\" y=\"307\" width=\"400\" height=\"43\">\n",
              "    <animate\n",
              "      attributeName=\"width\"\n",
              "      values=\"0;400;0\"\n",
              "      dur=\"4s\"\n",
              "      repeatCount=\"indefinite\" />\n",
              "      <animate\n",
              "      attributeName=\"x\"\n",
              "      values=\"100;100;500\"\n",
              "      dur=\"4s\"\n",
              "      repeatCount=\"indefinite\" />\n",
              "  </rect>\n",
              "        <g style=\"fill:transparent;stroke-width:8; stroke-linejoin:round\" rx=\"5\">\n",
              "            <g transform=\"translate(45 50) rotate(-45)\">\n",
              "                <circle r=\"33\" cx=\"0\" cy=\"0\" />\n",
              "                <rect x=\"-8\" y=\"32\" width=\"16\" height=\"30\" />\n",
              "            </g>\n",
              "\n",
              "            <g transform=\"translate(450 152)\">\n",
              "                <polyline points=\"-15,-20 -35,-20 -35,40 25,40 25,20\" />\n",
              "                <rect x=\"-15\" y=\"-40\" width=\"60\" height=\"60\" />\n",
              "            </g>\n",
              "\n",
              "            <g transform=\"translate(50 352)\">\n",
              "                <polygon points=\"-35,-5 0,-40 35,-5\" />\n",
              "                <polygon points=\"-35,10 0,45 35,10\" />\n",
              "            </g>\n",
              "\n",
              "            <g transform=\"translate(75 250)\">\n",
              "                <polyline points=\"-30,30 -60,0 -30,-30\" />\n",
              "                <polyline points=\"0,30 -30,0 0,-30\" />\n",
              "            </g>\n",
              "\n",
              "            <g transform=\"translate(425 250) rotate(180)\">\n",
              "                <polyline points=\"-30,30 -60,0 -30,-30\" />\n",
              "                <polyline points=\"0,30 -30,0 0,-30\" />\n",
              "            </g>\n",
              "        </g>\n",
              "    </g>\n",
              "</svg>\n",
              "</a>\n",
              "</div>\n",
              "<div>\n",
              "Loading ITables v2.1.3 from the internet...\n",
              "(need <a href=https://mwouts.github.io/itables/troubleshooting.html>help</a>?)</td>\n",
              "</div>\n",
              "</tr></tbody>\n",
              "\n",
              "</table>\n",
              "<link href=\"https://www.unpkg.com/dt_for_itables@2.0.11/dt_bundle.css\" rel=\"stylesheet\">\n",
              "<script type=\"module\">\n",
              "    import {DataTable, jQuery as $} from 'https://www.unpkg.com/dt_for_itables@2.0.11/dt_bundle.js';\n",
              "\n",
              "    document.querySelectorAll(\"#itables_3f421df5_fe8c_4428_897c_a40c517d2dc8:not(.dataTable)\").forEach(table => {\n",
              "        // Define the table data\n",
              "        const data = [[0, \"006388\", 0.0, 1.0], [1, \"008e5c\", 0.013378, 1.0], [2, \"026c97\", 0.026756, 1.0], [3, \"029c68\", 0.040134, 1.0], [4, \"032f10\", 0.053512, 1.0], [5, \"0372b0\", 0.06689, 1.0], [6, \"037300\", 0.080268, 1.0], [7, \"03e6b7\", 0.093645, 1.0], [8, \"0415c3\", 0.107023, 1.0], [9, \"04439c\", 0.120401, 1.0], [10, \"045eb0\", 0.133779, 1.0], [11, \"0468a8\", 0.147157, 1.0], [12, \"0468a8\", 0.160535, 1.0], [13, \"049194\", 0.173913, 1.0], [14, \"049194\", 0.187291, 1.0], [15, \"04f7a4\", 0.200669, 1.0], [16, \"05a1ec\", 0.214047, 1.0], [17, \"070fe0\", 0.227425, 1.0], [18, \"09644e\", 0.240803, 1.0], [19, \"09644e\", 0.254181, 1.0], [20, \"09644e\", 0.267559, 1.0], [21, \"09644e\", 0.280936, 1.0], [22, \"09644e\", 0.294314, 1.0], [23, \"0aaeb3\", 0.307692, 1.0], [24, \"0aff58\", 0.32107, 1.0], [25, \"0b25f8\", 0.334448, 1.0], [26, \"0b7871\", 0.347826, 1.0], [27, \"0b7871\", 0.361204, 1.0], [28, \"0b7cc8\", 0.374582, 1.0], [29, \"0ba49d\", 0.38796, 1.0], [30, \"0bddf9\", 0.401338, 1.0], [31, \"0c60b8\", 0.414716, 1.0], [32, \"0cc0bc\", 0.428094, 1.0], [33, \"0d4164\", 0.441472, 1.0], [34, \"0d533f\", 0.454849, 1.0], [35, \"0d718a\", 0.468227, 1.0], [36, \"0d93ce\", 0.481605, 1.0], [37, \"0df5f8\", 0.494983, 1.0], [38, \"0e4dac\", 0.508361, 1.0], [39, \"0e696a\", 0.521739, 1.0], [40, \"0e696a\", 0.535117, 1.0], [41, \"0ed87f\", 0.548495, 1.0], [42, \"0ed87f\", 0.561873, 1.0], [43, \"0ff6fc\", 0.575251, 1.0], [44, \"0ff890\", 0.588629, 1.0], [45, \"112b6e\", 0.602007, 1.0], [46, \"112b6e\", 0.615385, 1.0], [47, \"129102\", 0.628763, 1.0], [48, \"1295bb\", 0.64214, 1.0], [49, \"12c8c9\", 0.655518, 1.0], [50, \"13f372\", 0.668896, 1.0], [51, \"140d1a\", 0.682274, 1.0], [52, \"14d2fa\", 0.695652, 1.0], [53, \"15aab4\", 0.70903, 1.0], [54, \"1764ff\", 0.722408, 1.0], [55, \"194e3f\", 0.735786, 1.0], [56, \"19b036\", 0.749164, 1.0], [57, \"19b036\", 0.762542, 1.0], [58, \"19dd95\", 0.77592, 1.0], [59, \"1a2e9e\", 0.789298, 1.0], [60, \"1b86c5\", 0.802676, 1.0], [61, \"1bbcba\", 0.816054, 1.0], [62, \"1d0518\", 0.829431, 1.0], [63, \"1d1bf0\", 0.842809, 1.0], [64, \"1d5335\", 0.856187, 1.0], [65, \"1d6d4f\", 0.869565, 1.0], [66, \"1ec69e\", 0.882943, 1.0], [67, \"1ef6da\", 0.896321, 1.0], [68, \"1f9d4f\", 0.909699, 1.0], [69, \"1f9d4f\", 0.923077, 1.0], [70, \"1fe0c4\", 0.936455, 1.0], [71, \"205025\", 0.949833, 1.0], [72, \"20914b\", 0.963211, 1.0], [73, \"20d5cf\", 0.976589, 1.0], [74, \"214cfa\", 0.989967, 1.0], [75, \"214cfa\", 1.003344, 1.0], [76, \"21726e\", 1.016722, 1.0], [77, \"217b27\", 1.0301, 1.0], [78, \"21b106\", 1.043478, 1.0], [79, \"2244d2\", 1.056856, 1.0], [80, \"2268cf\", 1.070234, 1.0], [81, \"2394f6\", 1.083612, 1.0], [82, \"23d2c1\", 1.09699, 1.0], [83, \"23d2c1\", 1.110368, 1.0], [84, \"23d2c1\", 1.123746, 1.0], [85, \"2446b8\", 1.137124, 1.0], [86, \"24f8f5\", 1.150502, 1.0], [87, \"250944\", 1.16388, 1.0], [88, \"251bfc\", 1.177258, 1.0], [89, \"251c77\", 1.190635, 1.0], [90, \"2745fc\", 1.204013, 1.0], [91, \"27afc7\", 1.217391, 1.0], [92, \"280c26\", 1.230769, 1.0], [93, \"280c26\", 1.244147, 1.0], [94, \"282d0a\", 1.257525, 1.0], [95, \"283f35\", 1.270903, 1.0], [96, \"288156\", 1.284281, 1.0], [97, \"291099\", 1.297659, 1.0], [98, \"2b49d6\", 1.311037, 1.0], [99, \"2c8b18\", 1.324415, 1.0], [100, \"2db520\", 1.337793, 1.0], [101, \"2e3749\", 1.351171, 1.0], [102, \"2e7d16\", 1.364548, 1.0], [103, \"2eb2d7\", 1.377926, 1.0], [104, \"2ecb46\", 1.391304, 1.0], [105, \"2f4974\", 1.404682, 1.0], [106, \"2f73a2\", 1.41806, 1.0], [107, \"3020ef\", 1.431438, 1.0], [108, \"3152c0\", 1.444816, 1.0], [109, \"31588e\", 1.458194, 1.0], [110, \"31adaa\", 1.471572, 1.0], [111, \"31adaa\", 1.48495, 1.0], [112, \"32e44f\", 1.498328, 1.0], [113, \"33d071\", 1.511706, 1.0], [114, \"33d2a7\", 1.525084, 1.0], [115, \"33da32\", 1.538462, 1.0], [116, \"34c9bc\", 1.551839, 1.0], [117, \"355354\", 1.565217, 1.0], [118, \"355354\", 1.578595, 1.0], [119, \"366fd0\", 1.591973, 1.0], [120, \"369366\", 1.605351, 1.0], [121, \"36a149\", 1.618729, 1.0], [122, \"37258c\", 1.632107, 1.0], [123, \"376cf6\", 1.645485, 1.0], [124, \"379f1c\", 1.658863, 1.0], [125, \"383f05\", 1.672241, 1.0], [126, \"392b24\", 1.685619, 1.0], [127, \"395ea0\", 1.698997, 1.0], [128, \"3a230b\", 1.712375, 1.0], [129, \"3ab087\", 1.725753, 1.0], [130, \"3ad0bb\", 1.73913, 1.0], [131, \"3b2c59\", 1.752508, 1.0], [132, \"3b7d81\", 1.765886, 1.0], [133, \"3bc9c9\", 1.779264, 1.0], [134, \"3bfe64\", 1.792642, 1.0], [135, \"3c2c23\", 1.80602, 1.0], [136, \"3cbdf3\", 1.819398, 1.0], [137, \"3d10be\", 1.832776, 1.0], [138, \"3d10be\", 1.846154, 1.0], [139, \"3d10be\", 1.859532, 1.0], [140, \"3d10be\", 1.87291, 1.0], [141, \"3d10be\", 1.886288, 1.0], [142, \"3fe88b\", 1.899666, 1.0], [143, \"3fe8a3\", 1.913043, 1.0], [144, \"4094c4\", 1.926421, 1.0], [145, \"4188be\", 1.939799, 1.0], [146, \"42529f\", 1.953177, 1.0], [147, \"437435\", 1.966555, 1.0], [148, \"437435\", 1.979933, 1.0], [149, \"43c62b\", 1.993311, 1.0], [150, \"43eacb\", 2.006689, 1.0], [151, \"4550fb\", 2.020067, 1.0], [152, \"45a0e5\", 2.033445, 1.0], [153, \"45a0e5\", 2.046823, 1.0], [154, \"45c6ce\", 2.060201, 1.0], [155, \"45e3e0\", 2.073579, 1.0], [156, \"464289\", 2.086957, 1.0], [157, \"4647d7\", 2.100334, 1.0], [158, \"4667f6\", 2.113712, 1.0], [159, \"46def4\", 2.12709, 1.0], [160, \"46e479\", 2.140468, 1.0], [161, \"4763a7\", 2.153846, 1.0], [162, \"488cd4\", 2.167224, 1.0], [163, \"48af1a\", 2.180602, 1.0], [164, \"4929cd\", 2.19398, 1.0], [165, \"49ea39\", 2.207358, 1.0], [166, \"4a1152\", 2.220736, 1.0], [167, \"4a4043\", 2.234114, 1.0], [168, \"4b8777\", 2.247492, 1.0], [169, \"4bfb94\", 2.26087, 1.0], [170, \"4c284f\", 2.274247, 1.0], [171, \"4d15a9\", 2.287625, 1.0], [172, \"4ded24\", 2.301003, 1.0], [173, \"4e30e9\", 2.314381, 1.0], [174, \"4f49c1\", 2.327759, 1.0], [175, \"4f6fb1\", 2.341137, 1.0], [176, \"4f6fb1\", 2.354515, 1.0], [177, \"4f6fb1\", 2.367893, 1.0], [178, \"4f6fb1\", 2.381271, 1.0], [179, \"4f7d1c\", 2.394649, 1.0], [180, \"4f9ac6\", 2.408027, 1.0], [181, \"507ac9\", 2.421405, 1.0], [182, \"509042\", 2.434783, 1.0], [183, \"510d2e\", 2.448161, 1.0], [184, \"512856\", 2.461538, 1.0], [185, \"516e18\", 2.474916, 1.0], [186, \"516e18\", 2.488294, 1.0], [187, \"526dba\", 2.501672, 1.0], [188, \"52bc2d\", 2.51505, 1.0], [189, \"52d106\", 2.528428, 1.0], [190, \"533081\", 2.541806, 1.0], [191, \"533081\", 2.555184, 1.0], [192, \"533081\", 2.568562, 1.0], [193, \"533a49\", 2.58194, 1.0], [194, \"540410\", 2.595318, 1.0], [195, \"5415fe\", 2.608696, 1.0], [196, \"547474\", 2.622074, 1.0], [197, \"54ddc7\", 2.635452, 1.0], [198, \"557c4b\", 2.648829, 1.0], [199, \"55809c\", 2.662207, 1.0], [200, \"00c058\", 2.675585, 0.0], [201, \"01adc5\", 2.688963, 0.0], [202, \"028989\", 2.702341, 0.0], [203, \"03d1ec\", 2.715719, 0.0], [204, \"055f6a\", 2.729097, 0.0], [205, \"062387\", 2.742475, 0.0], [206, \"08d3d8\", 2.755853, 0.0], [207, \"098f15\", 2.769231, 0.0], [208, \"0a3ad1\", 2.782609, 0.0], [209, \"0a47c9\", 2.795987, 0.0], [210, \"0bd414\", 2.809365, 0.0], [211, \"0ee750\", 2.822742, 0.0], [212, \"0ee750\", 2.83612, 0.0], [213, \"0f2961\", 2.849498, 0.0], [214, \"0fcfe9\", 2.862876, 0.0], [215, \"113bb3\", 2.876254, 0.0], [216, \"15de51\", 2.889632, 0.0], [217, \"162cad\", 2.90301, 0.0], [218, \"1db82d\", 2.916388, 0.0], [219, \"1db82d\", 2.929766, 0.0], [220, \"1f018f\", 2.943144, 0.0], [221, \"1ffc5d\", 2.956522, 0.0], [222, \"23b492\", 2.9699, 0.0], [223, \"244aeb\", 2.983278, 0.0], [224, \"244aeb\", 2.996656, 0.0], [225, \"244aeb\", 3.010033, 0.0], [226, \"245758\", 3.023411, 0.0], [227, \"29a4f6\", 3.036789, 0.0], [228, \"29b1b7\", 3.050167, 0.0], [229, \"2a25b9\", 3.063545, 0.0], [230, \"2a25cf\", 3.076923, 0.0], [231, \"2b7304\", 3.090301, 0.0], [232, \"2b7304\", 3.103679, 0.0], [233, \"2b7304\", 3.117057, 0.0], [234, \"2bcdd9\", 3.130435, 0.0], [235, \"2bd8fe\", 3.143813, 0.0], [236, \"2c64b2\", 3.157191, 0.0], [237, \"2e725a\", 3.170569, 0.0], [238, \"2e8763\", 3.183946, 0.0], [239, \"300145\", 3.197324, 0.0], [240, \"313d30\", 3.210702, 0.0], [241, \"329006\", 3.22408, 0.0], [242, \"34a278\", 3.237458, 0.0], [243, \"354f74\", 3.250836, 0.0], [244, \"35b75a\", 3.264214, 0.0], [245, \"384052\", 3.277592, 0.0], [246, \"3982bf\", 3.29097, 0.0], [247, \"3d80c7\", 3.304348, 0.0], [248, \"3ee426\", 3.317726, 0.0], [249, \"41b23c\", 3.331104, 0.0], [250, \"41b4ea\", 3.344482, 0.0], [251, \"41b4ea\", 3.35786, 0.0], [252, \"41db5b\", 3.371237, 0.0], [253, \"424c9d\", 3.384615, 0.0], [254, \"481ba8\", 3.397993, 0.0], [255, \"4919a7\", 3.411371, 0.0], [256, \"497c27\", 3.424749, 0.0], [257, \"4dfe1e\", 3.438127, 0.0], [258, \"4f9678\", 3.451505, 0.0], [259, \"508589\", 3.464883, 0.0], [260, \"50ba15\", 3.478261, 0.0], [261, \"53845a\", 3.491639, 0.0], [262, \"53845a\", 3.505017, 0.0], [263, \"53e0d7\", 3.518395, 0.0], [264, \"54838a\", 3.531773, 0.0], [265, \"5588f9\", 3.545151, 0.0], [266, \"5adc4c\", 3.558528, 0.0], [267, \"5ae30a\", 3.571906, 0.0], [268, \"5c30ec\", 3.585284, 0.0], [269, \"5fde88\", 3.598662, 0.0], [270, \"5fdff2\", 3.61204, 0.0], [271, \"6015f7\", 3.625418, 0.0], [272, \"611a50\", 3.638796, 0.0], [273, \"6569ba\", 3.652174, 0.0], [274, \"65fe16\", 3.665552, 0.0], [275, \"6670b9\", 3.67893, 0.0], [276, \"6674a4\", 3.692308, 0.0], [277, \"69d655\", 3.705686, 0.0], [278, \"6baf51\", 3.719064, 0.0], [279, \"6baf51\", 3.732441, 0.0], [280, \"6c4b62\", 3.745819, 0.0], [281, \"6e08cb\", 3.759197, 0.0], [282, \"6f6e0c\", 3.772575, 0.0], [283, \"6fac27\", 3.785953, 0.0], [284, \"6fce60\", 3.799331, 0.0], [285, \"70c523\", 3.812709, 0.0], [286, \"70c523\", 3.826087, 0.0], [287, \"70c523\", 3.839465, 0.0], [288, \"72ead5\", 3.852843, 0.0], [289, \"73c9a4\", 3.866221, 0.0], [290, \"75ee44\", 3.879599, 0.0], [291, \"79d52a\", 3.892977, 0.0], [292, \"79d52a\", 3.906355, 0.0], [293, \"7a9bc8\", 3.919732, 0.0], [294, \"7bc484\", 3.93311, 0.0], [295, \"7dd82f\", 3.946488, 0.0], [296, \"7dd82f\", 3.959866, 0.0], [297, \"821964\", 3.973244, 0.0], [298, \"845d82\", 3.986622, 0.0], [299, \"862501\", 4.0, 0.0]];\n",
              "\n",
              "        // Define the dt_args\n",
              "        let dt_args = {\"layout\": {\"topStart\": \"pageLength\", \"topEnd\": \"search\", \"bottomStart\": \"info\", \"bottomEnd\": \"paging\"}, \"order\": []};\n",
              "        dt_args[\"data\"] = data;\n",
              "\n",
              "\n",
              "        new DataTable(table, dt_args);\n",
              "    });\n",
              "</script>\n",
              "\n",
              "    <div class=\"colab-df-buttons\">\n",
              "\n",
              "  <div class=\"colab-df-container\">\n",
              "    <button class=\"colab-df-convert\" onclick=\"convertToInteractive('df-58a1218d-6d58-412a-8aa4-d6aed317e7f3')\"\n",
              "            title=\"Convert this dataframe to an interactive table.\"\n",
              "            style=\"display:none;\">\n",
              "\n",
              "  <svg xmlns=\"http://www.w3.org/2000/svg\" height=\"24px\" viewBox=\"0 -960 960 960\">\n",
              "    <path d=\"M120-120v-720h720v720H120Zm60-500h600v-160H180v160Zm220 220h160v-160H400v160Zm0 220h160v-160H400v160ZM180-400h160v-160H180v160Zm440 0h160v-160H620v160ZM180-180h160v-160H180v160Zm440 0h160v-160H620v160Z\"/>\n",
              "  </svg>\n",
              "    </button>\n",
              "\n",
              "  <style>\n",
              "    .colab-df-container {\n",
              "      display:flex;\n",
              "      gap: 12px;\n",
              "    }\n",
              "\n",
              "    .colab-df-convert {\n",
              "      background-color: #E8F0FE;\n",
              "      border: none;\n",
              "      border-radius: 50%;\n",
              "      cursor: pointer;\n",
              "      display: none;\n",
              "      fill: #1967D2;\n",
              "      height: 32px;\n",
              "      padding: 0 0 0 0;\n",
              "      width: 32px;\n",
              "    }\n",
              "\n",
              "    .colab-df-convert:hover {\n",
              "      background-color: #E2EBFA;\n",
              "      box-shadow: 0px 1px 2px rgba(60, 64, 67, 0.3), 0px 1px 3px 1px rgba(60, 64, 67, 0.15);\n",
              "      fill: #174EA6;\n",
              "    }\n",
              "\n",
              "    .colab-df-buttons div {\n",
              "      margin-bottom: 4px;\n",
              "    }\n",
              "\n",
              "    [theme=dark] .colab-df-convert {\n",
              "      background-color: #3B4455;\n",
              "      fill: #D2E3FC;\n",
              "    }\n",
              "\n",
              "    [theme=dark] .colab-df-convert:hover {\n",
              "      background-color: #434B5C;\n",
              "      box-shadow: 0px 1px 3px 1px rgba(0, 0, 0, 0.15);\n",
              "      filter: drop-shadow(0px 1px 2px rgba(0, 0, 0, 0.3));\n",
              "      fill: #FFFFFF;\n",
              "    }\n",
              "  </style>\n",
              "\n",
              "    <script>\n",
              "      const buttonEl =\n",
              "        document.querySelector('#df-58a1218d-6d58-412a-8aa4-d6aed317e7f3 button.colab-df-convert');\n",
              "      buttonEl.style.display =\n",
              "        google.colab.kernel.accessAllowed ? 'block' : 'none';\n",
              "\n",
              "      async function convertToInteractive(key) {\n",
              "        const element = document.querySelector('#df-58a1218d-6d58-412a-8aa4-d6aed317e7f3');\n",
              "        const dataTable =\n",
              "          await google.colab.kernel.invokeFunction('convertToInteractive',\n",
              "                                                    [key], {});\n",
              "        if (!dataTable) return;\n",
              "\n",
              "        const docLinkHtml = 'Like what you see? Visit the ' +\n",
              "          '<a target=\"_blank\" href=https://colab.research.google.com/notebooks/data_table.ipynb>data table notebook</a>'\n",
              "          + ' to learn more about interactive tables.';\n",
              "        element.innerHTML = '';\n",
              "        dataTable['output_type'] = 'display_data';\n",
              "        await google.colab.output.renderOutput(dataTable, element);\n",
              "        const docLink = document.createElement('div');\n",
              "        docLink.innerHTML = docLinkHtml;\n",
              "        element.appendChild(docLink);\n",
              "      }\n",
              "    </script>\n",
              "  </div>\n",
              "\n",
              "\n",
              "<div id=\"df-1e6ef3c1-4537-429b-a157-13b80ff4719d\">\n",
              "  <button class=\"colab-df-quickchart\" onclick=\"quickchart('df-1e6ef3c1-4537-429b-a157-13b80ff4719d')\"\n",
              "            title=\"Suggest charts\"\n",
              "            style=\"display:none;\">\n",
              "\n",
              "<svg xmlns=\"http://www.w3.org/2000/svg\" height=\"24px\"viewBox=\"0 0 24 24\"\n",
              "     width=\"24px\">\n",
              "    <g>\n",
              "        <path d=\"M19 3H5c-1.1 0-2 .9-2 2v14c0 1.1.9 2 2 2h14c1.1 0 2-.9 2-2V5c0-1.1-.9-2-2-2zM9 17H7v-7h2v7zm4 0h-2V7h2v10zm4 0h-2v-4h2v4z\"/>\n",
              "    </g>\n",
              "</svg>\n",
              "  </button>\n",
              "\n",
              "<style>\n",
              "  .colab-df-quickchart {\n",
              "      --bg-color: #E8F0FE;\n",
              "      --fill-color: #1967D2;\n",
              "      --hover-bg-color: #E2EBFA;\n",
              "      --hover-fill-color: #174EA6;\n",
              "      --disabled-fill-color: #AAA;\n",
              "      --disabled-bg-color: #DDD;\n",
              "  }\n",
              "\n",
              "  [theme=dark] .colab-df-quickchart {\n",
              "      --bg-color: #3B4455;\n",
              "      --fill-color: #D2E3FC;\n",
              "      --hover-bg-color: #434B5C;\n",
              "      --hover-fill-color: #FFFFFF;\n",
              "      --disabled-bg-color: #3B4455;\n",
              "      --disabled-fill-color: #666;\n",
              "  }\n",
              "\n",
              "  .colab-df-quickchart {\n",
              "    background-color: var(--bg-color);\n",
              "    border: none;\n",
              "    border-radius: 50%;\n",
              "    cursor: pointer;\n",
              "    display: none;\n",
              "    fill: var(--fill-color);\n",
              "    height: 32px;\n",
              "    padding: 0;\n",
              "    width: 32px;\n",
              "  }\n",
              "\n",
              "  .colab-df-quickchart:hover {\n",
              "    background-color: var(--hover-bg-color);\n",
              "    box-shadow: 0 1px 2px rgba(60, 64, 67, 0.3), 0 1px 3px 1px rgba(60, 64, 67, 0.15);\n",
              "    fill: var(--button-hover-fill-color);\n",
              "  }\n",
              "\n",
              "  .colab-df-quickchart-complete:disabled,\n",
              "  .colab-df-quickchart-complete:disabled:hover {\n",
              "    background-color: var(--disabled-bg-color);\n",
              "    fill: var(--disabled-fill-color);\n",
              "    box-shadow: none;\n",
              "  }\n",
              "\n",
              "  .colab-df-spinner {\n",
              "    border: 2px solid var(--fill-color);\n",
              "    border-color: transparent;\n",
              "    border-bottom-color: var(--fill-color);\n",
              "    animation:\n",
              "      spin 1s steps(1) infinite;\n",
              "  }\n",
              "\n",
              "  @keyframes spin {\n",
              "    0% {\n",
              "      border-color: transparent;\n",
              "      border-bottom-color: var(--fill-color);\n",
              "      border-left-color: var(--fill-color);\n",
              "    }\n",
              "    20% {\n",
              "      border-color: transparent;\n",
              "      border-left-color: var(--fill-color);\n",
              "      border-top-color: var(--fill-color);\n",
              "    }\n",
              "    30% {\n",
              "      border-color: transparent;\n",
              "      border-left-color: var(--fill-color);\n",
              "      border-top-color: var(--fill-color);\n",
              "      border-right-color: var(--fill-color);\n",
              "    }\n",
              "    40% {\n",
              "      border-color: transparent;\n",
              "      border-right-color: var(--fill-color);\n",
              "      border-top-color: var(--fill-color);\n",
              "    }\n",
              "    60% {\n",
              "      border-color: transparent;\n",
              "      border-right-color: var(--fill-color);\n",
              "    }\n",
              "    80% {\n",
              "      border-color: transparent;\n",
              "      border-right-color: var(--fill-color);\n",
              "      border-bottom-color: var(--fill-color);\n",
              "    }\n",
              "    90% {\n",
              "      border-color: transparent;\n",
              "      border-bottom-color: var(--fill-color);\n",
              "    }\n",
              "  }\n",
              "</style>\n",
              "\n",
              "  <script>\n",
              "    async function quickchart(key) {\n",
              "      const quickchartButtonEl =\n",
              "        document.querySelector('#' + key + ' button');\n",
              "      quickchartButtonEl.disabled = true;  // To prevent multiple clicks.\n",
              "      quickchartButtonEl.classList.add('colab-df-spinner');\n",
              "      try {\n",
              "        const charts = await google.colab.kernel.invokeFunction(\n",
              "            'suggestCharts', [key], {});\n",
              "      } catch (error) {\n",
              "        console.error('Error during call to suggestCharts:', error);\n",
              "      }\n",
              "      quickchartButtonEl.classList.remove('colab-df-spinner');\n",
              "      quickchartButtonEl.classList.add('colab-df-quickchart-complete');\n",
              "    }\n",
              "    (() => {\n",
              "      let quickchartButtonEl =\n",
              "        document.querySelector('#df-1e6ef3c1-4537-429b-a157-13b80ff4719d button');\n",
              "      quickchartButtonEl.style.display =\n",
              "        google.colab.kernel.accessAllowed ? 'block' : 'none';\n",
              "    })();\n",
              "  </script>\n",
              "</div>\n",
              "\n",
              "  <div id=\"id_0a10b5ce-dd41-482f-9c04-a3b89fdcf5a8\">\n",
              "    <style>\n",
              "      .colab-df-generate {\n",
              "        background-color: #E8F0FE;\n",
              "        border: none;\n",
              "        border-radius: 50%;\n",
              "        cursor: pointer;\n",
              "        display: none;\n",
              "        fill: #1967D2;\n",
              "        height: 32px;\n",
              "        padding: 0 0 0 0;\n",
              "        width: 32px;\n",
              "      }\n",
              "\n",
              "      .colab-df-generate:hover {\n",
              "        background-color: #E2EBFA;\n",
              "        box-shadow: 0px 1px 2px rgba(60, 64, 67, 0.3), 0px 1px 3px 1px rgba(60, 64, 67, 0.15);\n",
              "        fill: #174EA6;\n",
              "      }\n",
              "\n",
              "      [theme=dark] .colab-df-generate {\n",
              "        background-color: #3B4455;\n",
              "        fill: #D2E3FC;\n",
              "      }\n",
              "\n",
              "      [theme=dark] .colab-df-generate:hover {\n",
              "        background-color: #434B5C;\n",
              "        box-shadow: 0px 1px 3px 1px rgba(0, 0, 0, 0.15);\n",
              "        filter: drop-shadow(0px 1px 2px rgba(0, 0, 0, 0.3));\n",
              "        fill: #FFFFFF;\n",
              "      }\n",
              "    </style>\n",
              "    <button class=\"colab-df-generate\" onclick=\"generateWithVariable('final_df')\"\n",
              "            title=\"Generate code using this dataframe.\"\n",
              "            style=\"display:none;\">\n",
              "\n",
              "  <svg xmlns=\"http://www.w3.org/2000/svg\" height=\"24px\"viewBox=\"0 0 24 24\"\n",
              "       width=\"24px\">\n",
              "    <path d=\"M7,19H8.4L18.45,9,17,7.55,7,17.6ZM5,21V16.75L18.45,3.32a2,2,0,0,1,2.83,0l1.4,1.43a1.91,1.91,0,0,1,.58,1.4,1.91,1.91,0,0,1-.58,1.4L9.25,21ZM18.45,9,17,7.55Zm-12,3A5.31,5.31,0,0,0,4.9,8.1,5.31,5.31,0,0,0,1,6.5,5.31,5.31,0,0,0,4.9,4.9,5.31,5.31,0,0,0,6.5,1,5.31,5.31,0,0,0,8.1,4.9,5.31,5.31,0,0,0,12,6.5,5.46,5.46,0,0,0,6.5,12Z\"/>\n",
              "  </svg>\n",
              "    </button>\n",
              "    <script>\n",
              "      (() => {\n",
              "      const buttonEl =\n",
              "        document.querySelector('#id_0a10b5ce-dd41-482f-9c04-a3b89fdcf5a8 button.colab-df-generate');\n",
              "      buttonEl.style.display =\n",
              "        google.colab.kernel.accessAllowed ? 'block' : 'none';\n",
              "\n",
              "      buttonEl.onclick = () => {\n",
              "        google.colab.notebook.generateWithVariable('final_df');\n",
              "      }\n",
              "      })();\n",
              "    </script>\n",
              "  </div>\n",
              "\n",
              "    </div>\n",
              "  </div>\n"
            ],
            "application/vnd.google.colaboratory.intrinsic+json": {
              "type": "dataframe",
              "variable_name": "final_df",
              "summary": "{\n  \"name\": \"final_df\",\n  \"rows\": 300,\n  \"fields\": [\n    {\n      \"column\": \"index\",\n      \"properties\": {\n        \"dtype\": \"number\",\n        \"std\": 86,\n        \"min\": 0,\n        \"max\": 299,\n        \"num_unique_values\": 300,\n        \"samples\": [\n          203,\n          266,\n          152\n        ],\n        \"semantic_type\": \"\",\n        \"description\": \"\"\n      }\n    },\n    {\n      \"column\": \"patient_id\",\n      \"properties\": {\n        \"dtype\": \"string\",\n        \"num_unique_values\": 257,\n        \"samples\": [\n          \"5415fe\",\n          \"162cad\",\n          \"2b49d6\"\n        ],\n        \"semantic_type\": \"\",\n        \"description\": \"\"\n      }\n    },\n    {\n      \"column\": \"pred\",\n      \"properties\": {\n        \"dtype\": \"number\",\n        \"std\": 1.1604917440065199,\n        \"min\": 0.0,\n        \"max\": 4.0,\n        \"num_unique_values\": 300,\n        \"samples\": [\n          2.7157190635451505,\n          3.5585284280936453,\n          2.0334448160535117\n        ],\n        \"semantic_type\": \"\",\n        \"description\": \"\"\n      }\n    },\n    {\n      \"column\": \"target\",\n      \"properties\": {\n        \"dtype\": \"float32\",\n        \"num_unique_values\": 2,\n        \"samples\": [\n          0.0,\n          1.0\n        ],\n        \"semantic_type\": \"\",\n        \"description\": \"\"\n      }\n    }\n  ]\n}"
            }
          },
          "metadata": {},
          "execution_count": 20
        }
      ]
    },
    {
      "cell_type": "code",
      "source": [
        "pred = torch.tensor(final_df['pred'].values)"
      ],
      "metadata": {
        "id": "LmMk18FG85G4"
      },
      "execution_count": 21,
      "outputs": []
    },
    {
      "cell_type": "code",
      "source": [
        "pred[:5]"
      ],
      "metadata": {
        "colab": {
          "base_uri": "https://localhost:8080/"
        },
        "id": "8WNohHXc9JAm",
        "outputId": "62a75b2b-b016-4d56-d404-2c76e521a27d"
      },
      "execution_count": 22,
      "outputs": [
        {
          "output_type": "execute_result",
          "data": {
            "text/plain": [
              "tensor([0.0000, 0.0134, 0.0268, 0.0401, 0.0535], dtype=torch.float64)"
            ]
          },
          "metadata": {},
          "execution_count": 22
        }
      ]
    },
    {
      "cell_type": "code",
      "source": [
        "target = torch.tensor(final_df['target'].values)\n",
        "\n",
        "target[:5]"
      ],
      "metadata": {
        "colab": {
          "base_uri": "https://localhost:8080/"
        },
        "id": "DN0ZtG0v-ghn",
        "outputId": "abe4779d-de51-475d-c771-f29affcd0b8b"
      },
      "execution_count": 23,
      "outputs": [
        {
          "output_type": "execute_result",
          "data": {
            "text/plain": [
              "tensor([1., 1., 1., 1., 1.])"
            ]
          },
          "metadata": {},
          "execution_count": 23
        }
      ]
    },
    {
      "cell_type": "code",
      "source": [
        "target.unique()"
      ],
      "metadata": {
        "colab": {
          "base_uri": "https://localhost:8080/"
        },
        "id": "bkK6TPFwG8d1",
        "outputId": "e0e965ce-3d8d-409f-b322-2c0ed484b820"
      },
      "execution_count": 24,
      "outputs": [
        {
          "output_type": "execute_result",
          "data": {
            "text/plain": [
              "tensor([0., 1.])"
            ]
          },
          "metadata": {},
          "execution_count": 24
        }
      ]
    },
    {
      "cell_type": "markdown",
      "source": [
        "1. LOSS FUNCTIONS FOR BINARY CLASSIFICATION"
      ],
      "metadata": {
        "id": "pUSjaUOI-_o3"
      }
    },
    {
      "cell_type": "markdown",
      "source": [
        "**Hinge loss:** It's mainly developed to be used with Support Vector Machine (SVM) models in machine learning. Target variable must be modified to be in the set of {-1,1}.\n"
      ],
      "metadata": {
        "id": "2ShcwQG2_kCP"
      }
    },
    {
      "cell_type": "markdown",
      "source": [
        "**Cross-Entropy/Logistic Loss (CE):** Cross entropy loss is also known as logistic loss function. It's the most common loss for binary classification (two classes 0 and 1). Measuring the distance from the actual class to the predicted value, which is usually a real number between 0 and 1  the sigmoid activation function should be used as the last layer before applying CE. There are 2 types of CE:"
      ],
      "metadata": {
        "id": "3jAHSEa8_w_v"
      }
    },
    {
      "cell_type": "markdown",
      "source": [
        "1. Sigmoid Cross Entropy Loss: transform the x-values by the sigmoid function before applying the cross entropy loss.\n",
        "2. Weighted Cross Entropy Loss: weighted version of the sigmoid cross entropy loss. Here, provide a weight on the positive target to control the outliers for positive predictions."
      ],
      "metadata": {
        "id": "pzAngj37__au"
      }
    },
    {
      "cell_type": "markdown",
      "source": [
        "1.1.1. Hinge Loss"
      ],
      "metadata": {
        "id": "p02Od6Xli8mJ"
      }
    },
    {
      "cell_type": "markdown",
      "source": [
        "J(y^,y)=max(0,1−yi⋅y^)"
      ],
      "metadata": {
        "id": "01oK2YFXIxzu"
      }
    },
    {
      "cell_type": "markdown",
      "source": [
        "The squared hinge loss is a loss function used for \"maximum margin\" binary classification problems. It has the effect of smoothing the surface of the error function and making it numerically easier to work with. Target variable must be modified to be in the set of {-1,1}."
      ],
      "metadata": {
        "id": "vI6rGKSmBuHX"
      }
    },
    {
      "cell_type": "markdown",
      "source": [
        "1.1.2. Squared Hinge Loss"
      ],
      "metadata": {
        "id": "hgwzK06wjEHh"
      }
    },
    {
      "cell_type": "markdown",
      "source": [
        "(y^,y)=∑i=0N(max(0,1−yi⋅y^)2)"
      ],
      "metadata": {
        "id": "xJXbXlWscpxb"
      }
    },
    {
      "cell_type": "code",
      "source": [
        "def HingeLoss(y_pred, y_true):\n",
        "    \"\"\"Average hinge loss (non-regularized)\n",
        "\n",
        "    Parameters:\n",
        "    ----------\n",
        "    y_true: torch tensor of shape (n_samples,)\n",
        "        True target, consisting of integers of two values. The positive lable must\n",
        "        be greater than the negative label\n",
        "\n",
        "    y_predicted: torch tensor of shape (n_samples,)\n",
        "        Prediction, as output by a decision function (floats)\n",
        "\n",
        "    Returns:\n",
        "    ----------\n",
        "    list: tensor list of calculated loss\n",
        "    mean: mean loss of the batch\n",
        "        Hinge loss\n",
        "    \"\"\"\n",
        "    list_ = torch.Tensor([max(0, 1 - x*y) for x,y in zip(y_pred, y_true)])\n",
        "    return list_, torch.mean(list_)"
      ],
      "metadata": {
        "id": "OXdmFnXeFDeu"
      },
      "execution_count": 25,
      "outputs": []
    },
    {
      "cell_type": "code",
      "source": [
        "Hinge_list, mean = HingeLoss(pred[:200], target[:200])"
      ],
      "metadata": {
        "id": "dKvHofcOdpNS"
      },
      "execution_count": 26,
      "outputs": []
    },
    {
      "cell_type": "code",
      "source": [
        "Hinge_list"
      ],
      "metadata": {
        "colab": {
          "base_uri": "https://localhost:8080/"
        },
        "id": "qrtLYYpIdx1B",
        "outputId": "073a04db-449f-451b-eb3c-2d3913fc6e43"
      },
      "execution_count": 27,
      "outputs": [
        {
          "output_type": "execute_result",
          "data": {
            "text/plain": [
              "tensor([1.0000, 0.9866, 0.9732, 0.9599, 0.9465, 0.9331, 0.9197, 0.9064, 0.8930,\n",
              "        0.8796, 0.8662, 0.8528, 0.8395, 0.8261, 0.8127, 0.7993, 0.7860, 0.7726,\n",
              "        0.7592, 0.7458, 0.7324, 0.7191, 0.7057, 0.6923, 0.6789, 0.6656, 0.6522,\n",
              "        0.6388, 0.6254, 0.6120, 0.5987, 0.5853, 0.5719, 0.5585, 0.5452, 0.5318,\n",
              "        0.5184, 0.5050, 0.4916, 0.4783, 0.4649, 0.4515, 0.4381, 0.4247, 0.4114,\n",
              "        0.3980, 0.3846, 0.3712, 0.3579, 0.3445, 0.3311, 0.3177, 0.3043, 0.2910,\n",
              "        0.2776, 0.2642, 0.2508, 0.2375, 0.2241, 0.2107, 0.1973, 0.1839, 0.1706,\n",
              "        0.1572, 0.1438, 0.1304, 0.1171, 0.1037, 0.0903, 0.0769, 0.0635, 0.0502,\n",
              "        0.0368, 0.0234, 0.0100, 0.0000, 0.0000, 0.0000, 0.0000, 0.0000, 0.0000,\n",
              "        0.0000, 0.0000, 0.0000, 0.0000, 0.0000, 0.0000, 0.0000, 0.0000, 0.0000,\n",
              "        0.0000, 0.0000, 0.0000, 0.0000, 0.0000, 0.0000, 0.0000, 0.0000, 0.0000,\n",
              "        0.0000, 0.0000, 0.0000, 0.0000, 0.0000, 0.0000, 0.0000, 0.0000, 0.0000,\n",
              "        0.0000, 0.0000, 0.0000, 0.0000, 0.0000, 0.0000, 0.0000, 0.0000, 0.0000,\n",
              "        0.0000, 0.0000, 0.0000, 0.0000, 0.0000, 0.0000, 0.0000, 0.0000, 0.0000,\n",
              "        0.0000, 0.0000, 0.0000, 0.0000, 0.0000, 0.0000, 0.0000, 0.0000, 0.0000,\n",
              "        0.0000, 0.0000, 0.0000, 0.0000, 0.0000, 0.0000, 0.0000, 0.0000, 0.0000,\n",
              "        0.0000, 0.0000, 0.0000, 0.0000, 0.0000, 0.0000, 0.0000, 0.0000, 0.0000,\n",
              "        0.0000, 0.0000, 0.0000, 0.0000, 0.0000, 0.0000, 0.0000, 0.0000, 0.0000,\n",
              "        0.0000, 0.0000, 0.0000, 0.0000, 0.0000, 0.0000, 0.0000, 0.0000, 0.0000,\n",
              "        0.0000, 0.0000, 0.0000, 0.0000, 0.0000, 0.0000, 0.0000, 0.0000, 0.0000,\n",
              "        0.0000, 0.0000, 0.0000, 0.0000, 0.0000, 0.0000, 0.0000, 0.0000, 0.0000,\n",
              "        0.0000, 0.0000, 0.0000, 0.0000, 0.0000, 0.0000, 0.0000, 0.0000, 0.0000,\n",
              "        0.0000, 0.0000])"
            ]
          },
          "metadata": {},
          "execution_count": 27
        }
      ]
    },
    {
      "cell_type": "code",
      "source": [
        "mean"
      ],
      "metadata": {
        "colab": {
          "base_uri": "https://localhost:8080/"
        },
        "id": "uE9NUuOzd3TS",
        "outputId": "4751443e-a4cf-478d-871b-1b285047d80f"
      },
      "execution_count": 28,
      "outputs": [
        {
          "output_type": "execute_result",
          "data": {
            "text/plain": [
              "tensor(0.1894)"
            ]
          },
          "metadata": {},
          "execution_count": 28
        }
      ]
    },
    {
      "cell_type": "code",
      "source": [
        "plt.style.use('seaborn')\n",
        "plt.figure(figsize=(8,6))\n",
        "plt.plot(pred[:200].numpy(), Hinge_list.numpy(), color='teal', label='Hinge Loss', linewidth=2.0 )\n",
        "plt.legend(loc=\"upper right\")\n",
        "plt.ylabel(\"$L(y=1, f(x))$\")\n",
        "#plt.ylim(0,0.8)\n",
        "#plt.xlim(0,1.0)\n",
        "plt.xlabel('$Y_{pred}$', fontsize=15)\n",
        "plt.ylabel(\"$L(y=1, f(x))$\", fontsize=15)\n",
        "plt.title('Loss Function', fontsize=15)\n",
        "plt.show()"
      ],
      "metadata": {
        "colab": {
          "base_uri": "https://localhost:8080/",
          "height": 633
        },
        "id": "KI68nSK-fY9d",
        "outputId": "46937869-8c8e-49c3-ba83-21cd359e022d"
      },
      "execution_count": 29,
      "outputs": [
        {
          "output_type": "stream",
          "name": "stderr",
          "text": [
            "<ipython-input-29-e0edd2c62f29>:1: MatplotlibDeprecationWarning: The seaborn styles shipped by Matplotlib are deprecated since 3.6, as they no longer correspond to the styles shipped by seaborn. However, they will remain available as 'seaborn-v0_8-<style>'. Alternatively, directly use the seaborn API instead.\n",
            "  plt.style.use('seaborn')\n"
          ]
        },
        {
          "output_type": "display_data",
          "data": {
            "text/plain": [
              "<Figure size 800x600 with 1 Axes>"
            ],
            "image/png": "[encoded data removed]"
          },
          "metadata": {}
        }
      ]
    },
    {
      "cell_type": "markdown",
      "source": [
        "1.2. Cross Entropy (Logistic Loss).\n",
        "\n",
        "1.2.1. Sigmoid Cross Entropy\n",
        "\n",
        "J(y^,y)=−1N∑i=1N[yi⋅log(yi^)+(1−yi)⋅log(1−yi^)]"
      ],
      "metadata": {
        "id": "1DiN-LvMjW9w"
      }
    },
    {
      "cell_type": "code",
      "source": [
        "def BinaryCrossEntropy(y_pred, y_true):\n",
        "    \"\"\"Binary cross entropy loss\n",
        "\n",
        "    Parameters:\n",
        "    -----------\n",
        "    y_true: tensor of shape (n_samples,)\n",
        "        True target, consisting of integers of two values.\n",
        "    y_pred: tensor of shape (n_samples,)\n",
        "        Prediction, as output by a decision function (floats)\n",
        "\n",
        "    Returns:\n",
        "    -----------\n",
        "    list_loss: tensor of shape (n_samples,)\n",
        "        BCE loss list\n",
        "    loss: float\n",
        "        BCE loss\n",
        "    \"\"\"\n",
        "    #y_pred = np.clip(y_pred, 1e-7, 1 - 1e-7) to avoid the extremes of the log function\n",
        "    term_0 = y_true * torch.log(y_pred + 1e-7)\n",
        "    term_1 = (1-y_true) * torch.log(1-y_pred + 1e-7)\n",
        "    return -(term_0+term_1),-torch.mean(term_0+term_1, axis=0)"
      ],
      "metadata": {
        "id": "TuKKiOp5B5Ys"
      },
      "execution_count": 30,
      "outputs": []
    },
    {
      "cell_type": "code",
      "source": [
        "BCE_list, loss = BinaryCrossEntropy(pred[:200].sigmoid(),target[:200])"
      ],
      "metadata": {
        "id": "0dUPK30mnHGg"
      },
      "execution_count": 31,
      "outputs": []
    },
    {
      "cell_type": "code",
      "source": [
        "BCE_list"
      ],
      "metadata": {
        "colab": {
          "base_uri": "https://localhost:8080/"
        },
        "id": "mJdf-jGInSng",
        "outputId": "82f74fbe-b938-4163-f9ea-39f445121876"
      },
      "execution_count": 34,
      "outputs": [
        {
          "output_type": "execute_result",
          "data": {
            "text/plain": [
              "tensor([0.6931, 0.6865, 0.6799, 0.6733, 0.6667, 0.6603, 0.6538, 0.6474, 0.6411,\n",
              "        0.6348, 0.6285, 0.6223, 0.6161, 0.6100, 0.6039, 0.5978, 0.5918, 0.5859,\n",
              "        0.5800, 0.5741, 0.5683, 0.5625, 0.5568, 0.5511, 0.5454, 0.5398, 0.5343,\n",
              "        0.5288, 0.5233, 0.5179, 0.5125, 0.5071, 0.5018, 0.4966, 0.4914, 0.4862,\n",
              "        0.4811, 0.4760, 0.4709, 0.4659, 0.4610, 0.4560, 0.4512, 0.4463, 0.4415,\n",
              "        0.4368, 0.4321, 0.4274, 0.4228, 0.4182, 0.4136, 0.4091, 0.4046, 0.4002,\n",
              "        0.3958, 0.3915, 0.3871, 0.3829, 0.3786, 0.3744, 0.3703, 0.3662, 0.3621,\n",
              "        0.3580, 0.3540, 0.3500, 0.3461, 0.3422, 0.3384, 0.3345, 0.3308, 0.3270,\n",
              "        0.3233, 0.3196, 0.3160, 0.3124, 0.3088, 0.3053, 0.3018, 0.2983, 0.2949,\n",
              "        0.2915, 0.2881, 0.2848, 0.2815, 0.2782, 0.2750, 0.2718, 0.2686, 0.2655,\n",
              "        0.2624, 0.2593, 0.2562, 0.2532, 0.2503, 0.2473, 0.2444, 0.2415, 0.2387,\n",
              "        0.2358, 0.2330, 0.2303, 0.2275, 0.2248, 0.2221, 0.2195, 0.2169, 0.2143,\n",
              "        0.2117, 0.2092, 0.2067, 0.2042, 0.2017, 0.1993, 0.1969, 0.1945, 0.1922,\n",
              "        0.1898, 0.1875, 0.1853, 0.1830, 0.1808, 0.1786, 0.1764, 0.1743, 0.1721,\n",
              "        0.1700, 0.1679, 0.1659, 0.1639, 0.1618, 0.1599, 0.1579, 0.1559, 0.1540,\n",
              "        0.1521, 0.1502, 0.1484, 0.1466, 0.1447, 0.1430, 0.1412, 0.1394, 0.1377,\n",
              "        0.1360, 0.1343, 0.1326, 0.1310, 0.1293, 0.1277, 0.1261, 0.1246, 0.1230,\n",
              "        0.1215, 0.1199, 0.1184, 0.1170, 0.1155, 0.1140, 0.1126, 0.1112, 0.1098,\n",
              "        0.1084, 0.1070, 0.1057, 0.1044, 0.1030, 0.1017, 0.1004, 0.0992, 0.0979,\n",
              "        0.0967, 0.0955, 0.0942, 0.0930, 0.0919, 0.0907, 0.0895, 0.0884, 0.0873,\n",
              "        0.0862, 0.0851, 0.0840, 0.0829, 0.0819, 0.0808, 0.0798, 0.0788, 0.0778,\n",
              "        0.0768, 0.0758, 0.0748, 0.0739, 0.0729, 0.0720, 0.0710, 0.0701, 0.0692,\n",
              "        0.0683, 0.0675], dtype=torch.float64)"
            ]
          },
          "metadata": {},
          "execution_count": 34
        }
      ]
    },
    {
      "cell_type": "code",
      "source": [
        "loss"
      ],
      "metadata": {
        "colab": {
          "base_uri": "https://localhost:8080/"
        },
        "id": "B-MzObXMnXAI",
        "outputId": "407338a8-4697-4132-ee60-5cc415c59c01"
      },
      "execution_count": 35,
      "outputs": [
        {
          "output_type": "execute_result",
          "data": {
            "text/plain": [
              "tensor(0.2837, dtype=torch.float64)"
            ]
          },
          "metadata": {},
          "execution_count": 35
        }
      ]
    },
    {
      "cell_type": "code",
      "source": [
        "plt.style.use('seaborn')\n",
        "plt.figure(figsize=(8,6))\n",
        "plt.plot(pred[:200].numpy(), BCE_list.numpy(), color='cornflowerblue', label='Sigmoid CE Loss', linewidth=2.0 )\n",
        "plt.legend(loc=\"upper right\")\n",
        "plt.ylabel(\"$L(y=1, f(x))$\")\n",
        "#plt.ylim(0,0.8)\n",
        "#plt.xlim(0,1.0)\n",
        "plt.xlabel('$Y_{pred}$', fontsize=15)\n",
        "plt.ylabel(\"$L(y=1, f(x))$\", fontsize=15)\n",
        "plt.title('Loss Function', fontsize=15)\n",
        "plt.show()"
      ],
      "metadata": {
        "colab": {
          "base_uri": "https://localhost:8080/",
          "height": 633
        },
        "id": "vxklAWrhoGN4",
        "outputId": "c887e2f2-6ee2-4ead-fd33-122c1ecf251d"
      },
      "execution_count": 36,
      "outputs": [
        {
          "output_type": "stream",
          "name": "stderr",
          "text": [
            "<ipython-input-36-14eba04f6f57>:1: MatplotlibDeprecationWarning: The seaborn styles shipped by Matplotlib are deprecated since 3.6, as they no longer correspond to the styles shipped by seaborn. However, they will remain available as 'seaborn-v0_8-<style>'. Alternatively, directly use the seaborn API instead.\n",
            "  plt.style.use('seaborn')\n"
          ]
        },
        {
          "output_type": "display_data",
          "data": {
            "text/plain": [
              "<Figure size 800x600 with 1 Axes>"
            ],
            "image/png": "[encoded data removed]"
          },
          "metadata": {}
        }
      ]
    },
    {
      "cell_type": "markdown",
      "source": [
        "1.2.2. Weighted Cross Entropy  \n",
        "Weighted version of the sigmoid cross entropy loss. Weights can be used to control the outliers for positive predictions. To deal with class imbalance. This is also the evaluation metric in this competition.\n",
        "\n",
        "J(y^,y)=−∑Mi=1wi⋅∑Nj=1yi,jNi⋅lny^i,j∑Mi=1wi"
      ],
      "metadata": {
        "id": "AsEyRWXxoXvg"
      }
    },
    {
      "cell_type": "code",
      "source": [
        "# weigh 1 = 0.5\n",
        "pos_weight_1 = torch.tensor([0.5])\n",
        "criterion = torch.nn.BCEWithLogitsLoss(pos_weight=pos_weight_1, reduction='none')\n",
        "bce_weight_loss_1 = criterion(pred[:200], target[:200]) #forward\n",
        "\n",
        "# weight 2 = 0.75\n",
        "pos_weight_2 = torch.tensor([0.75])\n",
        "criterion = torch.nn.BCEWithLogitsLoss(pos_weight=pos_weight_2, reduction='none')\n",
        "bce_weight_loss_2 = criterion(pred[:200], target[:200])\n",
        "#bce_weight_loss.shape"
      ],
      "metadata": {
        "id": "cEKo2nb4oNdA"
      },
      "execution_count": 37,
      "outputs": []
    },
    {
      "cell_type": "code",
      "source": [
        "plt.style.use('seaborn')\n",
        "plt.figure(figsize=(8,6))\n",
        "plt.plot(pred[:200].numpy(), bce_weight_loss_1.numpy(), 'r--', label='weight = 0.5', linewidth=2.0 )\n",
        "plt.plot(pred[:200].numpy(), bce_weight_loss_2.numpy(), 'orange', label='weight = 0.75', linewidth=2.0)\n",
        "plt.legend(loc=\"upper right\")\n",
        "plt.ylabel(\"$L(y=1, f(x))$\")\n",
        "#plt.ylim(0,0.8)\n",
        "#plt.xlim(0,1.0)\n",
        "plt.xlabel('$Y_{pred}$', fontsize=15)\n",
        "plt.ylabel(\"$L(y=1, f(x))$\", fontsize=15)\n",
        "plt.title('Loss Function', fontsize=15)\n",
        "plt.show()"
      ],
      "metadata": {
        "id": "-5RHHTXsHFN4",
        "colab": {
          "base_uri": "https://localhost:8080/",
          "height": 633
        },
        "outputId": "6fc65cf5-0c38-4199-85fc-205744c6d63e"
      },
      "execution_count": 38,
      "outputs": [
        {
          "output_type": "stream",
          "name": "stderr",
          "text": [
            "<ipython-input-38-838bdce69295>:1: MatplotlibDeprecationWarning: The seaborn styles shipped by Matplotlib are deprecated since 3.6, as they no longer correspond to the styles shipped by seaborn. However, they will remain available as 'seaborn-v0_8-<style>'. Alternatively, directly use the seaborn API instead.\n",
            "  plt.style.use('seaborn')\n"
          ]
        },
        {
          "output_type": "display_data",
          "data": {
            "text/plain": [
              "<Figure size 800x600 with 1 Axes>"
            ],
            "image/png": "[encoded data removed]"
          },
          "metadata": {}
        }
      ]
    },
    {
      "cell_type": "markdown",
      "source": [
        "Visualization for Binary Classification Loss Functions"
      ],
      "metadata": {
        "id": "Rrh3BzeFHYXO"
      }
    },
    {
      "cell_type": "code",
      "source": [
        "plt.style.use('seaborn')\n",
        "plt.figure(figsize=(8,6))\n",
        "plt.plot(pred[:200].numpy(), bce_weight_loss_1.numpy(), 'r--', label='weight = 0.5', linewidth=2.0 )\n",
        "plt.plot(pred[:200].numpy(), bce_weight_loss_2.numpy(), 'orange',linestyle='dashed',label='weight = 0.75', linewidth=2.0)\n",
        "plt.plot(pred[:200].numpy(), Hinge_list[:200].numpy(), color=\"teal\",label=\"Hinge Loss\",linewidth=2.0)\n",
        "plt.plot(pred[:200].numpy(), BCE_list.numpy(),color=\"cornflowerblue\", label=\"Log Loss\", linewidth=2.0)\n",
        "plt.legend(loc=\"upper right\")\n",
        "plt.ylabel(\"$L(y=1, f(x))$\")\n",
        "#plt.ylim(0,1.0)\n",
        "#plt.xlim(0,3)\n",
        "plt.xlabel('$Y_{pred}$', fontsize=15)\n",
        "plt.ylabel(\"$L(y=1, f(x))$\", fontsize=15)\n",
        "plt.title('Loss Functions', fontsize=15)\n",
        "plt.show()"
      ],
      "metadata": {
        "id": "6qcMSvJYHLNN",
        "colab": {
          "base_uri": "https://localhost:8080/",
          "height": 633
        },
        "outputId": "43edbb71-2896-4d14-8b07-2cfb613c6ab5"
      },
      "execution_count": 39,
      "outputs": [
        {
          "output_type": "stream",
          "name": "stderr",
          "text": [
            "<ipython-input-39-77f0a2bd098b>:1: MatplotlibDeprecationWarning: The seaborn styles shipped by Matplotlib are deprecated since 3.6, as they no longer correspond to the styles shipped by seaborn. However, they will remain available as 'seaborn-v0_8-<style>'. Alternatively, directly use the seaborn API instead.\n",
            "  plt.style.use('seaborn')\n"
          ]
        },
        {
          "output_type": "display_data",
          "data": {
            "text/plain": [
              "<Figure size 800x600 with 1 Axes>"
            ],
            "image/png": "[encoded data removed]"
          },
          "metadata": {}
        }
      ]
    },
    {
      "cell_type": "markdown",
      "source": [
        "2. LOSS FUNCTIONS FOR MULTI-CLASS CLASSIFICATION"
      ],
      "metadata": {
        "id": "bFNh7U_LHyiO"
      }
    },
    {
      "cell_type": "markdown",
      "source": [
        "2.1. Categorical Cross-Entropy"
      ],
      "metadata": {
        "id": "chY347iJIKDu"
      }
    },
    {
      "cell_type": "markdown",
      "source": [
        "Instead of using sigmoid as the last layer activation, we use softmax for Categorical Cross-Entropy Loss."
      ],
      "metadata": {
        "id": "swK_PWvyI6fl"
      }
    },
    {
      "cell_type": "code",
      "source": [
        "BCE_list_cat, loss = BinaryCrossEntropy(pred[:200].softmax(dim=0),target[:200])"
      ],
      "metadata": {
        "id": "4QmGhd6uIMhU"
      },
      "execution_count": 40,
      "outputs": []
    },
    {
      "cell_type": "code",
      "source": [
        "plt.style.use('seaborn')\n",
        "plt.figure(figsize=(8,6))\n",
        "plt.plot(pred[:200].numpy(), BCE_list_cat.softmax(dim=0).numpy(), 'b--', label='Softmax CE', linewidth=2.0 )\n",
        "plt.legend(loc=\"upper right\")\n",
        "plt.xlabel('$Y_{pred}$', fontsize=15)\n",
        "plt.ylabel(\"$L(y=1, f(x))$\", fontsize=15)\n",
        "plt.title('Loss Functions', fontsize=15)\n",
        "plt.show()"
      ],
      "metadata": {
        "id": "TB2o8TPDJWL9",
        "colab": {
          "base_uri": "https://localhost:8080/",
          "height": 633
        },
        "outputId": "390566c6-dd51-4c43-9c44-a688e41fb98b"
      },
      "execution_count": 41,
      "outputs": [
        {
          "output_type": "stream",
          "name": "stderr",
          "text": [
            "<ipython-input-41-ed89c0b72517>:1: MatplotlibDeprecationWarning: The seaborn styles shipped by Matplotlib are deprecated since 3.6, as they no longer correspond to the styles shipped by seaborn. However, they will remain available as 'seaborn-v0_8-<style>'. Alternatively, directly use the seaborn API instead.\n",
            "  plt.style.use('seaborn')\n"
          ]
        },
        {
          "output_type": "display_data",
          "data": {
            "text/plain": [
              "<Figure size 800x600 with 1 Axes>"
            ],
            "image/png": "[encoded data removed]"
          },
          "metadata": {}
        }
      ]
    },
    {
      "cell_type": "markdown",
      "source": [
        "2.2.Sparse Categorical Cross-Entropy"
      ],
      "metadata": {
        "id": "zBclkLwxJeYG"
      }
    },
    {
      "cell_type": "markdown",
      "source": [
        "This loss is the same as the softmax cross-entropy one, except instead of the target being a probability distribution, it is an index of which category is true. Instead of a sparse all-zero target vector with one value of one, we just pass in the index of which category is the true value, as follows:"
      ],
      "metadata": {
        "id": "ZpUjHfARJmFt"
      }
    },
    {
      "cell_type": "markdown",
      "source": [
        "![image.png](data:image/png;base64,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)"
      ],
      "metadata": {
        "id": "lS1mL1B9Jqb3"
      }
    },
    {
      "cell_type": "code",
      "source": [
        "m = nn.LogSoftmax(dim=0)\n",
        "\n",
        "criterion = nn.NLLLoss(reduction='none')\n",
        "\n",
        "x = torch.tensor(np.linspace(0,4,400).reshape(200,2), dtype=torch.float32)\n",
        "y = target[:200].long()#torch.ones(250, dtype=torch.long) # expect the target to be integer (Long)\n",
        "\n",
        "sparse_loss = criterion(m(x), y)"
      ],
      "metadata": {
        "id": "wKaaTDkvJY8d"
      },
      "execution_count": 42,
      "outputs": []
    },
    {
      "cell_type": "code",
      "source": [
        "plt.style.use('seaborn')\n",
        "plt.figure(figsize=(8,6))\n",
        "plt.plot(x[:,0].numpy(), sparse_loss.softmax(dim=0).numpy(), 'r--', label='Sparse CE', linewidth=2.0 )\n",
        "plt.legend(loc=\"upper right\")\n",
        "plt.xlabel('$Y_{pred}$', fontsize=15)\n",
        "plt.ylabel(\"$L(y=1, f(x))$\", fontsize=15)\n",
        "plt.title('Loss Function', fontsize=15)\n",
        "plt.show()"
      ],
      "metadata": {
        "id": "geZRwro1J5b7",
        "colab": {
          "base_uri": "https://localhost:8080/",
          "height": 633
        },
        "outputId": "46bd2f3d-75a6-4e4a-cf70-4e85a64458ea"
      },
      "execution_count": 43,
      "outputs": [
        {
          "output_type": "stream",
          "name": "stderr",
          "text": [
            "<ipython-input-43-71c549cf2860>:1: MatplotlibDeprecationWarning: The seaborn styles shipped by Matplotlib are deprecated since 3.6, as they no longer correspond to the styles shipped by seaborn. However, they will remain available as 'seaborn-v0_8-<style>'. Alternatively, directly use the seaborn API instead.\n",
            "  plt.style.use('seaborn')\n"
          ]
        },
        {
          "output_type": "display_data",
          "data": {
            "text/plain": [
              "<Figure size 800x600 with 1 Axes>"
            ],
            "image/png": "[encoded data removed]"
          },
          "metadata": {}
        }
      ]
    },
    {
      "cell_type": "markdown",
      "source": [
        "2.3. Kullback Leibler Divergence Loss"
      ],
      "metadata": {
        "id": "S0tQam6YKBaW"
      }
    },
    {
      "cell_type": "markdown",
      "source": [
        "To avoid underflow issues when computing this quantity, this loss expects the argument input in the log-space. The argument target may also be provided in the log-space if log_target= True."
      ],
      "metadata": {
        "id": "60FmGEyXKHyW"
      }
    },
    {
      "cell_type": "code",
      "source": [
        "kl_loss = torch.nn.KLDivLoss(reduction='none', log_target=True) #specify whether the target is the log space\n",
        "# input should be a distribution in the log space\n",
        "input_ = F.log_softmax(pred[:200], dim=0)\n",
        "log_target = F.log_softmax(target[:200], dim=0)\n",
        "output = kl_loss(input_, log_target)"
      ],
      "metadata": {
        "id": "8qkAuUM1KN2F"
      },
      "execution_count": 44,
      "outputs": []
    },
    {
      "cell_type": "markdown",
      "source": [
        "Visualization for Multi-Class Classification Loss Functions"
      ],
      "metadata": {
        "id": "Foo-px3XKSKl"
      }
    },
    {
      "cell_type": "code",
      "source": [
        "plt.style.use('seaborn')\n",
        "plt.figure(figsize=(8,6))\n",
        "plt.plot(pred[:200].numpy(), output.numpy(), 'orange', label='KLDiv Loss',linewidth=2.0 )\n",
        "plt.plot(pred[:200].numpy(), BCE_list_cat.softmax(dim=0).numpy(), 'b--', label='Softmax CE', linewidth=2.0 )\n",
        "plt.plot(x[:,0].numpy(), sparse_loss.softmax(dim=0).numpy(), 'r--', label='Sparse CE', linewidth=2.0 )\n",
        "plt.legend(loc=\"upper right\")\n",
        "plt.xlim(0,3)\n",
        "plt.xlabel('$Y_{pred}$', fontsize=15)\n",
        "plt.ylabel(\"$L(y=1, f(x))$\", fontsize=15)\n",
        "plt.title('Loss Functions', fontsize=15)\n",
        "plt.show()"
      ],
      "metadata": {
        "id": "auNUEhIFKTTl",
        "colab": {
          "base_uri": "https://localhost:8080/",
          "height": 633
        },
        "outputId": "8025491a-0d7d-476d-9390-f8b10ab5142d"
      },
      "execution_count": 45,
      "outputs": [
        {
          "output_type": "stream",
          "name": "stderr",
          "text": [
            "<ipython-input-45-66c87496da25>:1: MatplotlibDeprecationWarning: The seaborn styles shipped by Matplotlib are deprecated since 3.6, as they no longer correspond to the styles shipped by seaborn. However, they will remain available as 'seaborn-v0_8-<style>'. Alternatively, directly use the seaborn API instead.\n",
            "  plt.style.use('seaborn')\n"
          ]
        },
        {
          "output_type": "display_data",
          "data": {
            "text/plain": [
              "<Figure size 800x600 with 1 Axes>"
            ],
            "image/png": "[encoded data removed]"
          },
          "metadata": {}
        }
      ]
    },
    {
      "cell_type": "markdown",
      "source": [],
      "metadata": {
        "id": "OWuJC4SNKKZ0"
      }
    }
  ]
}